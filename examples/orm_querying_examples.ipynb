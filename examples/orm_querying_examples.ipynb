{
 "cells": [
  {
   "cell_type": "markdown",
   "id": "fd9fecfda4dba1e2",
   "metadata": {
    "collapsed": false
   },
   "source": [
    "# ORM querying examples\n",
    "\n",
    "In this tutorial, we will get to see more examples of ORM querying. "
   ]
  },
  {
   "cell_type": "markdown",
   "id": "10503a4ee2870550",
   "metadata": {
    "collapsed": false
   },
   "source": [
    "First, we will gather a lot of data. In order to achieve that we will write a randomized experiment for grasping a couple of objects.\n",
    "In the experiment the robot will try to grasp a randomized object using random poses and torso heights.\n"
   ]
  },
  {
   "metadata": {
    "ExecuteTime": {
     "end_time": "2024-10-23T11:18:31.428678Z",
     "start_time": "2024-10-23T11:18:30.867633Z"
    }
   },
   "cell_type": "code",
   "source": "from pycram.designators.action_designator import MoveTorsoActionPerformable, ParkArmsActionPerformable",
   "id": "f38b8510e19e3ae8",
   "outputs": [
    {
     "name": "stderr",
     "output_type": "stream",
     "text": [
      "Unknown attribute \"type\" in /robot[@name='pr2']/link[@name='base_laser_link']\n",
      "Unknown attribute \"type\" in /robot[@name='pr2']/link[@name='wide_stereo_optical_frame']\n",
      "Unknown attribute \"type\" in /robot[@name='pr2']/link[@name='narrow_stereo_optical_frame']\n",
      "Unknown attribute \"type\" in /robot[@name='pr2']/link[@name='laser_tilt_link']\n",
      "Failed to import Giskard messages, the real robot will not be available\n",
      "Could not import RoboKudo messages, RoboKudo interface could not be initialized\n",
      "pybullet build time: Nov 28 2023 23:51:11\n"
     ]
    },
    {
     "ename": "RuntimeError",
     "evalue": "module compiled against API version 0x10 but this version of numpy is 0xf . Check the section C-API incompatibility at the Troubleshooting ImportError section at https://numpy.org/devdocs/user/troubleshooting-importerror.html#c-api-incompatibility for indications on how to solve this problem .",
     "output_type": "error",
     "traceback": [
      "\u001B[0;31m---------------------------------------------------------------------------\u001B[0m",
      "\u001B[0;31mRuntimeError\u001B[0m                              Traceback (most recent call last)",
      "\u001B[0;31mRuntimeError\u001B[0m: module compiled against API version 0x10 but this version of numpy is 0xf . Check the section C-API incompatibility at the Troubleshooting ImportError section at https://numpy.org/devdocs/user/troubleshooting-importerror.html#c-api-incompatibility for indications on how to solve this problem ."
     ]
    },
    {
     "ename": "ImportError",
     "evalue": "numpy.core.multiarray failed to import",
     "output_type": "error",
     "traceback": [
      "\u001B[0;31m---------------------------------------------------------------------------\u001B[0m",
      "\u001B[0;31mImportError\u001B[0m                               Traceback (most recent call last)",
      "Cell \u001B[0;32mIn[1], line 1\u001B[0m\n\u001B[0;32m----> 1\u001B[0m \u001B[38;5;28;01mfrom\u001B[39;00m \u001B[38;5;21;01mpycram\u001B[39;00m\u001B[38;5;21;01m.\u001B[39;00m\u001B[38;5;21;01mdesignators\u001B[39;00m\u001B[38;5;21;01m.\u001B[39;00m\u001B[38;5;21;01maction_designator\u001B[39;00m \u001B[38;5;28;01mimport\u001B[39;00m MoveTorsoActionPerformable, ParkArmsActionPerformable\n",
      "File \u001B[0;32m~/ROS_WS/tpycram_ws/devel/lib/python3/dist-packages/pycram/__init__.py:34\u001B[0m\n\u001B[1;32m     32\u001B[0m \u001B[38;5;28;01mfor\u001B[39;00m __execfile \u001B[38;5;129;01min\u001B[39;00m __execfiles:\n\u001B[1;32m     33\u001B[0m     \u001B[38;5;28;01mwith\u001B[39;00m \u001B[38;5;28mopen\u001B[39m(__execfile, \u001B[38;5;124m'\u001B[39m\u001B[38;5;124mr\u001B[39m\u001B[38;5;124m'\u001B[39m) \u001B[38;5;28;01mas\u001B[39;00m __fh:\n\u001B[0;32m---> 34\u001B[0m         \u001B[43mexec\u001B[49m\u001B[43m(\u001B[49m\u001B[43m__fh\u001B[49m\u001B[38;5;241;43m.\u001B[39;49m\u001B[43mread\u001B[49m\u001B[43m(\u001B[49m\u001B[43m)\u001B[49m\u001B[43m)\u001B[49m\n\u001B[1;32m     35\u001B[0m     \u001B[38;5;28;01mdel\u001B[39;00m __fh\n\u001B[1;32m     36\u001B[0m     \u001B[38;5;28;01mdel\u001B[39;00m __execfile\n",
      "File \u001B[0;32m<string>:24\u001B[0m\n",
      "File \u001B[0;32m~/ROS_WS/tpycram_ws/src/pycram/src/pycram/process_modules/__init__.py:3\u001B[0m\n\u001B[1;32m      1\u001B[0m \u001B[38;5;28;01mfrom\u001B[39;00m \u001B[38;5;21;01m.\u001B[39;00m\u001B[38;5;21;01mpr2_process_modules\u001B[39;00m \u001B[38;5;28;01mimport\u001B[39;00m Pr2Manager\n\u001B[1;32m      2\u001B[0m \u001B[38;5;28;01mfrom\u001B[39;00m \u001B[38;5;21;01m.\u001B[39;00m\u001B[38;5;21;01mboxy_process_modules\u001B[39;00m \u001B[38;5;28;01mimport\u001B[39;00m BoxyManager\n\u001B[0;32m----> 3\u001B[0m \u001B[38;5;28;01mfrom\u001B[39;00m \u001B[38;5;21;01m.\u001B[39;00m\u001B[38;5;21;01mdonbot_process_modules\u001B[39;00m \u001B[38;5;28;01mimport\u001B[39;00m DonbotManager\n\u001B[1;32m      4\u001B[0m \u001B[38;5;28;01mfrom\u001B[39;00m \u001B[38;5;21;01m.\u001B[39;00m\u001B[38;5;21;01mhsrb_process_modules\u001B[39;00m \u001B[38;5;28;01mimport\u001B[39;00m HSRBManager\n\u001B[1;32m      5\u001B[0m \u001B[38;5;28;01mfrom\u001B[39;00m \u001B[38;5;21;01m.\u001B[39;00m\u001B[38;5;21;01mdefault_process_modules\u001B[39;00m \u001B[38;5;28;01mimport\u001B[39;00m DefaultManager\n",
      "File \u001B[0;32m~/ROS_WS/tpycram_ws/src/pycram/src/pycram/process_modules/donbot_process_modules.py:5\u001B[0m\n\u001B[1;32m      1\u001B[0m \u001B[38;5;28;01mfrom\u001B[39;00m \u001B[38;5;21;01mthreading\u001B[39;00m \u001B[38;5;28;01mimport\u001B[39;00m Lock\n\u001B[1;32m      3\u001B[0m \u001B[38;5;28;01mimport\u001B[39;00m \u001B[38;5;21;01mnumpy\u001B[39;00m \u001B[38;5;28;01mas\u001B[39;00m \u001B[38;5;21;01mnp\u001B[39;00m\n\u001B[0;32m----> 5\u001B[0m \u001B[38;5;28;01mfrom\u001B[39;00m \u001B[38;5;21;01m.\u001B[39;00m\u001B[38;5;21;01m.\u001B[39;00m\u001B[38;5;21;01mworlds\u001B[39;00m\u001B[38;5;21;01m.\u001B[39;00m\u001B[38;5;21;01mbullet_world\u001B[39;00m \u001B[38;5;28;01mimport\u001B[39;00m World\n\u001B[1;32m      6\u001B[0m \u001B[38;5;28;01mfrom\u001B[39;00m \u001B[38;5;21;01m.\u001B[39;00m\u001B[38;5;21;01m.\u001B[39;00m\u001B[38;5;21;01mdesignators\u001B[39;00m\u001B[38;5;21;01m.\u001B[39;00m\u001B[38;5;21;01mmotion_designator\u001B[39;00m \u001B[38;5;28;01mimport\u001B[39;00m MoveArmJointsMotion, WorldStateDetectingMotion\n\u001B[1;32m      7\u001B[0m \u001B[38;5;28;01mfrom\u001B[39;00m \u001B[38;5;21;01m.\u001B[39;00m\u001B[38;5;21;01m.\u001B[39;00m\u001B[38;5;21;01mlocal_transformer\u001B[39;00m \u001B[38;5;28;01mimport\u001B[39;00m LocalTransformer\n",
      "File \u001B[0;32m~/ROS_WS/tpycram_ws/src/pycram/src/pycram/worlds/bullet_world.py:8\u001B[0m\n\u001B[1;32m      5\u001B[0m \u001B[38;5;28;01mimport\u001B[39;00m \u001B[38;5;21;01mtime\u001B[39;00m\n\u001B[1;32m      7\u001B[0m \u001B[38;5;28;01mimport\u001B[39;00m \u001B[38;5;21;01mnumpy\u001B[39;00m \u001B[38;5;28;01mas\u001B[39;00m \u001B[38;5;21;01mnp\u001B[39;00m\n\u001B[0;32m----> 8\u001B[0m \u001B[38;5;28;01mimport\u001B[39;00m \u001B[38;5;21;01mpybullet\u001B[39;00m \u001B[38;5;28;01mas\u001B[39;00m \u001B[38;5;21;01mp\u001B[39;00m\n\u001B[1;32m      9\u001B[0m \u001B[38;5;28;01mimport\u001B[39;00m \u001B[38;5;21;01mrosgraph\u001B[39;00m\n\u001B[1;32m     10\u001B[0m \u001B[38;5;28;01mimport\u001B[39;00m \u001B[38;5;21;01mrospy\u001B[39;00m\n",
      "\u001B[0;31mImportError\u001B[0m: numpy.core.multiarray failed to import"
     ]
    }
   ],
   "execution_count": 1
  },
  {
   "cell_type": "code",
   "id": "dc0c9e6f15f126a3",
   "metadata": {
    "collapsed": false,
    "ExecuteTime": {
     "end_time": "2024-08-21T08:53:45.059650Z",
     "start_time": "2024-08-21T08:53:44.911492Z"
    }
   },
   "source": [
    "from pycram.designators.action_designator import MoveTorsoActionPerformable, ParkArmsActionPerformable\n",
    "from tf import transformations\n",
    "import itertools\n",
    "import time\n",
    "from typing import Optional, List, Tuple\n",
    "\n",
    "import numpy as np\n",
    "\n",
    "import sqlalchemy.orm\n",
    "import tf\n",
    "import tqdm\n",
    "\n",
    "import pycram.orm.base\n",
    "import pycram.tasktree\n",
    "from pycram.worlds.bullet_world import BulletWorld, Object as BulletWorldObject\n",
    "from pycram.designators.action_designator import MoveTorsoAction, PickUpAction, NavigateAction, ParkArmsAction\n",
    "from pycram.designators.object_designator import ObjectDesignatorDescription\n",
    "import pycram.datastructures.enums\n",
    "from pycram.plan_failures import PlanFailure\n",
    "from pycram.process_module import ProcessModule\n",
    "from pycram.datastructures.enums import WorldMode\n",
    "from pycram.process_module import simulated_robot\n",
    "import sqlalchemy.orm\n",
    "# from pycram.resolver.location.jpt_location import JPTCostmapLocation\n",
    "import pycram.orm\n",
    "from pycram.orm.base import Position, RobotState\n",
    "from pycram.orm.tasktree import TaskTreeNode\n",
    "from pycram.language import Code\n",
    "from pycram.orm.action_designator import PickUpAction as ORMPickUpAction\n",
    "from pycram.orm.object_designator import Object\n",
    "import sqlalchemy.sql\n",
    "import pandas as pd\n",
    "\n",
    "from pycram.datastructures.pose import Pose\n",
    "\n",
    "np.random.seed(420)\n",
    "\n",
    "ProcessModule.execution_delay = False\n",
    "pycram.orm.base.ProcessMetaData().description = \"Tutorial for learning from experience in a Grasping action.\"\n",
    "\n",
    "\n",
    "class GraspingExplorer:\n",
    "    \"\"\"Class to try randomized grasping plans.\"\"\"\n",
    "\n",
    "    world: Optional[BulletWorld]\n",
    "\n",
    "    def __init__(self, robots: Optional[List[Tuple[str, str]]] = None, objects: Optional[List[Tuple[str, str]]] = None,\n",
    "                 arms: Optional[List[str]] = None, grasps: Optional[List[str]] = None,\n",
    "                 samples_per_scenario: int = 1000):\n",
    "        \"\"\"\n",
    "        Create a GraspingExplorer.\n",
    "        :param robots: The robots to use\n",
    "        :param objects: The objects to try to grasp\n",
    "        :param arms: The arms of the robot to use\n",
    "        :param grasps: The grasp orientations to use\n",
    "        :param samples_per_scenario: The number of tries per scenario.\n",
    "        \"\"\"\n",
    "        # store exploration space\n",
    "        if not robots:\n",
    "            self.robots: List[Tuple[str, str]] = [(\"pr2\", \"pr2.urdf\")]\n",
    "\n",
    "        if not objects:\n",
    "            self.objects: List[Tuple[str, pycram.datastructures.enums.ObjectType, str]] = [(\"cereal\", pycram.datastructures.enums.ObjectType.BREAKFAST_CEREAL, \"breakfast_cereal.stl\"),\n",
    "                                                                            (\"bowl\", pycram.datastructures.enums.ObjectType.BOWL, \"bowl.stl\"),\n",
    "                                                                            (\"milk\", pycram.datastructures.enums.ObjectType.MILK, \"milk.stl\"),\n",
    "                                                                            (\"spoon\", pycram.datastructures.enums.ObjectType.SPOON, \"spoon.stl\")]\n",
    "\n",
    "        if not arms:\n",
    "            self.arms: List[str] = [\"left\", \"right\"]\n",
    "\n",
    "        if not grasps:\n",
    "            self.grasps: List[str] = [\"left\", \"right\", \"front\", \"top\"]\n",
    "\n",
    "        # store trials per scenario\n",
    "        self.samples_per_scenario: int = samples_per_scenario\n",
    "\n",
    "        # chain hyperparameters\n",
    "        self.hyper_parameters = [self.robots, self.objects, self.arms, self.grasps]\n",
    "\n",
    "        self.total_tries = 0\n",
    "        self.total_failures = 0\n",
    "\n",
    "    def perform(self, session: sqlalchemy.orm.Session):\n",
    "        \"\"\"\n",
    "        Perform all experiments.\n",
    "        :param session: The database-session to insert the samples in.\n",
    "        \"\"\"\n",
    "\n",
    "        # create progress bar\n",
    "        progress_bar = tqdm.tqdm(\n",
    "            total=np.prod([len(p) for p in self.hyper_parameters]) * self.samples_per_scenario)\n",
    "\n",
    "        self.world = BulletWorld(mode=WorldMode.DIRECT)\n",
    "\n",
    "        # for every robot\n",
    "        for robot, robot_urdf in self.robots:\n",
    "\n",
    "            # spawn it\n",
    "            robot = BulletWorldObject(robot, pycram.datastructures.enums.ObjectType.ROBOT, robot_urdf)\n",
    "\n",
    "            # for every obj\n",
    "            for obj, obj_type, obj_stl in self.objects:\n",
    "\n",
    "                # spawn it\n",
    "                bw_object = BulletWorldObject(obj, obj_type, obj_stl)\n",
    "\n",
    "                # create object designator\n",
    "                object_designator = ObjectDesignatorDescription(names=[obj])\n",
    "\n",
    "                # for every arm and grasp pose\n",
    "                for arm, grasp in itertools.product(self.arms, self.grasps):\n",
    "                    # sample positions in 2D\n",
    "                    positions = np.random.uniform([-2, -2], [2, 2], (self.samples_per_scenario, 2))\n",
    "\n",
    "                    # for every position\n",
    "                    for position in positions:\n",
    "\n",
    "                        # set z axis to 0\n",
    "                        position = [*position, 0]\n",
    "\n",
    "                        # calculate orientation for robot to face the object\n",
    "                        angle = np.arctan2(position[1], position[0]) + np.pi\n",
    "                        orientation = list(transformations.quaternion_from_euler(0, 0, angle, axes=\"sxyz\"))\n",
    "\n",
    "                        # try to execute a grasping plan\n",
    "                        with simulated_robot:\n",
    "\n",
    "                            ParkArmsActionPerformable(pycram.datastructures.enums.Arms.BOTH).perform()\n",
    "                            # navigate to sampled position\n",
    "                            NavigateAction([Pose(position, orientation)]).resolve().perform()\n",
    "\n",
    "                            # move torso\n",
    "                            height = np.random.uniform(0., 0.33, 1)[0]\n",
    "                            MoveTorsoActionPerformable(height).perform()\n",
    "\n",
    "                            # try to pick it up\n",
    "                            try:\n",
    "                                PickUpAction(object_designator, [arm], [grasp]).resolve().perform()\n",
    "\n",
    "                            # if it fails\n",
    "                            except PlanFailure:\n",
    "\n",
    "                                # update failure stats\n",
    "                                self.total_failures += 1\n",
    "\n",
    "                            # reset BulletWorld\n",
    "                            self.world.reset_world()\n",
    "\n",
    "                            # update progress bar\n",
    "                            self.total_tries += 1\n",
    "\n",
    "                            # insert into database\n",
    "                            pycram.tasktree.task_tree.insert(session, use_progress_bar=False)\n",
    "                            pycram.tasktree.reset_tree()\n",
    "\n",
    "                            progress_bar.update()\n",
    "                            progress_bar.set_postfix(success_rate=(self.total_tries - self.total_failures) /\n",
    "                                                                  self.total_tries)\n",
    "\n",
    "                bw_object.remove()\n",
    "            robot.remove()\n"
   ],
   "outputs": [
    {
     "name": "stderr",
     "output_type": "stream",
     "text": [
      "pybullet build time: Nov 28 2023 23:51:11\n"
     ]
    },
    {
     "ename": "RuntimeError",
     "evalue": "module compiled against API version 0x10 but this version of numpy is 0xf . Check the section C-API incompatibility at the Troubleshooting ImportError section at https://numpy.org/devdocs/user/troubleshooting-importerror.html#c-api-incompatibility for indications on how to solve this problem .",
     "output_type": "error",
     "traceback": [
      "\u001B[0;31m---------------------------------------------------------------------------\u001B[0m",
      "\u001B[0;31mRuntimeError\u001B[0m                              Traceback (most recent call last)",
      "\u001B[0;31mRuntimeError\u001B[0m: module compiled against API version 0x10 but this version of numpy is 0xf . Check the section C-API incompatibility at the Troubleshooting ImportError section at https://numpy.org/devdocs/user/troubleshooting-importerror.html#c-api-incompatibility for indications on how to solve this problem ."
     ]
    },
    {
     "ename": "ImportError",
     "evalue": "numpy.core.multiarray failed to import",
     "output_type": "error",
     "traceback": [
      "\u001B[0;31m---------------------------------------------------------------------------\u001B[0m",
      "\u001B[0;31mImportError\u001B[0m                               Traceback (most recent call last)",
      "Cell \u001B[0;32mIn[2], line 1\u001B[0m\n\u001B[0;32m----> 1\u001B[0m \u001B[38;5;28;01mfrom\u001B[39;00m \u001B[38;5;21;01mpycram\u001B[39;00m\u001B[38;5;21;01m.\u001B[39;00m\u001B[38;5;21;01mdesignators\u001B[39;00m\u001B[38;5;21;01m.\u001B[39;00m\u001B[38;5;21;01maction_designator\u001B[39;00m \u001B[38;5;28;01mimport\u001B[39;00m MoveTorsoActionPerformable, ParkArmsActionPerformable\n\u001B[1;32m      2\u001B[0m \u001B[38;5;28;01mfrom\u001B[39;00m \u001B[38;5;21;01mtf\u001B[39;00m \u001B[38;5;28;01mimport\u001B[39;00m transformations\n\u001B[1;32m      3\u001B[0m \u001B[38;5;28;01mimport\u001B[39;00m \u001B[38;5;21;01mitertools\u001B[39;00m\n",
      "File \u001B[0;32m~/ROS_WS/tpycram_ws/src/pycram/src/pycram/designators/action_designator.py:15\u001B[0m\n\u001B[1;32m     11\u001B[0m \u001B[38;5;28;01mfrom\u001B[39;00m \u001B[38;5;21;01mtyping_extensions\u001B[39;00m \u001B[38;5;28;01mimport\u001B[39;00m Any, List, Union, Callable, Optional, Type\n\u001B[1;32m     13\u001B[0m \u001B[38;5;28;01mimport\u001B[39;00m \u001B[38;5;21;01mrospy\u001B[39;00m\n\u001B[0;32m---> 15\u001B[0m \u001B[38;5;28;01mfrom\u001B[39;00m \u001B[38;5;21;01m.\u001B[39;00m\u001B[38;5;21;01mlocation_designator\u001B[39;00m \u001B[38;5;28;01mimport\u001B[39;00m CostmapLocation\n\u001B[1;32m     16\u001B[0m \u001B[38;5;28;01mfrom\u001B[39;00m \u001B[38;5;21;01m.\u001B[39;00m\u001B[38;5;21;01mmotion_designator\u001B[39;00m \u001B[38;5;28;01mimport\u001B[39;00m MoveJointsMotion, MoveGripperMotion, MoveArmJointsMotion, MoveTCPMotion, MoveMotion, \\\n\u001B[1;32m     17\u001B[0m     LookingMotion, DetectingMotion, OpeningMotion, ClosingMotion\n\u001B[1;32m     18\u001B[0m \u001B[38;5;28;01mfrom\u001B[39;00m \u001B[38;5;21;01m.\u001B[39;00m\u001B[38;5;21;01mobject_designator\u001B[39;00m \u001B[38;5;28;01mimport\u001B[39;00m ObjectDesignatorDescription, BelieveObject, ObjectPart\n",
      "File \u001B[0;32m~/ROS_WS/tpycram_ws/src/pycram/src/pycram/designators/location_designator.py:9\u001B[0m\n\u001B[1;32m      7\u001B[0m \u001B[38;5;28;01mfrom\u001B[39;00m \u001B[38;5;21;01m.\u001B[39;00m\u001B[38;5;21;01m.\u001B[39;00m\u001B[38;5;21;01mworld_reasoning\u001B[39;00m \u001B[38;5;28;01mimport\u001B[39;00m link_pose_for_joint_config\n\u001B[1;32m      8\u001B[0m \u001B[38;5;28;01mfrom\u001B[39;00m \u001B[38;5;21;01m.\u001B[39;00m\u001B[38;5;21;01m.\u001B[39;00m\u001B[38;5;21;01mdesignator\u001B[39;00m \u001B[38;5;28;01mimport\u001B[39;00m DesignatorError, LocationDesignatorDescription\n\u001B[0;32m----> 9\u001B[0m \u001B[38;5;28;01mfrom\u001B[39;00m \u001B[38;5;21;01m.\u001B[39;00m\u001B[38;5;21;01m.\u001B[39;00m\u001B[38;5;21;01mcostmaps\u001B[39;00m \u001B[38;5;28;01mimport\u001B[39;00m OccupancyCostmap, VisibilityCostmap, SemanticCostmap, GaussianCostmap\n\u001B[1;32m     10\u001B[0m \u001B[38;5;28;01mfrom\u001B[39;00m \u001B[38;5;21;01m.\u001B[39;00m\u001B[38;5;21;01m.\u001B[39;00m\u001B[38;5;21;01mrobot_descriptions\u001B[39;00m \u001B[38;5;28;01mimport\u001B[39;00m robot_description\n\u001B[1;32m     11\u001B[0m \u001B[38;5;28;01mfrom\u001B[39;00m \u001B[38;5;21;01m.\u001B[39;00m\u001B[38;5;21;01m.\u001B[39;00m\u001B[38;5;21;01mdatastructures\u001B[39;00m\u001B[38;5;21;01m.\u001B[39;00m\u001B[38;5;21;01menums\u001B[39;00m \u001B[38;5;28;01mimport\u001B[39;00m JointType\n",
      "File \u001B[0;32m~/ROS_WS/tpycram_ws/src/pycram/src/pycram/__init__.py:24\u001B[0m\n\u001B[1;32m     21\u001B[0m \u001B[38;5;28;01mimport\u001B[39;00m \u001B[38;5;21;01mlogging\u001B[39;00m\n\u001B[1;32m     22\u001B[0m \u001B[38;5;28;01mimport\u001B[39;00m \u001B[38;5;21;01mlogging\u001B[39;00m\u001B[38;5;21;01m.\u001B[39;00m\u001B[38;5;21;01mconfig\u001B[39;00m\n\u001B[0;32m---> 24\u001B[0m \u001B[38;5;28;01mimport\u001B[39;00m \u001B[38;5;21;01mpycram\u001B[39;00m\u001B[38;5;21;01m.\u001B[39;00m\u001B[38;5;21;01mprocess_modules\u001B[39;00m\n\u001B[1;32m     26\u001B[0m logging\u001B[38;5;241m.\u001B[39mbasicConfig(level\u001B[38;5;241m=\u001B[39mlogging\u001B[38;5;241m.\u001B[39mWARNING, \u001B[38;5;28mformat\u001B[39m\u001B[38;5;241m=\u001B[39m\u001B[38;5;124m'\u001B[39m\u001B[38;5;132;01m%(levelname)s\u001B[39;00m\u001B[38;5;124m - \u001B[39m\u001B[38;5;132;01m%(name)s\u001B[39;00m\u001B[38;5;124m  - Line:\u001B[39m\u001B[38;5;132;01m%(lineno)d\u001B[39;00m\u001B[38;5;124m - \u001B[39m\u001B[38;5;132;01m%(message)s\u001B[39;00m\u001B[38;5;124m'\u001B[39m)\n\u001B[1;32m     28\u001B[0m ch \u001B[38;5;241m=\u001B[39m logging\u001B[38;5;241m.\u001B[39mStreamHandler()\n",
      "File \u001B[0;32m~/ROS_WS/tpycram_ws/src/pycram/src/pycram/process_modules/__init__.py:3\u001B[0m\n\u001B[1;32m      1\u001B[0m \u001B[38;5;28;01mfrom\u001B[39;00m \u001B[38;5;21;01m.\u001B[39;00m\u001B[38;5;21;01mpr2_process_modules\u001B[39;00m \u001B[38;5;28;01mimport\u001B[39;00m Pr2Manager\n\u001B[1;32m      2\u001B[0m \u001B[38;5;28;01mfrom\u001B[39;00m \u001B[38;5;21;01m.\u001B[39;00m\u001B[38;5;21;01mboxy_process_modules\u001B[39;00m \u001B[38;5;28;01mimport\u001B[39;00m BoxyManager\n\u001B[0;32m----> 3\u001B[0m \u001B[38;5;28;01mfrom\u001B[39;00m \u001B[38;5;21;01m.\u001B[39;00m\u001B[38;5;21;01mdonbot_process_modules\u001B[39;00m \u001B[38;5;28;01mimport\u001B[39;00m DonbotManager\n\u001B[1;32m      4\u001B[0m \u001B[38;5;28;01mfrom\u001B[39;00m \u001B[38;5;21;01m.\u001B[39;00m\u001B[38;5;21;01mhsrb_process_modules\u001B[39;00m \u001B[38;5;28;01mimport\u001B[39;00m HSRBManager\n\u001B[1;32m      5\u001B[0m \u001B[38;5;28;01mfrom\u001B[39;00m \u001B[38;5;21;01m.\u001B[39;00m\u001B[38;5;21;01mdefault_process_modules\u001B[39;00m \u001B[38;5;28;01mimport\u001B[39;00m DefaultManager\n",
      "File \u001B[0;32m~/ROS_WS/tpycram_ws/src/pycram/src/pycram/process_modules/donbot_process_modules.py:5\u001B[0m\n\u001B[1;32m      1\u001B[0m \u001B[38;5;28;01mfrom\u001B[39;00m \u001B[38;5;21;01mthreading\u001B[39;00m \u001B[38;5;28;01mimport\u001B[39;00m Lock\n\u001B[1;32m      3\u001B[0m \u001B[38;5;28;01mimport\u001B[39;00m \u001B[38;5;21;01mnumpy\u001B[39;00m \u001B[38;5;28;01mas\u001B[39;00m \u001B[38;5;21;01mnp\u001B[39;00m\n\u001B[0;32m----> 5\u001B[0m \u001B[38;5;28;01mfrom\u001B[39;00m \u001B[38;5;21;01m.\u001B[39;00m\u001B[38;5;21;01m.\u001B[39;00m\u001B[38;5;21;01mworlds\u001B[39;00m\u001B[38;5;21;01m.\u001B[39;00m\u001B[38;5;21;01mbullet_world\u001B[39;00m \u001B[38;5;28;01mimport\u001B[39;00m World\n\u001B[1;32m      6\u001B[0m \u001B[38;5;28;01mfrom\u001B[39;00m \u001B[38;5;21;01m.\u001B[39;00m\u001B[38;5;21;01m.\u001B[39;00m\u001B[38;5;21;01mdesignators\u001B[39;00m\u001B[38;5;21;01m.\u001B[39;00m\u001B[38;5;21;01mmotion_designator\u001B[39;00m \u001B[38;5;28;01mimport\u001B[39;00m MoveArmJointsMotion, WorldStateDetectingMotion\n\u001B[1;32m      7\u001B[0m \u001B[38;5;28;01mfrom\u001B[39;00m \u001B[38;5;21;01m.\u001B[39;00m\u001B[38;5;21;01m.\u001B[39;00m\u001B[38;5;21;01mlocal_transformer\u001B[39;00m \u001B[38;5;28;01mimport\u001B[39;00m LocalTransformer\n",
      "File \u001B[0;32m~/ROS_WS/tpycram_ws/src/pycram/src/pycram/worlds/bullet_world.py:8\u001B[0m\n\u001B[1;32m      5\u001B[0m \u001B[38;5;28;01mimport\u001B[39;00m \u001B[38;5;21;01mtime\u001B[39;00m\n\u001B[1;32m      7\u001B[0m \u001B[38;5;28;01mimport\u001B[39;00m \u001B[38;5;21;01mnumpy\u001B[39;00m \u001B[38;5;28;01mas\u001B[39;00m \u001B[38;5;21;01mnp\u001B[39;00m\n\u001B[0;32m----> 8\u001B[0m \u001B[38;5;28;01mimport\u001B[39;00m \u001B[38;5;21;01mpybullet\u001B[39;00m \u001B[38;5;28;01mas\u001B[39;00m \u001B[38;5;21;01mp\u001B[39;00m\n\u001B[1;32m      9\u001B[0m \u001B[38;5;28;01mimport\u001B[39;00m \u001B[38;5;21;01mrosgraph\u001B[39;00m\n\u001B[1;32m     10\u001B[0m \u001B[38;5;28;01mimport\u001B[39;00m \u001B[38;5;21;01mrospy\u001B[39;00m\n",
      "\u001B[0;31mImportError\u001B[0m: numpy.core.multiarray failed to import"
     ]
    }
   ],
   "execution_count": 2
  },
  {
   "cell_type": "markdown",
   "id": "c551ddd0fda0007b",
   "metadata": {
    "collapsed": false
   },
   "source": [
    "Next we have to establish a connection to a database and execute the experiment a couple of times. Note that the (few) number of samples we generate is only for demonstrations.\n",
    "For robust and reliable machine learning millions of samples are required.\n"
   ]
  },
  {
   "cell_type": "code",
   "id": "f2dcacd942218899",
   "metadata": {
    "collapsed": false,
    "ExecuteTime": {
     "end_time": "2024-07-04T10:06:59.226180Z",
     "start_time": "2024-07-04T10:06:14.500603Z"
    }
   },
   "source": [
    "engine = sqlalchemy.create_engine(\"sqlite+pysqlite:///:memory:\")\n",
    "session = sqlalchemy.orm.Session(bind=engine)\n",
    "pycram.orm.base.Base.metadata.create_all(bind=engine)\n",
    "session.commit()\n",
    "\n",
    "explorer = GraspingExplorer(samples_per_scenario=30)\n",
    "explorer.perform(session)"
   ],
   "outputs": [
    {
     "name": "stderr",
     "output_type": "stream",
     "text": [
      "  0%|                                                                                                                                                                                                       | 0/960 [00:00<?, ?it/s]Unknown tag \"rgba_color\" in /robot[@name='cereal_object']/link[@name='cereal_main']/visual[1]/material[@name='white']\n",
      "Unknown tag \"rgba_color\" in /robot[@name='cereal_object']/link[@name='cereal_main']/visual[1]/material[@name='white']\n",
      "  0%|▌                                                                                                                                                                              | 3/960 [00:01<08:17,  1.92it/s, success_rate=0]"
     ]
    },
    {
     "name": "stdout",
     "output_type": "stream",
     "text": [
      "[INFO] [1720087576.270172]: Ontology [http://www.ease-crc.org/ont/SOMA-HOME.owl#]'s name: SOMA-HOME has been loaded\n",
      "[INFO] [1720087576.270910]: - main namespace: SOMA-HOME\n",
      "[INFO] [1720087576.271278]: - loaded ontologies:\n",
      "[INFO] [1720087576.271586]: http://www.ease-crc.org/ont/SOMA-HOME.owl#\n",
      "[INFO] [1720087576.272028]: http://www.ease-crc.org/ont/DUL.owl#\n",
      "[INFO] [1720087576.272324]: http://www.ease-crc.org/ont/SOMA.owl#\n",
      "[INFO] [1720087576.291415]: Waiting for IK service: /pr2_left_arm_kinematics/get_ik\n"
     ]
    },
    {
     "name": "stderr",
     "output_type": "stream",
     "text": [
      " 25%|███████████████████████████████████████████▎                                                                                                                                 | 240/960 [00:12<00:30, 23.69it/s, success_rate=0]Unknown tag \"rgba_color\" in /robot[@name='bowl_object']/link[@name='bowl_main']/visual[1]/material[@name='white']\n",
      "Unknown tag \"rgba_color\" in /robot[@name='bowl_object']/link[@name='bowl_main']/visual[1]/material[@name='white']\n",
      " 50%|██████████████████████████████████████████████████████████████████████████████████████▌                                                                                      | 480/960 [00:22<00:20, 23.15it/s, success_rate=0]Unknown tag \"rgba_color\" in /robot[@name='milk_object']/link[@name='milk_main']/visual[1]/material[@name='white']\n",
      "Unknown tag \"rgba_color\" in /robot[@name='milk_object']/link[@name='milk_main']/visual[1]/material[@name='white']\n",
      " 75%|█████████████████████████████████████████████████████████████████████████████████████████████████████████████████████████████████▊                                           | 720/960 [00:33<00:11, 21.31it/s, success_rate=0]Unknown tag \"rgba_color\" in /robot[@name='spoon_object']/link[@name='spoon_main']/visual[1]/material[@name='white']\n",
      "Unknown tag \"rgba_color\" in /robot[@name='spoon_object']/link[@name='spoon_main']/visual[1]/material[@name='white']\n",
      " 75%|██████████████████████████████████████████████████████████████████████████████████████████████████████████████████████████████████▍                                          | 724/960 [00:33<00:11, 19.74it/s, success_rate=0]"
     ]
    },
    {
     "name": "stdout",
     "output_type": "stream",
     "text": [
      "spoon problem\n"
     ]
    },
    {
     "name": "stderr",
     "output_type": "stream",
     "text": [
      "100%|█████████████████████████████████████████████████████████████████████████████████████████████████████████████████████████████████████████████████████████████████████████████| 960/960 [00:44<00:00, 22.30it/s, success_rate=0]"
     ]
    }
   ],
   "execution_count": 5
  },
  {
   "metadata": {
    "ExecuteTime": {
     "end_time": "2024-07-25T09:14:26.882114Z",
     "start_time": "2024-07-25T09:14:26.785709Z"
    }
   },
   "cell_type": "code",
   "source": [
    "ins = sqlalchemy.inspect(engine)\n",
    "ins.get_table_names()"
   ],
   "id": "808f5897513d8c7e",
   "outputs": [
    {
     "ename": "NameError",
     "evalue": "name 'sqlalchemy' is not defined",
     "output_type": "error",
     "traceback": [
      "\u001B[0;31m---------------------------------------------------------------------------\u001B[0m",
      "\u001B[0;31mNameError\u001B[0m                                 Traceback (most recent call last)",
      "Cell \u001B[0;32mIn[1], line 1\u001B[0m\n\u001B[0;32m----> 1\u001B[0m ins \u001B[38;5;241m=\u001B[39m \u001B[43msqlalchemy\u001B[49m\u001B[38;5;241m.\u001B[39minspect(engine)\n\u001B[1;32m      2\u001B[0m ins\u001B[38;5;241m.\u001B[39mget_table_names()\n",
      "\u001B[0;31mNameError\u001B[0m: name 'sqlalchemy' is not defined"
     ]
    }
   ],
   "execution_count": 1
  },
  {
   "metadata": {
    "ExecuteTime": {
     "end_time": "2024-07-04T10:44:21.723013Z",
     "start_time": "2024-07-04T10:44:21.717887Z"
    }
   },
   "cell_type": "code",
   "source": [
    "inspector = sqlalchemy.inspect(engine)\n",
    "inspector.get_table_names()"
   ],
   "id": "61ae352b9715c793",
   "outputs": [
    {
     "data": {
      "text/plain": [
       "['AccessingMotion',\n",
       " 'Action',\n",
       " 'BelieveObject',\n",
       " 'CloseAction',\n",
       " 'ClosingMotion',\n",
       " 'Color',\n",
       " 'Designator',\n",
       " 'DetectAction',\n",
       " 'DetectingMotion',\n",
       " 'FaceAtAction',\n",
       " 'GraspingAction',\n",
       " 'GripAction',\n",
       " 'LookAtAction',\n",
       " 'LookingMotion',\n",
       " 'Motion',\n",
       " 'MoveGripperMotion',\n",
       " 'MoveMotion',\n",
       " 'MoveTCPMotion',\n",
       " 'MoveTorsoAction',\n",
       " 'NavigateAction',\n",
       " 'Object',\n",
       " 'ObjectPart',\n",
       " 'OpenAction',\n",
       " 'OpeningMotion',\n",
       " 'ParkArmsAction',\n",
       " 'PickUpAction',\n",
       " 'PlaceAction',\n",
       " 'Pose',\n",
       " 'Position',\n",
       " 'ProcessMetaData',\n",
       " 'Quaternion',\n",
       " 'Release',\n",
       " 'RobotState',\n",
       " 'SetGripperAction',\n",
       " 'TaskTreeNode',\n",
       " 'TransportAction',\n",
       " 'WorldStateDetectingMotion']"
      ]
     },
     "execution_count": 13,
     "metadata": {},
     "output_type": "execute_result"
    }
   ],
   "execution_count": 13
  },
  {
   "metadata": {
    "ExecuteTime": {
     "end_time": "2024-07-04T10:49:01.259529Z",
     "start_time": "2024-07-04T10:49:00.990571Z"
    }
   },
   "cell_type": "code",
   "source": [
    "from pycram.orm.utils import write_database_to_file\n",
    "write_database_to_file(sqlalchemy.orm.sessionmaker(bind=engine),filename=\"pycram.db\")"
   ],
   "id": "df94701d263381d7",
   "outputs": [
    {
     "name": "stderr",
     "output_type": "stream",
     "text": [
      "100%|█████████████████████████████████████████████████████████████████████████████████████████████████████████████████████████████████████████████████████████████████████████████| 960/960 [42:46<00:00,  2.67s/it, success_rate=0]\n"
     ]
    }
   ],
   "execution_count": 19
  },
  {
   "metadata": {
    "ExecuteTime": {
     "end_time": "2024-07-04T10:44:26.218191Z",
     "start_time": "2024-07-04T10:44:26.212393Z"
    }
   },
   "cell_type": "code",
   "source": [
    "from sqlalchemy import select\n",
    "import pandas as pd\n",
    "query = session.query(ORMPickUpAction)\n",
    "stmt = query.statement\n",
    "df = pd.read_sql(stmt, engine)"
   ],
   "id": "2c7b0cedeb124701",
   "outputs": [],
   "execution_count": 15
  },
  {
   "metadata": {
    "ExecuteTime": {
     "end_time": "2024-07-04T10:44:27.074044Z",
     "start_time": "2024-07-04T10:44:27.067267Z"
    }
   },
   "cell_type": "code",
   "source": "df.head(20)",
   "id": "bb2b2c93d9e4a021",
   "outputs": [
    {
     "data": {
      "text/plain": [
       "    process_metadata_id   id  id_1  id_2  action_dtype         dtype  \\\n",
       "0                     1    5     5     5  PickUpAction  PickUpAction   \n",
       "1                     1   11    11    11  PickUpAction  PickUpAction   \n",
       "2                     1   17    17    17  PickUpAction  PickUpAction   \n",
       "3                     1   23    23    23  PickUpAction  PickUpAction   \n",
       "4                     1   29    29    29  PickUpAction  PickUpAction   \n",
       "5                     1   35    35    35  PickUpAction  PickUpAction   \n",
       "6                     1   41    41    41  PickUpAction  PickUpAction   \n",
       "7                     1   47    47    47  PickUpAction  PickUpAction   \n",
       "8                     1   53    53    53  PickUpAction  PickUpAction   \n",
       "9                     1   59    59    59  PickUpAction  PickUpAction   \n",
       "10                    1   65    65    65  PickUpAction  PickUpAction   \n",
       "11                    1   71    71    71  PickUpAction  PickUpAction   \n",
       "12                    1   77    77    77  PickUpAction  PickUpAction   \n",
       "13                    1   83    83    83  PickUpAction  PickUpAction   \n",
       "14                    1   89    89    89  PickUpAction  PickUpAction   \n",
       "15                    1   95    95    95  PickUpAction  PickUpAction   \n",
       "16                    1  101   101   101  PickUpAction  PickUpAction   \n",
       "17                    1  107   107   107  PickUpAction  PickUpAction   \n",
       "18                    1  113   113   113  PickUpAction  PickUpAction   \n",
       "19                    1  119   119   119  PickUpAction  PickUpAction   \n",
       "\n",
       "    robot_state_id   arm grasp  object_id  \n",
       "0                4  left  left          1  \n",
       "1                8  left  left          2  \n",
       "2               12  left  left          3  \n",
       "3               16  left  left          4  \n",
       "4               20  left  left          5  \n",
       "5               24  left  left          6  \n",
       "6               28  left  left          7  \n",
       "7               32  left  left          8  \n",
       "8               36  left  left          9  \n",
       "9               40  left  left         10  \n",
       "10              44  left  left         11  \n",
       "11              48  left  left         12  \n",
       "12              52  left  left         13  \n",
       "13              56  left  left         14  \n",
       "14              60  left  left         15  \n",
       "15              64  left  left         16  \n",
       "16              68  left  left         17  \n",
       "17              72  left  left         18  \n",
       "18              76  left  left         19  \n",
       "19              80  left  left         20  "
      ],
      "text/html": [
       "<div>\n",
       "<style scoped>\n",
       "    .dataframe tbody tr th:only-of-type {\n",
       "        vertical-align: middle;\n",
       "    }\n",
       "\n",
       "    .dataframe tbody tr th {\n",
       "        vertical-align: top;\n",
       "    }\n",
       "\n",
       "    .dataframe thead th {\n",
       "        text-align: right;\n",
       "    }\n",
       "</style>\n",
       "<table border=\"1\" class=\"dataframe\">\n",
       "  <thead>\n",
       "    <tr style=\"text-align: right;\">\n",
       "      <th></th>\n",
       "      <th>process_metadata_id</th>\n",
       "      <th>id</th>\n",
       "      <th>id_1</th>\n",
       "      <th>id_2</th>\n",
       "      <th>action_dtype</th>\n",
       "      <th>dtype</th>\n",
       "      <th>robot_state_id</th>\n",
       "      <th>arm</th>\n",
       "      <th>grasp</th>\n",
       "      <th>object_id</th>\n",
       "    </tr>\n",
       "  </thead>\n",
       "  <tbody>\n",
       "    <tr>\n",
       "      <th>0</th>\n",
       "      <td>1</td>\n",
       "      <td>5</td>\n",
       "      <td>5</td>\n",
       "      <td>5</td>\n",
       "      <td>PickUpAction</td>\n",
       "      <td>PickUpAction</td>\n",
       "      <td>4</td>\n",
       "      <td>left</td>\n",
       "      <td>left</td>\n",
       "      <td>1</td>\n",
       "    </tr>\n",
       "    <tr>\n",
       "      <th>1</th>\n",
       "      <td>1</td>\n",
       "      <td>11</td>\n",
       "      <td>11</td>\n",
       "      <td>11</td>\n",
       "      <td>PickUpAction</td>\n",
       "      <td>PickUpAction</td>\n",
       "      <td>8</td>\n",
       "      <td>left</td>\n",
       "      <td>left</td>\n",
       "      <td>2</td>\n",
       "    </tr>\n",
       "    <tr>\n",
       "      <th>2</th>\n",
       "      <td>1</td>\n",
       "      <td>17</td>\n",
       "      <td>17</td>\n",
       "      <td>17</td>\n",
       "      <td>PickUpAction</td>\n",
       "      <td>PickUpAction</td>\n",
       "      <td>12</td>\n",
       "      <td>left</td>\n",
       "      <td>left</td>\n",
       "      <td>3</td>\n",
       "    </tr>\n",
       "    <tr>\n",
       "      <th>3</th>\n",
       "      <td>1</td>\n",
       "      <td>23</td>\n",
       "      <td>23</td>\n",
       "      <td>23</td>\n",
       "      <td>PickUpAction</td>\n",
       "      <td>PickUpAction</td>\n",
       "      <td>16</td>\n",
       "      <td>left</td>\n",
       "      <td>left</td>\n",
       "      <td>4</td>\n",
       "    </tr>\n",
       "    <tr>\n",
       "      <th>4</th>\n",
       "      <td>1</td>\n",
       "      <td>29</td>\n",
       "      <td>29</td>\n",
       "      <td>29</td>\n",
       "      <td>PickUpAction</td>\n",
       "      <td>PickUpAction</td>\n",
       "      <td>20</td>\n",
       "      <td>left</td>\n",
       "      <td>left</td>\n",
       "      <td>5</td>\n",
       "    </tr>\n",
       "    <tr>\n",
       "      <th>5</th>\n",
       "      <td>1</td>\n",
       "      <td>35</td>\n",
       "      <td>35</td>\n",
       "      <td>35</td>\n",
       "      <td>PickUpAction</td>\n",
       "      <td>PickUpAction</td>\n",
       "      <td>24</td>\n",
       "      <td>left</td>\n",
       "      <td>left</td>\n",
       "      <td>6</td>\n",
       "    </tr>\n",
       "    <tr>\n",
       "      <th>6</th>\n",
       "      <td>1</td>\n",
       "      <td>41</td>\n",
       "      <td>41</td>\n",
       "      <td>41</td>\n",
       "      <td>PickUpAction</td>\n",
       "      <td>PickUpAction</td>\n",
       "      <td>28</td>\n",
       "      <td>left</td>\n",
       "      <td>left</td>\n",
       "      <td>7</td>\n",
       "    </tr>\n",
       "    <tr>\n",
       "      <th>7</th>\n",
       "      <td>1</td>\n",
       "      <td>47</td>\n",
       "      <td>47</td>\n",
       "      <td>47</td>\n",
       "      <td>PickUpAction</td>\n",
       "      <td>PickUpAction</td>\n",
       "      <td>32</td>\n",
       "      <td>left</td>\n",
       "      <td>left</td>\n",
       "      <td>8</td>\n",
       "    </tr>\n",
       "    <tr>\n",
       "      <th>8</th>\n",
       "      <td>1</td>\n",
       "      <td>53</td>\n",
       "      <td>53</td>\n",
       "      <td>53</td>\n",
       "      <td>PickUpAction</td>\n",
       "      <td>PickUpAction</td>\n",
       "      <td>36</td>\n",
       "      <td>left</td>\n",
       "      <td>left</td>\n",
       "      <td>9</td>\n",
       "    </tr>\n",
       "    <tr>\n",
       "      <th>9</th>\n",
       "      <td>1</td>\n",
       "      <td>59</td>\n",
       "      <td>59</td>\n",
       "      <td>59</td>\n",
       "      <td>PickUpAction</td>\n",
       "      <td>PickUpAction</td>\n",
       "      <td>40</td>\n",
       "      <td>left</td>\n",
       "      <td>left</td>\n",
       "      <td>10</td>\n",
       "    </tr>\n",
       "    <tr>\n",
       "      <th>10</th>\n",
       "      <td>1</td>\n",
       "      <td>65</td>\n",
       "      <td>65</td>\n",
       "      <td>65</td>\n",
       "      <td>PickUpAction</td>\n",
       "      <td>PickUpAction</td>\n",
       "      <td>44</td>\n",
       "      <td>left</td>\n",
       "      <td>left</td>\n",
       "      <td>11</td>\n",
       "    </tr>\n",
       "    <tr>\n",
       "      <th>11</th>\n",
       "      <td>1</td>\n",
       "      <td>71</td>\n",
       "      <td>71</td>\n",
       "      <td>71</td>\n",
       "      <td>PickUpAction</td>\n",
       "      <td>PickUpAction</td>\n",
       "      <td>48</td>\n",
       "      <td>left</td>\n",
       "      <td>left</td>\n",
       "      <td>12</td>\n",
       "    </tr>\n",
       "    <tr>\n",
       "      <th>12</th>\n",
       "      <td>1</td>\n",
       "      <td>77</td>\n",
       "      <td>77</td>\n",
       "      <td>77</td>\n",
       "      <td>PickUpAction</td>\n",
       "      <td>PickUpAction</td>\n",
       "      <td>52</td>\n",
       "      <td>left</td>\n",
       "      <td>left</td>\n",
       "      <td>13</td>\n",
       "    </tr>\n",
       "    <tr>\n",
       "      <th>13</th>\n",
       "      <td>1</td>\n",
       "      <td>83</td>\n",
       "      <td>83</td>\n",
       "      <td>83</td>\n",
       "      <td>PickUpAction</td>\n",
       "      <td>PickUpAction</td>\n",
       "      <td>56</td>\n",
       "      <td>left</td>\n",
       "      <td>left</td>\n",
       "      <td>14</td>\n",
       "    </tr>\n",
       "    <tr>\n",
       "      <th>14</th>\n",
       "      <td>1</td>\n",
       "      <td>89</td>\n",
       "      <td>89</td>\n",
       "      <td>89</td>\n",
       "      <td>PickUpAction</td>\n",
       "      <td>PickUpAction</td>\n",
       "      <td>60</td>\n",
       "      <td>left</td>\n",
       "      <td>left</td>\n",
       "      <td>15</td>\n",
       "    </tr>\n",
       "    <tr>\n",
       "      <th>15</th>\n",
       "      <td>1</td>\n",
       "      <td>95</td>\n",
       "      <td>95</td>\n",
       "      <td>95</td>\n",
       "      <td>PickUpAction</td>\n",
       "      <td>PickUpAction</td>\n",
       "      <td>64</td>\n",
       "      <td>left</td>\n",
       "      <td>left</td>\n",
       "      <td>16</td>\n",
       "    </tr>\n",
       "    <tr>\n",
       "      <th>16</th>\n",
       "      <td>1</td>\n",
       "      <td>101</td>\n",
       "      <td>101</td>\n",
       "      <td>101</td>\n",
       "      <td>PickUpAction</td>\n",
       "      <td>PickUpAction</td>\n",
       "      <td>68</td>\n",
       "      <td>left</td>\n",
       "      <td>left</td>\n",
       "      <td>17</td>\n",
       "    </tr>\n",
       "    <tr>\n",
       "      <th>17</th>\n",
       "      <td>1</td>\n",
       "      <td>107</td>\n",
       "      <td>107</td>\n",
       "      <td>107</td>\n",
       "      <td>PickUpAction</td>\n",
       "      <td>PickUpAction</td>\n",
       "      <td>72</td>\n",
       "      <td>left</td>\n",
       "      <td>left</td>\n",
       "      <td>18</td>\n",
       "    </tr>\n",
       "    <tr>\n",
       "      <th>18</th>\n",
       "      <td>1</td>\n",
       "      <td>113</td>\n",
       "      <td>113</td>\n",
       "      <td>113</td>\n",
       "      <td>PickUpAction</td>\n",
       "      <td>PickUpAction</td>\n",
       "      <td>76</td>\n",
       "      <td>left</td>\n",
       "      <td>left</td>\n",
       "      <td>19</td>\n",
       "    </tr>\n",
       "    <tr>\n",
       "      <th>19</th>\n",
       "      <td>1</td>\n",
       "      <td>119</td>\n",
       "      <td>119</td>\n",
       "      <td>119</td>\n",
       "      <td>PickUpAction</td>\n",
       "      <td>PickUpAction</td>\n",
       "      <td>80</td>\n",
       "      <td>left</td>\n",
       "      <td>left</td>\n",
       "      <td>20</td>\n",
       "    </tr>\n",
       "  </tbody>\n",
       "</table>\n",
       "</div>"
      ]
     },
     "execution_count": 16,
     "metadata": {},
     "output_type": "execute_result"
    }
   ],
   "execution_count": 16
  },
  {
   "cell_type": "markdown",
   "id": "eb69cbf79392c159",
   "metadata": {
    "collapsed": false
   },
   "source": [
    "The success_rate of the output above indicates how many of our samples succeeded in trying to grasp a randomized object."
   ]
  },
  {
   "cell_type": "markdown",
   "id": "4b9a9e8eb214cffe",
   "metadata": {
    "collapsed": false
   },
   "source": [
    "Now that we have data to query from and a running session, we can actually start creating queries. \n",
    "Let's say we want to select positions of robots that were able to grasp a specific object (in this case a \"milk\" object):"
   ]
  },
  {
   "cell_type": "code",
   "id": "b17c6366f317dd7",
   "metadata": {
    "collapsed": false,
    "ExecuteTime": {
     "end_time": "2024-07-04T09:32:16.013132Z",
     "start_time": "2024-07-04T09:32:16.002610Z"
    }
   },
   "source": [
    "from sqlalchemy import select\n",
    "from pycram.datastructures.enums import ObjectType\n",
    "\n",
    "milk = BulletWorldObject(\"Milk\", ObjectType.MILK, \"milk.stl\")\n",
    "\n",
    "# query all relative robot positions in regard to an objects position\n",
    "# make sure to order the joins() correctly\n",
    "query = (select(ORMPickUpAction.arm, ORMPickUpAction.grasp, RobotState.torso_height, Position.x, Position.y)\n",
    "         # .join(TaskTreeNode.code)\n",
    "         # .join(Code.designator.of_type(ORMPickUpAction))\n",
    "         .join(ORMPickUpAction.robot_state)\n",
    "         .join(RobotState.pose)\n",
    "         .join(pycram.orm.base.Pose.position)\n",
    "         .join(ORMPickUpAction.object).where(Object.obj_type == milk.obj_type)\n",
    "                                      .where(TaskTreeNode.status == \"SUCCEEDED\"))\n",
    "print(query)\n",
    "\n",
    "df = pd.read_sql_query(query, session.get_bind())\n",
    "print(df.head())"
   ],
   "outputs": [
    {
     "name": "stderr",
     "output_type": "stream",
     "text": [
      "[ERROR] [1720085536.003958]: An object with the name Milk already exists in the world.\n"
     ]
    },
    {
     "ename": "AttributeError",
     "evalue": "'Object' object has no attribute 'obj_type'",
     "output_type": "error",
     "traceback": [
      "\u001B[0;31m---------------------------------------------------------------------------\u001B[0m",
      "\u001B[0;31mAttributeError\u001B[0m                            Traceback (most recent call last)",
      "Cell \u001B[0;32mIn[20], line 14\u001B[0m\n\u001B[1;32m      4\u001B[0m milk \u001B[38;5;241m=\u001B[39m BulletWorldObject(\u001B[38;5;124m\"\u001B[39m\u001B[38;5;124mMilk\u001B[39m\u001B[38;5;124m\"\u001B[39m, ObjectType\u001B[38;5;241m.\u001B[39mMILK, \u001B[38;5;124m\"\u001B[39m\u001B[38;5;124mmilk.stl\u001B[39m\u001B[38;5;124m\"\u001B[39m)\n\u001B[1;32m      6\u001B[0m \u001B[38;5;66;03m# query all relative robot positions in regard to an objects position\u001B[39;00m\n\u001B[1;32m      7\u001B[0m \u001B[38;5;66;03m# make sure to order the joins() correctly\u001B[39;00m\n\u001B[1;32m      8\u001B[0m query \u001B[38;5;241m=\u001B[39m (select(ORMPickUpAction\u001B[38;5;241m.\u001B[39marm, ORMPickUpAction\u001B[38;5;241m.\u001B[39mgrasp, RobotState\u001B[38;5;241m.\u001B[39mtorso_height, Position\u001B[38;5;241m.\u001B[39mx, Position\u001B[38;5;241m.\u001B[39my)\n\u001B[1;32m      9\u001B[0m          \u001B[38;5;66;03m# .join(TaskTreeNode.code)\u001B[39;00m\n\u001B[1;32m     10\u001B[0m          \u001B[38;5;66;03m# .join(Code.designator.of_type(ORMPickUpAction))\u001B[39;00m\n\u001B[1;32m     11\u001B[0m          \u001B[38;5;241m.\u001B[39mjoin(ORMPickUpAction\u001B[38;5;241m.\u001B[39mrobot_state)\n\u001B[1;32m     12\u001B[0m          \u001B[38;5;241m.\u001B[39mjoin(RobotState\u001B[38;5;241m.\u001B[39mpose)\n\u001B[1;32m     13\u001B[0m          \u001B[38;5;241m.\u001B[39mjoin(pycram\u001B[38;5;241m.\u001B[39morm\u001B[38;5;241m.\u001B[39mbase\u001B[38;5;241m.\u001B[39mPose\u001B[38;5;241m.\u001B[39mposition)\n\u001B[0;32m---> 14\u001B[0m          \u001B[38;5;241m.\u001B[39mjoin(ORMPickUpAction\u001B[38;5;241m.\u001B[39mobject)\u001B[38;5;241m.\u001B[39mwhere(Object\u001B[38;5;241m.\u001B[39mobj_type \u001B[38;5;241m==\u001B[39m \u001B[43mmilk\u001B[49m\u001B[38;5;241;43m.\u001B[39;49m\u001B[43mobj_type\u001B[49m)\n\u001B[1;32m     15\u001B[0m                                       \u001B[38;5;241m.\u001B[39mwhere(TaskTreeNode\u001B[38;5;241m.\u001B[39mstatus \u001B[38;5;241m==\u001B[39m \u001B[38;5;124m\"\u001B[39m\u001B[38;5;124mSUCCEEDED\u001B[39m\u001B[38;5;124m\"\u001B[39m))\n\u001B[1;32m     16\u001B[0m \u001B[38;5;28mprint\u001B[39m(query)\n\u001B[1;32m     18\u001B[0m df \u001B[38;5;241m=\u001B[39m pd\u001B[38;5;241m.\u001B[39mread_sql_query(query, session\u001B[38;5;241m.\u001B[39mget_bind())\n",
      "\u001B[0;31mAttributeError\u001B[0m: 'Object' object has no attribute 'obj_type'"
     ]
    }
   ],
   "execution_count": 20
  },
  {
   "cell_type": "markdown",
   "id": "d53477bfd91a1b9b",
   "metadata": {
    "collapsed": false
   },
   "source": [
    "If you are not familiar with sqlalchemy querying you might wonder what the of_type() function does and why we needed it in this query:\n",
    "\n",
    "In order to understand the importance of the of_type() function in the joins above it is crucial to understand the inheritance structure in the ORM package. The action necessary for this query is the PickUpAction. It inherits the Action class/table (which holds all the actions). The Action class itself on the other hand inherits Designator (which holds all the actions, but also all the motions). \n",
    "We started our joins by joining TaskTreeNode on its relationship to Code and Code on its relationship to Designator. Next table we need is the PickUpAction table, but there is no specified relationship between Designator and PickUpAction. But we do know that a PickUpAction is actually a Designator, meaning, it inherits from Designator. So we can just \"tell\" the join to join Code on every Designator, that is \"of_type\" PickUpAction (.join(Code.designator.of_type(ORMPickUpAction))). \n",
    "The effect of this function can also be seen in the printed query of above's output. "
   ]
  },
  {
   "cell_type": "markdown",
   "id": "ffce85c0e49bb618",
   "metadata": {
    "collapsed": false
   },
   "source": [
    "Another interesting query: Let's say we want to select the torso height and positions of robots relative to the object they were trying to grasp:"
   ]
  },
  {
   "cell_type": "code",
   "id": "a89d1a0f2a933475",
   "metadata": {
    "collapsed": false,
    "ExecuteTime": {
     "end_time": "2024-07-04T09:32:58.160818Z",
     "start_time": "2024-07-04T09:32:44.430559Z"
    }
   },
   "source": [
    "from pycram.orm.base import Pose as ORMPose\n",
    "\n",
    "robot_pose = sqlalchemy.orm.aliased(ORMPose)\n",
    "object_pose = sqlalchemy.orm.aliased(ORMPose)\n",
    "robot_position = sqlalchemy.orm.aliased(Position)\n",
    "object_position = sqlalchemy.orm.aliased(Position)\n",
    "\n",
    "query = (select(TaskTreeNode.status, Object.obj_type, \n",
    "                       sqlalchemy.label(\"relative torso height\", object_position.z - RobotState.torso_height),\n",
    "                       sqlalchemy.label(\"x\", robot_position.x - object_position.x),\n",
    "                       sqlalchemy.label(\"y\", robot_position.y - object_position.y))\n",
    "         # .join(TaskTreeNode.code)\n",
    "         # .join(Code.designator.of_type(ORMPickUpAction))\n",
    "         .join(ORMPickUpAction.robot_state)\n",
    "         .join(robot_pose, RobotState.pose)\n",
    "         .join(robot_position, robot_pose.position)\n",
    "         .join(ORMPickUpAction.object)\n",
    "         .join(object_pose, Object.pose)\n",
    "         .join(object_position, object_pose.position))\n",
    "print(query)\n",
    "\n",
    "df = pd.read_sql(query, session.get_bind())\n",
    "df[\"status\"] = df[\"status\"].apply(lambda x: str(x.name))\n",
    "print(df.head())"
   ],
   "outputs": [
    {
     "name": "stdout",
     "output_type": "stream",
     "text": [
      "SELECT \"TaskTreeNode\".status, \"Object\".obj_type, \"Position_1\".z - \"RobotState\".torso_height AS \"relative torso height\", \"Position_2\".x - \"Position_1\".x AS x, \"Position_2\".y - \"Position_1\".y AS y \n",
      "FROM \"Designator\" JOIN \"Action\" ON \"Designator\".id = \"Action\".id JOIN \"PickUpAction\" ON \"Action\".id = \"PickUpAction\".id JOIN \"RobotState\" ON \"RobotState\".id = \"Action\".robot_state_id JOIN \"Pose\" AS \"Pose_1\" ON \"Pose_1\".id = \"RobotState\".pose_id JOIN \"Position\" AS \"Position_2\" ON \"Position_2\".id = \"Pose_1\".position_id JOIN \"Object\" ON \"Object\".id = \"PickUpAction\".object_id JOIN \"Pose\" AS \"Pose_2\" ON \"Pose_2\".id = \"Object\".pose_id JOIN \"Position\" AS \"Position_1\" ON \"Position_1\".id = \"Pose_2\".position_id, \"TaskTreeNode\"\n"
     ]
    },
    {
     "name": "stderr",
     "output_type": "stream",
     "text": [
      "/home/malineni/.local/lib/python3.8/site-packages/pandas/io/sql.py:1563: SAWarning: SELECT statement has a cartesian product between FROM element(s) \"TaskTreeNode\" and FROM element \"Action\".  Apply join condition(s) between each element to resolve.\n",
      "  return self.con.execute(sql, *args)\n"
     ]
    },
    {
     "name": "stdout",
     "output_type": "stream",
     "text": [
      "      status                     obj_type  relative torso height         x  \\\n",
      "0    RUNNING  ObjectType.BREAKFAST_CEREAL              -0.269995 -0.737416   \n",
      "1  SUCCEEDED  ObjectType.BREAKFAST_CEREAL              -0.269995 -0.737416   \n",
      "2  SUCCEEDED  ObjectType.BREAKFAST_CEREAL              -0.269995 -0.737416   \n",
      "3  SUCCEEDED  ObjectType.BREAKFAST_CEREAL              -0.269995 -0.737416   \n",
      "4     FAILED  ObjectType.BREAKFAST_CEREAL              -0.269995 -0.737416   \n",
      "\n",
      "          y  \n",
      "0 -0.187877  \n",
      "1 -0.187877  \n",
      "2 -0.187877  \n",
      "3 -0.187877  \n",
      "4 -0.187877  \n"
     ]
    }
   ],
   "execution_count": 21
  },
  {
   "cell_type": "markdown",
   "id": "805dbb7e8b69ef3a",
   "metadata": {
    "collapsed": false
   },
   "source": [
    "Obviously the query returned every row of the database since we didn't apply any filters.\n",
    "\n",
    "Why is this query interesting? This query not only required more joins and the usage of the of_type() function, but we actually needed to access two of the tables twice with different purposes, namely the Pose and Position tables. We wanted to get the position of the robot relative to the object position, meaning we had to obtain all robot positions and all object positions. If we want to access the same table twice, we have to make sure to rename (one of) the occurrences in our query in order to provide proper sql syntax. This can be done by creating aliases using the sqlalchemy.orm.aliased() function. Sqlalchemy will automatically rename all the aliased tables for you during runtime."
   ]
  }
 ],
 "metadata": {
  "kernelspec": {
   "display_name": "pycrow_python",
   "language": "python",
   "name": "pycrow"
  },
  "language_info": {
   "codemirror_mode": {
    "name": "ipython",
    "version": 2
   },
   "file_extension": ".py",
   "mimetype": "text/x-python",
   "name": "python",
   "nbconvert_exporter": "python",
   "pygments_lexer": "ipython2",
   "version": "2.7.6"
  }
 },
 "nbformat": 4,
 "nbformat_minor": 5
}
