{
 "cells": [
  {
   "cell_type": "markdown",
   "metadata": {
    "collapsed": false
   },
   "source": [
    "# Ontology interface\n",
    "\n",
    "This tutorial demonstrates basic usages of __owlready2__ API for ontology manipulation. Notably, new ontology concept triple classes (subject, predicate, object) will be dynamically created, with optional existing ontology parent classes that are loaded from an OWL ontology. Then through the interconnected relations specified in triples, designators and their corresponding ontology concepts can be double-way queried for input information in certain tasks, eg. making a robot motion plan. "
   ]
  },
  {
   "cell_type": "code",
   "metadata": {
    "jupyter": {
     "is_executing": true
    }
   },
   "source": [],
   "outputs": [],
   "execution_count": null
  },
  {
   "cell_type": "code",
   "metadata": {
    "collapsed": false,
    "ExecuteTime": {
     "end_time": "2024-07-24T11:21:49.694579Z",
     "start_time": "2024-07-24T11:21:49.167996Z"
    }
   },
   "source": [
    "from pathlib import Path\n",
    "from typing import Type, TYPE_CHECKING\n",
    "import pycram\n",
    "from pycram.designator import ObjectDesignatorDescription"
   ],
   "outputs": [
    {
     "name": "stderr",
     "output_type": "stream",
     "text": [
      "Unknown attribute \"type\" in /robot[@name='pr2']/link[@name='base_laser_link']\n",
      "Unknown attribute \"type\" in /robot[@name='pr2']/link[@name='wide_stereo_optical_frame']\n",
      "Unknown attribute \"type\" in /robot[@name='pr2']/link[@name='narrow_stereo_optical_frame']\n",
      "Unknown attribute \"type\" in /robot[@name='pr2']/link[@name='laser_tilt_link']\n",
      "Failed to import Giskard messages, the real robot will not be available\n",
      "Could not import RoboKudo messages, RoboKudo interface could not be initialized\n",
      "pybullet build time: Nov 28 2023 23:51:11\n"
     ]
    }
   ],
   "execution_count": 1
  },
  {
   "cell_type": "markdown",
   "metadata": {
    "collapsed": false
   },
   "source": [
    "# Owlready2\n",
    "\n",
    "[Owlready2](https://owlready2.readthedocs.io/en/latest/intro.html) is a Python package providing a transparent access to OWL ontologies. It supports various manipulation operations, including but not limited to loading, modification, saving ontologies. Built-in supported reasoners include [HermiT](http://www.hermit-reasoner.com) and [Pellet](https://github.com/stardog-union/pellet)."
   ]
  },
  {
   "cell_type": "code",
   "metadata": {
    "collapsed": false,
    "ExecuteTime": {
     "end_time": "2024-07-25T12:15:02.126022Z",
     "start_time": "2024-07-25T12:15:02.116913Z"
    }
   },
   "source": [
    "import logging\n",
    "try:\n",
    "    import owlready2\n",
    "    from owlready2 import *\n",
    "except ImportError:\n",
    "    owlready2 = None\n",
    "    logging.error(\"Could not import owlready2, Ontology Manager could not be initialized!\")\n",
    "\n",
    "logging.getLogger().setLevel(logging.INFO)"
   ],
   "outputs": [],
   "execution_count": 4
  },
  {
   "cell_type": "markdown",
   "metadata": {
    "collapsed": false
   },
   "source": [
    "# Ontology Manager\n",
    "\n",
    "`OntologyManager` is the singleton class acting as the main interface between PyCram with ontologies, whereby object instances in the former could query relevant information based on the semantic connection with their corresponding ontology concepts.\n",
    "\n",
    "Such connection, as represented by triples (subject-predicate-object), could be also created on the fly if not pre-existing in the loaded ontology.\n",
    "\n",
    "Also new and updated concepts with their properties defined in runtime could be stored into an [SQLite3 file database](https://owlready2.readthedocs.io/en/latest/world.html) for reuse.\n",
    "\n",
    "Here we will use [SOMA ontology](https://ease-crc.github.io/soma) as the baseline to utilize the generalized concepts provided by it."
   ]
  },
  {
   "cell_type": "code",
   "metadata": {
    "collapsed": false,
    "ExecuteTime": {
     "end_time": "2024-07-24T11:21:52.500271Z",
     "start_time": "2024-07-24T11:21:51.699183Z"
    }
   },
   "source": [
    "from pycram.ontology.ontology import OntologyManager, SOMA_HOME_ONTOLOGY_IRI\n",
    "from pycram.ontology.ontology_common import OntologyConceptHolderStore, OntologyConceptHolder\n",
    "\n",
    "ontology_manager = OntologyManager(SOMA_HOME_ONTOLOGY_IRI)\n",
    "main_ontology = ontology_manager.main_ontology\n",
    "soma = ontology_manager.soma\n",
    "dul = ontology_manager.dul"
   ],
   "outputs": [
    {
     "name": "stdout",
     "output_type": "stream",
     "text": [
      "[INFO] [1721820112.496890]: Ontology [http://www.ease-crc.org/ont/SOMA-HOME.owl#]'s name: SOMA-HOME has been loaded\n",
      "[INFO] [1721820112.497618]: - main namespace: SOMA-HOME\n",
      "[INFO] [1721820112.497977]: - loaded ontologies:\n",
      "[INFO] [1721820112.498277]: http://www.ease-crc.org/ont/SOMA-HOME.owl#\n",
      "[INFO] [1721820112.498562]: http://www.ease-crc.org/ont/DUL.owl#\n",
      "[INFO] [1721820112.498832]: http://www.ease-crc.org/ont/SOMA.owl#\n"
     ]
    }
   ],
   "execution_count": 3
  },
  {
   "cell_type": "markdown",
   "metadata": {
    "collapsed": false
   },
   "source": [
    "## Ontology Concept Holder\n",
    "__`OntologyConceptHolder`__ class, encapsulating an __`owlready2.Thing`__ instance, is used primarily as the binding connection between the `owlready2.Thing` ontology concept to PyCram designators. We make it that way, instead of creating a custom concept class that inherits from `owlready2.Thing` for the reasons below:\n",
    "\n",
    "- `owlready2` API does not have very robust support for client classes to inherit from theirs with added (non-semantic) attributes, particularly in our case, where classes like `DesignatorDescription` have their `metaclass` as `ABCMeta`, while it is `EntityClass` that is the metaclass used for basically all concepts (classes, properties) in `owlready2`. Since those two metaclasses just bear no relationship, for the inheritance to work, the only way is to create a child metaclass with both of those as parents, however without full support by `owlready2`, plus the second reason below will point out it's not worth the effort.\n",
    "\n",
    "\n",
    "- Essentially, we will have new ontology concept classes created dynamically, if their types inherit from `owlready2.Thing`, all custom non-semantic (of types known only by PyCram) attributes, which are defined by their own in child classes, will apparently be not savable into the ontology by `owlready2` api. Then the next time the ontology is loaded, those same dynamic classes will not be created anymore, thus without those attributes either, causing running error.\n",
    "\n",
    "As such, in short, an ontology concept class, either newly created on the fly or loaded from ontologies, has to be `owlready2.Thing` or its pure derived class (without non-semantic attributes), so to make itself reusable upon reloading.\n",
    "\n",
    "Notable attributes:\n",
    "- `ontology_concept`: An ontology concept of `owlready2.Thing` type or its pure child class (without custom non-semantic attributes), either dynamically created, or loaded from an ontology\n",
    "- `designators`: a list of `DesignatorDescription` instances associated with `ontology_concept`\n",
    "- `resolve`: a `Callable` typically returning a list of `DesignatorDescription` as specific designators, like `designators` or its subset, inferred from the ontology concept. In fact, it can be resolved to anything else relevant, up to the caller."
   ]
  },
  {
   "cell_type": "markdown",
   "metadata": {
    "collapsed": false
   },
   "source": [
    "## Query ontology classes and their properties\n",
    "\n",
    "Classes in the loaded ontology can be queried based on their exact names, or part of them, or by namespace.\n",
    "Here, we can see essential info (ancestors, super/sub-classes, properties, direct instances, etc.) of the found ontology class."
   ]
  },
  {
   "cell_type": "code",
   "metadata": {
    "collapsed": false,
    "ExecuteTime": {
     "end_time": "2024-07-24T11:22:00.824764Z",
     "start_time": "2024-07-24T11:22:00.610116Z"
    }
   },
   "source": [
    "ontology_designed_container_class = ontology_manager.get_ontology_class('DesignedContainer')\n",
    "ontology_manager.print_ontology_class(ontology_designed_container_class)\n",
    "classes = ontology_manager.get_ontology_classes_by_subname('PhysicalObject'); print(classes[0])\n",
    "classes = ontology_manager.get_ontology_classes_by_namespace('SOMA'); print(classes[:2])"
   ],
   "outputs": [
    {
     "name": "stdout",
     "output_type": "stream",
     "text": [
      "[INFO] [1721820120.732027]: -------------------\n",
      "[INFO] [1721820120.732775]: SOMA.DesignedContainer <class 'owlready2.entity.ThingClass'>\n",
      "[INFO] [1721820120.733280]: Super classes: [DUL.DesignedArtifact, DUL.DesignedArtifact, SOMA.hasDisposition.some(SOMA.Containment), SOMA.hasDisposition.some(SOMA.Containment)]\n",
      "[INFO] [1721820120.733763]: Ancestors: {DUL.PhysicalArtifact, SOMA.DesignedContainer, DUL.Object, DUL.PhysicalObject, owl.Thing, DUL.Entity, DUL.DesignedArtifact}\n",
      "[INFO] [1721820120.734181]: Subclasses: [SOMA.Bottle, SOMA.Crockery, SOMA.Box, SOMA.Building, SOMA.Carafe, SOMA.Cupboard, SOMA.Dishwasher, SOMA.Dispenser, SOMA.Drawer, SOMA.Jar, SOMA.Pack, SOMA.Oven, SOMA.Shaker, SOMA.Refrigerator, SOMA.TrashContainer]\n",
      "[INFO] [1721820120.734690]: Properties: [SOMA.hasDisposition, rdf-schema.comment, rdf-schema.isDefinedBy, rdf-schema.label]\n",
      "[INFO] [1721820120.820559]: Instances: []\n",
      "[INFO] [1721820120.821263]: Direct Instances: []\n",
      "[INFO] [1721820120.821643]: Inverse Restrictions: []\n",
      "DUL.PhysicalObject\n",
      "[SOMA.Affordance, SOMA.Disposition]\n"
     ]
    }
   ],
   "execution_count": 4
  },
  {
   "cell_type": "markdown",
   "metadata": {
    "collapsed": false
   },
   "source": [
    "__Descendants__ of an ontology class can be also queried by"
   ]
  },
  {
   "cell_type": "code",
   "metadata": {
    "collapsed": false,
    "ExecuteTime": {
     "end_time": "2024-07-24T11:22:03.944508Z",
     "start_time": "2024-07-24T11:22:03.905888Z"
    }
   },
   "source": [
    "ontology_manager.get_ontology_descendant_classes(ontology_designed_container_class)[:5]"
   ],
   "outputs": [
    {
     "data": {
      "text/plain": [
       "[SOMA.Bottle, SOMA.DesignedContainer, SOMA.Bowl, SOMA.Crockery, SOMA.Box]"
      ]
     },
     "execution_count": 5,
     "metadata": {},
     "output_type": "execute_result"
    }
   ],
   "execution_count": 5
  },
  {
   "cell_type": "markdown",
   "metadata": {
    "collapsed": false
   },
   "source": [
    "## Create a new ontology concept class and its individual\n",
    "\n",
    "A new ontology class can be created dynamically as inheriting from an existing class in the loaded ontology.\n",
    "Here we create the class and its instance, also known as [__individual__](https://owlready2.readthedocs.io/en/latest/class.html#creating-equivalent-classes) in ontology terms, which is then wrapped inside an `OntologyConceptHolder`."
   ]
  },
  {
   "cell_type": "code",
   "metadata": {
    "collapsed": false,
    "ExecuteTime": {
     "end_time": "2024-07-24T11:22:05.263119Z",
     "start_time": "2024-07-24T11:22:05.260658Z"
    }
   },
   "source": [
    "ontology_custom_container_class = ontology_manager.create_ontology_concept_class('CustomContainerConcept',\n",
    "                                                                                 ontology_designed_container_class)\n",
    "custom_container_concept_holder = OntologyConceptHolder(ontology_custom_container_class(name='ontology_custom_container_concept',\n",
    "                                                                                        namespace=main_ontology))"
   ],
   "outputs": [],
   "execution_count": 6
  },
  {
   "metadata": {
    "ExecuteTime": {
     "end_time": "2024-07-24T11:22:07.281016Z",
     "start_time": "2024-07-24T11:22:07.278664Z"
    }
   },
   "cell_type": "code",
   "source": "dir(ontology_custom_container_class)",
   "outputs": [
    {
     "data": {
      "text/plain": [
       "['INDIRECT_get_properties',\n",
       " '__class__',\n",
       " '__classcell__',\n",
       " '__delattr__',\n",
       " '__dict__',\n",
       " '__dir__',\n",
       " '__doc__',\n",
       " '__eq__',\n",
       " '__format__',\n",
       " '__ge__',\n",
       " '__getattr__',\n",
       " '__getattribute__',\n",
       " '__gt__',\n",
       " '__hash__',\n",
       " '__init__',\n",
       " '__init_subclass__',\n",
       " '__le__',\n",
       " '__lt__',\n",
       " '__module__',\n",
       " '__ne__',\n",
       " '__new__',\n",
       " '__reduce__',\n",
       " '__reduce_ex__',\n",
       " '__repr__',\n",
       " '__setattr__',\n",
       " '__sizeof__',\n",
       " '__str__',\n",
       " '__subclasshook__',\n",
       " '__weakref__',\n",
       " '_equivalent_to',\n",
       " '_get_instance_possible_relations',\n",
       " '_get_is_instance_of',\n",
       " '_instance_equivalent_to_changed',\n",
       " '_instance_is_a_changed',\n",
       " '_name',\n",
       " '_set_is_instance_of',\n",
       " 'differents',\n",
       " 'generate_default_name',\n",
       " 'get_equivalent_to',\n",
       " 'get_inverse_properties',\n",
       " 'get_iri',\n",
       " 'get_name',\n",
       " 'get_properties',\n",
       " 'iri',\n",
       " 'is_a',\n",
       " 'is_instance_of',\n",
       " 'name',\n",
       " 'namespace',\n",
       " 'reload',\n",
       " 'set_equivalent_to',\n",
       " 'set_iri',\n",
       " 'set_name',\n",
       " 'storid']"
      ]
     },
     "execution_count": 7,
     "metadata": {},
     "output_type": "execute_result"
    }
   ],
   "execution_count": 7
  },
  {
   "cell_type": "markdown",
   "metadata": {
    "collapsed": false
   },
   "source": [
    "## Access ontology concept classes and individuals\n",
    "All ontology classes created on the fly purely inherit (without added non-semantic attributes) from __`owlready2.Thing`__, and so share the same namespace with the loaded ontology instance, `main_ontology`. They can then be accessible through that namespace by __`main_ontology.<class_name>`__.\n",
    "The same applies for individuals of those classes, accessible by __`main_ontology.<class_individual_name>`__"
   ]
  },
  {
   "cell_type": "code",
   "metadata": {
    "collapsed": false,
    "ExecuteTime": {
     "end_time": "2024-07-24T11:22:09.000864Z",
     "start_time": "2024-07-24T11:22:08.995120Z"
    }
   },
   "source": [
    "ontology_manager.print_ontology_class(main_ontology.CustomContainerConcept)\n",
    "print(f\"custom_container_concept is {main_ontology.ontology_custom_container_concept}: {custom_container_concept_holder.ontology_concept is main_ontology.ontology_custom_container_concept}\")"
   ],
   "outputs": [
    {
     "name": "stdout",
     "output_type": "stream",
     "text": [
      "[INFO] [1721820128.996368]: -------------------\n",
      "[INFO] [1721820128.997085]: SOMA-HOME.CustomContainerConcept <class 'owlready2.entity.ThingClass'>\n",
      "[INFO] [1721820128.997438]: Super classes: [SOMA.DesignedContainer, owl.Thing]\n",
      "[INFO] [1721820128.997780]: Ancestors: {DUL.PhysicalArtifact, SOMA.DesignedContainer, DUL.Object, DUL.PhysicalObject, owl.Thing, DUL.Entity, DUL.DesignedArtifact, SOMA-HOME.CustomContainerConcept}\n",
      "[INFO] [1721820128.998070]: Subclasses: []\n",
      "[INFO] [1721820128.998408]: Properties: []\n",
      "[INFO] [1721820128.998974]: Instances: [SOMA-HOME.ontology_custom_container_concept]\n",
      "[INFO] [1721820128.999323]: Direct Instances: [SOMA-HOME.ontology_custom_container_concept]\n",
      "[INFO] [1721820128.999614]: Inverse Restrictions: []\n",
      "custom_container_concept is SOMA-HOME.ontology_custom_container_concept: True\n"
     ]
    }
   ],
   "execution_count": 8
  },
  {
   "cell_type": "markdown",
   "metadata": {
    "collapsed": false
   },
   "source": [
    "For ones already existing in the ontology, they can only be accessed through their corresponding ontology, eg: `soma` as follows"
   ]
  },
  {
   "cell_type": "code",
   "metadata": {
    "collapsed": false,
    "ExecuteTime": {
     "end_time": "2024-07-24T11:22:10.566103Z",
     "start_time": "2024-07-24T11:22:10.558077Z"
    }
   },
   "source": [
    "ontology_manager.print_ontology_class(soma.Cup)"
   ],
   "outputs": [
    {
     "name": "stdout",
     "output_type": "stream",
     "text": [
      "[INFO] [1721820130.559467]: -------------------\n",
      "[INFO] [1721820130.560395]: SOMA.Cup <class 'owlready2.entity.ThingClass'>\n",
      "[INFO] [1721820130.560937]: Super classes: [SOMA.Crockery, SOMA.hasPhysicalComponent.some(SOMA.DesignedHandle)]\n",
      "[INFO] [1721820130.561416]: Ancestors: {DUL.PhysicalArtifact, SOMA.DesignedContainer, DUL.Object, SOMA.Crockery, DUL.PhysicalObject, SOMA.Tableware, owl.Thing, DUL.Entity, DUL.DesignedArtifact, SOMA.DesignedTool, SOMA.Cup}\n",
      "[INFO] [1721820130.561883]: Subclasses: []\n",
      "[INFO] [1721820130.562472]: Properties: [SOMA.hasPhysicalComponent, rdf-schema.comment, rdf-schema.isDefinedBy]\n",
      "[INFO] [1721820130.563364]: Instances: []\n",
      "[INFO] [1721820130.563886]: Direct Instances: []\n",
      "[INFO] [1721820130.564539]: Inverse Restrictions: []\n"
     ]
    }
   ],
   "execution_count": 9
  },
  {
   "cell_type": "markdown",
   "metadata": {
    "collapsed": false
   },
   "source": [
    "## Connect ontology class individuals with designators\n",
    "After creating `custom_container_concept_holder` (wrapping `custom_container_concept` as an `owlready2.Thing`), we connect it to a designator (say `obj_designator`) by:\n",
    "- Append to `obj_designator.ontology_concept_holders` with `custom_container_concept_holder`\n",
    "- Append to `custom_container_concept_holder.designators` with `obj_designator`"
   ]
  },
  {
   "cell_type": "code",
   "metadata": {
    "collapsed": false,
    "ExecuteTime": {
     "end_time": "2024-07-24T11:22:18.684064Z",
     "start_time": "2024-07-24T11:22:18.681503Z"
    }
   },
   "source": [
    "custom_container_designator = ObjectDesignatorDescription(names=[\"obj\"])\n",
    "custom_container_designator.ontology_concept_holders.append(custom_container_concept_holder)\n",
    "custom_container_concept_holder.designators.append(custom_container_designator)"
   ],
   "outputs": [],
   "execution_count": 10
  },
  {
   "cell_type": "markdown",
   "metadata": {
    "collapsed": false
   },
   "source": [
    "We can also automatize all the above setup with a single function call"
   ]
  },
  {
   "cell_type": "code",
   "metadata": {
    "collapsed": false,
    "ExecuteTime": {
     "end_time": "2024-07-24T11:22:21.941503Z",
     "start_time": "2024-07-24T11:22:21.938186Z"
    }
   },
   "source": [
    "another_custom_container_designator = ontology_manager.create_ontology_linked_designator(object_name=\"another_custom_container\",\n",
    "                                                                                         designator_class=ObjectDesignatorDescription,\n",
    "                                                                                         ontology_concept_name=\"AnotherCustomContainerConcept\",\n",
    "                                                                                         ontology_parent_class=ontology_designed_container_class)\n",
    "another_custom_container_concept = another_custom_container_designator.ontology_concept_holders[0].ontology_concept \n",
    "print(f\"Ontology concept: {another_custom_container_concept.name} of class {type(another_custom_container_concept)}\")\n",
    "another_custom_container_designator = OntologyConceptHolderStore().get_ontology_concept_holder_by_name(main_ontology.AnotherCustomContainerConcept.instances()[0].name).get_default_designator()\n",
    "print(f\"Designator: {another_custom_container_designator.names[0]} of type {type(another_custom_container_designator)}\")"
   ],
   "outputs": [
    {
     "name": "stdout",
     "output_type": "stream",
     "text": [
      "Ontology concept: another_custom_container_concept of class SOMA-HOME.AnotherCustomContainerConcept\n",
      "Designator: another_custom_container of type <class 'pycram.designator.ObjectDesignatorDescription'>\n"
     ]
    }
   ],
   "execution_count": 11
  },
  {
   "metadata": {
    "ExecuteTime": {
     "end_time": "2024-07-24T11:27:50.418868Z",
     "start_time": "2024-07-24T11:27:50.416025Z"
    }
   },
   "cell_type": "code",
   "source": [
    "print(type(ontology_custom_container_class))\n",
    "print(ontology_custom_container_class.__dict__)\n",
    "hasattr(ontology_custom_container_class, \"placeable_on\")"
   ],
   "outputs": [
    {
     "name": "stdout",
     "output_type": "stream",
     "text": [
      "<class 'owlready2.entity.ThingClass'>\n",
      "{'_name': 'CustomContainerConcept', 'namespace': get_ontology(\"http://www.ease-crc.org/ont/SOMA-HOME.owl#\"), 'storid': 1372, 'is_a': [SOMA.DesignedContainer, owl.Thing], '_equivalent_to': [], '__module__': 'owlready2.entity', '__doc__': None}\n"
     ]
    },
    {
     "data": {
      "text/plain": [
       "True"
      ]
     },
     "execution_count": 27,
     "metadata": {},
     "output_type": "execute_result"
    }
   ],
   "execution_count": 27
  },
  {
   "cell_type": "markdown",
   "metadata": {
    "collapsed": false
   },
   "source": [
    "## Create new ontology triple classes\n",
    "\n",
    "Concept classes of a triple, aka [__subject, predicate, object__], can be created dynamically. Here we will make an example creating ones for [__handheld objects__] and [__placeholder objects__], with a pair of predicate and inverse predicate signifying their mutual relation."
   ]
  },
  {
   "cell_type": "code",
   "metadata": {
    "collapsed": false,
    "ExecuteTime": {
     "end_time": "2024-07-24T11:25:11.308704Z",
     "start_time": "2024-07-24T11:25:11.306060Z"
    }
   },
   "source": [
    "PLACEABLE_ON_PREDICATE_NAME = \"placeable_on\"\n",
    "HOLD_OBJ_PREDICATE_NAME = \"hold_obj\"\n",
    "ontology_manager.create_ontology_triple_classes(ontology_subject_parent_class=soma.DesignedContainer,\n",
    "                                                subject_class_name=\"OntologyPlaceHolderObject\",\n",
    "                                                ontology_object_parent_class=soma.Shape,\n",
    "                                                object_class_name=\"OntologyHandheldObject\",\n",
    "                                                predicate_name=PLACEABLE_ON_PREDICATE_NAME,\n",
    "                                                inverse_predicate_name=HOLD_OBJ_PREDICATE_NAME,\n",
    "                                                ontology_property_parent_class=soma.affordsBearer,\n",
    "                                                ontology_inverse_property_parent_class=soma.isBearerAffordedBy)"
   ],
   "outputs": [],
   "execution_count": 20
  },
  {
   "metadata": {
    "ExecuteTime": {
     "end_time": "2024-07-24T11:41:11.558751Z",
     "start_time": "2024-07-24T11:41:11.547874Z"
    }
   },
   "cell_type": "code",
   "source": [
    "print(type(main_ontology.OntologyPlaceHolderObject))\n",
    "print(main_ontology.OntologyPlaceHolderObject.__dict__)\n",
    "print(dir(main_ontology.OntologyPlaceHolderObject))\n",
    "print(hasattr(main_ontology.OntologyPlaceHolderObject, \"placeable_on\"))\n",
    "main_ontology.OntologyPlaceHolderObject.placeable_on"
   ],
   "outputs": [
    {
     "name": "stdout",
     "output_type": "stream",
     "text": [
      "<class 'owlready2.entity.ThingClass'>\n",
      "{'_name': 'OntologyPlaceHolderObject', 'namespace': get_ontology(\"http://www.ease-crc.org/ont/SOMA-HOME.owl#\"), 'storid': 1376, 'is_a': [SOMA.DesignedContainer, owl.Thing], '_equivalent_to': [], '__module__': 'owlready2.entity', '__doc__': None}\n",
      "['INDIRECT_get_properties', '__class__', '__classcell__', '__delattr__', '__dict__', '__dir__', '__doc__', '__eq__', '__format__', '__ge__', '__getattr__', '__getattribute__', '__gt__', '__hash__', '__init__', '__init_subclass__', '__le__', '__lt__', '__module__', '__ne__', '__new__', '__reduce__', '__reduce_ex__', '__repr__', '__setattr__', '__sizeof__', '__str__', '__subclasshook__', '__weakref__', '_equivalent_to', '_get_instance_possible_relations', '_get_is_instance_of', '_instance_equivalent_to_changed', '_instance_is_a_changed', '_name', '_set_is_instance_of', 'differents', 'generate_default_name', 'get_equivalent_to', 'get_inverse_properties', 'get_iri', 'get_name', 'get_properties', 'iri', 'is_a', 'is_instance_of', 'name', 'namespace', 'reload', 'set_equivalent_to', 'set_iri', 'set_name', 'storid']\n",
      "True\n"
     ]
    },
    {
     "ename": "AttributeError",
     "evalue": "'domain' is not a valid language code (e.g. fr, fr_FR or fr_any)!",
     "output_type": "error",
     "traceback": [
      "\u001B[0;31m---------------------------------------------------------------------------\u001B[0m",
      "\u001B[0;31mAttributeError\u001B[0m                            Traceback (most recent call last)",
      "Cell \u001B[0;32mIn[51], line 5\u001B[0m\n\u001B[1;32m      3\u001B[0m \u001B[38;5;28mprint\u001B[39m(\u001B[38;5;28mdir\u001B[39m(main_ontology\u001B[38;5;241m.\u001B[39mOntologyPlaceHolderObject))\n\u001B[1;32m      4\u001B[0m \u001B[38;5;28mprint\u001B[39m(\u001B[38;5;28mhasattr\u001B[39m(main_ontology\u001B[38;5;241m.\u001B[39mOntologyPlaceHolderObject, \u001B[38;5;124m\"\u001B[39m\u001B[38;5;124mplaceable_on\u001B[39m\u001B[38;5;124m\"\u001B[39m))\n\u001B[0;32m----> 5\u001B[0m \u001B[43mmain_ontology\u001B[49m\u001B[38;5;241;43m.\u001B[39;49m\u001B[43mOntologyPlaceHolderObject\u001B[49m\u001B[38;5;241;43m.\u001B[39;49m\u001B[43mplaceable_on\u001B[49m\u001B[38;5;241;43m.\u001B[39;49m\u001B[43mdomain\u001B[49m\n",
      "File \u001B[0;32m~/.local/lib/python3.8/site-packages/owlready2/util.py:142\u001B[0m, in \u001B[0;36mCallbackListWithLanguage.__getattr__\u001B[0;34m(self, attr)\u001B[0m\n\u001B[1;32m    141\u001B[0m \u001B[38;5;28;01mdef\u001B[39;00m \u001B[38;5;21m__getattr__\u001B[39m(\u001B[38;5;28mself\u001B[39m, attr):\n\u001B[0;32m--> 142\u001B[0m   \u001B[38;5;28;01mif\u001B[39;00m \u001B[38;5;129;01mnot\u001B[39;00m _is_valid_language_code(attr): \u001B[38;5;28;01mraise\u001B[39;00m \u001B[38;5;167;01mAttributeError\u001B[39;00m(\u001B[38;5;124m\"\u001B[39m\u001B[38;5;124m'\u001B[39m\u001B[38;5;132;01m%s\u001B[39;00m\u001B[38;5;124m'\u001B[39m\u001B[38;5;124m is not a valid language code (e.g. fr, fr_FR or fr_any)!\u001B[39m\u001B[38;5;124m\"\u001B[39m \u001B[38;5;241m%\u001B[39m attr)\n\u001B[1;32m    143\u001B[0m   \u001B[38;5;28;01mreturn\u001B[39;00m LanguageSublist(\u001B[38;5;28mself\u001B[39m, attr)\n",
      "\u001B[0;31mAttributeError\u001B[0m: 'domain' is not a valid language code (e.g. fr, fr_FR or fr_any)!"
     ]
    }
   ],
   "execution_count": 51
  },
  {
   "cell_type": "markdown",
   "metadata": {
    "collapsed": false
   },
   "source": [
    "There, we use `soma.DesignedContainer` & `soma.Shape`, existing concept in SOMA ontology, as the parent classes for the subject & object concepts respectively.\n",
    "There is also a note that those classes will have the same namespace with `main_ontology`, so later on to be accessible through it.\n",
    "\n",
    "Then now we define some instances of the newly created triple classes, and link them to object designators, again using __`ontology_manager.create_ontology_linked_designator()`__"
   ]
  },
  {
   "cell_type": "code",
   "metadata": {
    "collapsed": false,
    "ExecuteTime": {
     "end_time": "2024-07-24T11:42:31.891786Z",
     "start_time": "2024-07-24T11:42:31.888439Z"
    }
   },
   "source": [
    "def create_ontology_handheld_object_designator(object_name: str, ontology_parent_class: Type[owlready2.Thing]):\n",
    "    return ontology_manager.create_ontology_linked_designator(object_name=object_name,\n",
    "                                                              designator_class=ObjectDesignatorDescription,\n",
    "                                                              ontology_concept_name=f\"Onto{object_name}\",\n",
    "                                                              ontology_parent_class=ontology_parent_class)\n",
    "# Holdable Objects\n",
    "cookie_box = create_ontology_handheld_object_designator(\"cookie_box\", main_ontology.OntologyHandheldObject)\n",
    "egg = create_ontology_handheld_object_designator(\"egg\", main_ontology.OntologyHandheldObject)\n",
    "    \n",
    "# Placeholder objects\n",
    "placeholders = [create_ontology_handheld_object_designator(object_name, main_ontology.OntologyPlaceHolderObject)\n",
    "                for object_name in ['table', 'stool', 'shelf']]\n",
    "\n",
    "egg_tray = create_ontology_handheld_object_designator(\"egg_tray\", main_ontology.OntologyPlaceHolderObject)"
   ],
   "outputs": [],
   "execution_count": 52
  },
  {
   "metadata": {
    "ExecuteTime": {
     "end_time": "2024-07-24T11:42:33.550Z",
     "start_time": "2024-07-24T11:42:33.546754Z"
    }
   },
   "cell_type": "code",
   "source": "dir(cookie_box.ontology_concept_holders[0].ontology_concept)",
   "outputs": [
    {
     "data": {
      "text/plain": [
       "['INDIRECT_get_properties',\n",
       " '__class__',\n",
       " '__classcell__',\n",
       " '__delattr__',\n",
       " '__dict__',\n",
       " '__dir__',\n",
       " '__doc__',\n",
       " '__eq__',\n",
       " '__format__',\n",
       " '__ge__',\n",
       " '__getattr__',\n",
       " '__getattribute__',\n",
       " '__gt__',\n",
       " '__hash__',\n",
       " '__init__',\n",
       " '__init_subclass__',\n",
       " '__le__',\n",
       " '__lt__',\n",
       " '__module__',\n",
       " '__ne__',\n",
       " '__new__',\n",
       " '__reduce__',\n",
       " '__reduce_ex__',\n",
       " '__repr__',\n",
       " '__setattr__',\n",
       " '__sizeof__',\n",
       " '__str__',\n",
       " '__subclasshook__',\n",
       " '__weakref__',\n",
       " '_equivalent_to',\n",
       " '_get_instance_possible_relations',\n",
       " '_get_is_instance_of',\n",
       " '_instance_equivalent_to_changed',\n",
       " '_instance_is_a_changed',\n",
       " '_name',\n",
       " '_set_is_instance_of',\n",
       " 'differents',\n",
       " 'generate_default_name',\n",
       " 'get_equivalent_to',\n",
       " 'get_inverse_properties',\n",
       " 'get_iri',\n",
       " 'get_name',\n",
       " 'get_properties',\n",
       " 'iri',\n",
       " 'is_a',\n",
       " 'is_instance_of',\n",
       " 'name',\n",
       " 'namespace',\n",
       " 'reload',\n",
       " 'set_equivalent_to',\n",
       " 'set_iri',\n",
       " 'set_name',\n",
       " 'storid']"
      ]
     },
     "execution_count": 53,
     "metadata": {},
     "output_type": "execute_result"
    }
   ],
   "execution_count": 53
  },
  {
   "metadata": {
    "ExecuteTime": {
     "end_time": "2024-07-24T11:42:50.546742Z",
     "start_time": "2024-07-24T11:42:50.544476Z"
    }
   },
   "cell_type": "code",
   "source": [
    "cookie_box.ontology_concept_holders[0].ontology_concept.__dict__\n",
    "# hasattr(cookie_box.ontology_concept_holders[0].ontology_concept, PLACEABLE_ON_PREDICATE_NAME)"
   ],
   "outputs": [
    {
     "data": {
      "text/plain": [
       "{'namespace': get_ontology(\"http://www.ease-crc.org/ont/SOMA-HOME.owl#\"),\n",
       " '_name': 'cookie_box_concept',\n",
       " '_equivalent_to': None,\n",
       " 'storid': 1381,\n",
       " 'is_a': [SOMA-HOME.Ontocookie_box],\n",
       " 'placeable_on': [SOMA-HOME.table_concept,\n",
       "  SOMA-HOME.stool_concept,\n",
       "  SOMA-HOME.shelf_concept]}"
      ]
     },
     "execution_count": 56,
     "metadata": {},
     "output_type": "execute_result"
    }
   ],
   "execution_count": 56
  },
  {
   "cell_type": "markdown",
   "metadata": {
    "collapsed": false
   },
   "source": [
    "### Create ontology relations\n",
    "\n",
    "Now we will create ontology relations or predicates between __placeholder objects__ and __handheld objects__ with __`ontology_manager.set_ontology_relation()`__"
   ]
  },
  {
   "cell_type": "code",
   "metadata": {
    "collapsed": false,
    "ExecuteTime": {
     "end_time": "2024-07-24T11:42:45.666991Z",
     "start_time": "2024-07-24T11:42:45.664365Z"
    }
   },
   "source": [
    "for place_holder in placeholders:\n",
    "    ontology_manager.set_ontology_relation(subject_designator=cookie_box, object_designator=place_holder,\n",
    "                                           predicate_name=PLACEABLE_ON_PREDICATE_NAME)\n",
    "\n",
    "ontology_manager.set_ontology_relation(subject_designator=egg_tray, object_designator=egg,\n",
    "                                       predicate_name=HOLD_OBJ_PREDICATE_NAME)"
   ],
   "outputs": [
    {
     "data": {
      "text/plain": [
       "True"
      ]
     },
     "execution_count": 55,
     "metadata": {},
     "output_type": "execute_result"
    }
   ],
   "execution_count": 55
  },
  {
   "metadata": {
    "ExecuteTime": {
     "end_time": "2024-07-24T11:04:56.372030Z",
     "start_time": "2024-07-24T11:04:56.369506Z"
    }
   },
   "cell_type": "code",
   "source": "egg_tray.ontology_concept_holders[0].ontology_concept.__dict__",
   "outputs": [
    {
     "data": {
      "text/plain": [
       "{'namespace': get_ontology(\"http://www.ease-crc.org/ont/SOMA-HOME.owl#\"),\n",
       " '_name': 'egg_tray_concept',\n",
       " '_equivalent_to': None,\n",
       " 'storid': 1391,\n",
       " 'is_a': [SOMA-HOME.Ontoegg_tray],\n",
       " 'hold_obj': [SOMA-HOME.egg_concept]}"
      ]
     },
     "execution_count": 27,
     "metadata": {},
     "output_type": "execute_result"
    }
   ],
   "execution_count": 27
  },
  {
   "cell_type": "markdown",
   "metadata": {
    "collapsed": false
   },
   "source": [
    "## Query designators based on their ontology-concept relations\n",
    "\n",
    "Now we can make queries for designators from designators, based on the relation among their corresponding ontology concepts setup above"
   ]
  },
  {
   "cell_type": "code",
   "metadata": {
    "collapsed": false,
    "ExecuteTime": {
     "end_time": "2024-07-24T11:05:44.081492Z",
     "start_time": "2024-07-24T11:05:44.078137Z"
    }
   },
   "source": [
    "print(f\"{cookie_box.names}'s placeholder candidates:\",\n",
    "      f\"\"\"{[placeholder.names for placeholder in\n",
    "            ontology_manager.get_designators_by_subject_predicate(subject=cookie_box,\n",
    "                                                                  predicate_name=PLACEABLE_ON_PREDICATE_NAME)]}\"\"\")\n",
    "\n",
    "print(f\"{egg.names}'s placeholder candidates:\",\n",
    "      f\"\"\"{[placeholder.names for placeholder in\n",
    "            ontology_manager.get_designators_by_subject_predicate(subject=egg,\n",
    "                                                                  predicate_name=PLACEABLE_ON_PREDICATE_NAME)]}\"\"\")\n",
    "\n",
    "for place_holder in placeholders:\n",
    "    print(f\"{place_holder.names} can hold:\",\n",
    "          f\"\"\"{[placeholder.names for placeholder in\n",
    "                ontology_manager.get_designators_by_subject_predicate(subject=place_holder,\n",
    "                                                                      predicate_name=HOLD_OBJ_PREDICATE_NAME)]}\"\"\")\n",
    "\n",
    "print(f\"{egg_tray.names} can hold:\",\n",
    "      f\"\"\"{[placeholder.names for placeholder in\n",
    "            ontology_manager.get_designators_by_subject_predicate(subject=egg_tray,\n",
    "                                                                  predicate_name=HOLD_OBJ_PREDICATE_NAME)]}\"\"\")"
   ],
   "outputs": [
    {
     "name": "stdout",
     "output_type": "stream",
     "text": [
      "['cookie_box']'s placeholder candidates: [['table'], ['stool'], ['shelf']]\n",
      "['egg']'s placeholder candidates: [['egg_tray']]\n",
      "['table'] can hold: [['cookie_box']]\n",
      "['stool'] can hold: [['cookie_box']]\n",
      "['shelf'] can hold: [['cookie_box']]\n",
      "['egg_tray'] can hold: [['egg']]\n"
     ]
    }
   ],
   "execution_count": 28
  },
  {
   "cell_type": "markdown",
   "metadata": {
    "collapsed": false
   },
   "source": [
    "# Practical examples\n",
    "\n",
    "## Example 1\n",
    "How about creating ontology concept classes encapsulating `pycram.enums.ObjectType`? We can do it by:"
   ]
  },
  {
   "cell_type": "code",
   "metadata": {
    "collapsed": false,
    "ExecuteTime": {
     "end_time": "2024-07-24T11:08:31.731410Z",
     "start_time": "2024-07-24T11:08:31.728226Z"
    }
   },
   "source": [
    "from pycram.datastructures.enums import ObjectType\n",
    "\n",
    "# Create a generic ontology concept class for edible objects\n",
    "generic_edible_class = ontology_manager.create_ontology_concept_class('GenericEdible')\n",
    "\n",
    "# Create a list of object designators sharing the same concept class as [generic_edible_class]\n",
    "edible_obj_types = [ObjectType.MILK, ObjectType.BREAKFAST_CEREAL]\n",
    "for object_type in ObjectType:\n",
    "    if object_type in edible_obj_types:\n",
    "        # Create a designator for the edible object\n",
    "        ontology_manager.create_ontology_object_designator_from_type(object_type, generic_edible_class)\n",
    "\n",
    "print(f'{generic_edible_class.name} object types:')\n",
    "for edible_ontology_concept in generic_edible_class.direct_instances():\n",
    "    print(edible_ontology_concept,\n",
    "          [des.types for des in OntologyConceptHolderStore().get_ontology_concept_holder_by_name(edible_ontology_concept.name).designators])\n"
   ],
   "outputs": [
    {
     "name": "stdout",
     "output_type": "stream",
     "text": [
      "GenericEdible object types:\n",
      "SOMA-HOME.milk_concept [['milk']]\n",
      "SOMA-HOME.breakfast_cereal_concept [['breakfast_cereal']]\n"
     ]
    }
   ],
   "execution_count": 29
  },
  {
   "cell_type": "markdown",
   "metadata": {
    "collapsed": false
   },
   "source": [
    "## Example 2\n",
    "We could also make use of relations between ontology concepts that designators are associated with, to enable more abstract inputs in robot motion plan.\n",
    "\n",
    "In a similar style to the scenario of __placeholder objects__ and __handheld objects__ above, but with a little bit difference, we will ask the robot to query which content holders (eg. cup, pitcher, bowl) whereby a milk box could be pourable into.\n",
    "\n",
    "Basically, we will provide an ontology-based implementation for the query:\n",
    " \n",
    "`abstract_ontology_concept -> specific_objects_in_world?`\n",
    "\n",
    "To achieve it, we will create triple classes and configure a customized `resolve()` for the abstract concept, which returns its associated specific designators.\n",
    "These designators are then used to again resolve for the target objects of interest, which become the inputs to a robot motion plan.\n",
    "\n",
    "### Setup simulated environment"
   ]
  },
  {
   "cell_type": "code",
   "execution_count": 16,
   "metadata": {
    "ExecuteTime": {
     "end_time": "2024-04-12T11:49:14.414260Z",
     "start_time": "2024-04-12T11:49:13.622258Z"
    }
   },
   "outputs": [
    {
     "name": "stderr",
     "output_type": "stream",
     "text": [
      "Scalar element defined multiple times: limit\n",
      "Scalar element defined multiple times: limit\n"
     ]
    }
   ],
   "source": [
    "from pycram.worlds.bullet_world import BulletWorld, Object\n",
    "from pycram.datastructures.pose import Pose\n",
    "\n",
    "from pycram.process_module import simulated_robot\n",
    "from pycram.designators.action_designator import *\n",
    "from pycram.designators.location_designator import *\n",
    "\n",
    "world = BulletWorld()\n",
    "plane = Object(\"floor\", ObjectType.ENVIRONMENT, \"plane.urdf\")\n",
    "kitchen = Object(\"kitchen\", ObjectType.ENVIRONMENT, \"kitchen.urdf\")\n",
    "pr2 = Object(\"pr2\", ObjectType.ROBOT, \"pr2.urdf\")\n",
    "kitchen_designator = ObjectDesignatorDescription(names=[\"kitchen\"])\n",
    "robot_designator = ObjectDesignatorDescription(names=[\"pr2\"]).resolve()"
   ]
  },
  {
   "cell_type": "markdown",
   "metadata": {},
   "source": [
    "### Create PourableObject-LiquidHolder triple ontology classes"
   ]
  },
  {
   "cell_type": "code",
   "execution_count": 17,
   "metadata": {
    "ExecuteTime": {
     "end_time": "2024-04-12T11:49:14.501124Z",
     "start_time": "2024-04-12T11:49:14.415241Z"
    }
   },
   "outputs": [],
   "source": [
    "POURABLE_INTO_PREDICATE_NAME = \"pourable_into\"\n",
    "HOLD_LIQUID_PREDICATE_NAME = \"hold_liquid\"\n",
    "ontology_manager.create_ontology_triple_classes(ontology_subject_parent_class=soma.DesignedContainer,\n",
    "                                                subject_class_name=\"OntologyLiquidHolderObject\",\n",
    "                                                ontology_object_parent_class=soma.Shape,\n",
    "                                                object_class_name=\"OntologyPourableObject\",\n",
    "                                                predicate_name=POURABLE_INTO_PREDICATE_NAME,\n",
    "                                                inverse_predicate_name=HOLD_LIQUID_PREDICATE_NAME,\n",
    "                                                ontology_property_parent_class=soma.affordsBearer,\n",
    "                                                ontology_inverse_property_parent_class=soma.isBearerAffordedBy)"
   ]
  },
  {
   "cell_type": "markdown",
   "metadata": {},
   "source": [
    "### Spawn a pourable object & liquid holders into the world and Create their designators"
   ]
  },
  {
   "cell_type": "code",
   "execution_count": 18,
   "metadata": {
    "ExecuteTime": {
     "end_time": "2024-04-12T11:49:14.583818Z",
     "start_time": "2024-04-12T11:49:14.501719Z"
    }
   },
   "outputs": [],
   "source": [
    "# Holdable obj\n",
    "milk_box = Object(\"milk_box\", ObjectType.MILK, \"milk.stl\")\n",
    "milk_box_designator = create_ontology_handheld_object_designator(milk_box.name, main_ontology.OntologyPourableObject)\n",
    "\n",
    "# Liquid-holders\n",
    "cup = Object(\"cup\", ObjectType.JEROEN_CUP, \"jeroen_cup.stl\", pose=Pose([1.4, 1, 0.9]))\n",
    "bowl = Object(\"bowl\", ObjectType.BOWL, \"bowl.stl\", pose=Pose([1.4, 0.5, 0.9]))\n",
    "pitcher = Object(\"pitcher\", ObjectType.GENERIC_OBJECT, \"Static_MilkPitcher.stl\", pose=Pose([1.4, 0, 0.9]))\n",
    "milk_holders = [cup, bowl, pitcher]\n",
    "milk_holder_designators = [create_ontology_handheld_object_designator(obj.name, main_ontology.OntologyLiquidHolderObject)\n",
    "                           for obj in milk_holders]"
   ]
  },
  {
   "cell_type": "markdown",
   "metadata": {},
   "source": [
    "### Create an ontology relation between the designators of the pourable object & its liquid holders"
   ]
  },
  {
   "cell_type": "code",
   "execution_count": 19,
   "metadata": {
    "ExecuteTime": {
     "end_time": "2024-04-12T11:49:14.602526Z",
     "start_time": "2024-04-12T11:49:14.584461Z"
    }
   },
   "outputs": [],
   "source": [
    "for milk_holder_desig in milk_holder_designators:\n",
    "    ontology_manager.set_ontology_relation(subject_designator=milk_box_designator, object_designator=milk_holder_desig,\n",
    "                                           predicate_name=POURABLE_INTO_PREDICATE_NAME)"
   ]
  },
  {
   "cell_type": "markdown",
   "metadata": {},
   "source": [
    "### Set up `resolve` for the ontology concept of the pourable object"
   ]
  },
  {
   "cell_type": "code",
   "execution_count": 20,
   "metadata": {
    "ExecuteTime": {
     "end_time": "2024-04-12T11:49:14.612923Z",
     "start_time": "2024-04-12T11:49:14.603173Z"
    }
   },
   "outputs": [],
   "source": [
    "milk_box_concept_holder = milk_box_designator.ontology_concept_holders[0]\n",
    "def milk_box_concept_resolve(): \n",
    "    object_designator = ontology_manager.get_designators_by_subject_predicate(subject=milk_box_designator, predicate_name=POURABLE_INTO_PREDICATE_NAME)[0]\n",
    "    return object_designator, object_designator.resolve()\n",
    "\n",
    "milk_box_concept_holder.resolve = milk_box_concept_resolve"
   ]
  },
  {
   "cell_type": "markdown",
   "metadata": {},
   "source": [
    "Here, for demonstration purpose only, we specify the resolving result by __`milk_box_concept_holder`__ as __`cup`__, the first-registered (default) pourable-into target milk holder, utilizing the ontology relation setup above.\n",
    "\n",
    "Now, we can query the milk box's target liquid holder by resolving `milk_box_concept_holder`"
   ]
  },
  {
   "cell_type": "code",
   "execution_count": 21,
   "metadata": {
    "ExecuteTime": {
     "end_time": "2024-04-12T11:49:14.627982Z",
     "start_time": "2024-04-12T11:49:14.613382Z"
    }
   },
   "outputs": [
    {
     "name": "stdout",
     "output_type": "stream",
     "text": [
      "Pickup target object: cup, a content holder for ['milk_box'] as in relation `pourable_into`\n"
     ]
    }
   ],
   "source": [
    "target_milk_holder_designator, target_milk_holder = milk_box_concept_holder.resolve()\n",
    "print(f\"Pickup target object: {target_milk_holder.name}, a content holder for {milk_box_designator.names} as in relation `{POURABLE_INTO_PREDICATE_NAME}`\")"
   ]
  },
  {
   "cell_type": "markdown",
   "metadata": {},
   "source": [
    "### Robot picks up the target liquid holder"
   ]
  },
  {
   "cell_type": "code",
   "execution_count": 22,
   "metadata": {
    "ExecuteTime": {
     "end_time": "2024-04-12T11:49:23.283909Z",
     "start_time": "2024-04-12T11:49:14.628600Z"
    }
   },
   "outputs": [
    {
     "name": "stdout",
     "output_type": "stream",
     "text": [
      "CostmapLocation.Location(pose=header: \n",
      "  seq: 0\n",
      "  stamp: \n",
      "    secs: 1712922556\n",
      "    nsecs: 101702690\n",
      "  frame_id: \"map\"\n",
      "pose: \n",
      "  position: \n",
      "    x: 0.6399999999999999\n",
      "    y: 1.24\n",
      "    z: 0.0\n",
      "  orientation: \n",
      "    x: -0.0\n",
      "    y: 0.0\n",
      "    z: 0.15234391170286138\n",
      "    w: -0.988327543159185, reachable_arms=['left', 'right']) left\n"
     ]
    }
   ],
   "source": [
    "with simulated_robot:\n",
    "    ParkArmsAction([Arms.BOTH]).resolve().perform()\n",
    "\n",
    "    MoveTorsoAction([0.3]).resolve().perform()\n",
    "\n",
    "    pickup_pose = CostmapLocation(target=target_milk_holder, reachable_for=robot_designator).resolve()\n",
    "    pickup_arm = pickup_pose.reachable_arms[0]\n",
    "\n",
    "    print(pickup_pose, pickup_arm)\n",
    "\n",
    "    NavigateAction(target_locations=[pickup_pose.pose]).resolve().perform()\n",
    "\n",
    "    PickUpAction(object_designator_description=target_milk_holder_designator, arms=[pickup_arm], grasps=[\"front\"]).resolve().perform()\n",
    "\n",
    "    ParkArmsAction([Arms.BOTH]).resolve().perform()\n",
    "\n",
    "    place_island = SemanticCostmapLocation(\"kitchen_island_surface\", kitchen_designator.resolve(), target_milk_holder_designator.resolve()).resolve()\n",
    "\n",
    "    place_stand = CostmapLocation(place_island.pose, reachable_for=robot_designator, reachable_arm=pickup_arm).resolve()\n",
    "\n",
    "    NavigateAction(target_locations=[place_stand.pose]).resolve().perform()\n",
    "\n",
    "    PlaceAction(target_milk_holder_designator, target_locations=[place_island.pose], arms=[pickup_arm]).resolve().perform()\n",
    "\n",
    "    ParkArmsAction([Arms.BOTH]).resolve().perform()\n",
    "# world.exit()"
   ]
  },
  {
   "cell_type": "markdown",
   "metadata": {},
   "source": [
    "# Save ontologies to an OWL file\n",
    "After all the above operations on our ontologies, we now can save them to an OWL file on disk"
   ]
  },
  {
   "cell_type": "code",
   "execution_count": 23,
   "metadata": {
    "ExecuteTime": {
     "end_time": "2024-04-12T11:49:23.337691Z",
     "start_time": "2024-04-12T11:49:23.286322Z"
    }
   },
   "outputs": [
    {
     "name": "stdout",
     "output_type": "stream",
     "text": [
      "[INFO] [1712922563.334936]: Ontologies have been saved to /home/ducthan/ontologies/NewSOMA-HOME.owl\n"
     ]
    },
    {
     "data": {
      "text/plain": [
       "True"
      ]
     },
     "execution_count": 23,
     "metadata": {},
     "output_type": "execute_result"
    }
   ],
   "source": [
    "ontology_manager.save(f\"{Path.home()}/ontologies/New{main_ontology.name}.owl\")"
   ]
  },
  {
   "cell_type": "code",
   "metadata": {
    "ExecuteTime": {
     "end_time": "2024-07-24T12:44:12.133978Z",
     "start_time": "2024-07-24T12:44:12.097163Z"
    }
   },
   "source": [
    "ontology_manager.save(f\"{Path.cwd()}/New{main_ontology.name}.owl\")"
   ],
   "outputs": [
    {
     "name": "stdout",
     "output_type": "stream",
     "text": [
      "[INFO] [1721825052.131200]: Ontologies have been saved to /home/malineni/ROS_WS/tpycram_ws/src/pycram/examples/NewSOMA-HOME.owl\n"
     ]
    },
    {
     "data": {
      "text/plain": [
       "True"
      ]
     },
     "execution_count": 58,
     "metadata": {},
     "output_type": "execute_result"
    }
   ],
   "execution_count": 58
  },
  {
   "metadata": {
    "ExecuteTime": {
     "end_time": "2024-07-24T12:43:09.586065Z",
     "start_time": "2024-07-24T12:43:09.583354Z"
    }
   },
   "cell_type": "code",
   "source": "",
   "outputs": [
    {
     "data": {
      "text/plain": [
       "PosixPath('/home/malineni/ROS_WS/tpycram_ws/src/pycram/examples')"
      ]
     },
     "execution_count": 57,
     "metadata": {},
     "output_type": "execute_result"
    }
   ],
   "execution_count": 57
  },
  {
   "cell_type": "code",
   "execution_count": null,
   "metadata": {},
   "outputs": [],
   "source": [
    "!ln /home/jovyan/ontologies/SOMA-HOME.sqlite3 ."
   ]
  },
  {
   "cell_type": "markdown",
   "metadata": {},
   "source": [
    "# Optimize ontology loading with SQLite3\n",
    "Upon the initial ontology loading from OWL, an SQLite3 file is automatically created, acting as the quadstore cache for the loaded ontologies. This allows them to be __selectively__ reusable the next time that being loaded.\n",
    "More info can be referenced [here](https://owlready2.readthedocs.io/en/latest/world.html). "
   ]
  },
  {
   "metadata": {
    "ExecuteTime": {
     "end_time": "2024-07-25T12:15:08.102304Z",
     "start_time": "2024-07-25T12:15:08.100160Z"
    }
   },
   "cell_type": "code",
   "source": "w = owlready2.World",
   "outputs": [],
   "execution_count": 5
  },
  {
   "metadata": {
    "ExecuteTime": {
     "end_time": "2024-07-25T14:14:27.645146Z",
     "start_time": "2024-07-25T14:14:27.637298Z"
    }
   },
   "cell_type": "code",
   "source": "default_world.graph.dump()",
   "outputs": [
    {
     "name": "stdout",
     "output_type": "stream",
     "text": [
      "<http://anonymous> <http://www.w3.org/1999/02/22-rdf-syntax-ns#type> <http://www.w3.org/2002/07/owl#Ontology> .\n",
      "\n"
     ]
    }
   ],
   "execution_count": 19
  }
 ],
 "metadata": {
  "kernelspec": {
   "display_name": "Python 3",
   "language": "python",
   "name": "python3"
  },
  "language_info": {
   "codemirror_mode": {
    "name": "ipython",
    "version": 3
   },
   "file_extension": ".py",
   "mimetype": "text/x-python",
   "name": "python",
   "nbconvert_exporter": "python",
   "pygments_lexer": "ipython3",
   "version": "3.8.10"
  }
 },
 "nbformat": 4,
 "nbformat_minor": 4
}
