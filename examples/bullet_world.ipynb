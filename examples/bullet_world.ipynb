{
 "cells": [
  {
   "cell_type": "code",
   "metadata": {
    "ExecuteTime": {
     "end_time": "2024-10-30T09:44:16.548861Z",
     "start_time": "2024-10-30T09:44:15.200687Z"
    }
   },
   "source": [
    "from pycram.worlds.bullet_world import BulletWorld\n",
    "from pycram.datastructures.pose import Pose\n",
    "from pycram.datastructures.enums import ObjectType, WorldMode\n",
    "\n",
    "world = BulletWorld(mode=WorldMode.GUI)"
   ],
   "id": "12a4bdeb17c804f8",
   "outputs": [
    {
     "name": "stderr",
     "output_type": "stream",
     "text": [
      "(robot-description) Could not get robot name from parameter server. Try again.\n",
      "Failed to import Giskard messages, the real robot will not be available\n",
      "Could not import RoboKudo messages, RoboKudo interface could not be initialized\n",
      "pybullet build time: Nov 28 2023 23:51:11\n"
     ]
    },
    {
     "ename": "ROSInitException",
     "evalue": "time is not initialized. Have you called init_node()?",
     "output_type": "error",
     "traceback": [
      "\u001B[0;31m---------------------------------------------------------------------------\u001B[0m",
      "\u001B[0;31mROSInitException\u001B[0m                          Traceback (most recent call last)",
      "Cell \u001B[0;32mIn[1], line 5\u001B[0m\n\u001B[1;32m      2\u001B[0m \u001B[38;5;28;01mfrom\u001B[39;00m \u001B[38;5;21;01mpycram\u001B[39;00m\u001B[38;5;21;01m.\u001B[39;00m\u001B[38;5;21;01mdatastructures\u001B[39;00m\u001B[38;5;21;01m.\u001B[39;00m\u001B[38;5;21;01mpose\u001B[39;00m \u001B[38;5;28;01mimport\u001B[39;00m Pose\n\u001B[1;32m      3\u001B[0m \u001B[38;5;28;01mfrom\u001B[39;00m \u001B[38;5;21;01mpycram\u001B[39;00m\u001B[38;5;21;01m.\u001B[39;00m\u001B[38;5;21;01mdatastructures\u001B[39;00m\u001B[38;5;21;01m.\u001B[39;00m\u001B[38;5;21;01menums\u001B[39;00m \u001B[38;5;28;01mimport\u001B[39;00m ObjectType, WorldMode\n\u001B[0;32m----> 5\u001B[0m world \u001B[38;5;241m=\u001B[39m \u001B[43mBulletWorld\u001B[49m\u001B[43m(\u001B[49m\u001B[43mmode\u001B[49m\u001B[38;5;241;43m=\u001B[39;49m\u001B[43mWorldMode\u001B[49m\u001B[38;5;241;43m.\u001B[39;49m\u001B[43mGUI\u001B[49m\u001B[43m)\u001B[49m\n",
      "File \u001B[0;32m~/ROS_WS/tpycram_ws/src/pycram/src/pycram/worlds/bullet_world.py:63\u001B[0m, in \u001B[0;36mBulletWorld.__init__\u001B[0;34m(self, mode, is_prospection_world, sim_frequency)\u001B[0m\n\u001B[1;32m     60\u001B[0m \u001B[38;5;28mself\u001B[39m\u001B[38;5;241m.\u001B[39mset_gravity([\u001B[38;5;241m0\u001B[39m, \u001B[38;5;241m0\u001B[39m, \u001B[38;5;241m-\u001B[39m\u001B[38;5;241m9.8\u001B[39m])\n\u001B[1;32m     62\u001B[0m \u001B[38;5;28;01mif\u001B[39;00m \u001B[38;5;129;01mnot\u001B[39;00m is_prospection_world:\n\u001B[0;32m---> 63\u001B[0m     _ \u001B[38;5;241m=\u001B[39m \u001B[43mObject\u001B[49m\u001B[43m(\u001B[49m\u001B[38;5;124;43m\"\u001B[39;49m\u001B[38;5;124;43mfloor\u001B[39;49m\u001B[38;5;124;43m\"\u001B[39;49m\u001B[43m,\u001B[49m\u001B[43m \u001B[49m\u001B[43mObjectType\u001B[49m\u001B[38;5;241;43m.\u001B[39;49m\u001B[43mENVIRONMENT\u001B[49m\u001B[43m,\u001B[49m\u001B[43m \u001B[49m\u001B[38;5;124;43m\"\u001B[39;49m\u001B[38;5;124;43mplane\u001B[39;49m\u001B[38;5;124;43m\"\u001B[39;49m\u001B[43m \u001B[49m\u001B[38;5;241;43m+\u001B[39;49m\u001B[43m \u001B[49m\u001B[38;5;28;43mself\u001B[39;49m\u001B[38;5;241;43m.\u001B[39;49m\u001B[43mextension\u001B[49m\u001B[43m,\u001B[49m\n\u001B[1;32m     64\u001B[0m \u001B[43m               \u001B[49m\u001B[43mworld\u001B[49m\u001B[38;5;241;43m=\u001B[39;49m\u001B[38;5;28;43mself\u001B[39;49m\u001B[43m)\u001B[49m\n",
      "File \u001B[0;32m~/ROS_WS/tpycram_ws/src/pycram/src/pycram/world_concepts/world_object.py:61\u001B[0m, in \u001B[0;36mObject.__init__\u001B[0;34m(self, name, obj_type, path, description, pose, world, color, ignore_cached_files)\u001B[0m\n\u001B[1;32m     58\u001B[0m \u001B[38;5;28msuper\u001B[39m()\u001B[38;5;241m.\u001B[39m\u001B[38;5;21m__init__\u001B[39m(\u001B[38;5;241m-\u001B[39m\u001B[38;5;241m1\u001B[39m, world)\n\u001B[1;32m     60\u001B[0m \u001B[38;5;28;01mif\u001B[39;00m pose \u001B[38;5;129;01mis\u001B[39;00m \u001B[38;5;28;01mNone\u001B[39;00m:\n\u001B[0;32m---> 61\u001B[0m     pose \u001B[38;5;241m=\u001B[39m \u001B[43mPose\u001B[49m\u001B[43m(\u001B[49m\u001B[43m)\u001B[49m\n\u001B[1;32m     62\u001B[0m \u001B[38;5;28;01mif\u001B[39;00m name \u001B[38;5;129;01min\u001B[39;00m [obj\u001B[38;5;241m.\u001B[39mname \u001B[38;5;28;01mfor\u001B[39;00m obj \u001B[38;5;129;01min\u001B[39;00m \u001B[38;5;28mself\u001B[39m\u001B[38;5;241m.\u001B[39mworld\u001B[38;5;241m.\u001B[39mobjects]:\n\u001B[1;32m     63\u001B[0m     rospy\u001B[38;5;241m.\u001B[39mlogerr(\u001B[38;5;124mf\u001B[39m\u001B[38;5;124m\"\u001B[39m\u001B[38;5;124mAn object with the name \u001B[39m\u001B[38;5;132;01m{\u001B[39;00mname\u001B[38;5;132;01m}\u001B[39;00m\u001B[38;5;124m already exists in the world.\u001B[39m\u001B[38;5;124m\"\u001B[39m)\n",
      "File \u001B[0;32m~/ROS_WS/tpycram_ws/src/pycram/src/pycram/datastructures/pose.py:71\u001B[0m, in \u001B[0;36mPose.__init__\u001B[0;34m(self, position, orientation, frame, time)\u001B[0m\n\u001B[1;32m     67\u001B[0m     \u001B[38;5;28mself\u001B[39m\u001B[38;5;241m.\u001B[39mpose\u001B[38;5;241m.\u001B[39morientation\u001B[38;5;241m.\u001B[39mw \u001B[38;5;241m=\u001B[39m \u001B[38;5;241m1.0\u001B[39m\n\u001B[1;32m     69\u001B[0m \u001B[38;5;28mself\u001B[39m\u001B[38;5;241m.\u001B[39mheader\u001B[38;5;241m.\u001B[39mframe_id \u001B[38;5;241m=\u001B[39m frame\n\u001B[0;32m---> 71\u001B[0m \u001B[38;5;28mself\u001B[39m\u001B[38;5;241m.\u001B[39mheader\u001B[38;5;241m.\u001B[39mstamp \u001B[38;5;241m=\u001B[39m time \u001B[38;5;28;01mif\u001B[39;00m time \u001B[38;5;28;01melse\u001B[39;00m \u001B[43mrospy\u001B[49m\u001B[38;5;241;43m.\u001B[39;49m\u001B[43mTime\u001B[49m\u001B[38;5;241;43m.\u001B[39;49m\u001B[43mnow\u001B[49m\u001B[43m(\u001B[49m\u001B[43m)\u001B[49m\n\u001B[1;32m     73\u001B[0m \u001B[38;5;28mself\u001B[39m\u001B[38;5;241m.\u001B[39mframe \u001B[38;5;241m=\u001B[39m frame\n",
      "File \u001B[0;32m/opt/ros/noetic/lib/python3/dist-packages/rospy/rostime.py:155\u001B[0m, in \u001B[0;36mTime.now\u001B[0;34m()\u001B[0m\n\u001B[1;32m    143\u001B[0m \u001B[38;5;129m@staticmethod\u001B[39m\n\u001B[1;32m    144\u001B[0m \u001B[38;5;28;01mdef\u001B[39;00m \u001B[38;5;21mnow\u001B[39m():\n\u001B[1;32m    145\u001B[0m \u001B[38;5;250m    \u001B[39m\u001B[38;5;124;03m\"\"\"\u001B[39;00m\n\u001B[1;32m    146\u001B[0m \u001B[38;5;124;03m    Create new L{Time} instance representing current time. This\u001B[39;00m\n\u001B[1;32m    147\u001B[0m \u001B[38;5;124;03m    can either be wall-clock time or a simulated clock. It is\u001B[39;00m\n\u001B[0;32m   (...)\u001B[0m\n\u001B[1;32m    153\u001B[0m \u001B[38;5;124;03m    @rtype: L{Time}\u001B[39;00m\n\u001B[1;32m    154\u001B[0m \u001B[38;5;124;03m    \"\"\"\u001B[39;00m\n\u001B[0;32m--> 155\u001B[0m     \u001B[38;5;28;01mreturn\u001B[39;00m \u001B[43mget_rostime\u001B[49m\u001B[43m(\u001B[49m\u001B[43m)\u001B[49m\n",
      "File \u001B[0;32m/opt/ros/noetic/lib/python3/dist-packages/rospy/rostime.py:190\u001B[0m, in \u001B[0;36mget_rostime\u001B[0;34m()\u001B[0m\n\u001B[1;32m    184\u001B[0m \u001B[38;5;250m\u001B[39m\u001B[38;5;124;03m\"\"\"\u001B[39;00m\n\u001B[1;32m    185\u001B[0m \u001B[38;5;124;03mGet the current time as a L{Time} object    \u001B[39;00m\n\u001B[1;32m    186\u001B[0m \u001B[38;5;124;03m@return: current time as a L{rospy.Time} object\u001B[39;00m\n\u001B[1;32m    187\u001B[0m \u001B[38;5;124;03m@rtype: L{Time}\u001B[39;00m\n\u001B[1;32m    188\u001B[0m \u001B[38;5;124;03m\"\"\"\u001B[39;00m\n\u001B[1;32m    189\u001B[0m \u001B[38;5;28;01mif\u001B[39;00m \u001B[38;5;129;01mnot\u001B[39;00m _rostime_initialized:\n\u001B[0;32m--> 190\u001B[0m     \u001B[38;5;28;01mraise\u001B[39;00m rospy\u001B[38;5;241m.\u001B[39mexceptions\u001B[38;5;241m.\u001B[39mROSInitException(\u001B[38;5;124m\"\u001B[39m\u001B[38;5;124mtime is not initialized. Have you called init_node()?\u001B[39m\u001B[38;5;124m\"\u001B[39m)\n\u001B[1;32m    191\u001B[0m \u001B[38;5;28;01mif\u001B[39;00m _rostime_current \u001B[38;5;129;01mis\u001B[39;00m \u001B[38;5;129;01mnot\u001B[39;00m \u001B[38;5;28;01mNone\u001B[39;00m:\n\u001B[1;32m    192\u001B[0m     \u001B[38;5;66;03m# initialize with sim time\u001B[39;00m\n\u001B[1;32m    193\u001B[0m     \u001B[38;5;28;01mreturn\u001B[39;00m _rostime_current\n",
      "\u001B[0;31mROSInitException\u001B[0m: time is not initialized. Have you called init_node()?"
     ]
    }
   ],
   "execution_count": 1
  },
  {
   "metadata": {
    "ExecuteTime": {
     "end_time": "2024-10-23T11:16:29.663417Z",
     "start_time": "2024-10-23T11:16:29.661396Z"
    }
   },
   "cell_type": "code",
   "source": "import rospy",
   "id": "b2b380d8c0ef25b9",
   "outputs": [],
   "execution_count": 2
  },
  {
   "metadata": {},
   "cell_type": "markdown",
   "source": [
    "# Bullet World\n",
    "This Notebook will show you the basics of working with the PyCRAM BulletWorld.\n",
    "\n",
    "First we need to import and create a BulletWorld."
   ],
   "id": "9651c84ce72dc04c"
  },
  {
   "cell_type": "markdown",
   "metadata": {},
   "source": [
    "This new window is the BulletWorld, PyCRAMs internal physics simulation. You can use the mouse to move the camera around:\n",
    "\n",
    "  * Press the left mouse button to rotate the camera\n",
    "  * Press the right mouse button to move the camera \n",
    "  * Press the middle mouse button (scroll wheel) and move the mouse up or down to zoom\n",
    "    \n",
    "At the moment the BulletWorld only contains a floor, this is spawned by default when creating the BulletWorld. Furthermore, the gravity is set to 9.8 m^2, which is the same gravitation as the one on earth. \n",
    "    "
   ],
   "id": "b61a61a4bc84fc90"
  },
  {
   "cell_type": "markdown",
   "metadata": {},
   "source": [
    "To close the BulletWorld again please use the ```exit``` method since it will also terminate threads running in the background"
   ],
   "id": "9881e53daa63f023"
  },
  {
   "cell_type": "code",
   "metadata": {
    "ExecuteTime": {
     "end_time": "2024-10-23T11:17:18.857706Z",
     "start_time": "2024-10-23T11:17:18.806780Z"
    }
   },
   "source": [
    "world.exit()"
   ],
   "id": "a396f4d99aaafc0",
   "outputs": [],
   "execution_count": 20
  },
  {
   "cell_type": "markdown",
   "metadata": {},
   "source": [
    "To spawn new things in the BulletWorld we need to import the Object class and create and instance of it. "
   ],
   "id": "a0bc92649ae24522"
  },
  {
   "cell_type": "code",
   "metadata": {
    "ExecuteTime": {
     "end_time": "2024-10-23T11:16:42.812217Z",
     "start_time": "2024-10-23T11:16:42.771449Z"
    }
   },
   "source": [
    "from pycram.worlds.bullet_world import Object\n",
    "\n",
    "milk = Object(\"milk\", ObjectType.MILK, \"milk.stl\", pose=Pose([0, 0, 1]))"
   ],
   "id": "c572085ea9c292ee",
   "outputs": [
    {
     "name": "stderr",
     "output_type": "stream",
     "text": [
      "Unknown tag \"rgba_color\" in /robot[@name='milk_object']/link[@name='milk_main']/visual[1]/material[@name='white']\n"
     ]
    }
   ],
   "execution_count": 5
  },
  {
   "cell_type": "markdown",
   "metadata": {},
   "source": [
    "As you can see this spawns a milk floating in the air. What we did here was create a new Object which has the name \"milk\" as well as the type ```ObjectType.MILK ``` , is spawned from the file \"milk.stl\" and is at the position [0, 0, 1]. \n",
    "\n",
    "The type of an Object can either be from the enum ObjectType or a string. However, it is recommended to use the enum since this would make for a more consistent naming of types which makes it easier to work with types. But since the types of the enum might not fit your case you can also use strings. \n",
    "\n",
    "The first three of these parameters are required while the position is optional. As you can see it was sufficient to only specify the filename for PyCRAM to spawn the milk mesh. When only providing a filename, PyCRAM will search in its resource directory for a matching file and use it. \n",
    "\n",
    "For a complete list of all parameters that can be used to crate an Object please check the documentation. \n",
    "\n",
    "\n",
    "\n",
    "Since the Object is spawned, we can now interact with it. First we want to move it around and change its orientation"
   ],
   "id": "7b2f54777300a421"
  },
  {
   "cell_type": "code",
   "metadata": {
    "ExecuteTime": {
     "end_time": "2024-10-23T11:16:44.591989Z",
     "start_time": "2024-10-23T11:16:44.588302Z"
    }
   },
   "source": [
    "milk.set_position(Pose([1, 1, 1]))"
   ],
   "id": "1ddb50f46835dbc",
   "outputs": [],
   "execution_count": 6
  },
  {
   "cell_type": "code",
   "metadata": {
    "ExecuteTime": {
     "end_time": "2024-10-23T11:16:45.145381Z",
     "start_time": "2024-10-23T11:16:45.142172Z"
    }
   },
   "source": [
    "milk.set_orientation(Pose(orientation=[1,0, 0, 1]))"
   ],
   "id": "ad86d5ac2ad1f7c7",
   "outputs": [],
   "execution_count": 7
  },
  {
   "cell_type": "code",
   "metadata": {
    "ExecuteTime": {
     "end_time": "2024-10-23T11:16:45.328393Z",
     "start_time": "2024-10-23T11:16:45.325471Z"
    }
   },
   "source": [
    "milk.set_pose(Pose([0, 0, 1], [0, 0, 0, 1]))"
   ],
   "id": "13142afe1879e64f",
   "outputs": [],
   "execution_count": 8
  },
  {
   "cell_type": "markdown",
   "metadata": {},
   "source": [
    "In the same sense as setting the position or orientation, you can also get the position and orientation."
   ],
   "id": "78f9193d5f89a2f"
  },
  {
   "cell_type": "code",
   "metadata": {
    "ExecuteTime": {
     "end_time": "2024-10-23T11:16:45.743084Z",
     "start_time": "2024-10-23T11:16:45.740473Z"
    }
   },
   "source": [
    "print(f\"Position: \\n{milk.get_position()}\")\n",
    "\n",
    "print(f\"Orientation: \\n{milk.get_orientation()}\")\n",
    "\n",
    "print(f\"Pose: \\n{milk.get_pose()}\")"
   ],
   "id": "4d47ae85a9f1ba30",
   "outputs": [
    {
     "name": "stdout",
     "output_type": "stream",
     "text": [
      "Position: \n",
      "x: 0.0\n",
      "y: 0.0\n",
      "z: 1.0\n",
      "Orientation: \n",
      "x: 0.0\n",
      "y: 0.0\n",
      "z: 0.0\n",
      "w: 1.0\n",
      "Pose: \n",
      "header: \n",
      "  seq: 0\n",
      "  stamp: \n",
      "    secs: 1729682205\n",
      "    nsecs: 326739549\n",
      "  frame_id: \"map\"\n",
      "pose: \n",
      "  position: \n",
      "    x: 0.0\n",
      "    y: 0.0\n",
      "    z: 1.0\n",
      "  orientation: \n",
      "    x: 0.0\n",
      "    y: 0.0\n",
      "    z: 0.0\n",
      "    w: 1.0\n"
     ]
    }
   ],
   "execution_count": 9
  },
  {
   "cell_type": "markdown",
   "metadata": {},
   "source": [
    "## Attachments\n",
    "You can attach Objects to each other simply by calling the attach method on one of them and providing the other as parameter. Since attachments are bi-directional it doesn't matter on which Object you call the method. \n",
    "\n",
    "First we need another Object"
   ],
   "id": "2b79018d313d1198"
  },
  {
   "cell_type": "code",
   "metadata": {
    "ExecuteTime": {
     "end_time": "2024-10-23T11:16:46.564943Z",
     "start_time": "2024-10-23T11:16:46.504367Z"
    }
   },
   "source": [
    "cereal = Object(\"cereal\", ObjectType.BREAKFAST_CEREAL, \"breakfast_cereal.stl\", pose=Pose([1, 0, 1]))"
   ],
   "id": "a8508cbbecb45eec",
   "outputs": [
    {
     "name": "stderr",
     "output_type": "stream",
     "text": [
      "Unknown tag \"rgba_color\" in /robot[@name='cereal_object']/link[@name='cereal_main']/visual[1]/material[@name='white']\n"
     ]
    }
   ],
   "execution_count": 10
  },
  {
   "cell_type": "code",
   "metadata": {
    "ExecuteTime": {
     "end_time": "2024-10-23T11:16:46.718340Z",
     "start_time": "2024-10-23T11:16:46.714578Z"
    }
   },
   "source": [
    "milk.attach(cereal)"
   ],
   "id": "50713732e7691688",
   "outputs": [],
   "execution_count": 11
  },
  {
   "cell_type": "markdown",
   "metadata": {},
   "source": [
    "Now since they are attached to each other, if we move one of them the other will move in conjunction."
   ],
   "id": "6d047f097535cba3"
  },
  {
   "cell_type": "code",
   "metadata": {
    "ExecuteTime": {
     "end_time": "2024-10-23T11:16:47.125626Z",
     "start_time": "2024-10-23T11:16:47.123213Z"
    }
   },
   "source": [
    "milk.set_position(Pose([1,1,1]))"
   ],
   "id": "92713a037cecf2db",
   "outputs": [],
   "execution_count": 12
  },
  {
   "cell_type": "markdown",
   "metadata": {},
   "source": [
    "In the same way the Object can also be detached, just call the detach method on one of the two attached Objects."
   ],
   "id": "10ee28ae37c74314"
  },
  {
   "cell_type": "code",
   "metadata": {
    "ExecuteTime": {
     "end_time": "2024-10-23T11:16:48.012159Z",
     "start_time": "2024-10-23T11:16:48.010446Z"
    }
   },
   "source": [
    "cereal.detach(milk)"
   ],
   "id": "8ff0f4aac734387e",
   "outputs": [],
   "execution_count": 13
  },
  {
   "cell_type": "markdown",
   "metadata": {},
   "source": [
    "## Links and Joints\n",
    "Objects spawned from mesh files do not have links or joints, but if you spawn things from a URDF like a robot they will have a lot of links and joints. Every Object has two dictionaries as attributes, namely ```links``` and ```joints``` which contain every link or joint as key and a unique id, used by PyBullet, as value. \n",
    "\n",
    "We will see this at the example of the PR2:"
   ],
   "id": "c27af7e42edaccf6"
  },
  {
   "cell_type": "code",
   "metadata": {
    "ExecuteTime": {
     "end_time": "2024-10-23T11:16:51.930192Z",
     "start_time": "2024-10-23T11:16:48.496865Z"
    }
   },
   "source": [
    "pr2 = Object(\"pr2\", ObjectType.ROBOT, \"pr2.urdf\")\n",
    "print(pr2.links)"
   ],
   "id": "450b74c43fa23565",
   "outputs": [
    {
     "name": "stdout",
     "output_type": "stream",
     "text": [
      "{'base_link': <pycram.object_descriptors.urdf.ObjectDescription.Link object at 0x7f25c8fb65b0>, 'base_bellow_link': <pycram.object_descriptors.urdf.ObjectDescription.Link object at 0x7f25b11d6730>, 'base_laser_link': <pycram.object_descriptors.urdf.ObjectDescription.Link object at 0x7f25b11d6f40>, 'fl_caster_rotation_link': <pycram.object_descriptors.urdf.ObjectDescription.Link object at 0x7f25b11d6550>, 'fl_caster_l_wheel_link': <pycram.object_descriptors.urdf.ObjectDescription.Link object at 0x7f25b16391f0>, 'fl_caster_r_wheel_link': <pycram.object_descriptors.urdf.ObjectDescription.Link object at 0x7f25b16390d0>, 'fr_caster_rotation_link': <pycram.object_descriptors.urdf.ObjectDescription.Link object at 0x7f25b16392b0>, 'fr_caster_l_wheel_link': <pycram.object_descriptors.urdf.ObjectDescription.Link object at 0x7f25b1639370>, 'fr_caster_r_wheel_link': <pycram.object_descriptors.urdf.ObjectDescription.Link object at 0x7f25b1639400>, 'bl_caster_rotation_link': <pycram.object_descriptors.urdf.ObjectDescription.Link object at 0x7f25b16392e0>, 'bl_caster_l_wheel_link': <pycram.object_descriptors.urdf.ObjectDescription.Link object at 0x7f25b1639220>, 'bl_caster_r_wheel_link': <pycram.object_descriptors.urdf.ObjectDescription.Link object at 0x7f25b1639100>, 'br_caster_rotation_link': <pycram.object_descriptors.urdf.ObjectDescription.Link object at 0x7f25b1639040>, 'br_caster_l_wheel_link': <pycram.object_descriptors.urdf.ObjectDescription.Link object at 0x7f25b16ba730>, 'br_caster_r_wheel_link': <pycram.object_descriptors.urdf.ObjectDescription.Link object at 0x7f25b16ba970>, 'torso_lift_link': <pycram.object_descriptors.urdf.ObjectDescription.Link object at 0x7f25b16ba8b0>, 'l_torso_lift_side_plate_link': <pycram.object_descriptors.urdf.ObjectDescription.Link object at 0x7f25b16ba7f0>, 'r_torso_lift_side_plate_link': <pycram.object_descriptors.urdf.ObjectDescription.Link object at 0x7f25b16ba6d0>, 'imu_link': <pycram.object_descriptors.urdf.ObjectDescription.Link object at 0x7f25b16ba640>, 'head_pan_link': <pycram.object_descriptors.urdf.ObjectDescription.Link object at 0x7f25b16ba520>, 'head_tilt_link': <pycram.object_descriptors.urdf.ObjectDescription.Link object at 0x7f25b16ba490>, 'head_plate_frame': <pycram.object_descriptors.urdf.ObjectDescription.Link object at 0x7f25b16ba3d0>, 'sensor_mount_link': <pycram.object_descriptors.urdf.ObjectDescription.Link object at 0x7f25b16ba340>, 'high_def_frame': <pycram.object_descriptors.urdf.ObjectDescription.Link object at 0x7f25b16ba250>, 'high_def_optical_frame': <pycram.object_descriptors.urdf.ObjectDescription.Link object at 0x7f25b16ba190>, 'double_stereo_link': <pycram.object_descriptors.urdf.ObjectDescription.Link object at 0x7f25b16ba040>, 'wide_stereo_link': <pycram.object_descriptors.urdf.ObjectDescription.Link object at 0x7f25b16baa90>, 'wide_stereo_optical_frame': <pycram.object_descriptors.urdf.ObjectDescription.Link object at 0x7f25b16bac10>, 'wide_stereo_l_stereo_camera_frame': <pycram.object_descriptors.urdf.ObjectDescription.Link object at 0x7f25b16ba100>, 'wide_stereo_l_stereo_camera_optical_frame': <pycram.object_descriptors.urdf.ObjectDescription.Link object at 0x7f25b16bad60>, 'wide_stereo_r_stereo_camera_frame': <pycram.object_descriptors.urdf.ObjectDescription.Link object at 0x7f25b16bae50>, 'wide_stereo_r_stereo_camera_optical_frame': <pycram.object_descriptors.urdf.ObjectDescription.Link object at 0x7f25b16baf10>, 'narrow_stereo_link': <pycram.object_descriptors.urdf.ObjectDescription.Link object at 0x7f25b16bafd0>, 'narrow_stereo_optical_frame': <pycram.object_descriptors.urdf.ObjectDescription.Link object at 0x7f25b16baf70>, 'narrow_stereo_l_stereo_camera_frame': <pycram.object_descriptors.urdf.ObjectDescription.Link object at 0x7f25b16bae80>, 'narrow_stereo_l_stereo_camera_optical_frame': <pycram.object_descriptors.urdf.ObjectDescription.Link object at 0x7f25b16badc0>, 'narrow_stereo_r_stereo_camera_frame': <pycram.object_descriptors.urdf.ObjectDescription.Link object at 0x7f25b16bad00>, 'narrow_stereo_r_stereo_camera_optical_frame': <pycram.object_descriptors.urdf.ObjectDescription.Link object at 0x7f25b16bac70>, 'projector_wg6802418_frame': <pycram.object_descriptors.urdf.ObjectDescription.Link object at 0x7f25b16babb0>, 'projector_wg6802418_child_frame': <pycram.object_descriptors.urdf.ObjectDescription.Link object at 0x7f25b16baa30>, 'laser_tilt_mount_link': <pycram.object_descriptors.urdf.ObjectDescription.Link object at 0x7f25b16ba9a0>, 'laser_tilt_link': <pycram.object_descriptors.urdf.ObjectDescription.Link object at 0x7f25b16ba8e0>, 'r_shoulder_pan_link': <pycram.object_descriptors.urdf.ObjectDescription.Link object at 0x7f25b16ba820>, 'r_shoulder_lift_link': <pycram.object_descriptors.urdf.ObjectDescription.Link object at 0x7f25b16ba760>, 'r_upper_arm_roll_link': <pycram.object_descriptors.urdf.ObjectDescription.Link object at 0x7f25b16ba670>, 'r_upper_arm_link': <pycram.object_descriptors.urdf.ObjectDescription.Link object at 0x7f25b16ba5b0>, 'r_elbow_flex_link': <pycram.object_descriptors.urdf.ObjectDescription.Link object at 0x7f25b16ba550>, 'r_forearm_roll_link': <pycram.object_descriptors.urdf.ObjectDescription.Link object at 0x7f25b16ba400>, 'r_forearm_link': <pycram.object_descriptors.urdf.ObjectDescription.Link object at 0x7f25b16ba160>, 'r_wrist_flex_link': <pycram.object_descriptors.urdf.ObjectDescription.Link object at 0x7f25b16ba310>, 'r_wrist_roll_link': <pycram.object_descriptors.urdf.ObjectDescription.Link object at 0x7f25b16ba280>, 'r_gripper_palm_link': <pycram.object_descriptors.urdf.ObjectDescription.Link object at 0x7f25b16ba1f0>, 'r_gripper_led_frame': <pycram.object_descriptors.urdf.ObjectDescription.Link object at 0x7f25b16ba0a0>, 'r_gripper_motor_accelerometer_link': <pycram.object_descriptors.urdf.ObjectDescription.Link object at 0x7f25b11fc970>, 'r_gripper_tool_frame': <pycram.object_descriptors.urdf.ObjectDescription.Link object at 0x7f25b11fcd90>, 'r_gripper_motor_slider_link': <pycram.object_descriptors.urdf.ObjectDescription.Link object at 0x7f25b11fcbe0>, 'r_gripper_motor_screw_link': <pycram.object_descriptors.urdf.ObjectDescription.Link object at 0x7f25b11fce80>, 'r_gripper_l_finger_link': <pycram.object_descriptors.urdf.ObjectDescription.Link object at 0x7f25b11fc580>, 'r_gripper_l_finger_tip_link': <pycram.object_descriptors.urdf.ObjectDescription.Link object at 0x7f25b11fc4f0>, 'r_gripper_r_finger_link': <pycram.object_descriptors.urdf.ObjectDescription.Link object at 0x7f25b11fcfd0>, 'r_gripper_r_finger_tip_link': <pycram.object_descriptors.urdf.ObjectDescription.Link object at 0x7f25b11fc670>, 'r_gripper_l_finger_tip_frame': <pycram.object_descriptors.urdf.ObjectDescription.Link object at 0x7f25b11fcee0>, 'r_forearm_cam_frame': <pycram.object_descriptors.urdf.ObjectDescription.Link object at 0x7f25b11fcb50>, 'r_forearm_cam_optical_frame': <pycram.object_descriptors.urdf.ObjectDescription.Link object at 0x7f25b11fcdc0>, 'l_shoulder_pan_link': <pycram.object_descriptors.urdf.ObjectDescription.Link object at 0x7f25b11fcd30>, 'l_shoulder_lift_link': <pycram.object_descriptors.urdf.ObjectDescription.Link object at 0x7f25b11fc730>, 'l_upper_arm_roll_link': <pycram.object_descriptors.urdf.ObjectDescription.Link object at 0x7f25b11e28b0>, 'l_upper_arm_link': <pycram.object_descriptors.urdf.ObjectDescription.Link object at 0x7f25b11e26a0>, 'l_elbow_flex_link': <pycram.object_descriptors.urdf.ObjectDescription.Link object at 0x7f25b11e2a00>, 'l_forearm_roll_link': <pycram.object_descriptors.urdf.ObjectDescription.Link object at 0x7f25b11e2bb0>, 'l_forearm_link': <pycram.object_descriptors.urdf.ObjectDescription.Link object at 0x7f25b197cf10>, 'l_wrist_flex_link': <pycram.object_descriptors.urdf.ObjectDescription.Link object at 0x7f25b197cf70>, 'l_wrist_roll_link': <pycram.object_descriptors.urdf.ObjectDescription.Link object at 0x7f25b197ce20>, 'l_gripper_palm_link': <pycram.object_descriptors.urdf.ObjectDescription.Link object at 0x7f25b197cdf0>, 'l_gripper_led_frame': <pycram.object_descriptors.urdf.ObjectDescription.Link object at 0x7f25b1980fa0>, 'l_gripper_motor_accelerometer_link': <pycram.object_descriptors.urdf.ObjectDescription.Link object at 0x7f25b1980ee0>, 'l_gripper_tool_frame': <pycram.object_descriptors.urdf.ObjectDescription.Link object at 0x7f25b1980e20>, 'l_gripper_motor_slider_link': <pycram.object_descriptors.urdf.ObjectDescription.Link object at 0x7f25b1980ca0>, 'l_gripper_motor_screw_link': <pycram.object_descriptors.urdf.ObjectDescription.Link object at 0x7f25b1980d00>, 'l_gripper_l_finger_link': <pycram.object_descriptors.urdf.ObjectDescription.Link object at 0x7f25b1980be0>, 'l_gripper_l_finger_tip_link': <pycram.object_descriptors.urdf.ObjectDescription.Link object at 0x7f25b1980b20>, 'l_gripper_r_finger_link': <pycram.object_descriptors.urdf.ObjectDescription.Link object at 0x7f25b1980a60>, 'l_gripper_r_finger_tip_link': <pycram.object_descriptors.urdf.ObjectDescription.Link object at 0x7f25b19809a0>, 'l_gripper_l_finger_tip_frame': <pycram.object_descriptors.urdf.ObjectDescription.Link object at 0x7f25b19806d0>, 'l_forearm_cam_frame': <pycram.object_descriptors.urdf.ObjectDescription.Link object at 0x7f25b19808b0>, 'l_forearm_cam_optical_frame': <pycram.object_descriptors.urdf.ObjectDescription.Link object at 0x7f25b19805b0>, 'torso_lift_motor_screw_link': <pycram.object_descriptors.urdf.ObjectDescription.Link object at 0x7f25b1980640>, 'base_footprint': <pycram.object_descriptors.urdf.ObjectDescription.RootLink object at 0x7f25b1980370>}\n"
     ]
    }
   ],
   "execution_count": 14
  },
  {
   "cell_type": "markdown",
   "metadata": {},
   "source": [
    "For links there are similar methods available as for the pose. However, you can only **get** the position and orientation of a link. "
   ],
   "id": "5a7043876640674"
  },
  {
   "cell_type": "code",
   "metadata": {
    "ExecuteTime": {
     "end_time": "2024-10-23T11:16:52.007206Z",
     "start_time": "2024-10-23T11:16:51.989273Z"
    }
   },
   "source": [
    "print(f\"Position: \\n{pr2.get_link_position('torso_lift_link')}\")\n",
    "\n",
    "print(f\"Orientation: \\n{pr2.get_link_orientation('torso_lift_link')}\")\n",
    "\n",
    "print(f\"Pose: \\n{pr2.get_link_pose('torso_lift_link')}\")"
   ],
   "id": "b633664980dce47a",
   "outputs": [
    {
     "name": "stdout",
     "output_type": "stream",
     "text": [
      "Position: \n",
      "x: -0.05000000447034836\n",
      "y: 0.0\n",
      "z: 0.7906750440597534\n",
      "Orientation: \n",
      "x: 0.0\n",
      "y: 0.0\n",
      "z: 0.0\n",
      "w: 1.0\n",
      "Pose: \n",
      "header: \n",
      "  seq: 0\n",
      "  stamp: \n",
      "    secs: 1729682211\n",
      "    nsecs: 922111749\n",
      "  frame_id: \"map\"\n",
      "pose: \n",
      "  position: \n",
      "    x: -0.05000000447034836\n",
      "    y: 0.0\n",
      "    z: 0.7906750440597534\n",
      "  orientation: \n",
      "    x: 0.0\n",
      "    y: 0.0\n",
      "    z: 0.0\n",
      "    w: 1.0\n"
     ]
    }
   ],
   "execution_count": 15
  },
  {
   "cell_type": "markdown",
   "metadata": {},
   "source": [
    "Methods available for joints are:\n",
    "\n",
    "  * ```get_joint_state```\n",
    "  * ```set_joint_state```\n",
    "  * ```get_joint_limits```\n",
    "  \n",
    "We will see how these methods work at the example of the torso_lift_joint:"
   ],
   "id": "af507281d286ebbb"
  },
  {
   "cell_type": "code",
   "metadata": {
    "ExecuteTime": {
     "end_time": "2024-10-23T11:16:52.110215Z",
     "start_time": "2024-10-23T11:16:52.105171Z"
    }
   },
   "source": [
    "print(f\"Joint limits: {pr2.get_joint_limits('torso_lift_joint')}\")\n",
    "\n",
    "print(f\"Current Joint state: {pr2.get_joint_position('torso_lift_joint')}\")\n",
    "\n",
    "pr2.set_joint_position(\"torso_lift_joint\", 0.2)\n",
    "\n",
    "print(f\"New Joint state: {pr2.get_joint_position('torso_lift_joint')}\")"
   ],
   "id": "9a9f479446ca8bde",
   "outputs": [
    {
     "name": "stdout",
     "output_type": "stream",
     "text": [
      "Joint limits: (0.0, 0.33)\n",
      "Current Joint state: 0.0\n",
      "New Joint state: 0.2\n"
     ]
    }
   ],
   "execution_count": 16
  },
  {
   "cell_type": "markdown",
   "metadata": {},
   "source": [
    "## Misc Methods\n",
    "There are a few methods that don't fit any category but could be helpful anyway. The first two are ```get_color``` and ```set_color```, as the name implies they can be used to get or set the color for specific links or the whole Object. "
   ],
   "id": "8642cb3b39b79ea2"
  },
  {
   "cell_type": "code",
   "metadata": {
    "ExecuteTime": {
     "end_time": "2024-10-23T11:16:52.325199Z",
     "start_time": "2024-10-23T11:16:52.322772Z"
    }
   },
   "source": [
    "print(f\"Pr2 forearm color: {pr2.get_link_color('r_forearm_link')}\")"
   ],
   "id": "5cb96b6324c320c1",
   "outputs": [
    {
     "name": "stdout",
     "output_type": "stream",
     "text": [
      "Pr2 forearm color: Color(R=0.699999988079071, G=0.699999988079071, B=0.699999988079071, A=1.0)\n"
     ]
    }
   ],
   "execution_count": 17
  },
  {
   "cell_type": "code",
   "metadata": {
    "ExecuteTime": {
     "end_time": "2024-10-23T11:16:52.537959Z",
     "start_time": "2024-10-23T11:16:52.529261Z"
    }
   },
   "source": [
    "pr2.set_link_color(\"r_forearm_link\", [1, 0, 0])"
   ],
   "id": "dce58125f80c2d95",
   "outputs": [],
   "execution_count": 18
  },
  {
   "cell_type": "markdown",
   "metadata": {},
   "source": [
    "Lastly, there is ```get_AABB```, AABB stands for *A*xis *A*ligned *B*ounding *B*ox. This method returns two points in world coordinates which span a rectangle representing the AABB."
   ],
   "id": "42d9d5633698f48d"
  },
  {
   "cell_type": "code",
   "metadata": {
    "ExecuteTime": {
     "end_time": "2024-10-23T11:17:01.893150Z",
     "start_time": "2024-10-23T11:17:01.889422Z"
    }
   },
   "source": [
    "pr2.get_axis_aligned_bounding_box()"
   ],
   "id": "73677b70b986bb36",
   "outputs": [
    {
     "data": {
      "text/plain": [
       "AxisAlignedBoundingBox(min_x=-0.0015000000000000005, min_y=-0.0015000000000000005, min_z=0.06949999999999999, max_x=0.0015000000000000005, max_y=0.0015000000000000005, max_z=0.0725)"
      ]
     },
     "execution_count": 19,
     "metadata": {},
     "output_type": "execute_result"
    }
   ],
   "execution_count": 19
  },
  {
   "metadata": {},
   "cell_type": "code",
   "execution_count": null,
   "source": "",
   "id": "fd4727a2187afe5",
   "outputs": []
  }
 ],
 "metadata": {
  "kernelspec": {
   "display_name": "Python 3",
   "language": "python",
   "name": "python3"
  },
  "language_info": {
   "codemirror_mode": {
    "name": "ipython",
    "version": 3
   },
   "file_extension": ".py",
   "mimetype": "text/x-python",
   "name": "python",
   "nbconvert_exporter": "python",
   "pygments_lexer": "ipython3",
   "version": "3.8.10"
  }
 },
 "nbformat": 4,
 "nbformat_minor": 5
}
