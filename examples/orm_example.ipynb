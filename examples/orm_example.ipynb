{
 "cells": [
  {
   "cell_type": "markdown",
   "metadata": {},
   "source": [
    "# Hands on Object Relational Mapping in PyCram\n",
    "\n",
    "This tutorial will walk you through the serialization of a minimal plan in pycram.\n",
    "First we will import sqlalchemy, create an in memory database and connect a session to it."
   ]
  },
  {
   "cell_type": "code",
   "metadata": {
    "ExecuteTime": {
     "end_time": "2024-10-23T11:18:44.238726Z",
     "start_time": "2024-10-23T11:18:44.159791Z"
    }
   },
   "source": [
    "import sqlalchemy\n",
    "import sqlalchemy.orm\n",
    "\n",
    "engine = sqlalchemy.create_engine(\"sqlite+pysqlite:///:memory:\", echo=False)\n",
    "session = sqlalchemy.orm.Session(bind=engine)\n",
    "session"
   ],
   "outputs": [
    {
     "data": {
      "text/plain": [
       "<sqlalchemy.orm.session.Session at 0x7f79a87a3e80>"
      ]
     },
     "execution_count": 2,
     "metadata": {},
     "output_type": "execute_result"
    }
   ],
   "execution_count": 2
  },
  {
   "cell_type": "markdown",
   "metadata": {},
   "source": [
    "Next we create the database schema using the sqlalchemy functionality. For that we need to import the base class of pycram.orm."
   ]
  },
  {
   "metadata": {
    "ExecuteTime": {
     "end_time": "2024-10-23T11:18:46.068489Z",
     "start_time": "2024-10-23T11:18:46.067193Z"
    }
   },
   "cell_type": "code",
   "source": "",
   "outputs": [],
   "execution_count": null
  },
  {
   "cell_type": "code",
   "metadata": {
    "ExecuteTime": {
     "end_time": "2024-10-23T11:18:47.152931Z",
     "start_time": "2024-10-23T11:18:46.660991Z"
    }
   },
   "source": [
    "import pycram.orm.base\n",
    "import pycram.orm.action_designator\n",
    "pycram.orm.base.Base.metadata.create_all(engine)\n",
    "session.commit()"
   ],
   "outputs": [
    {
     "name": "stderr",
     "output_type": "stream",
     "text": [
      "Unknown attribute \"type\" in /robot[@name='pr2']/link[@name='base_laser_link']\n",
      "Unknown attribute \"type\" in /robot[@name='pr2']/link[@name='wide_stereo_optical_frame']\n",
      "Unknown attribute \"type\" in /robot[@name='pr2']/link[@name='narrow_stereo_optical_frame']\n",
      "Unknown attribute \"type\" in /robot[@name='pr2']/link[@name='laser_tilt_link']\n",
      "Failed to import Giskard messages, the real robot will not be available\n",
      "Could not import RoboKudo messages, RoboKudo interface could not be initialized\n",
      "pybullet build time: Nov 28 2023 23:51:11\n"
     ]
    }
   ],
   "execution_count": 3
  },
  {
   "metadata": {
    "ExecuteTime": {
     "end_time": "2024-10-23T11:18:55.669477Z",
     "start_time": "2024-10-23T11:18:55.665044Z"
    }
   },
   "cell_type": "code",
   "source": "pycram.orm.base.Base.metadata.tables",
   "outputs": [
    {
     "data": {
      "text/plain": [
       "FacadeDict({'ProcessMetaData': Table('ProcessMetaData', MetaData(), Column('created_at', DateTime(), table=<ProcessMetaData>, nullable=False, server_default=DefaultClause(<sqlalchemy.sql.functions.current_timestamp at 0x7f7949378640; current_timestamp>, for_update=False)), Column('created_by', String(length=255), table=<ProcessMetaData>, nullable=False, default=ScalarElementColumnDefault('malineni')), Column('description', String(length=255), table=<ProcessMetaData>, nullable=False), Column('pycram_version', String(length=255), table=<ProcessMetaData>, default=ScalarElementColumnDefault('3d49733b84ed8d2aecee1722b1ed7d25271219e1')), Column('id', Integer(), table=<ProcessMetaData>, primary_key=True, nullable=False), schema=None), 'Designator': Table('Designator', MetaData(), Column('dtype', String(length=255), table=<Designator>, nullable=False), Column('process_metadata_id', Integer(), ForeignKey('ProcessMetaData.id'), table=<Designator>, nullable=False), Column('id', Integer(), table=<Designator>, primary_key=True, nullable=False), schema=None), 'Position': Table('Position', MetaData(), Column('x', Float(), table=<Position>, nullable=False), Column('y', Float(), table=<Position>, nullable=False), Column('z', Float(), table=<Position>, nullable=False), Column('process_metadata_id', Integer(), ForeignKey('ProcessMetaData.id'), table=<Position>, nullable=False), Column('id', Integer(), table=<Position>, primary_key=True, nullable=False), schema=None), 'Quaternion': Table('Quaternion', MetaData(), Column('x', Float(), table=<Quaternion>, nullable=False), Column('y', Float(), table=<Quaternion>, nullable=False), Column('z', Float(), table=<Quaternion>, nullable=False), Column('w', Float(), table=<Quaternion>, nullable=False), Column('process_metadata_id', Integer(), ForeignKey('ProcessMetaData.id'), table=<Quaternion>, nullable=False), Column('id', Integer(), table=<Quaternion>, primary_key=True, nullable=False), schema=None), 'Pose': Table('Pose', MetaData(), Column('time', DateTime(), table=<Pose>, nullable=False), Column('frame', String(length=255), table=<Pose>, nullable=False), Column('position_id', Integer(), ForeignKey('Position.id'), table=<Pose>, nullable=False), Column('orientation_id', Integer(), ForeignKey('Quaternion.id'), table=<Pose>, nullable=False), Column('process_metadata_id', Integer(), ForeignKey('ProcessMetaData.id'), table=<Pose>, nullable=False), Column('id', Integer(), table=<Pose>, primary_key=True, nullable=False), schema=None), 'Color': Table('Color', MetaData(), Column('r', Float(), table=<Color>, nullable=False), Column('g', Float(), table=<Color>, nullable=False), Column('b', Float(), table=<Color>, nullable=False), Column('alpha', Float(), table=<Color>, nullable=False), Column('process_metadata_id', Integer(), ForeignKey('ProcessMetaData.id'), table=<Color>, nullable=False), Column('id', Integer(), table=<Color>, primary_key=True, nullable=False), schema=None), 'RobotState': Table('RobotState', MetaData(), Column('torso_height', Float(), table=<RobotState>, nullable=False), Column('type', Enum('METALMUG', 'PRINGLES', 'MILK', 'SPOON', 'BOWL', 'BREAKFAST_CEREAL', 'JEROEN_CUP', 'ROBOT', 'ENVIRONMENT', 'GENERIC_OBJECT', 'HUMAN', name='objecttype'), table=<RobotState>, nullable=False), Column('pose_id', Integer(), ForeignKey('Pose.id'), table=<RobotState>, nullable=False), Column('process_metadata_id', Integer(), ForeignKey('ProcessMetaData.id'), table=<RobotState>, nullable=False), Column('id', Integer(), table=<RobotState>, primary_key=True, nullable=False), schema=None), 'Object': Table('Object', MetaData(), Column('dtype', String(length=255), table=<Object>, nullable=False), Column('obj_type', Enum('METALMUG', 'PRINGLES', 'MILK', 'SPOON', 'BOWL', 'BREAKFAST_CEREAL', 'JEROEN_CUP', 'ROBOT', 'ENVIRONMENT', 'GENERIC_OBJECT', 'HUMAN', name='objecttype'), table=<Object>), Column('name', String(length=255), table=<Object>, nullable=False), Column('pose_id', Integer(), ForeignKey('Pose.id'), table=<Object>, nullable=False), Column('process_metadata_id', Integer(), ForeignKey('ProcessMetaData.id'), table=<Object>, nullable=False), Column('id', Integer(), table=<Object>, primary_key=True, nullable=False), schema=None), 'ObjectPart': Table('ObjectPart', MetaData(), Column('id', Integer(), ForeignKey('Object.id'), table=<ObjectPart>, primary_key=True, nullable=False), schema=None), 'BelieveObject': Table('BelieveObject', MetaData(), Column('id', Integer(), ForeignKey('Object.id'), table=<BelieveObject>, primary_key=True, nullable=False), schema=None), 'Action': Table('Action', MetaData(), Column('id', Integer(), ForeignKey('Designator.id'), table=<Action>, primary_key=True, nullable=False), Column('action_dtype', String(length=255), table=<Action>, nullable=False), Column('robot_state_id', Integer(), ForeignKey('RobotState.id'), table=<Action>, nullable=False), schema=None), 'ParkArmsAction': Table('ParkArmsAction', MetaData(), Column('id', Integer(), ForeignKey('Action.id'), table=<ParkArmsAction>, primary_key=True, nullable=False), Column('arm', Enum('LEFT', 'RIGHT', 'BOTH', name='arms'), table=<ParkArmsAction>, nullable=False), schema=None), 'NavigateAction': Table('NavigateAction', MetaData(), Column('id', Integer(), ForeignKey('Action.id'), table=<NavigateAction>, primary_key=True, nullable=False), Column('pose_id', Integer(), ForeignKey('Pose.id'), table=<NavigateAction>, nullable=False), schema=None), 'MoveTorsoAction': Table('MoveTorsoAction', MetaData(), Column('id', Integer(), ForeignKey('Action.id'), table=<MoveTorsoAction>, primary_key=True, nullable=False), Column('position', Float(), table=<MoveTorsoAction>), schema=None), 'SetGripperAction': Table('SetGripperAction', MetaData(), Column('id', Integer(), ForeignKey('Action.id'), table=<SetGripperAction>, primary_key=True, nullable=False), Column('gripper', String(length=255), table=<SetGripperAction>, nullable=False), Column('motion', String(length=255), table=<SetGripperAction>, nullable=False), schema=None), 'Release': Table('Release', MetaData(), Column('id', Integer(), ForeignKey('Action.id'), table=<Release>, primary_key=True, nullable=False), Column('gripper', String(length=255), table=<Release>, nullable=False), Column('object_id', Integer(), ForeignKey('Object.id'), table=<Release>, nullable=False), schema=None), 'GripAction': Table('GripAction', MetaData(), Column('id', Integer(), ForeignKey('Action.id'), table=<GripAction>, primary_key=True, nullable=False), Column('gripper', String(length=255), table=<GripAction>, nullable=False), Column('effort', Float(), table=<GripAction>, nullable=False), Column('object_id', Integer(), ForeignKey('Object.id'), table=<GripAction>, nullable=False), schema=None), 'PickUpAction': Table('PickUpAction', MetaData(), Column('id', Integer(), ForeignKey('Action.id'), table=<PickUpAction>, primary_key=True, nullable=False), Column('arm', String(length=255), table=<PickUpAction>, nullable=False), Column('grasp', String(length=255), table=<PickUpAction>, nullable=False), Column('object_id', Integer(), ForeignKey('Object.id'), table=<PickUpAction>, nullable=False), schema=None), 'PlaceAction': Table('PlaceAction', MetaData(), Column('id', Integer(), ForeignKey('Action.id'), table=<PlaceAction>, primary_key=True, nullable=False), Column('arm', String(length=255), table=<PlaceAction>, nullable=False), Column('pose_id', Integer(), ForeignKey('Pose.id'), table=<PlaceAction>, nullable=False), Column('object_id', Integer(), ForeignKey('Object.id'), table=<PlaceAction>, nullable=False), schema=None), 'TransportAction': Table('TransportAction', MetaData(), Column('id', Integer(), ForeignKey('Action.id'), table=<TransportAction>, primary_key=True, nullable=False), Column('arm', String(length=255), table=<TransportAction>, nullable=False), Column('pose_id', Integer(), ForeignKey('Pose.id'), table=<TransportAction>, nullable=False), Column('object_id', Integer(), ForeignKey('Object.id'), table=<TransportAction>, nullable=False), schema=None), 'LookAtAction': Table('LookAtAction', MetaData(), Column('id', Integer(), ForeignKey('Action.id'), table=<LookAtAction>, primary_key=True, nullable=False), Column('pose_id', Integer(), ForeignKey('Pose.id'), table=<LookAtAction>, nullable=False), schema=None), 'DetectAction': Table('DetectAction', MetaData(), Column('id', Integer(), ForeignKey('Action.id'), table=<DetectAction>, primary_key=True, nullable=False), Column('object_id', Integer(), ForeignKey('Object.id'), table=<DetectAction>, nullable=False), schema=None), 'OpenAction': Table('OpenAction', MetaData(), Column('id', Integer(), ForeignKey('Action.id'), table=<OpenAction>, primary_key=True, nullable=False), Column('arm', String(length=255), table=<OpenAction>, nullable=False), Column('object_id', Integer(), ForeignKey('Object.id'), table=<OpenAction>, nullable=False), schema=None), 'CloseAction': Table('CloseAction', MetaData(), Column('id', Integer(), ForeignKey('Action.id'), table=<CloseAction>, primary_key=True, nullable=False), Column('arm', String(length=255), table=<CloseAction>, nullable=False), Column('object_id', Integer(), ForeignKey('Object.id'), table=<CloseAction>, nullable=False), schema=None), 'GraspingAction': Table('GraspingAction', MetaData(), Column('id', Integer(), ForeignKey('Action.id'), table=<GraspingAction>, primary_key=True, nullable=False), Column('arm', String(length=255), table=<GraspingAction>, nullable=False), Column('object_id', Integer(), ForeignKey('Object.id'), table=<GraspingAction>, nullable=False), schema=None), 'FaceAtAction': Table('FaceAtAction', MetaData(), Column('id', Integer(), ForeignKey('Action.id'), table=<FaceAtAction>, primary_key=True, nullable=False), Column('pose_id', Integer(), ForeignKey('Pose.id'), table=<FaceAtAction>, nullable=False), schema=None), 'Motion': Table('Motion', MetaData(), Column('id', Integer(), ForeignKey('Designator.id'), table=<Motion>, primary_key=True, nullable=False), Column('motion_dtype', String(length=255), table=<Motion>, nullable=False), schema=None), 'MoveMotion': Table('MoveMotion', MetaData(), Column('id', Integer(), ForeignKey('Motion.id'), table=<MoveMotion>, primary_key=True, nullable=False), Column('pose_id', Integer(), ForeignKey('Pose.id'), table=<MoveMotion>, nullable=False), schema=None), 'AccessingMotion': Table('AccessingMotion', MetaData(), Column('id', Integer(), ForeignKey('Motion.id'), table=<AccessingMotion>, primary_key=True, nullable=False), Column('part_of', Integer(), ForeignKey('Object.id'), table=<AccessingMotion>, nullable=False), Column('arm', String(length=255), table=<AccessingMotion>, nullable=False), Column('gripper', String(length=255), table=<AccessingMotion>, nullable=False), Column('distance', Float(), table=<AccessingMotion>, nullable=False), Column('drawer_joint', String(length=255), table=<AccessingMotion>, nullable=False), Column('drawer_handle', String(length=255), table=<AccessingMotion>, nullable=False), schema=None), 'MoveTCPMotion': Table('MoveTCPMotion', MetaData(), Column('id', Integer(), ForeignKey('Motion.id'), table=<MoveTCPMotion>, primary_key=True, nullable=False), Column('arm', String(length=255), table=<MoveTCPMotion>, nullable=False), Column('allow_gripper_collision', Boolean(), table=<MoveTCPMotion>), Column('pose_id', Integer(), ForeignKey('Pose.id'), table=<MoveTCPMotion>, nullable=False), schema=None), 'LookingMotion': Table('LookingMotion', MetaData(), Column('id', Integer(), ForeignKey('Motion.id'), table=<LookingMotion>, primary_key=True, nullable=False), Column('pose_id', Integer(), ForeignKey('Pose.id'), table=<LookingMotion>, nullable=False), schema=None), 'MoveGripperMotion': Table('MoveGripperMotion', MetaData(), Column('id', Integer(), ForeignKey('Motion.id'), table=<MoveGripperMotion>, primary_key=True, nullable=False), Column('motion', String(length=255), table=<MoveGripperMotion>, nullable=False), Column('gripper', String(length=255), table=<MoveGripperMotion>, nullable=False), Column('allow_gripper_collision', Boolean(), table=<MoveGripperMotion>), schema=None), 'DetectingMotion': Table('DetectingMotion', MetaData(), Column('id', Integer(), ForeignKey('Motion.id'), table=<DetectingMotion>, primary_key=True, nullable=False), Column('object_type', Enum('METALMUG', 'PRINGLES', 'MILK', 'SPOON', 'BOWL', 'BREAKFAST_CEREAL', 'JEROEN_CUP', 'ROBOT', 'ENVIRONMENT', 'GENERIC_OBJECT', 'HUMAN', name='objecttype'), table=<DetectingMotion>, nullable=False), schema=None), 'WorldStateDetectingMotion': Table('WorldStateDetectingMotion', MetaData(), Column('id', Integer(), ForeignKey('Motion.id'), table=<WorldStateDetectingMotion>, primary_key=True, nullable=False), Column('object_type', String(length=255), table=<WorldStateDetectingMotion>, nullable=False), schema=None), 'OpeningMotion': Table('OpeningMotion', MetaData(), Column('id', Integer(), ForeignKey('Motion.id'), table=<OpeningMotion>, primary_key=True, nullable=False), Column('arm', String(length=255), table=<OpeningMotion>, nullable=False), schema=None), 'ClosingMotion': Table('ClosingMotion', MetaData(), Column('id', Integer(), ForeignKey('Motion.id'), table=<ClosingMotion>, primary_key=True, nullable=False), Column('arm', String(length=255), table=<ClosingMotion>, nullable=False), schema=None), 'TaskTreeNode': Table('TaskTreeNode', MetaData(), Column('id', Integer(), table=<TaskTreeNode>, primary_key=True, nullable=False), Column('action_id', Integer(), ForeignKey('Designator.id'), table=<TaskTreeNode>), Column('start_time', DateTime(), table=<TaskTreeNode>, nullable=False), Column('end_time', DateTime(), table=<TaskTreeNode>), Column('status', Enum('CREATED', 'RUNNING', 'SUCCEEDED', 'FAILED', name='taskstatus'), table=<TaskTreeNode>, nullable=False), Column('reason', String(length=255), table=<TaskTreeNode>), Column('parent_id', Integer(), ForeignKey('TaskTreeNode.id'), table=<TaskTreeNode>), Column('process_metadata_id', Integer(), ForeignKey('ProcessMetaData.id'), table=<TaskTreeNode>, nullable=False), schema=None)})"
      ]
     },
     "execution_count": 4,
     "metadata": {},
     "output_type": "execute_result"
    }
   ],
   "execution_count": 4
  },
  {
   "cell_type": "markdown",
   "metadata": {},
   "source": [
    "Next we will write a simple plan where the robot parks his arms and then moves somewhere. We will construct a TaskTree around it such that we can serialize it later. As usual, we first create a world and then define the plan. By doing so, we obtain the task tree."
   ]
  },
  {
   "cell_type": "code",
   "metadata": {
    "ExecuteTime": {
     "end_time": "2024-10-23T11:16:02.170300559Z",
     "start_time": "2024-10-23T11:13:49.640313Z"
    }
   },
   "source": [
    "from pycram.designators.action_designator import *\n",
    "from pycram.designators.location_designator import *\n",
    "from pycram.process_module import simulated_robot\n",
    "from pycram.datastructures.enums import Arms, ObjectType, WorldMode\n",
    "from pycram.tasktree import with_tree\n",
    "from pycram.worlds.bullet_world import Object, BulletWorld\n",
    "from pycram.designators.object_designator import *\n",
    "from pycram.datastructures.pose import Pose\n",
    "import anytree\n",
    "\n",
    "world = BulletWorld(mode=WorldMode.GUI)\n",
    "pr2 = Object(\"pr2\", ObjectType.ROBOT, \"pr2.urdf\")\n",
    "kitchen = Object(\"kitchen\", ObjectType.ENVIRONMENT, \"kitchen.urdf\")\n",
    "milk = Object(\"milk\", ObjectType.MILK, \"milk.stl\", pose=Pose([1.3, 1, 0.9]))\n",
    "cereal = Object(\"cereal\", ObjectType.BREAKFAST_CEREAL, \"breakfast_cereal.stl\", pose=Pose([1.3, 0.7, 0.95]))\n",
    "milk_desig = ObjectDesignatorDescription(names=[\"milk\"])\n",
    "cereal_desig = ObjectDesignatorDescription(names=[\"cereal\"])\n",
    "robot_desig = ObjectDesignatorDescription(names=[\"pr2\"]).resolve()\n",
    "kitchen_desig = ObjectDesignatorDescription(names=[\"kitchen\"])\n",
    "\n",
    "@with_tree\n",
    "def plan():\n",
    "    with simulated_robot:\n",
    "        ParkArmsActionPerformable(Arms.BOTH).perform()\n",
    "        MoveTorsoAction([0.3]).resolve().perform()\n",
    "        pickup_pose = CostmapLocation(target=cereal_desig.resolve(), reachable_for=robot_desig).resolve()\n",
    "        pickup_arm = pickup_pose.reachable_arms[0]\n",
    "        NavigateAction(target_locations=[pickup_pose.pose]).resolve().perform()\n",
    "        PickUpAction(object_designator_description=cereal_desig, arms=[pickup_arm], grasps=[\"front\"]).resolve().perform()\n",
    "        ParkArmsAction([Arms.BOTH]).resolve().perform()\n",
    "\n",
    "        place_island = SemanticCostmapLocation(\"kitchen_island_surface\", kitchen_desig.resolve(),\n",
    "                                           cereal_desig.resolve()).resolve()\n",
    "\n",
    "        place_stand = CostmapLocation(place_island.pose, reachable_for=robot_desig, reachable_arm=pickup_arm).resolve()\n",
    "\n",
    "        NavigateAction(target_locations=[place_stand.pose]).resolve().perform()\n",
    "\n",
    "        PlaceAction(cereal_desig, target_locations=[place_island.pose], arms=[pickup_arm]).resolve().perform()\n",
    "\n",
    "        ParkArmsActionPerformable(Arms.BOTH).perform()\n",
    "\n",
    "plan()\n",
    "\n",
    "# set description of what we are doing\n",
    "pycram.orm.base.ProcessMetaData().description = \"Tutorial for getting familiar with the ORM.\"\n",
    "task_tree = pycram.tasktree.task_tree\n",
    "print(anytree.RenderTree(task_tree))"
   ],
   "outputs": [
    {
     "name": "stderr",
     "output_type": "stream",
     "text": [
      "Scalar element defined multiple times: limit\n",
      "Scalar element defined multiple times: limit\n",
      "Unknown tag \"rgba_color\" in /robot[@name='milk_object']/link[@name='milk_main']/visual[1]/material[@name='white']\n",
      "Unknown tag \"rgba_color\" in /robot[@name='milk_object']/link[@name='milk_main']/visual[1]/material[@name='white']\n",
      "Unknown tag \"rgba_color\" in /robot[@name='cereal_object']/link[@name='cereal_main']/visual[1]/material[@name='white']\n",
      "Unknown tag \"rgba_color\" in /robot[@name='cereal_object']/link[@name='cereal_main']/visual[1]/material[@name='white']\n"
     ]
    },
    {
     "name": "stdout",
     "output_type": "stream",
     "text": [
      "[INFO] [1729682038.844590]: Ontology [http://www.ease-crc.org/ont/SOMA-HOME.owl#]'s name: SOMA-HOME has been loaded\n",
      "[INFO] [1729682038.845325]: - main namespace: SOMA-HOME\n",
      "[INFO] [1729682038.845948]: - loaded ontologies:\n",
      "[INFO] [1729682038.846276]: http://www.ease-crc.org/ont/SOMA-HOME.owl#\n",
      "[INFO] [1729682038.846559]: http://www.ease-crc.org/ont/DUL.owl#\n",
      "[INFO] [1729682038.846843]: http://www.ease-crc.org/ont/SOMA.owl#\n",
      "[INFO] [1729682039.828522]: Waiting for IK service: /pr2_left_arm_kinematics/get_ik\n"
     ]
    }
   ],
   "execution_count": null
  },
  {
   "cell_type": "markdown",
   "metadata": {},
   "source": [
    "Next we serialize the task tree by recursively inserting from its root."
   ]
  },
  {
   "cell_type": "code",
   "metadata": {
    "ExecuteTime": {
     "end_time": "2024-10-23T11:16:04.811010Z",
     "start_time": "2024-10-23T11:16:04.734659Z"
    }
   },
   "source": [
    "task_tree.root.insert(session)"
   ],
   "outputs": [
    {
     "ename": "NameError",
     "evalue": "name 'task_tree' is not defined",
     "output_type": "error",
     "traceback": [
      "\u001B[0;31m---------------------------------------------------------------------------\u001B[0m",
      "\u001B[0;31mNameError\u001B[0m                                 Traceback (most recent call last)",
      "Cell \u001B[0;32mIn[1], line 1\u001B[0m\n\u001B[0;32m----> 1\u001B[0m \u001B[43mtask_tree\u001B[49m\u001B[38;5;241m.\u001B[39mroot\u001B[38;5;241m.\u001B[39minsert(session)\n",
      "\u001B[0;31mNameError\u001B[0m: name 'task_tree' is not defined"
     ]
    }
   ],
   "execution_count": 1
  },
  {
   "cell_type": "markdown",
   "metadata": {},
   "source": [
    "We can look at our experiment (Process)MetaData to get some context on the data we just created."
   ]
  },
  {
   "cell_type": "code",
   "metadata": {
    "ExecuteTime": {
     "end_time": "2024-08-21T08:55:51.224892Z",
     "start_time": "2024-08-21T08:55:51.221492Z"
    }
   },
   "source": [
    "from sqlalchemy import select\n",
    "\n",
    "print(*session.scalars(select(pycram.orm.base.ProcessMetaData)).all())"
   ],
   "outputs": [
    {
     "name": "stdout",
     "output_type": "stream",
     "text": [
      "ProcessMetaData(id=1, created_at=datetime.datetime(2024, 8, 21, 8, 55, 46), created_by='malineni', description='Tutorial for getting familiar with the ORM.', pycram_version='3d49733b84ed8d2aecee1722b1ed7d25271219e1')\n"
     ]
    }
   ],
   "execution_count": 6
  },
  {
   "cell_type": "markdown",
   "metadata": {},
   "source": [
    "Lastly we can look at various table to see how the structures got logged.\n",
    "For example, we can get all the navigate actions that occurred."
   ]
  },
  {
   "cell_type": "code",
   "metadata": {
    "ExecuteTime": {
     "end_time": "2024-08-21T08:56:01.851033Z",
     "start_time": "2024-08-21T08:56:01.846002Z"
    }
   },
   "source": [
    "navigations = session.scalars(select(pycram.orm.action_designator.NavigateAction)).all()\n",
    "print(*navigations, sep=\"\\n\")"
   ],
   "outputs": [
    {
     "name": "stdout",
     "output_type": "stream",
     "text": [
      "NavigateAction(id=3, process_metadata_id=1, dtype='NavigateAction', robot_state_id=3, robot_state=RobotState(id=3, pose_to_init=False, torso_height=0.3, type=<ObjectType.ROBOT: 8>, pose_id=3, process_metadata_id=1), pose_to_init=False, pose_id=4)\n",
      "NavigateAction(id=12, process_metadata_id=1, dtype='NavigateAction', robot_state_id=6, robot_state=RobotState(id=6, pose_to_init=False, torso_height=0.3, type=<ObjectType.ROBOT: 8>, pose_id=12, process_metadata_id=1), pose_to_init=False, pose_id=13)\n"
     ]
    }
   ],
   "execution_count": 7
  },
  {
   "cell_type": "markdown",
   "metadata": {},
   "source": [
    "Due to the inheritance mapped in the ORM package, we can also obtain all executed actions with just one query. "
   ]
  },
  {
   "cell_type": "code",
   "metadata": {
    "ExecuteTime": {
     "end_time": "2024-08-21T08:56:06.449638Z",
     "start_time": "2024-08-21T08:56:06.436517Z"
    }
   },
   "source": [
    "actions = session.scalars(select(pycram.orm.action_designator.Action)).all()\n",
    "print(*actions, sep=\"\\n\")"
   ],
   "outputs": [
    {
     "name": "stdout",
     "output_type": "stream",
     "text": [
      "ParkArmsAction(id=1, process_metadata_id=1, dtype='ParkArmsAction', robot_state_id=1, robot_state=RobotState(id=1, pose_to_init=False, torso_height=0.0, type=<ObjectType.ROBOT: 8>, pose_id=1, process_metadata_id=1), arm=<Arms.BOTH: 3>)\n",
      "MoveTorsoAction(id=2, process_metadata_id=1, dtype='MoveTorsoAction', robot_state_id=2, robot_state=RobotState(id=2, pose_to_init=False, torso_height=0.0, type=<ObjectType.ROBOT: 8>, pose_id=2, process_metadata_id=1), position=0.3)\n",
      "NavigateAction(id=3, process_metadata_id=1, dtype='NavigateAction', robot_state_id=3, robot_state=RobotState(id=3, pose_to_init=False, torso_height=0.3, type=<ObjectType.ROBOT: 8>, pose_id=3, process_metadata_id=1), pose_to_init=False, pose_id=4)\n",
      "PickUpAction(id=5, process_metadata_id=1, dtype='PickUpAction', robot_state_id=4, robot_state=RobotState(id=4, pose_to_init=False, torso_height=0.3, type=<ObjectType.ROBOT: 8>, pose_id=6, process_metadata_id=1), object_to_init=False, arm='left', grasp='front', object_id=1)\n",
      "ParkArmsAction(id=11, process_metadata_id=1, dtype='ParkArmsAction', robot_state_id=5, robot_state=RobotState(id=5, pose_to_init=False, torso_height=0.3, type=<ObjectType.ROBOT: 8>, pose_id=11, process_metadata_id=1), arm=<Arms.BOTH: 3>)\n",
      "NavigateAction(id=12, process_metadata_id=1, dtype='NavigateAction', robot_state_id=6, robot_state=RobotState(id=6, pose_to_init=False, torso_height=0.3, type=<ObjectType.ROBOT: 8>, pose_id=12, process_metadata_id=1), pose_to_init=False, pose_id=13)\n",
      "PlaceAction(id=14, process_metadata_id=1, dtype='PlaceAction', robot_state_id=7, robot_state=RobotState(id=7, pose_to_init=False, torso_height=0.3, type=<ObjectType.ROBOT: 8>, pose_id=15, process_metadata_id=1), object_to_init=False, pose_to_init=False, arm='left', pose_id=17, object_id=2)\n",
      "ParkArmsAction(id=18, process_metadata_id=1, dtype='ParkArmsAction', robot_state_id=8, robot_state=RobotState(id=8, pose_to_init=False, torso_height=0.3, type=<ObjectType.ROBOT: 8>, pose_id=20, process_metadata_id=1), arm=<Arms.BOTH: 3>)\n"
     ]
    }
   ],
   "execution_count": 8
  },
  {
   "cell_type": "markdown",
   "metadata": {},
   "source": [
    "Of course all relational algebra operators, such as filtering and joining also work in pycram.orm queries. Let's say we need all the poses of objects, that were picked up by a robot. Since we defined a relationship between the PickUpAction table and the Object table and between the Object table and the Pose table in the ORM class schema, we can just use the join operator without any further specification:"
   ]
  },
  {
   "metadata": {
    "ExecuteTime": {
     "end_time": "2024-08-21T08:57:14.177093Z",
     "start_time": "2024-08-21T08:57:14.172273Z"
    }
   },
   "cell_type": "code",
   "source": [
    "# session.scalars(select(pycram.orm.action_designator.PickUpAction)).all()\n",
    "taction = session.query(pycram.orm.base.RobotState).first()\n",
    "taction.pose"
   ],
   "outputs": [
    {
     "data": {
      "text/plain": [
       "Pose(id=1, orientation_to_init=False, position_to_init=False, time=datetime.datetime(2024, 8, 21, 8, 55, 11, 916287), frame='map', position_id=1, orientation_id=1, process_metadata_id=1)"
      ]
     },
     "execution_count": 9,
     "metadata": {},
     "output_type": "execute_result"
    }
   ],
   "execution_count": 9
  },
  {
   "metadata": {
    "ExecuteTime": {
     "end_time": "2024-08-21T08:57:16.810477Z",
     "start_time": "2024-08-21T08:57:16.806967Z"
    }
   },
   "cell_type": "code",
   "source": "session.query(pycram.orm.action_designator.ParkArmsAction).all()",
   "outputs": [
    {
     "data": {
      "text/plain": [
       "[ParkArmsAction(id=1, process_metadata_id=1, dtype='ParkArmsAction', robot_state_id=1, robot_state=RobotState(id=1, pose_to_init=False, torso_height=0.0, type=<ObjectType.ROBOT: 8>, pose_id=1, process_metadata_id=1), arm=<Arms.BOTH: 3>),\n",
       " ParkArmsAction(id=11, process_metadata_id=1, dtype='ParkArmsAction', robot_state_id=5, robot_state=RobotState(id=5, pose_to_init=False, torso_height=0.3, type=<ObjectType.ROBOT: 8>, pose_id=11, process_metadata_id=1), arm=<Arms.BOTH: 3>),\n",
       " ParkArmsAction(id=18, process_metadata_id=1, dtype='ParkArmsAction', robot_state_id=8, robot_state=RobotState(id=8, pose_to_init=False, torso_height=0.3, type=<ObjectType.ROBOT: 8>, pose_id=20, process_metadata_id=1), arm=<Arms.BOTH: 3>)]"
      ]
     },
     "execution_count": 10,
     "metadata": {},
     "output_type": "execute_result"
    }
   ],
   "execution_count": 10
  },
  {
   "cell_type": "code",
   "metadata": {
    "ExecuteTime": {
     "end_time": "2024-08-21T08:57:39.529249Z",
     "start_time": "2024-08-21T08:57:39.525804Z"
    }
   },
   "source": [
    "object_actions = (session.scalars(select(pycram.orm.base.Pose)\n",
    "                  .join(pycram.orm.action_designator.PickUpAction.object)\n",
    "                  .join(pycram.orm.object_designator.Object.pose))\n",
    "                  .all())\n",
    "print(*object_actions, sep=\"\\n\")\n"
   ],
   "outputs": [
    {
     "name": "stdout",
     "output_type": "stream",
     "text": [
      "Pose(id=7, orientation_to_init=False, position_to_init=False, time=datetime.datetime(2024, 8, 21, 8, 55, 26, 909066), frame='map', position_id=7, orientation_id=7, process_metadata_id=1)\n"
     ]
    }
   ],
   "execution_count": 11
  },
  {
   "cell_type": "markdown",
   "metadata": {},
   "source": [
    "Did you notice, that for the joins we did not join the tables together in a typical sql kind of way, but rather used the relationships defined in the ORM classes and wrote joins like PickUpAction.object or Object.pose? This is because the ORM package automatically creates the joins for us, so we only have to join on the attributes that hold the relationship. This is a huge advantage over writing sql queries by hand, since we do not have to worry about the join conditions. \n",
    "This is a strong tool, but it is crucial to use it properly. Very important to note: The order of the joins matters! For instance, if we joined the Pose table with the Object table first, and placed the join between the PickUpAction table and the Object table second, sqlalchemy would have selected the Pose not from the join between all three tables, but rather from a join between the Pose and the Object table + from a join between the PickUpAction table and the Object table. These mistakes can lead to wrong results or even to errors (the above-mentioned example would actually lead to an error due to the Object table being accessed twice in two separate joins in the same query and therefore the column names of the Object tables would have been ambiguous and could not be used by sqlalchemy to join).\n",
    "\n",
    "Make sure to check out the other examples of ORM querying."
   ]
  },
  {
   "cell_type": "markdown",
   "metadata": {},
   "source": [
    "If we want to filter for all successful tasks we can just add the filter operator:"
   ]
  },
  {
   "cell_type": "code",
   "metadata": {
    "ExecuteTime": {
     "end_time": "2024-08-21T08:57:42.207491Z",
     "start_time": "2024-08-21T08:57:42.192850Z"
    }
   },
   "source": [
    "successful_tasks = session.scalars(select(pycram.orm.tasktree.TaskTreeNode).where(pycram.orm.tasktree.TaskTreeNode.status == \"SUCCEEDED\"))\n",
    "print(*successful_tasks, sep=\"\\n\")"
   ],
   "outputs": [
    {
     "name": "stdout",
     "output_type": "stream",
     "text": [
      "TaskTreeNode(id=2, action_id=None, action=None, start_time=datetime.datetime(2024, 8, 21, 10, 55, 19, 109011), end_time=datetime.datetime(2024, 8, 21, 10, 55, 28, 431303), status=<TaskStatus.SUCCEEDED: 2>, reason=None, parent_id=1, parent=TaskTreeNode(id=1, action_id=None, action=None, start_time=datetime.datetime(2024, 8, 21, 10, 55, 3, 531084), end_time=None, status=<TaskStatus.RUNNING: 1>, reason=None, parent_id=None, parent=None, process_metadata_id=1), process_metadata_id=1)\n",
      "TaskTreeNode(id=3, action_id=1, action=ParkArmsAction(id=1, process_metadata_id=1, dtype='ParkArmsAction', robot_state_id=1, robot_state=RobotState(id=1, pose_to_init=False, torso_height=0.0, type=<ObjectType.ROBOT: 8>, pose_id=1, process_metadata_id=1), arm=<Arms.BOTH: 3>), start_time=datetime.datetime(2024, 8, 21, 10, 55, 19, 109043), end_time=datetime.datetime(2024, 8, 21, 10, 55, 19, 613804), status=<TaskStatus.SUCCEEDED: 2>, reason=None, parent_id=2, parent=TaskTreeNode(id=2, action_id=None, action=None, start_time=datetime.datetime(2024, 8, 21, 10, 55, 19, 109011), end_time=datetime.datetime(2024, 8, 21, 10, 55, 28, 431303), status=<TaskStatus.SUCCEEDED: 2>, reason=None, parent_id=1, parent=TaskTreeNode(id=1, action_id=None, action=None, start_time=datetime.datetime(2024, 8, 21, 10, 55, 3, 531084), end_time=None, status=<TaskStatus.RUNNING: 1>, reason=None, parent_id=None, parent=None, process_metadata_id=1), process_metadata_id=1), process_metadata_id=1)\n",
      "TaskTreeNode(id=4, action_id=2, action=MoveTorsoAction(id=2, process_metadata_id=1, dtype='MoveTorsoAction', robot_state_id=2, robot_state=RobotState(id=2, pose_to_init=False, torso_height=0.0, type=<ObjectType.ROBOT: 8>, pose_id=2, process_metadata_id=1), position=0.3), start_time=datetime.datetime(2024, 8, 21, 10, 55, 19, 738571), end_time=datetime.datetime(2024, 8, 21, 10, 55, 20, 241165), status=<TaskStatus.SUCCEEDED: 2>, reason=None, parent_id=2, parent=TaskTreeNode(id=2, action_id=None, action=None, start_time=datetime.datetime(2024, 8, 21, 10, 55, 19, 109011), end_time=datetime.datetime(2024, 8, 21, 10, 55, 28, 431303), status=<TaskStatus.SUCCEEDED: 2>, reason=None, parent_id=1, parent=TaskTreeNode(id=1, action_id=None, action=None, start_time=datetime.datetime(2024, 8, 21, 10, 55, 3, 531084), end_time=None, status=<TaskStatus.RUNNING: 1>, reason=None, parent_id=None, parent=None, process_metadata_id=1), process_metadata_id=1), process_metadata_id=1)\n",
      "TaskTreeNode(id=5, action_id=3, action=NavigateAction(id=3, process_metadata_id=1, dtype='NavigateAction', robot_state_id=3, robot_state=RobotState(id=3, pose_to_init=False, torso_height=0.3, type=<ObjectType.ROBOT: 8>, pose_id=3, process_metadata_id=1), pose_to_init=False, pose_id=4), start_time=datetime.datetime(2024, 8, 21, 10, 55, 20, 831939), end_time=datetime.datetime(2024, 8, 21, 10, 55, 21, 336057), status=<TaskStatus.SUCCEEDED: 2>, reason=None, parent_id=2, parent=TaskTreeNode(id=2, action_id=None, action=None, start_time=datetime.datetime(2024, 8, 21, 10, 55, 19, 109011), end_time=datetime.datetime(2024, 8, 21, 10, 55, 28, 431303), status=<TaskStatus.SUCCEEDED: 2>, reason=None, parent_id=1, parent=TaskTreeNode(id=1, action_id=None, action=None, start_time=datetime.datetime(2024, 8, 21, 10, 55, 3, 531084), end_time=None, status=<TaskStatus.RUNNING: 1>, reason=None, parent_id=None, parent=None, process_metadata_id=1), process_metadata_id=1), process_metadata_id=1)\n",
      "TaskTreeNode(id=6, action_id=5, action=PickUpAction(id=5, process_metadata_id=1, dtype='PickUpAction', robot_state_id=4, robot_state=RobotState(id=4, pose_to_init=False, torso_height=0.3, type=<ObjectType.ROBOT: 8>, pose_id=6, process_metadata_id=1), object_to_init=False, arm='left', grasp='front', object_id=1), start_time=datetime.datetime(2024, 8, 21, 10, 55, 21, 336755), end_time=datetime.datetime(2024, 8, 21, 10, 55, 24, 793764), status=<TaskStatus.SUCCEEDED: 2>, reason=None, parent_id=2, parent=TaskTreeNode(id=2, action_id=None, action=None, start_time=datetime.datetime(2024, 8, 21, 10, 55, 19, 109011), end_time=datetime.datetime(2024, 8, 21, 10, 55, 28, 431303), status=<TaskStatus.SUCCEEDED: 2>, reason=None, parent_id=1, parent=TaskTreeNode(id=1, action_id=None, action=None, start_time=datetime.datetime(2024, 8, 21, 10, 55, 3, 531084), end_time=None, status=<TaskStatus.RUNNING: 1>, reason=None, parent_id=None, parent=None, process_metadata_id=1), process_metadata_id=1), process_metadata_id=1)\n",
      "TaskTreeNode(id=7, action_id=11, action=ParkArmsAction(id=11, process_metadata_id=1, dtype='ParkArmsAction', robot_state_id=5, robot_state=RobotState(id=5, pose_to_init=False, torso_height=0.3, type=<ObjectType.ROBOT: 8>, pose_id=11, process_metadata_id=1), arm=<Arms.BOTH: 3>), start_time=datetime.datetime(2024, 8, 21, 10, 55, 24, 794185), end_time=datetime.datetime(2024, 8, 21, 10, 55, 25, 302557), status=<TaskStatus.SUCCEEDED: 2>, reason=None, parent_id=2, parent=TaskTreeNode(id=2, action_id=None, action=None, start_time=datetime.datetime(2024, 8, 21, 10, 55, 19, 109011), end_time=datetime.datetime(2024, 8, 21, 10, 55, 28, 431303), status=<TaskStatus.SUCCEEDED: 2>, reason=None, parent_id=1, parent=TaskTreeNode(id=1, action_id=None, action=None, start_time=datetime.datetime(2024, 8, 21, 10, 55, 3, 531084), end_time=None, status=<TaskStatus.RUNNING: 1>, reason=None, parent_id=None, parent=None, process_metadata_id=1), process_metadata_id=1), process_metadata_id=1)\n",
      "TaskTreeNode(id=8, action_id=12, action=NavigateAction(id=12, process_metadata_id=1, dtype='NavigateAction', robot_state_id=6, robot_state=RobotState(id=6, pose_to_init=False, torso_height=0.3, type=<ObjectType.ROBOT: 8>, pose_id=12, process_metadata_id=1), pose_to_init=False, pose_id=13), start_time=datetime.datetime(2024, 8, 21, 10, 55, 25, 877339), end_time=datetime.datetime(2024, 8, 21, 10, 55, 26, 382721), status=<TaskStatus.SUCCEEDED: 2>, reason=None, parent_id=2, parent=TaskTreeNode(id=2, action_id=None, action=None, start_time=datetime.datetime(2024, 8, 21, 10, 55, 19, 109011), end_time=datetime.datetime(2024, 8, 21, 10, 55, 28, 431303), status=<TaskStatus.SUCCEEDED: 2>, reason=None, parent_id=1, parent=TaskTreeNode(id=1, action_id=None, action=None, start_time=datetime.datetime(2024, 8, 21, 10, 55, 3, 531084), end_time=None, status=<TaskStatus.RUNNING: 1>, reason=None, parent_id=None, parent=None, process_metadata_id=1), process_metadata_id=1), process_metadata_id=1)\n",
      "TaskTreeNode(id=9, action_id=14, action=PlaceAction(id=14, process_metadata_id=1, dtype='PlaceAction', robot_state_id=7, robot_state=RobotState(id=7, pose_to_init=False, torso_height=0.3, type=<ObjectType.ROBOT: 8>, pose_id=15, process_metadata_id=1), object_to_init=False, pose_to_init=False, arm='left', pose_id=17, object_id=2), start_time=datetime.datetime(2024, 8, 21, 10, 55, 26, 383099), end_time=datetime.datetime(2024, 8, 21, 10, 55, 27, 926006), status=<TaskStatus.SUCCEEDED: 2>, reason=None, parent_id=2, parent=TaskTreeNode(id=2, action_id=None, action=None, start_time=datetime.datetime(2024, 8, 21, 10, 55, 19, 109011), end_time=datetime.datetime(2024, 8, 21, 10, 55, 28, 431303), status=<TaskStatus.SUCCEEDED: 2>, reason=None, parent_id=1, parent=TaskTreeNode(id=1, action_id=None, action=None, start_time=datetime.datetime(2024, 8, 21, 10, 55, 3, 531084), end_time=None, status=<TaskStatus.RUNNING: 1>, reason=None, parent_id=None, parent=None, process_metadata_id=1), process_metadata_id=1), process_metadata_id=1)\n",
      "TaskTreeNode(id=10, action_id=18, action=ParkArmsAction(id=18, process_metadata_id=1, dtype='ParkArmsAction', robot_state_id=8, robot_state=RobotState(id=8, pose_to_init=False, torso_height=0.3, type=<ObjectType.ROBOT: 8>, pose_id=20, process_metadata_id=1), arm=<Arms.BOTH: 3>), start_time=datetime.datetime(2024, 8, 21, 10, 55, 27, 926073), end_time=datetime.datetime(2024, 8, 21, 10, 55, 28, 431292), status=<TaskStatus.SUCCEEDED: 2>, reason=None, parent_id=2, parent=TaskTreeNode(id=2, action_id=None, action=None, start_time=datetime.datetime(2024, 8, 21, 10, 55, 19, 109011), end_time=datetime.datetime(2024, 8, 21, 10, 55, 28, 431303), status=<TaskStatus.SUCCEEDED: 2>, reason=None, parent_id=1, parent=TaskTreeNode(id=1, action_id=None, action=None, start_time=datetime.datetime(2024, 8, 21, 10, 55, 3, 531084), end_time=None, status=<TaskStatus.RUNNING: 1>, reason=None, parent_id=None, parent=None, process_metadata_id=1), process_metadata_id=1), process_metadata_id=1)\n",
      "TaskTreeNode(id=11, action_id=4, action=MoveMotion(id=4, process_metadata_id=1, dtype='MoveMotion', pose_to_init=False, pose_id=5), start_time=datetime.datetime(2024, 8, 21, 10, 55, 20, 831971), end_time=datetime.datetime(2024, 8, 21, 10, 55, 21, 336052), status=<TaskStatus.SUCCEEDED: 2>, reason=None, parent_id=5, parent=TaskTreeNode(id=5, action_id=3, action=NavigateAction(id=3, process_metadata_id=1, dtype='NavigateAction', robot_state_id=3, robot_state=RobotState(id=3, pose_to_init=False, torso_height=0.3, type=<ObjectType.ROBOT: 8>, pose_id=3, process_metadata_id=1), pose_to_init=False, pose_id=4), start_time=datetime.datetime(2024, 8, 21, 10, 55, 20, 831939), end_time=datetime.datetime(2024, 8, 21, 10, 55, 21, 336057), status=<TaskStatus.SUCCEEDED: 2>, reason=None, parent_id=2, parent=TaskTreeNode(id=2, action_id=None, action=None, start_time=datetime.datetime(2024, 8, 21, 10, 55, 19, 109011), end_time=datetime.datetime(2024, 8, 21, 10, 55, 28, 431303), status=<TaskStatus.SUCCEEDED: 2>, reason=None, parent_id=1, parent=TaskTreeNode(id=1, action_id=None, action=None, start_time=datetime.datetime(2024, 8, 21, 10, 55, 3, 531084), end_time=None, status=<TaskStatus.RUNNING: 1>, reason=None, parent_id=None, parent=None, process_metadata_id=1), process_metadata_id=1), process_metadata_id=1), process_metadata_id=1)\n",
      "TaskTreeNode(id=12, action_id=6, action=MoveTCPMotion(id=6, process_metadata_id=1, dtype='MoveTCPMotion', pose_to_init=False, arm='left', allow_gripper_collision=True, pose_id=8), start_time=datetime.datetime(2024, 8, 21, 10, 55, 21, 540784), end_time=datetime.datetime(2024, 8, 21, 10, 55, 22, 55591), status=<TaskStatus.SUCCEEDED: 2>, reason=None, parent_id=6, parent=TaskTreeNode(id=6, action_id=5, action=PickUpAction(id=5, process_metadata_id=1, dtype='PickUpAction', robot_state_id=4, robot_state=RobotState(id=4, pose_to_init=False, torso_height=0.3, type=<ObjectType.ROBOT: 8>, pose_id=6, process_metadata_id=1), object_to_init=False, arm='left', grasp='front', object_id=1), start_time=datetime.datetime(2024, 8, 21, 10, 55, 21, 336755), end_time=datetime.datetime(2024, 8, 21, 10, 55, 24, 793764), status=<TaskStatus.SUCCEEDED: 2>, reason=None, parent_id=2, parent=TaskTreeNode(id=2, action_id=None, action=None, start_time=datetime.datetime(2024, 8, 21, 10, 55, 19, 109011), end_time=datetime.datetime(2024, 8, 21, 10, 55, 28, 431303), status=<TaskStatus.SUCCEEDED: 2>, reason=None, parent_id=1, parent=TaskTreeNode(id=1, action_id=None, action=None, start_time=datetime.datetime(2024, 8, 21, 10, 55, 3, 531084), end_time=None, status=<TaskStatus.RUNNING: 1>, reason=None, parent_id=None, parent=None, process_metadata_id=1), process_metadata_id=1), process_metadata_id=1), process_metadata_id=1)\n",
      "TaskTreeNode(id=13, action_id=7, action=MoveGripperMotion(id=7, process_metadata_id=1, dtype='MoveGripperMotion', motion='open', gripper='left', allow_gripper_collision=None), start_time=datetime.datetime(2024, 8, 21, 10, 55, 22, 55702), end_time=datetime.datetime(2024, 8, 21, 10, 55, 22, 559999), status=<TaskStatus.SUCCEEDED: 2>, reason=None, parent_id=6, parent=TaskTreeNode(id=6, action_id=5, action=PickUpAction(id=5, process_metadata_id=1, dtype='PickUpAction', robot_state_id=4, robot_state=RobotState(id=4, pose_to_init=False, torso_height=0.3, type=<ObjectType.ROBOT: 8>, pose_id=6, process_metadata_id=1), object_to_init=False, arm='left', grasp='front', object_id=1), start_time=datetime.datetime(2024, 8, 21, 10, 55, 21, 336755), end_time=datetime.datetime(2024, 8, 21, 10, 55, 24, 793764), status=<TaskStatus.SUCCEEDED: 2>, reason=None, parent_id=2, parent=TaskTreeNode(id=2, action_id=None, action=None, start_time=datetime.datetime(2024, 8, 21, 10, 55, 19, 109011), end_time=datetime.datetime(2024, 8, 21, 10, 55, 28, 431303), status=<TaskStatus.SUCCEEDED: 2>, reason=None, parent_id=1, parent=TaskTreeNode(id=1, action_id=None, action=None, start_time=datetime.datetime(2024, 8, 21, 10, 55, 3, 531084), end_time=None, status=<TaskStatus.RUNNING: 1>, reason=None, parent_id=None, parent=None, process_metadata_id=1), process_metadata_id=1), process_metadata_id=1), process_metadata_id=1)\n",
      "TaskTreeNode(id=14, action_id=8, action=MoveTCPMotion(id=8, process_metadata_id=1, dtype='MoveTCPMotion', pose_to_init=False, arm='left', allow_gripper_collision=True, pose_id=9), start_time=datetime.datetime(2024, 8, 21, 10, 55, 22, 759180), end_time=datetime.datetime(2024, 8, 21, 10, 55, 23, 273427), status=<TaskStatus.SUCCEEDED: 2>, reason=None, parent_id=6, parent=TaskTreeNode(id=6, action_id=5, action=PickUpAction(id=5, process_metadata_id=1, dtype='PickUpAction', robot_state_id=4, robot_state=RobotState(id=4, pose_to_init=False, torso_height=0.3, type=<ObjectType.ROBOT: 8>, pose_id=6, process_metadata_id=1), object_to_init=False, arm='left', grasp='front', object_id=1), start_time=datetime.datetime(2024, 8, 21, 10, 55, 21, 336755), end_time=datetime.datetime(2024, 8, 21, 10, 55, 24, 793764), status=<TaskStatus.SUCCEEDED: 2>, reason=None, parent_id=2, parent=TaskTreeNode(id=2, action_id=None, action=None, start_time=datetime.datetime(2024, 8, 21, 10, 55, 19, 109011), end_time=datetime.datetime(2024, 8, 21, 10, 55, 28, 431303), status=<TaskStatus.SUCCEEDED: 2>, reason=None, parent_id=1, parent=TaskTreeNode(id=1, action_id=None, action=None, start_time=datetime.datetime(2024, 8, 21, 10, 55, 3, 531084), end_time=None, status=<TaskStatus.RUNNING: 1>, reason=None, parent_id=None, parent=None, process_metadata_id=1), process_metadata_id=1), process_metadata_id=1), process_metadata_id=1)\n",
      "TaskTreeNode(id=15, action_id=9, action=MoveGripperMotion(id=9, process_metadata_id=1, dtype='MoveGripperMotion', motion='close', gripper='left', allow_gripper_collision=None), start_time=datetime.datetime(2024, 8, 21, 10, 55, 23, 273527), end_time=datetime.datetime(2024, 8, 21, 10, 55, 23, 778205), status=<TaskStatus.SUCCEEDED: 2>, reason=None, parent_id=6, parent=TaskTreeNode(id=6, action_id=5, action=PickUpAction(id=5, process_metadata_id=1, dtype='PickUpAction', robot_state_id=4, robot_state=RobotState(id=4, pose_to_init=False, torso_height=0.3, type=<ObjectType.ROBOT: 8>, pose_id=6, process_metadata_id=1), object_to_init=False, arm='left', grasp='front', object_id=1), start_time=datetime.datetime(2024, 8, 21, 10, 55, 21, 336755), end_time=datetime.datetime(2024, 8, 21, 10, 55, 24, 793764), status=<TaskStatus.SUCCEEDED: 2>, reason=None, parent_id=2, parent=TaskTreeNode(id=2, action_id=None, action=None, start_time=datetime.datetime(2024, 8, 21, 10, 55, 19, 109011), end_time=datetime.datetime(2024, 8, 21, 10, 55, 28, 431303), status=<TaskStatus.SUCCEEDED: 2>, reason=None, parent_id=1, parent=TaskTreeNode(id=1, action_id=None, action=None, start_time=datetime.datetime(2024, 8, 21, 10, 55, 3, 531084), end_time=None, status=<TaskStatus.RUNNING: 1>, reason=None, parent_id=None, parent=None, process_metadata_id=1), process_metadata_id=1), process_metadata_id=1), process_metadata_id=1)\n",
      "TaskTreeNode(id=16, action_id=10, action=MoveTCPMotion(id=10, process_metadata_id=1, dtype='MoveTCPMotion', pose_to_init=False, arm='left', allow_gripper_collision=True, pose_id=10), start_time=datetime.datetime(2024, 8, 21, 10, 55, 23, 976574), end_time=datetime.datetime(2024, 8, 21, 10, 55, 24, 496026), status=<TaskStatus.SUCCEEDED: 2>, reason=None, parent_id=6, parent=TaskTreeNode(id=6, action_id=5, action=PickUpAction(id=5, process_metadata_id=1, dtype='PickUpAction', robot_state_id=4, robot_state=RobotState(id=4, pose_to_init=False, torso_height=0.3, type=<ObjectType.ROBOT: 8>, pose_id=6, process_metadata_id=1), object_to_init=False, arm='left', grasp='front', object_id=1), start_time=datetime.datetime(2024, 8, 21, 10, 55, 21, 336755), end_time=datetime.datetime(2024, 8, 21, 10, 55, 24, 793764), status=<TaskStatus.SUCCEEDED: 2>, reason=None, parent_id=2, parent=TaskTreeNode(id=2, action_id=None, action=None, start_time=datetime.datetime(2024, 8, 21, 10, 55, 19, 109011), end_time=datetime.datetime(2024, 8, 21, 10, 55, 28, 431303), status=<TaskStatus.SUCCEEDED: 2>, reason=None, parent_id=1, parent=TaskTreeNode(id=1, action_id=None, action=None, start_time=datetime.datetime(2024, 8, 21, 10, 55, 3, 531084), end_time=None, status=<TaskStatus.RUNNING: 1>, reason=None, parent_id=None, parent=None, process_metadata_id=1), process_metadata_id=1), process_metadata_id=1), process_metadata_id=1)\n",
      "TaskTreeNode(id=17, action_id=13, action=MoveMotion(id=13, process_metadata_id=1, dtype='MoveMotion', pose_to_init=False, pose_id=14), start_time=datetime.datetime(2024, 8, 21, 10, 55, 25, 877369), end_time=datetime.datetime(2024, 8, 21, 10, 55, 26, 382716), status=<TaskStatus.SUCCEEDED: 2>, reason=None, parent_id=8, parent=TaskTreeNode(id=8, action_id=12, action=NavigateAction(id=12, process_metadata_id=1, dtype='NavigateAction', robot_state_id=6, robot_state=RobotState(id=6, pose_to_init=False, torso_height=0.3, type=<ObjectType.ROBOT: 8>, pose_id=12, process_metadata_id=1), pose_to_init=False, pose_id=13), start_time=datetime.datetime(2024, 8, 21, 10, 55, 25, 877339), end_time=datetime.datetime(2024, 8, 21, 10, 55, 26, 382721), status=<TaskStatus.SUCCEEDED: 2>, reason=None, parent_id=2, parent=TaskTreeNode(id=2, action_id=None, action=None, start_time=datetime.datetime(2024, 8, 21, 10, 55, 19, 109011), end_time=datetime.datetime(2024, 8, 21, 10, 55, 28, 431303), status=<TaskStatus.SUCCEEDED: 2>, reason=None, parent_id=1, parent=TaskTreeNode(id=1, action_id=None, action=None, start_time=datetime.datetime(2024, 8, 21, 10, 55, 3, 531084), end_time=None, status=<TaskStatus.RUNNING: 1>, reason=None, parent_id=None, parent=None, process_metadata_id=1), process_metadata_id=1), process_metadata_id=1), process_metadata_id=1)\n",
      "TaskTreeNode(id=18, action_id=15, action=MoveTCPMotion(id=15, process_metadata_id=1, dtype='MoveTCPMotion', pose_to_init=False, arm='left', allow_gripper_collision=None, pose_id=18), start_time=datetime.datetime(2024, 8, 21, 10, 55, 26, 385279), end_time=datetime.datetime(2024, 8, 21, 10, 55, 26, 901900), status=<TaskStatus.SUCCEEDED: 2>, reason=None, parent_id=9, parent=TaskTreeNode(id=9, action_id=14, action=PlaceAction(id=14, process_metadata_id=1, dtype='PlaceAction', robot_state_id=7, robot_state=RobotState(id=7, pose_to_init=False, torso_height=0.3, type=<ObjectType.ROBOT: 8>, pose_id=15, process_metadata_id=1), object_to_init=False, pose_to_init=False, arm='left', pose_id=17, object_id=2), start_time=datetime.datetime(2024, 8, 21, 10, 55, 26, 383099), end_time=datetime.datetime(2024, 8, 21, 10, 55, 27, 926006), status=<TaskStatus.SUCCEEDED: 2>, reason=None, parent_id=2, parent=TaskTreeNode(id=2, action_id=None, action=None, start_time=datetime.datetime(2024, 8, 21, 10, 55, 19, 109011), end_time=datetime.datetime(2024, 8, 21, 10, 55, 28, 431303), status=<TaskStatus.SUCCEEDED: 2>, reason=None, parent_id=1, parent=TaskTreeNode(id=1, action_id=None, action=None, start_time=datetime.datetime(2024, 8, 21, 10, 55, 3, 531084), end_time=None, status=<TaskStatus.RUNNING: 1>, reason=None, parent_id=None, parent=None, process_metadata_id=1), process_metadata_id=1), process_metadata_id=1), process_metadata_id=1)\n",
      "TaskTreeNode(id=19, action_id=16, action=MoveGripperMotion(id=16, process_metadata_id=1, dtype='MoveGripperMotion', motion='open', gripper='left', allow_gripper_collision=None), start_time=datetime.datetime(2024, 8, 21, 10, 55, 26, 901987), end_time=datetime.datetime(2024, 8, 21, 10, 55, 27, 409595), status=<TaskStatus.SUCCEEDED: 2>, reason=None, parent_id=9, parent=TaskTreeNode(id=9, action_id=14, action=PlaceAction(id=14, process_metadata_id=1, dtype='PlaceAction', robot_state_id=7, robot_state=RobotState(id=7, pose_to_init=False, torso_height=0.3, type=<ObjectType.ROBOT: 8>, pose_id=15, process_metadata_id=1), object_to_init=False, pose_to_init=False, arm='left', pose_id=17, object_id=2), start_time=datetime.datetime(2024, 8, 21, 10, 55, 26, 383099), end_time=datetime.datetime(2024, 8, 21, 10, 55, 27, 926006), status=<TaskStatus.SUCCEEDED: 2>, reason=None, parent_id=2, parent=TaskTreeNode(id=2, action_id=None, action=None, start_time=datetime.datetime(2024, 8, 21, 10, 55, 19, 109011), end_time=datetime.datetime(2024, 8, 21, 10, 55, 28, 431303), status=<TaskStatus.SUCCEEDED: 2>, reason=None, parent_id=1, parent=TaskTreeNode(id=1, action_id=None, action=None, start_time=datetime.datetime(2024, 8, 21, 10, 55, 3, 531084), end_time=None, status=<TaskStatus.RUNNING: 1>, reason=None, parent_id=None, parent=None, process_metadata_id=1), process_metadata_id=1), process_metadata_id=1), process_metadata_id=1)\n",
      "TaskTreeNode(id=20, action_id=17, action=MoveTCPMotion(id=17, process_metadata_id=1, dtype='MoveTCPMotion', pose_to_init=False, arm='left', allow_gripper_collision=None, pose_id=19), start_time=datetime.datetime(2024, 8, 21, 10, 55, 27, 411437), end_time=datetime.datetime(2024, 8, 21, 10, 55, 27, 925996), status=<TaskStatus.SUCCEEDED: 2>, reason=None, parent_id=9, parent=TaskTreeNode(id=9, action_id=14, action=PlaceAction(id=14, process_metadata_id=1, dtype='PlaceAction', robot_state_id=7, robot_state=RobotState(id=7, pose_to_init=False, torso_height=0.3, type=<ObjectType.ROBOT: 8>, pose_id=15, process_metadata_id=1), object_to_init=False, pose_to_init=False, arm='left', pose_id=17, object_id=2), start_time=datetime.datetime(2024, 8, 21, 10, 55, 26, 383099), end_time=datetime.datetime(2024, 8, 21, 10, 55, 27, 926006), status=<TaskStatus.SUCCEEDED: 2>, reason=None, parent_id=2, parent=TaskTreeNode(id=2, action_id=None, action=None, start_time=datetime.datetime(2024, 8, 21, 10, 55, 19, 109011), end_time=datetime.datetime(2024, 8, 21, 10, 55, 28, 431303), status=<TaskStatus.SUCCEEDED: 2>, reason=None, parent_id=1, parent=TaskTreeNode(id=1, action_id=None, action=None, start_time=datetime.datetime(2024, 8, 21, 10, 55, 3, 531084), end_time=None, status=<TaskStatus.RUNNING: 1>, reason=None, parent_id=None, parent=None, process_metadata_id=1), process_metadata_id=1), process_metadata_id=1), process_metadata_id=1)\n"
     ]
    }
   ],
   "execution_count": 12
  },
  {
   "cell_type": "markdown",
   "metadata": {},
   "source": [
    "As expected all but the root node succeeded, since the root node is still running.\n",
    "\n",
    "Writing an extension to the ORM package is also done with ease. We need to create a new ActionDesignator class and its ORM equivalent, where we define our new table. Let's say we want to log all the things the robot says. We will create a new ActionDesignator class called Saying and its ORM equivalent called ORMSaying. "
   ]
  },
  {
   "cell_type": "code",
   "metadata": {
    "ExecuteTime": {
     "end_time": "2024-08-21T08:57:45.164710Z",
     "start_time": "2024-08-21T08:57:45.158717Z"
    }
   },
   "source": [
    "from sqlalchemy.orm import Mapped, mapped_column, Session\n",
    "from pycram.orm.action_designator import Action\n",
    "from dataclasses import dataclass\n",
    "\n",
    "\n",
    "# define ORM class from pattern in every pycram.orm class\n",
    "class ORMSaying(Action):\n",
    "\n",
    "    id: Mapped[int] = mapped_column(sqlalchemy.ForeignKey(f'{Action.__tablename__}.id'), primary_key=True, init=False)\n",
    "    # since we do not want to add any custom specifications to our column, we don't even need to define mapped_column, sqlalchemy does this internally.\n",
    "    text: Mapped[str] \n",
    "\n",
    "# define brand new action designator\n",
    "\n",
    "@dataclass \n",
    "class SayingActionPerformable(ActionDesignatorDescription.Action):\n",
    "    \n",
    "    text: str\n",
    "        \n",
    "    @with_tree\n",
    "    def perform(self) -> None:\n",
    "        print(self.text)\n",
    "\n",
    "    def to_sql(self) -> ORMSaying:\n",
    "        return ORMSaying(self.text)\n",
    "\n",
    "    def insert(self, session: Session, *args, **kwargs) -> ORMSaying:\n",
    "        action = super().insert(session)\n",
    "        session.add(action)\n",
    "        session.commit()\n",
    "        return action\n"
   ],
   "outputs": [],
   "execution_count": 13
  },
  {
   "cell_type": "markdown",
   "metadata": {},
   "source": [
    "Now we got our new ActionDesignator called Saying and its ORM version. Since this class got created after all other classes got inserted into the database (in the beginning of the notebook) we have to insert it manually. "
   ]
  },
  {
   "cell_type": "code",
   "metadata": {
    "ExecuteTime": {
     "end_time": "2024-08-21T08:57:53.136035Z",
     "start_time": "2024-08-21T08:57:53.132558Z"
    }
   },
   "source": [
    "ORMSaying.metadata.create_all(bind=engine)"
   ],
   "outputs": [],
   "execution_count": 14
  },
  {
   "cell_type": "markdown",
   "metadata": {},
   "source": [
    "Now we can create and insert a Saying action. Since this is the last part where we interact with the BulletWorld, we can also close it."
   ]
  },
  {
   "cell_type": "code",
   "metadata": {
    "ExecuteTime": {
     "end_time": "2024-08-21T08:57:55.926311Z",
     "start_time": "2024-08-21T08:57:55.869686Z"
    }
   },
   "source": [
    "# create a saying action and insert it\n",
    "SayingActionPerformable(\"Patchie, Patchie; Where is my Patchie?\").perform()\n",
    "pycram.tasktree.task_tree.root.insert(session)\n",
    "session.commit()\n",
    "\n",
    "world.exit()"
   ],
   "outputs": [
    {
     "name": "stdout",
     "output_type": "stream",
     "text": [
      "Patchie, Patchie; Where is my Patchie?\n"
     ]
    },
    {
     "name": "stderr",
     "output_type": "stream",
     "text": [
      "Inserting TaskTree into database: 100%|███████████████████████████████████████████████████████████████████████████████████████████████████████████████████████████████████████████████████████████| 21/21 [00:00<00:00, 1247.84it/s]\n"
     ]
    }
   ],
   "execution_count": 15
  },
  {
   "cell_type": "markdown",
   "metadata": {},
   "source": [
    "It is notable that committing the object to the session fills its primary key. Hence, there is no worries about assigning unique IDs manually.\n",
    "Finally, we can double-check that our object exists in the database."
   ]
  },
  {
   "cell_type": "code",
   "metadata": {
    "ExecuteTime": {
     "end_time": "2024-08-21T08:58:02.610691Z",
     "start_time": "2024-08-21T08:58:02.607091Z"
    }
   },
   "source": [
    "session.scalars(select(ORMSaying)).all()"
   ],
   "outputs": [
    {
     "data": {
      "text/plain": [
       "[ORMSaying(id=37, process_metadata_id=1, dtype='ORMSaying', robot_state_id=17, robot_state=RobotState(id=17, pose_to_init=False, torso_height=0.3, type=<ObjectType.ROBOT: 8>, pose_id=41, process_metadata_id=1), text='Patchie, Patchie; Where is my Patchie?')]"
      ]
     },
     "execution_count": 16,
     "metadata": {},
     "output_type": "execute_result"
    }
   ],
   "execution_count": 16
  },
  {
   "metadata": {},
   "cell_type": "code",
   "outputs": [],
   "execution_count": null,
   "source": ""
  }
 ],
 "metadata": {
  "kernelspec": {
   "display_name": "Python 3 (ipykernel)",
   "language": "python",
   "name": "python3"
  },
  "language_info": {
   "codemirror_mode": {
    "name": "ipython",
    "version": 3
   },
   "file_extension": ".py",
   "mimetype": "text/x-python",
   "name": "python",
   "nbconvert_exporter": "python",
   "pygments_lexer": "ipython3",
   "version": "3.8.10"
  }
 },
 "nbformat": 4,
 "nbformat_minor": 1
}
