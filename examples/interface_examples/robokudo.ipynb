{
 "cells": [
  {
   "cell_type": "markdown",
   "id": "978aa367",
   "metadata": {},
   "source": [
    "# Robokudo interface in PyCRAM\n",
    "This notebook should give you an example on how the RoboKudo interface in PyCRAM works. We will go over how to use the interface, how it is implemented and what can be extended. \n",
    "\n",
    "First, you need to install RoboKudo by following the installation instructions [here](https://robokudo.ai.uni-bremen.de/installation.html). \n",
    "\n",
    "RoboKudo depends on a pipline of so-called annotators to process images, depending on your use-case the used annotators will change. But for this simple example we can use the demo pipeline from the [tutorial](https://robokudo.ai.uni-bremen.de/tutorials/run_pipeline.html). You can start RoboKudo by calling \n",
    "```\n",
    "rosrun robokudo main.py _ae=query\n",
    "```\n",
    "To get a stream of images to process you need the test bag file, from [here](https://robokudo.ai.uni-bremen.de/_downloads/6cd3bff02fd0d7a3933348060faa42fc/test.bag). You can run this bag file with the following command in the directory where the bag file is. \n",
    "```\n",
    "rosbag play test.bag --loop\n",
    "```\n",
    "\n",
    "There should now be two windows which show you the result of the annotators. You switch between different annotators by using the arrow keys. \n"
   ]
  },
  {
   "cell_type": "markdown",
   "id": "6c37a831",
   "metadata": {},
   "source": [
    "## How to use the RoboKudo interface in PyCRAM\n",
    "Everything related to the RoboKudo interface can be found in the file ```pycram.external_interfaces.robokudo```. The most important method of this file is ```query``` which takes a PyCRAM object designator and calls RoboKudo to try to find a fitting object in the camera view. The other methods are just helper for constructing messages. \n",
    "\n",
    "Since we are only working with the demo pipeline we will only see how the interface functions but not actually perceive objects in the images."
   ]
  },
  {
   "cell_type": "code",
   "id": "74811bdf",
   "metadata": {
    "ExecuteTime": {
     "end_time": "2024-07-09T13:10:08.291399Z",
     "start_time": "2024-07-09T13:10:07.741359Z"
    }
   },
   "source": [
    "from pycram.external_interfaces import robokudo\n",
    "from pycram.designators.object_designator import *\n",
    "from pycram.datastructures.enums import ObjectType\n",
    "\n",
    "object_desig_desc = ObjectDesignatorDescription(types=[ObjectType.BOWL])\n",
    "robokudo.query(object_desig_desc)"
   ],
   "outputs": [
    {
     "name": "stderr",
     "output_type": "stream",
     "text": [
      "Unknown attribute \"type\" in /robot[@name='pr2']/link[@name='base_laser_link']\n",
      "Unknown attribute \"type\" in /robot[@name='pr2']/link[@name='wide_stereo_optical_frame']\n",
      "Unknown attribute \"type\" in /robot[@name='pr2']/link[@name='narrow_stereo_optical_frame']\n",
      "Unknown attribute \"type\" in /robot[@name='pr2']/link[@name='laser_tilt_link']\n",
      "Failed to import Giskard messages, the real robot will not be available\n",
      "Could not import RoboKudo messages, RoboKudo interface could not be initialized\n",
      "pybullet build time: Nov 28 2023 23:51:11\n",
      "[WARN] [1720530608.289793]: Could not initialize the RoboKudo interface since the robokudo_msgs are not imported\n"
     ]
    }
   ],
   "execution_count": 1
  },
  {
   "cell_type": "markdown",
   "id": "da0dbc43",
   "metadata": {},
   "source": [
    "There was no object detected since the pipline we are using for this example only returns an empty message. However, this should give you an impression on how the interface works."
   ]
  },
  {
   "cell_type": "markdown",
   "id": "15a078c8",
   "metadata": {},
   "source": [
    "## How the RoboKudo interface in PyCRAM works\n",
    "The interface to RoboKudo is designed around the ROS service that RoboKudo provides. The interface takes an ObjectDesignatorDescription which is PyCRAMs symbolic representation of objects and converts it to a RoboKudo ObjectDesignator, the RoboKudo ObjectDesignator is then send to RoboKudo. \n",
    "\n",
    "The result from this is a list of RoboKudo ObjectDesignators which are possible matches that were found in the camera FOV. Each of these ObjectDesignators has a list of possible poses that are the result of different pose estimators (currently PyCRAM picks the pose from 'ClusterPoseBBAnnotator' from the list of possible poses).\n",
    "PyCRAM then transforms all possible poses for the found Objects to 'map' frame and returns them as a dictionary.\n",
    "\n",
    "When using the interface the decorator ```init_robokudo_interface``` should be added to all methods that want to send queries to RoboKudo. This decorator makes sure that RoboKudo is running and creates an action client which can be used via the global variable ```robokudo_action_client```."
   ]
  },
  {
   "cell_type": "markdown",
   "id": "74f8c0d2",
   "metadata": {},
   "source": [
    "## How to extend the RoboKudo interface in PyCRAM\n",
    "At the moment the RoboKudo interface is tailored towards a specific scenario, in which only two types of objects need to be detected. The distinction is mainly made by the difference in color, which is written in the RoboKudo ObjectDesignator depending on the ObjectType of the PyCRAM ObjectDesignator. \n",
    "\n",
    "The main point for extension would be to make the interface more universal and extend it to work with other pipelines for example for human detection."
   ]
  },
  {
   "metadata": {
    "ExecuteTime": {
     "end_time": "2024-07-11T10:57:43.447917Z",
     "start_time": "2024-07-11T10:57:43.446595Z"
    }
   },
   "cell_type": "code",
   "source": "",
   "id": "6454922c83321ac9",
   "outputs": [],
   "execution_count": null
  },
  {
   "metadata": {
    "ExecuteTime": {
     "end_time": "2024-07-11T10:57:43.449751Z",
     "start_time": "2024-07-11T10:57:43.448599Z"
    }
   },
   "cell_type": "code",
   "source": "",
   "id": "cb9ea8fe08a7d4ee",
   "outputs": [],
   "execution_count": null
  },
  {
   "metadata": {
    "ExecuteTime": {
     "end_time": "2024-07-11T10:57:43.451359Z",
     "start_time": "2024-07-11T10:57:43.450238Z"
    }
   },
   "cell_type": "code",
   "source": "",
   "id": "4dfbbf699d31d13c",
   "outputs": [],
   "execution_count": null
  },
  {
   "metadata": {
    "ExecuteTime": {
     "end_time": "2024-07-11T10:57:48.427585Z",
     "start_time": "2024-07-11T10:57:48.391271Z"
    }
   },
   "cell_type": "code",
   "source": "import rdflib",
   "id": "3429f7ae3a391d35",
   "outputs": [],
   "execution_count": 1
  },
  {
   "metadata": {
    "ExecuteTime": {
     "end_time": "2024-07-11T10:59:37.433557Z",
     "start_time": "2024-07-11T10:59:37.420445Z"
    }
   },
   "cell_type": "code",
   "source": [
    "graph = rdflib.Graph()\n",
    "graph.parse(\"/home/malineni/ROS_WS/tpycram_ws/src/iai_maps/iai_kitchen/owl/iai-kitchen-knowledge.owl\")"
   ],
   "id": "2cd1b38114af5406",
   "outputs": [
    {
     "data": {
      "text/plain": [
       "<Graph identifier=N0859c7d2e45a46b0aa0fe630976ac6bf (<class 'rdflib.graph.Graph'>)>"
      ]
     },
     "execution_count": 3,
     "metadata": {},
     "output_type": "execute_result"
    }
   ],
   "execution_count": 3
  },
  {
   "metadata": {
    "ExecuteTime": {
     "end_time": "2024-07-11T11:00:00.528287Z",
     "start_time": "2024-07-11T11:00:00.523986Z"
    }
   },
   "cell_type": "code",
   "source": [
    "triples = []\n",
    "for subj, pred, obj in graph:\n",
    "    triples.append((subj, pred, obj))"
   ],
   "id": "4d6e5eec7b4d7770",
   "outputs": [],
   "execution_count": 4
  },
  {
   "metadata": {
    "ExecuteTime": {
     "end_time": "2024-07-11T11:38:06.030285Z",
     "start_time": "2024-07-11T11:38:06.027619Z"
    }
   },
   "cell_type": "code",
   "source": "triples[151]",
   "id": "f66d002fec068e7c",
   "outputs": [
    {
     "data": {
      "text/plain": [
       "(rdflib.term.URIRef('http://knowrob.org/kb/knowrob.owl#IAIHandle'),\n",
       " rdflib.term.URIRef('http://www.w3.org/1999/02/22-rdf-syntax-ns#type'),\n",
       " rdflib.term.URIRef('http://www.w3.org/2002/07/owl#Class'))"
      ]
     },
     "execution_count": 15,
     "metadata": {},
     "output_type": "execute_result"
    }
   ],
   "execution_count": 15
  }
 ],
 "metadata": {
  "kernelspec": {
   "display_name": "Python 3",
   "language": "python",
   "name": "python3"
  },
  "language_info": {
   "codemirror_mode": {
    "name": "ipython",
    "version": 3
   },
   "file_extension": ".py",
   "mimetype": "text/x-python",
   "name": "python",
   "nbconvert_exporter": "python",
   "pygments_lexer": "ipython3",
   "version": "3.8.10"
  }
 },
 "nbformat": 4,
 "nbformat_minor": 5
}
