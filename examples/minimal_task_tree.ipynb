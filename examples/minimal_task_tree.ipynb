{
 "cells": [
  {
   "cell_type": "markdown",
   "metadata": {},
   "source": [
    "# TaskTree Tutorial\n",
    "\n",
    "In this tutorial we will walk through the capabilities of task trees in pycram.\n",
    "\n",
    "First we have to import the necessary functionality from pycram."
   ]
  },
  {
   "cell_type": "code",
   "metadata": {
    "ExecuteTime": {
     "end_time": "2024-07-10T11:05:36.282578Z",
     "start_time": "2024-07-10T11:05:35.602484Z"
    }
   },
   "source": [
    "from pycram.worlds.bullet_world import BulletWorld, Object\n",
    "from pycram.robot_descriptions import robot_description\n",
    "import pycram.tasktree\n",
    "from pycram.datastructures.enums import Arms, ObjectType\n",
    "from pycram.designators.action_designator import *\n",
    "from pycram.designators.location_designator import *\n",
    "from pycram.process_module import simulated_robot\n",
    "from pycram.designators.object_designator import *\n",
    "from pycram.datastructures.pose import Pose\n",
    "from pycram.datastructures.enums import ObjectType, WorldMode\n",
    "import anytree\n",
    "import pycram.plan_failures"
   ],
   "outputs": [
    {
     "name": "stderr",
     "output_type": "stream",
     "text": [
      "Unknown attribute \"type\" in /robot[@name='pr2']/link[@name='base_laser_link']\n",
      "Unknown attribute \"type\" in /robot[@name='pr2']/link[@name='wide_stereo_optical_frame']\n",
      "Unknown attribute \"type\" in /robot[@name='pr2']/link[@name='narrow_stereo_optical_frame']\n",
      "Unknown attribute \"type\" in /robot[@name='pr2']/link[@name='laser_tilt_link']\n",
      "Failed to import Giskard messages, the real robot will not be available\n",
      "Could not import RoboKudo messages, RoboKudo interface could not be initialized\n",
      "pybullet build time: Nov 28 2023 23:51:11\n"
     ]
    }
   ],
   "execution_count": 1
  },
  {
   "cell_type": "markdown",
   "metadata": {},
   "source": [
    "Next we will create a bullet world with a PR2 in a kitchen containing milk and cereal."
   ]
  },
  {
   "cell_type": "code",
   "metadata": {
    "ExecuteTime": {
     "end_time": "2024-07-10T11:05:46.227608Z",
     "start_time": "2024-07-10T11:05:38.570845Z"
    }
   },
   "source": [
    "world = BulletWorld(mode=WorldMode.GUI)\n",
    "pr2 = Object(\"pr2\", ObjectType.ROBOT, \"pr2.urdf\")\n",
    "kitchen = Object(\"kitchen\", ObjectType.ENVIRONMENT, \"kitchen.urdf\")\n",
    "milk = Object(\"milk\", ObjectType.MILK, \"milk.stl\", pose=Pose([1.3, 1, 0.9]))\n",
    "cereal = Object(\"cereal\", ObjectType.BREAKFAST_CEREAL, \"breakfast_cereal.stl\", pose=Pose([1.3, 0.7, 0.95]))\n",
    "milk_desig = ObjectDesignatorDescription(names=[\"milk\"])\n",
    "cereal_desig = ObjectDesignatorDescription(names=[\"cereal\"])\n",
    "robot_desig = ObjectDesignatorDescription(names=[\"pr2\"]).resolve()\n",
    "kitchen_desig = ObjectDesignatorDescription(names=[\"kitchen\"])"
   ],
   "outputs": [
    {
     "name": "stderr",
     "output_type": "stream",
     "text": [
      "Scalar element defined multiple times: limit\n",
      "Unknown tag \"rgba_color\" in /robot[@name='milk_object']/link[@name='milk_main']/visual[1]/material[@name='white']\n",
      "Scalar element defined multiple times: limit\n",
      "Unknown tag \"rgba_color\" in /robot[@name='cereal_object']/link[@name='cereal_main']/visual[1]/material[@name='white']\n",
      "Unknown tag \"rgba_color\" in /robot[@name='milk_object']/link[@name='milk_main']/visual[1]/material[@name='white']\n",
      "Unknown tag \"rgba_color\" in /robot[@name='cereal_object']/link[@name='cereal_main']/visual[1]/material[@name='white']\n"
     ]
    }
   ],
   "execution_count": 2
  },
  {
   "cell_type": "markdown",
   "metadata": {},
   "source": [
    "Finally, we create a plan where the robot parks his arms, walks to the kitchen counter and picks the cereal and places it on the table. Then we execute the plan."
   ]
  },
  {
   "cell_type": "code",
   "metadata": {
    "ExecuteTime": {
     "end_time": "2024-07-10T11:06:01.900948Z",
     "start_time": "2024-07-10T11:05:50.602577Z"
    }
   },
   "source": [
    "@pycram.tasktree.with_tree\n",
    "def plan():\n",
    "    with simulated_robot:\n",
    "        ParkArmsActionPerformable(Arms.BOTH).perform()\n",
    "        MoveTorsoAction([0.3]).resolve().perform()\n",
    "        pickup_pose = CostmapLocation(target=cereal_desig.resolve(), reachable_for=robot_desig).resolve()\n",
    "        pickup_arm = pickup_pose.reachable_arms[0]\n",
    "        NavigateAction(target_locations=[pickup_pose.pose]).resolve().perform()\n",
    "        PickUpAction(object_designator_description=cereal_desig, arms=[pickup_arm], grasps=[\"front\"]).resolve().perform()\n",
    "        ParkArmsAction([Arms.BOTH]).resolve().perform()\n",
    "\n",
    "        place_island = SemanticCostmapLocation(\"kitchen_island_surface\", kitchen_desig.resolve(),\n",
    "                                           cereal_desig.resolve()).resolve()\n",
    "\n",
    "        place_stand = CostmapLocation(place_island.pose, reachable_for=robot_desig, reachable_arm=pickup_arm).resolve()\n",
    "\n",
    "        NavigateAction(target_locations=[place_stand.pose]).resolve().perform()\n",
    "\n",
    "        PlaceAction(cereal_desig, target_locations=[place_island.pose], arms=[pickup_arm]).resolve().perform()\n",
    "\n",
    "        ParkArmsAction([Arms.BOTH]).resolve().perform()\n",
    "\n",
    "        ParkArmsActionPerformable(Arms.BOTH).perform()\n",
    "\n",
    "plan()\n"
   ],
   "outputs": [
    {
     "name": "stdout",
     "output_type": "stream",
     "text": [
      "[INFO] [1720609552.729942]: Ontology [http://www.ease-crc.org/ont/SOMA-HOME.owl#]'s name: SOMA-HOME has been loaded\n",
      "[INFO] [1720609552.730620]: - main namespace: SOMA-HOME\n",
      "[INFO] [1720609552.731192]: - loaded ontologies:\n",
      "[INFO] [1720609552.731771]: http://www.ease-crc.org/ont/SOMA-HOME.owl#\n",
      "[INFO] [1720609552.732239]: http://www.ease-crc.org/ont/DUL.owl#\n",
      "[INFO] [1720609552.732606]: http://www.ease-crc.org/ont/SOMA.owl#\n",
      "[INFO] [1720609553.680282]: Waiting for IK service: /pr2_left_arm_kinematics/get_ik\n"
     ]
    }
   ],
   "execution_count": 3
  },
  {
   "cell_type": "markdown",
   "metadata": {},
   "source": [
    "Now we get the task tree from its module and render it. Rendering can be done with any render method described in the anytree package. We will use ascii rendering here for ease of displaying."
   ]
  },
  {
   "cell_type": "code",
   "metadata": {
    "ExecuteTime": {
     "end_time": "2024-07-10T11:06:07.167781Z",
     "start_time": "2024-07-10T11:06:07.165400Z"
    }
   },
   "source": [
    "tt = pycram.tasktree.task_tree\n",
    "print(anytree.RenderTree(tt))"
   ],
   "outputs": [
    {
     "name": "stdout",
     "output_type": "stream",
     "text": [
      "NoOperation\n",
      "└── NoOperation\n",
      "    ├── ParkArmsActionPerformable\n",
      "    ├── MoveTorsoActionPerformable\n",
      "    ├── NavigateActionPerformable\n",
      "    │   └── MoveMotion\n",
      "    ├── PickUpActionPerformable\n",
      "    │   ├── MoveTCPMotion\n",
      "    │   ├── MoveGripperMotion\n",
      "    │   ├── MoveTCPMotion\n",
      "    │   ├── MoveGripperMotion\n",
      "    │   └── MoveTCPMotion\n",
      "    ├── ParkArmsActionPerformable\n",
      "    ├── NavigateActionPerformable\n",
      "    │   └── MoveMotion\n",
      "    ├── PlaceActionPerformable\n",
      "    │   ├── MoveTCPMotion\n",
      "    │   ├── MoveGripperMotion\n",
      "    │   └── MoveTCPMotion\n",
      "    ├── ParkArmsActionPerformable\n",
      "    └── ParkArmsActionPerformable\n"
     ]
    }
   ],
   "execution_count": 4
  },
  {
   "cell_type": "markdown",
   "metadata": {},
   "source": [
    "As we see every task in the plan got recorded correctly. It is noticeable that the tree begins with a NoOperation node. This is done because several, not connected, plans that get executed after each other should still appear in the task tree. Hence, a NoOperation node is the root of any tree. If we re-execute the plan we would see them appear in the same tree even though they are not connected."
   ]
  },
  {
   "cell_type": "code",
   "metadata": {
    "ExecuteTime": {
     "end_time": "2024-07-10T11:07:10.319783Z",
     "start_time": "2024-07-10T11:07:00.668406Z"
    }
   },
   "source": [
    "world.reset_world()\n",
    "plan()\n",
    "print(anytree.RenderTree(tt))"
   ],
   "outputs": [
    {
     "name": "stdout",
     "output_type": "stream",
     "text": [
      "NoOperation\n",
      "├── NoOperation\n",
      "│   ├── ParkArmsActionPerformable\n",
      "│   ├── MoveTorsoActionPerformable\n",
      "│   ├── NavigateActionPerformable\n",
      "│   │   └── MoveMotion\n",
      "│   ├── PickUpActionPerformable\n",
      "│   │   ├── MoveTCPMotion\n",
      "│   │   ├── MoveGripperMotion\n",
      "│   │   ├── MoveTCPMotion\n",
      "│   │   ├── MoveGripperMotion\n",
      "│   │   └── MoveTCPMotion\n",
      "│   ├── ParkArmsActionPerformable\n",
      "│   ├── NavigateActionPerformable\n",
      "│   │   └── MoveMotion\n",
      "│   ├── PlaceActionPerformable\n",
      "│   │   ├── MoveTCPMotion\n",
      "│   │   ├── MoveGripperMotion\n",
      "│   │   └── MoveTCPMotion\n",
      "│   ├── ParkArmsActionPerformable\n",
      "│   └── ParkArmsActionPerformable\n",
      "└── NoOperation\n",
      "    ├── ParkArmsActionPerformable\n",
      "    ├── MoveTorsoActionPerformable\n",
      "    ├── NavigateActionPerformable\n",
      "    │   └── MoveMotion\n",
      "    ├── PickUpActionPerformable\n",
      "    │   ├── MoveTCPMotion\n",
      "    │   ├── MoveGripperMotion\n",
      "    │   ├── MoveTCPMotion\n",
      "    │   ├── MoveGripperMotion\n",
      "    │   └── MoveTCPMotion\n",
      "    ├── ParkArmsActionPerformable\n",
      "    ├── NavigateActionPerformable\n",
      "    │   └── MoveMotion\n",
      "    ├── PlaceActionPerformable\n",
      "    │   ├── MoveTCPMotion\n",
      "    │   ├── MoveGripperMotion\n",
      "    │   └── MoveTCPMotion\n",
      "    ├── ParkArmsActionPerformable\n",
      "    └── ParkArmsActionPerformable\n"
     ]
    }
   ],
   "execution_count": 5
  },
  {
   "cell_type": "markdown",
   "metadata": {},
   "source": [
    "Projecting a plan in a new environment with its own task tree that only exists while the projected plan is running can be done with the ``with`` keyword. When this is done, both the bullet world and task tree are saved and new, freshly reset objects are available. At the end of a with block the old state is restored. The root for such things is then called ``simulation()``."
   ]
  },
  {
   "cell_type": "code",
   "metadata": {
    "ExecuteTime": {
     "end_time": "2024-07-10T11:08:12.490618Z",
     "start_time": "2024-07-10T11:08:12.454835Z"
    }
   },
   "source": [
    "with pycram.tasktree.SimulatedTaskTree() as stt:\n",
    "    print(anytree.RenderTree(pycram.tasktree.task_tree))\n",
    "print(anytree.RenderTree(pycram.tasktree.task_tree))"
   ],
   "outputs": [
    {
     "name": "stdout",
     "output_type": "stream",
     "text": [
      "NoOperation\n",
      "NoOperation\n",
      "├── NoOperation\n",
      "│   ├── ParkArmsActionPerformable\n",
      "│   ├── MoveTorsoActionPerformable\n",
      "│   ├── NavigateActionPerformable\n",
      "│   │   └── MoveMotion\n",
      "│   ├── PickUpActionPerformable\n",
      "│   │   ├── MoveTCPMotion\n",
      "│   │   ├── MoveGripperMotion\n",
      "│   │   ├── MoveTCPMotion\n",
      "│   │   ├── MoveGripperMotion\n",
      "│   │   └── MoveTCPMotion\n",
      "│   ├── ParkArmsActionPerformable\n",
      "│   ├── NavigateActionPerformable\n",
      "│   │   └── MoveMotion\n",
      "│   ├── PlaceActionPerformable\n",
      "│   │   ├── MoveTCPMotion\n",
      "│   │   ├── MoveGripperMotion\n",
      "│   │   └── MoveTCPMotion\n",
      "│   ├── ParkArmsActionPerformable\n",
      "│   └── ParkArmsActionPerformable\n",
      "└── NoOperation\n",
      "    ├── ParkArmsActionPerformable\n",
      "    ├── MoveTorsoActionPerformable\n",
      "    ├── NavigateActionPerformable\n",
      "    │   └── MoveMotion\n",
      "    ├── PickUpActionPerformable\n",
      "    │   ├── MoveTCPMotion\n",
      "    │   ├── MoveGripperMotion\n",
      "    │   ├── MoveTCPMotion\n",
      "    │   ├── MoveGripperMotion\n",
      "    │   └── MoveTCPMotion\n",
      "    ├── ParkArmsActionPerformable\n",
      "    ├── NavigateActionPerformable\n",
      "    │   └── MoveMotion\n",
      "    ├── PlaceActionPerformable\n",
      "    │   ├── MoveTCPMotion\n",
      "    │   ├── MoveGripperMotion\n",
      "    │   └── MoveTCPMotion\n",
      "    ├── ParkArmsActionPerformable\n",
      "    └── ParkArmsActionPerformable\n"
     ]
    }
   ],
   "execution_count": 6
  },
  {
   "cell_type": "markdown",
   "metadata": {},
   "source": [
    "Task tree can be manipulated with ordinary anytree manipulation. If we for example want to discard the second plan, we would write"
   ]
  },
  {
   "cell_type": "code",
   "metadata": {
    "ExecuteTime": {
     "end_time": "2024-07-10T11:08:27.504155Z",
     "start_time": "2024-07-10T11:08:27.501993Z"
    }
   },
   "source": [
    "tt.root.children = (tt.root.children[0],)\n",
    "print(anytree.RenderTree(tt, style=anytree.render.AsciiStyle()))"
   ],
   "outputs": [
    {
     "name": "stdout",
     "output_type": "stream",
     "text": [
      "NoOperation\n",
      "+-- NoOperation\n",
      "    |-- ParkArmsActionPerformable\n",
      "    |-- MoveTorsoActionPerformable\n",
      "    |-- NavigateActionPerformable\n",
      "    |   +-- MoveMotion\n",
      "    |-- PickUpActionPerformable\n",
      "    |   |-- MoveTCPMotion\n",
      "    |   |-- MoveGripperMotion\n",
      "    |   |-- MoveTCPMotion\n",
      "    |   |-- MoveGripperMotion\n",
      "    |   +-- MoveTCPMotion\n",
      "    |-- ParkArmsActionPerformable\n",
      "    |-- NavigateActionPerformable\n",
      "    |   +-- MoveMotion\n",
      "    |-- PlaceActionPerformable\n",
      "    |   |-- MoveTCPMotion\n",
      "    |   |-- MoveGripperMotion\n",
      "    |   +-- MoveTCPMotion\n",
      "    |-- ParkArmsActionPerformable\n",
      "    +-- ParkArmsActionPerformable\n"
     ]
    }
   ],
   "execution_count": 7
  },
  {
   "cell_type": "markdown",
   "metadata": {},
   "source": [
    "We can now re-execute this (modified) plan by executing the leaf in pre-ordering iteration using the anytree functionality. This will not append the re-execution to the task tree."
   ]
  },
  {
   "cell_type": "code",
   "metadata": {
    "ExecuteTime": {
     "end_time": "2024-07-10T11:09:02.982240Z",
     "start_time": "2024-07-10T11:09:02.945066Z"
    }
   },
   "source": [
    "world.reset_world()\n",
    "with simulated_robot:\n",
    "    [node.code.execute() for node in tt.root.leaves]\n",
    "print(anytree.RenderTree(pycram.tasktree.task_tree, style=anytree.render.AsciiStyle()))"
   ],
   "outputs": [
    {
     "ename": "AttributeError",
     "evalue": "'TaskTreeNode' object has no attribute 'execute'",
     "output_type": "error",
     "traceback": [
      "\u001B[0;31m---------------------------------------------------------------------------\u001B[0m",
      "\u001B[0;31mAttributeError\u001B[0m                            Traceback (most recent call last)",
      "Cell \u001B[0;32mIn[10], line 3\u001B[0m\n\u001B[1;32m      1\u001B[0m world\u001B[38;5;241m.\u001B[39mreset_world()\n\u001B[1;32m      2\u001B[0m \u001B[38;5;28;01mwith\u001B[39;00m simulated_robot:\n\u001B[0;32m----> 3\u001B[0m     [node\u001B[38;5;241m.\u001B[39mexecute() \u001B[38;5;28;01mfor\u001B[39;00m node \u001B[38;5;129;01min\u001B[39;00m tt\u001B[38;5;241m.\u001B[39mroot\u001B[38;5;241m.\u001B[39mleaves]\n\u001B[1;32m      4\u001B[0m \u001B[38;5;28mprint\u001B[39m(anytree\u001B[38;5;241m.\u001B[39mRenderTree(pycram\u001B[38;5;241m.\u001B[39mtasktree\u001B[38;5;241m.\u001B[39mtask_tree, style\u001B[38;5;241m=\u001B[39manytree\u001B[38;5;241m.\u001B[39mrender\u001B[38;5;241m.\u001B[39mAsciiStyle()))\n",
      "Cell \u001B[0;32mIn[10], line 3\u001B[0m, in \u001B[0;36m<listcomp>\u001B[0;34m(.0)\u001B[0m\n\u001B[1;32m      1\u001B[0m world\u001B[38;5;241m.\u001B[39mreset_world()\n\u001B[1;32m      2\u001B[0m \u001B[38;5;28;01mwith\u001B[39;00m simulated_robot:\n\u001B[0;32m----> 3\u001B[0m     [\u001B[43mnode\u001B[49m\u001B[38;5;241;43m.\u001B[39;49m\u001B[43mexecute\u001B[49m() \u001B[38;5;28;01mfor\u001B[39;00m node \u001B[38;5;129;01min\u001B[39;00m tt\u001B[38;5;241m.\u001B[39mroot\u001B[38;5;241m.\u001B[39mleaves]\n\u001B[1;32m      4\u001B[0m \u001B[38;5;28mprint\u001B[39m(anytree\u001B[38;5;241m.\u001B[39mRenderTree(pycram\u001B[38;5;241m.\u001B[39mtasktree\u001B[38;5;241m.\u001B[39mtask_tree, style\u001B[38;5;241m=\u001B[39manytree\u001B[38;5;241m.\u001B[39mrender\u001B[38;5;241m.\u001B[39mAsciiStyle()))\n",
      "\u001B[0;31mAttributeError\u001B[0m: 'TaskTreeNode' object has no attribute 'execute'"
     ]
    }
   ],
   "execution_count": 10
  },
  {
   "cell_type": "markdown",
   "metadata": {},
   "source": [
    "Nodes in the task tree contain additional information about the status and time of a task."
   ]
  },
  {
   "cell_type": "code",
   "metadata": {
    "ExecuteTime": {
     "end_time": "2024-07-10T11:09:16.008337Z",
     "start_time": "2024-07-10T11:09:16.005984Z"
    }
   },
   "source": "print(pycram.tasktree.task_tree.children[0])",
   "outputs": [
    {
     "name": "stdout",
     "output_type": "stream",
     "text": [
      "Code: NoOperation \n",
      " Status: 2024-07-10 13:05:50.604755 \n",
      " start_time: TaskStatus.SUCCEEDED \n",
      " end_time: 2024-07-10 13:06:01.899865 \n",
      " \n"
     ]
    }
   ],
   "execution_count": 11
  },
  {
   "cell_type": "markdown",
   "metadata": {},
   "source": [
    "The task tree can also be reset to an empty one by invoking"
   ]
  },
  {
   "cell_type": "code",
   "metadata": {
    "ExecuteTime": {
     "end_time": "2024-07-10T11:09:48.157375Z",
     "start_time": "2024-07-10T11:09:48.154847Z"
    }
   },
   "source": [
    "pycram.tasktree.reset_tree()\n",
    "print(anytree.RenderTree(pycram.tasktree.task_tree, style=anytree.render.AsciiStyle()))"
   ],
   "outputs": [
    {
     "name": "stdout",
     "output_type": "stream",
     "text": [
      "NoOperation\n"
     ]
    }
   ],
   "execution_count": 12
  },
  {
   "cell_type": "markdown",
   "metadata": {},
   "source": [
    "If a plan fails using the PlanFailure exception, the plan will not stop. Instead, the error will be logged and saved in the task tree as a failed subtask. First let's create a simple failing plan and execute it."
   ]
  },
  {
   "cell_type": "code",
   "metadata": {
    "ExecuteTime": {
     "end_time": "2024-07-10T11:09:51.979898Z",
     "start_time": "2024-07-10T11:09:51.976933Z"
    }
   },
   "source": [
    "@pycram.tasktree.with_tree\n",
    "def failing_plan():\n",
    "    raise pycram.plan_failures.PlanFailure(\"Oopsie!\")\n",
    "\n",
    "try:\n",
    "    failing_plan()\n",
    "except pycram.plan_failures.PlanFailure as e:\n",
    "    print(e)"
   ],
   "outputs": [
    {
     "name": "stdout",
     "output_type": "stream",
     "text": [
      "Oopsie!\n"
     ]
    }
   ],
   "execution_count": 13
  },
  {
   "cell_type": "markdown",
   "metadata": {},
   "source": [
    "We can now investigate the nodes of the tree, and we will see that the tree indeed contains a failed task."
   ]
  },
  {
   "cell_type": "code",
   "metadata": {
    "ExecuteTime": {
     "end_time": "2024-07-10T11:09:54.777843Z",
     "start_time": "2024-07-10T11:09:54.775537Z"
    }
   },
   "source": [
    "print(anytree.RenderTree(pycram.tasktree.task_tree, style=anytree.render.AsciiStyle()))\n",
    "print(pycram.tasktree.task_tree.children[0])"
   ],
   "outputs": [
    {
     "name": "stdout",
     "output_type": "stream",
     "text": [
      "NoOperation\n",
      "+-- NoOperation\n",
      "Code: NoOperation \n",
      " Status: 2024-07-10 13:09:51.978222 \n",
      " start_time: TaskStatus.FAILED \n",
      " end_time: 2024-07-10 13:09:51.978497 \n",
      " \n"
     ]
    }
   ],
   "execution_count": 14
  },
  {
   "cell_type": "code",
   "execution_count": 13,
   "metadata": {
    "ExecuteTime": {
     "end_time": "2024-01-05T11:47:57.328473210Z",
     "start_time": "2024-01-05T11:47:57.130261104Z"
    }
   },
   "outputs": [],
   "source": [
    "world.exit()"
   ]
  },
  {
   "metadata": {
    "ExecuteTime": {
     "end_time": "2024-07-10T11:24:29.398815Z",
     "start_time": "2024-07-10T11:24:18.781704Z"
    }
   },
   "cell_type": "code",
   "source": [
    "with simulated_robot:\n",
    "    world.reset_world()\n",
    "    MoveTorsoAction([0.2]).resolve().perform()\n",
    "    pickup_pose = CostmapLocation(target=cereal_desig.resolve(), reachable_for=robot_desig).resolve()\n",
    "    print(pickup_pose.pose)\n",
    "    NavigateAction(target_locations=[pickup_pose.pose]).resolve().perform()\n",
    "    pickup_pose = CostmapLocation(target=milk_desig.resolve(), reachable_for=robot_desig).resolve()\n",
    "    print(pickup_pose.pose)\n",
    "    NavigateAction(target_locations=[pickup_pose.pose]).resolve().perform()\n",
    "    arm = pickup_pose.reachable_arms[1]\n",
    "    PickUpAction(object_designator_description=milk_desig,arms= [arm],grasps= [\"front\"]).resolve().perform()"
   ],
   "outputs": [
    {
     "name": "stdout",
     "output_type": "stream",
     "text": [
      "header: \n",
      "  seq: 0\n",
      "  stamp: \n",
      "    secs: 1720610659\n",
      "    nsecs: 736824750\n",
      "  frame_id: \"map\"\n",
      "pose: \n",
      "  position: \n",
      "    x: 0.48\n",
      "    y: 0.6599999999999999\n",
      "    z: 0.0\n",
      "  orientation: \n",
      "    x: 0.0\n",
      "    y: 0.0\n",
      "    z: 0.024368513240484207\n",
      "    w: 0.9997030436896991\n",
      "header: \n",
      "  seq: 0\n",
      "  stamp: \n",
      "    secs: 1720610665\n",
      "    nsecs: 383566141\n",
      "  frame_id: \"map\"\n",
      "pose: \n",
      "  position: \n",
      "    x: 0.8600000000000001\n",
      "    y: 1.54\n",
      "    z: 0.0\n",
      "  orientation: \n",
      "    x: -0.0\n",
      "    y: 0.0\n",
      "    z: 0.4291427785934214\n",
      "    w: -0.9032366664286375\n"
     ]
    }
   ],
   "execution_count": 33
  },
  {
   "metadata": {},
   "cell_type": "code",
   "outputs": [],
   "execution_count": null,
   "source": ""
  }
 ],
 "metadata": {
  "kernelspec": {
   "display_name": "Python 3",
   "language": "python",
   "name": "python3"
  },
  "language_info": {
   "codemirror_mode": {
    "name": "ipython",
    "version": 3
   },
   "file_extension": ".py",
   "mimetype": "text/x-python",
   "name": "python",
   "nbconvert_exporter": "python",
   "pygments_lexer": "ipython3",
   "version": "3.8.10"
  }
 },
 "nbformat": 4,
 "nbformat_minor": 1
}
