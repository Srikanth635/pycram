{
 "cells": [
  {
   "cell_type": "markdown",
   "id": "085a4a25",
   "metadata": {},
   "source": [
    "# Action Designator\n",
    "This example will show the different kinds of Action Designators that are available. We will see how to create Action Designators and what they do.\n",
    "\n",
    "\n",
    "Action Designators are high-level descriptions of actions which the robot should execute. \n",
    "\n",
    "Action Designators are created from an Action Designator Description, which describes the type of action as well as the parameter for this action. Parameter are given as a list of possible parameters.\n",
    "For example, if you want to describe the robot moving to a table you would need a ```NavigateAction``` and a list of poses that are near the table. The Action Designator Description will then pick one of the poses and return a performable Action Designator which contains the picked pose. \n",
    "\n"
   ]
  },
  {
   "cell_type": "markdown",
   "id": "6d7bf064",
   "metadata": {},
   "source": [
    "## Navigate Action\n",
    "We will start with a simple example of the ```NavigateAction```. \n",
    "\n",
    "First, we need a BulletWorld with a robot."
   ]
  },
  {
   "cell_type": "code",
   "id": "2a24b3aa",
   "metadata": {
    "ExecuteTime": {
     "end_time": "2024-09-05T10:36:27.200430Z",
     "start_time": "2024-09-05T10:36:26.978460Z"
    }
   },
   "source": [
    "import matplotlib.pyplot as plt\n",
    "import numpy as np\n",
    "import rospy"
   ],
   "outputs": [],
   "execution_count": 1
  },
  {
   "cell_type": "code",
   "id": "43a72c3b",
   "metadata": {
    "ExecuteTime": {
     "end_time": "2024-09-05T10:36:32.993539Z",
     "start_time": "2024-09-05T10:36:32.000832Z"
    }
   },
   "source": [
    "from pycram.worlds.bullet_world import BulletWorld, Object\n",
    "from pycram.datastructures.pose import Pose\n",
    "from pycram.datastructures.enums import ObjectType, WorldMode\n",
    "\n",
    "world = BulletWorld(mode = WorldMode.GUI)"
   ],
   "outputs": [
    {
     "name": "stderr",
     "output_type": "stream",
     "text": [
      "Unknown attribute \"type\" in /robot[@name='pr2']/link[@name='base_laser_link']\n",
      "Unknown attribute \"type\" in /robot[@name='pr2']/link[@name='wide_stereo_optical_frame']\n",
      "Unknown attribute \"type\" in /robot[@name='pr2']/link[@name='narrow_stereo_optical_frame']\n",
      "Unknown attribute \"type\" in /robot[@name='pr2']/link[@name='laser_tilt_link']\n",
      "Failed to import Giskard messages, the real robot will not be available\n",
      "Could not import RoboKudo messages, RoboKudo interface could not be initialized\n",
      "pybullet build time: Nov 28 2023 23:51:11\n"
     ]
    }
   ],
   "execution_count": 2
  },
  {
   "cell_type": "code",
   "execution_count": 13,
   "id": "8bb7dfd3",
   "metadata": {
    "ExecuteTime": {
     "end_time": "2024-07-10T14:03:53.496866Z",
     "start_time": "2024-07-10T14:03:53.465711Z"
    }
   },
   "outputs": [],
   "source": [
    "world.exit()"
   ]
  },
  {
   "cell_type": "markdown",
   "id": "68707c1e",
   "metadata": {},
   "source": [
    "To move the robot we need to create a description and resolve it to an actual Designator. The description of navigation only needs a list of possible poses."
   ]
  },
  {
   "cell_type": "code",
   "id": "a755c150",
   "metadata": {
    "ExecuteTime": {
     "end_time": "2024-09-05T10:18:06.799604Z",
     "start_time": "2024-09-05T10:18:03.738989Z"
    }
   },
   "source": [
    "pr2 = Object(\"pr2\", ObjectType.ROBOT, \"pr2.urdf\")"
   ],
   "outputs": [],
   "execution_count": 5
  },
  {
   "cell_type": "code",
   "execution_count": 3,
   "id": "a21fb639",
   "metadata": {
    "ExecuteTime": {
     "end_time": "2024-07-10T14:05:22.442502Z",
     "start_time": "2024-07-10T14:05:22.420327Z"
    }
   },
   "outputs": [],
   "source": [
    "world.reset_world()"
   ]
  },
  {
   "metadata": {
    "ExecuteTime": {
     "end_time": "2024-09-05T10:17:36.781449Z",
     "start_time": "2024-09-05T10:17:36.779725Z"
    }
   },
   "cell_type": "code",
   "source": "objs = world.objects",
   "id": "42ecdb96ba54b7c2",
   "outputs": [],
   "execution_count": 3
  },
  {
   "metadata": {
    "ExecuteTime": {
     "end_time": "2024-09-05T10:17:42.375440Z",
     "start_time": "2024-09-05T10:17:42.372349Z"
    }
   },
   "cell_type": "code",
   "source": "len(objs)",
   "id": "853ca85103332d60",
   "outputs": [
    {
     "data": {
      "text/plain": [
       "1"
      ]
     },
     "execution_count": 4,
     "metadata": {},
     "output_type": "execute_result"
    }
   ],
   "execution_count": 4
  },
  {
   "cell_type": "code",
   "id": "9db90d2a",
   "metadata": {
    "ExecuteTime": {
     "end_time": "2024-09-05T10:18:08.773053Z",
     "start_time": "2024-09-05T10:18:08.477274Z"
    }
   },
   "source": [
    "from pycram.designators.action_designator import NavigateAction\n",
    "from pycram.datastructures.pose import Pose\n",
    "\n",
    "pose = Pose([1, 0, 0], [0, 0, 0, 1])\n",
    "\n",
    "# This is the Designator Description\n",
    "navigate_description = NavigateAction(target_locations=[pose])\n",
    "\n",
    "# This is the performable Designator\n",
    "navigate_designator = navigate_description.resolve()"
   ],
   "outputs": [
    {
     "name": "stdout",
     "output_type": "stream",
     "text": [
      "[INFO] [1725531488.758397]: Ontology [http://www.ease-crc.org/ont/SOMA-HOME.owl#]'s name: SOMA-HOME has been loaded\n",
      "[INFO] [1725531488.759076]: - main namespace: SOMA-HOME\n",
      "[INFO] [1725531488.759705]: - loaded ontologies:\n",
      "[INFO] [1725531488.760115]: http://www.ease-crc.org/ont/SOMA-HOME.owl#\n",
      "[INFO] [1725531488.760468]: http://www.ease-crc.org/ont/DUL.owl#\n",
      "[INFO] [1725531488.760830]: http://www.ease-crc.org/ont/SOMA.owl#\n"
     ]
    }
   ],
   "execution_count": 6
  },
  {
   "cell_type": "markdown",
   "id": "4d2be61b",
   "metadata": {},
   "source": [
    "What we now did was: create the pose where we want to move the robot, create a description describing a navigation with a list of possible poses (in this case the list contains only one pose) and create an action designator from the description. The action designator contains the pose picked from the list of possible poses and can be performed."
   ]
  },
  {
   "cell_type": "code",
   "id": "56e09208",
   "metadata": {
    "ExecuteTime": {
     "end_time": "2024-09-05T10:18:12.194004Z",
     "start_time": "2024-09-05T10:18:11.688022Z"
    }
   },
   "source": [
    "from pycram.process_module import simulated_robot\n",
    "\n",
    "with simulated_robot:\n",
    "    navigate_designator.perform()"
   ],
   "outputs": [],
   "execution_count": 7
  },
  {
   "cell_type": "code",
   "execution_count": 11,
   "id": "405b1126",
   "metadata": {
    "ExecuteTime": {
     "end_time": "2024-09-03T12:18:00.275960Z",
     "start_time": "2024-09-03T12:18:00.261342Z"
    }
   },
   "outputs": [
    {
     "data": {
      "text/plain": [
       "<matplotlib.image.AxesImage at 0x7ff0b8069850>"
      ]
     },
     "execution_count": 11,
     "metadata": {},
     "output_type": "execute_result"
    },
    {
     "data": {
      "image/png": "[encoded data removed]",
      "text/plain": [
       "<Figure size 640x480 with 1 Axes>"
      ]
     },
     "metadata": {},
     "output_type": "display_data"
    }
   ],
   "source": [
    "img_arr = world.get_images_for_target(kitchen.pose, Pose([2, 0, 4], [0, 0, 0, 1]))\n",
    "image = np.array(img_arr[0])\n",
    "\n",
    "plt.subplot(111)\n",
    "plt.imshow(image)"
   ]
  },
  {
   "cell_type": "code",
   "execution_count": 12,
   "id": "bdef9f1d",
   "metadata": {
    "ExecuteTime": {
     "end_time": "2024-09-03T12:18:00.766608Z",
     "start_time": "2024-09-03T12:18:00.764266Z"
    }
   },
   "outputs": [
    {
     "name": "stdout",
     "output_type": "stream",
     "text": [
      "(256, 256, 4) (256, 256) (256, 256)\n"
     ]
    }
   ],
   "source": [
    "print(img_arr[0].shape,img_arr[1].shape,img_arr[2].shape)"
   ]
  },
  {
   "cell_type": "code",
   "execution_count": null,
   "id": "f506d399",
   "metadata": {
    "ExecuteTime": {
     "end_time": "2024-09-03T12:18:01.328454Z",
     "start_time": "2024-09-03T12:18:01.261240Z"
    }
   },
   "outputs": [],
   "source": []
  },
  {
   "cell_type": "code",
   "execution_count": null,
   "id": "1439244d",
   "metadata": {},
   "outputs": [],
   "source": []
  },
  {
   "cell_type": "code",
   "execution_count": 13,
   "id": "5534408c",
   "metadata": {},
   "outputs": [
    {
     "data": {
      "text/plain": [
       "<matplotlib.image.AxesImage at 0x7ff0bd0490d0>"
      ]
     },
     "execution_count": 13,
     "metadata": {},
     "output_type": "execute_result"
    },
    {
     "data": {
      "image/png": "[encoded data removed]",
      "text/plain": [
       "<Figure size 640x480 with 1 Axes>"
      ]
     },
     "metadata": {},
     "output_type": "display_data"
    }
   ],
   "source": [
    "pr2_img_arr = world.get_images_for_target(pr2.pose, Pose([-2, 0, 2], [0, 0, 0, 1]))\n",
    "image = np.array(pr2_img_arr[0])\n",
    "\n",
    "plt.subplot(111)\n",
    "plt.imshow(image)"
   ]
  },
  {
   "cell_type": "code",
   "execution_count": 14,
   "id": "2b206aeb",
   "metadata": {},
   "outputs": [
    {
     "data": {
      "text/plain": [
       "<matplotlib.image.AxesImage at 0x7ff0b8008340>"
      ]
     },
     "execution_count": 14,
     "metadata": {},
     "output_type": "execute_result"
    },
    {
     "data": {
      "image/png": "[encoded data removed]",
      "text/plain": [
       "<Figure size 640x480 with 1 Axes>"
      ]
     },
     "metadata": {},
     "output_type": "display_data"
    }
   ],
   "source": [
    "milk_img_arr = world.get_images_for_target(milk.pose, Pose([1, 1, 1], [0, 0, 0, 1]))\n",
    "image = np.array(milk_img_arr[0])\n",
    "\n",
    "plt.subplot(111)\n",
    "plt.imshow(image)"
   ]
  },
  {
   "cell_type": "markdown",
   "id": "fa86a069",
   "metadata": {},
   "source": [
    "Every designator that is performed needs to be in an environment that specifies where to perform the designator either on the real robot or the simulated one. This environment is called ```simulated_robot``` similar there is also a ```real_robot``` environment. \n",
    "\n",
    "There are also decorators which do the same thing but for whole methods, they are called ```with_real_robot``` and ```with_simulated_robot```."
   ]
  },
  {
   "cell_type": "markdown",
   "id": "637a1bc3",
   "metadata": {},
   "source": [
    "## Move Torso\n",
    "This action designator moves the torso up or down, specifically it sets the torso joint to a given value.\n",
    "\n",
    "We start again by creating a description and resolving it to a designator. Afterwards, the designator is performed in a ```simulated_robot``` environment. "
   ]
  },
  {
   "cell_type": "code",
   "execution_count": 15,
   "id": "03ee0be9",
   "metadata": {
    "ExecuteTime": {
     "end_time": "2024-07-23T11:45:55.142416Z",
     "start_time": "2024-07-23T11:45:54.637868Z"
    }
   },
   "outputs": [],
   "source": [
    "from pycram.designators.action_designator import MoveTorsoAction\n",
    "from pycram.process_module import simulated_robot\n",
    "\n",
    "torso_pose = 0.2\n",
    "\n",
    "torso_desig = MoveTorsoAction([torso_pose]).resolve()\n",
    "\n",
    "with simulated_robot:\n",
    "    torso_desig.perform()"
   ]
  },
  {
   "cell_type": "markdown",
   "id": "e177fb7b",
   "metadata": {},
   "source": [
    "## Set Gripper\n",
    "As the name implies, this action designator is used to open or close the gripper. \n",
    "\n",
    "The procedure is similar to the last time, but this time we will shorten it a bit."
   ]
  },
  {
   "cell_type": "code",
   "execution_count": 16,
   "id": "de2f1220",
   "metadata": {
    "ExecuteTime": {
     "end_time": "2024-07-23T11:45:58.403261Z",
     "start_time": "2024-07-23T11:45:57.895912Z"
    }
   },
   "outputs": [],
   "source": [
    "from pycram.designators.action_designator import SetGripperAction\n",
    "from pycram.process_module import simulated_robot\n",
    "\n",
    "gripper = \"right\"\n",
    "motion = \"close\"\n",
    "\n",
    "with simulated_robot:\n",
    "    SetGripperAction(grippers=[gripper], motions=[motion]).resolve().perform()"
   ]
  },
  {
   "cell_type": "markdown",
   "id": "2c39f156",
   "metadata": {},
   "source": [
    "## Park Arms\n",
    "Park arms is used to move one or both arms into the default parking position."
   ]
  },
  {
   "cell_type": "code",
   "execution_count": 17,
   "id": "4f141a81",
   "metadata": {
    "ExecuteTime": {
     "end_time": "2024-07-23T11:45:59.689200Z",
     "start_time": "2024-07-23T11:45:59.181495Z"
    }
   },
   "outputs": [],
   "source": [
    "from pycram.designators.action_designator import ParkArmsAction\n",
    "from pycram.process_module import simulated_robot\n",
    "from pycram.datastructures.enums import Arms\n",
    "\n",
    "with simulated_robot:\n",
    "    ParkArmsAction([Arms.BOTH]).resolve().perform()"
   ]
  },
  {
   "cell_type": "markdown",
   "id": "bd8b46c9",
   "metadata": {},
   "source": [
    "## Pick Up and Place\n",
    "Since these two are dependent on each other, meaning you can only place something when you picked it up beforehand, they will be shown together. \n",
    "\n",
    "These action designators use object designators, which will not be further explained in this tutorial so please check the example on object designators for more details. \n",
    "\n",
    "To start we need an environment in which we can pick up and place things as well as an object to pick up."
   ]
  },
  {
   "cell_type": "code",
   "id": "08a8383e",
   "metadata": {
    "ExecuteTime": {
     "end_time": "2024-09-04T12:31:23.452059Z",
     "start_time": "2024-09-04T12:31:19.926494Z"
    }
   },
   "source": [
    "kitchen = Object(\"kitchen\", ObjectType.ENVIRONMENT, \"kitchen.urdf\")\n",
    "milk = Object(\"milk\", ObjectType.MILK, \"milk.stl\", pose=Pose([1.3, 1, 0.9]))\n",
    "\n",
    "# world.reset_bullet_world()"
   ],
   "outputs": [
    {
     "name": "stderr",
     "output_type": "stream",
     "text": [
      "Scalar element defined multiple times: limit\n",
      "Unknown tag \"rgba_color\" in /robot[@name='milk_object']/link[@name='milk_main']/visual[1]/material[@name='white']\n",
      "Scalar element defined multiple times: limit\n"
     ]
    }
   ],
   "execution_count": 4
  },
  {
   "cell_type": "code",
   "execution_count": 9,
   "id": "6d7fcc18",
   "metadata": {
    "ExecuteTime": {
     "end_time": "2024-07-23T11:46:46.780866Z",
     "start_time": "2024-07-23T11:46:40.963860Z"
    }
   },
   "outputs": [
    {
     "name": "stdout",
     "output_type": "stream",
     "text": [
      "[INFO] [1721735202.696523]: Waiting for IK service: /pr2_right_arm_kinematics/get_ik\n"
     ]
    },
    {
     "ename": "IKError",
     "evalue": "Position header: \n  seq: 0\n  stamp: \n    secs: 1721735206\n    nsecs: 468132972\n  frame_id: \"pr2/torso_lift_link\"\npose: \n  position: \n    x: 0.94525538531413\n    y: -0.09139406472999498\n    z: -0.12827496534148275\n  orientation: \n    x: 1.2941012490165574e-08\n    y: 7.020476696864241e-09\n    z: 0.9653939873341008\n    w: 0.2607957998495491 in frame 'torso_lift_link' is not reachable for end effector",
     "output_type": "error",
     "traceback": [
      "\u001B[0;31m---------------------------------------------------------------------------\u001B[0m",
      "\u001B[0;31mServiceException\u001B[0m                          Traceback (most recent call last)",
      "File \u001B[0;32m~/ROS_WS/tpycram_ws/src/pycram/src/pycram/external_interfaces/ik.py:84\u001B[0m, in \u001B[0;36mcall_ik\u001B[0;34m(root_link, tip_link, target_pose, robot_object, joints)\u001B[0m\n\u001B[1;32m     83\u001B[0m \u001B[38;5;28;01mtry\u001B[39;00m:\n\u001B[0;32m---> 84\u001B[0m     resp \u001B[38;5;241m=\u001B[39m \u001B[43mik\u001B[49m\u001B[43m(\u001B[49m\u001B[43mreq\u001B[49m\u001B[43m)\u001B[49m\n\u001B[1;32m     85\u001B[0m \u001B[38;5;28;01mexcept\u001B[39;00m rospy\u001B[38;5;241m.\u001B[39mServiceException \u001B[38;5;28;01mas\u001B[39;00m e:\n",
      "File \u001B[0;32m/opt/ros/noetic/lib/python3/dist-packages/rospy/impl/tcpros_service.py:442\u001B[0m, in \u001B[0;36mServiceProxy.__call__\u001B[0;34m(self, *args, **kwds)\u001B[0m\n\u001B[1;32m    429\u001B[0m \u001B[38;5;250m\u001B[39m\u001B[38;5;124;03m\"\"\"\u001B[39;00m\n\u001B[1;32m    430\u001B[0m \u001B[38;5;124;03mCallable-style version of the service API. This accepts either a request message instance,\u001B[39;00m\n\u001B[1;32m    431\u001B[0m \u001B[38;5;124;03mor you can call directly with arguments to create a new request instance. e.g.::\u001B[39;00m\n\u001B[0;32m   (...)\u001B[0m\n\u001B[1;32m    440\u001B[0m \u001B[38;5;124;03mmessage. This is usually a type error with one of the fields.\u001B[39;00m\n\u001B[1;32m    441\u001B[0m \u001B[38;5;124;03m\"\"\"\u001B[39;00m\n\u001B[0;32m--> 442\u001B[0m \u001B[38;5;28;01mreturn\u001B[39;00m \u001B[38;5;28;43mself\u001B[39;49m\u001B[38;5;241;43m.\u001B[39;49m\u001B[43mcall\u001B[49m\u001B[43m(\u001B[49m\u001B[38;5;241;43m*\u001B[39;49m\u001B[43margs\u001B[49m\u001B[43m,\u001B[49m\u001B[43m \u001B[49m\u001B[38;5;241;43m*\u001B[39;49m\u001B[38;5;241;43m*\u001B[39;49m\u001B[43mkwds\u001B[49m\u001B[43m)\u001B[49m\n",
      "File \u001B[0;32m/opt/ros/noetic/lib/python3/dist-packages/rospy/impl/tcpros_service.py:523\u001B[0m, in \u001B[0;36mServiceProxy.call\u001B[0;34m(self, *args, **kwds)\u001B[0m\n\u001B[1;32m    522\u001B[0m \u001B[38;5;28;01mtry\u001B[39;00m:\n\u001B[0;32m--> 523\u001B[0m     responses \u001B[38;5;241m=\u001B[39m \u001B[43mtransport\u001B[49m\u001B[38;5;241;43m.\u001B[39;49m\u001B[43mreceive_once\u001B[49m\u001B[43m(\u001B[49m\u001B[43m)\u001B[49m\n\u001B[1;32m    524\u001B[0m     \u001B[38;5;28;01mif\u001B[39;00m \u001B[38;5;28mlen\u001B[39m(responses) \u001B[38;5;241m==\u001B[39m \u001B[38;5;241m0\u001B[39m:\n",
      "File \u001B[0;32m/opt/ros/noetic/lib/python3/dist-packages/rospy/impl/tcpros_base.py:742\u001B[0m, in \u001B[0;36mTCPROSTransport.receive_once\u001B[0;34m(self)\u001B[0m\n\u001B[1;32m    741\u001B[0m \u001B[38;5;28;01mif\u001B[39;00m b\u001B[38;5;241m.\u001B[39mtell() \u001B[38;5;241m>\u001B[39m\u001B[38;5;241m=\u001B[39m \u001B[38;5;241m4\u001B[39m:\n\u001B[0;32m--> 742\u001B[0m     \u001B[43mp\u001B[49m\u001B[38;5;241;43m.\u001B[39;49m\u001B[43mread_messages\u001B[49m\u001B[43m(\u001B[49m\u001B[43mb\u001B[49m\u001B[43m,\u001B[49m\u001B[43m \u001B[49m\u001B[43mmsg_queue\u001B[49m\u001B[43m,\u001B[49m\u001B[43m \u001B[49m\u001B[43msock\u001B[49m\u001B[43m)\u001B[49m \n\u001B[1;32m    743\u001B[0m \u001B[38;5;28;01mif\u001B[39;00m \u001B[38;5;129;01mnot\u001B[39;00m msg_queue:\n",
      "File \u001B[0;32m/opt/ros/noetic/lib/python3/dist-packages/rospy/impl/tcpros_service.py:360\u001B[0m, in \u001B[0;36mTCPROSServiceClient.read_messages\u001B[0;34m(self, b, msg_queue, sock)\u001B[0m\n\u001B[1;32m    349\u001B[0m \u001B[38;5;250m\u001B[39m\u001B[38;5;124;03m\"\"\"\u001B[39;00m\n\u001B[1;32m    350\u001B[0m \u001B[38;5;124;03mIn service implementation, reads in OK byte that precedes each\u001B[39;00m\n\u001B[1;32m    351\u001B[0m \u001B[38;5;124;03mresponse. The OK byte allows for the passing of error messages\u001B[39;00m\n\u001B[0;32m   (...)\u001B[0m\n\u001B[1;32m    358\u001B[0m \u001B[38;5;124;03m@type  sock: socket.socket\u001B[39;00m\n\u001B[1;32m    359\u001B[0m \u001B[38;5;124;03m\"\"\"\u001B[39;00m\n\u001B[0;32m--> 360\u001B[0m \u001B[38;5;28;43mself\u001B[39;49m\u001B[38;5;241;43m.\u001B[39;49m\u001B[43m_read_ok_byte\u001B[49m\u001B[43m(\u001B[49m\u001B[43mb\u001B[49m\u001B[43m,\u001B[49m\u001B[43m \u001B[49m\u001B[43msock\u001B[49m\u001B[43m)\u001B[49m\n\u001B[1;32m    361\u001B[0m rospy\u001B[38;5;241m.\u001B[39mmsg\u001B[38;5;241m.\u001B[39mdeserialize_messages(b, msg_queue, \u001B[38;5;28mself\u001B[39m\u001B[38;5;241m.\u001B[39mrecv_data_class, queue_size\u001B[38;5;241m=\u001B[39m\u001B[38;5;28mself\u001B[39m\u001B[38;5;241m.\u001B[39mqueue_size, max_msgs\u001B[38;5;241m=\u001B[39m\u001B[38;5;241m1\u001B[39m, start\u001B[38;5;241m=\u001B[39m\u001B[38;5;241m1\u001B[39m) \u001B[38;5;66;03m#rospy.msg\u001B[39;00m\n",
      "File \u001B[0;32m/opt/ros/noetic/lib/python3/dist-packages/rospy/impl/tcpros_service.py:343\u001B[0m, in \u001B[0;36mTCPROSServiceClient._read_ok_byte\u001B[0;34m(self, b, sock)\u001B[0m\n\u001B[1;32m    342\u001B[0m     b\u001B[38;5;241m.\u001B[39mtruncate(\u001B[38;5;241m0\u001B[39m)\n\u001B[0;32m--> 343\u001B[0m     \u001B[38;5;28;01mraise\u001B[39;00m ServiceException(\u001B[38;5;124m\"\u001B[39m\u001B[38;5;124mservice [\u001B[39m\u001B[38;5;132;01m%s\u001B[39;00m\u001B[38;5;124m] responded with an error: \u001B[39m\u001B[38;5;132;01m%s\u001B[39;00m\u001B[38;5;124m\"\u001B[39m\u001B[38;5;241m%\u001B[39m(\u001B[38;5;28mself\u001B[39m\u001B[38;5;241m.\u001B[39mresolved_name, \u001B[38;5;28mstr\u001B[39m))\n\u001B[1;32m    344\u001B[0m \u001B[38;5;28;01melse\u001B[39;00m:\n\u001B[1;32m    345\u001B[0m     \u001B[38;5;66;03m# success, set seek point to start of message\u001B[39;00m\n",
      "\u001B[0;31mServiceException\u001B[0m: service [/pr2_right_arm_kinematics/get_ik] responded with an error: b''",
      "\nDuring handling of the above exception, another exception occurred:\n",
      "\u001B[0;31mIKError\u001B[0m                                   Traceback (most recent call last)",
      "Cell \u001B[0;32mIn[9], line 25\u001B[0m\n\u001B[1;32m     18\u001B[0m PickUpAction(object_designator_description\u001B[38;5;241m=\u001B[39mmilk_desig, \n\u001B[1;32m     19\u001B[0m                  arms\u001B[38;5;241m=\u001B[39m[arm], \n\u001B[1;32m     20\u001B[0m                  grasps\u001B[38;5;241m=\u001B[39m[\u001B[38;5;124m\"\u001B[39m\u001B[38;5;124mright\u001B[39m\u001B[38;5;124m\"\u001B[39m])\u001B[38;5;241m.\u001B[39mresolve()\u001B[38;5;241m.\u001B[39mperform()\n\u001B[1;32m     22\u001B[0m NavigateAction([Pose([\u001B[38;5;241m-\u001B[39m\u001B[38;5;241m1.90\u001B[39m, \u001B[38;5;241m0.78\u001B[39m, \u001B[38;5;241m0.0\u001B[39m], \n\u001B[1;32m     23\u001B[0m                  [\u001B[38;5;241m0.0\u001B[39m, \u001B[38;5;241m0.0\u001B[39m, \u001B[38;5;241m0.16439898301071468\u001B[39m, \u001B[38;5;241m0.9863939245479175\u001B[39m])])\u001B[38;5;241m.\u001B[39mresolve()\u001B[38;5;241m.\u001B[39mperform()\n\u001B[0;32m---> 25\u001B[0m \u001B[43mPlaceAction\u001B[49m\u001B[43m(\u001B[49m\u001B[43mobject_designator_description\u001B[49m\u001B[38;5;241;43m=\u001B[39;49m\u001B[43mmilk_desig\u001B[49m\u001B[43m,\u001B[49m\u001B[43m \u001B[49m\n\u001B[1;32m     26\u001B[0m \u001B[43m            \u001B[49m\u001B[43mtarget_locations\u001B[49m\u001B[38;5;241;43m=\u001B[39;49m\u001B[43m[\u001B[49m\u001B[43mPose\u001B[49m\u001B[43m(\u001B[49m\u001B[43m[\u001B[49m\u001B[38;5;241;43m-\u001B[39;49m\u001B[38;5;241;43m1.20\u001B[39;49m\u001B[43m,\u001B[49m\u001B[43m \u001B[49m\u001B[38;5;241;43m1.0192\u001B[39;49m\u001B[43m,\u001B[49m\u001B[43m \u001B[49m\u001B[38;5;241;43m0.9624\u001B[39;49m\u001B[43m]\u001B[49m\u001B[43m,\u001B[49m\u001B[43m \u001B[49m\n\u001B[1;32m     27\u001B[0m \u001B[43m                               \u001B[49m\u001B[43m[\u001B[49m\u001B[38;5;241;43m0.0\u001B[39;49m\u001B[43m,\u001B[49m\u001B[43m \u001B[49m\u001B[38;5;241;43m0.0\u001B[39;49m\u001B[43m,\u001B[49m\u001B[43m \u001B[49m\u001B[38;5;241;43m0.6339889056055381\u001B[39;49m\u001B[43m,\u001B[49m\u001B[43m \u001B[49m\u001B[38;5;241;43m0.7733421413379024\u001B[39;49m\u001B[43m]\u001B[49m\u001B[43m)\u001B[49m\u001B[43m]\u001B[49m\u001B[43m,\u001B[49m\u001B[43m \u001B[49m\n\u001B[1;32m     28\u001B[0m \u001B[43m            \u001B[49m\u001B[43marms\u001B[49m\u001B[38;5;241;43m=\u001B[39;49m\u001B[43m[\u001B[49m\u001B[43marm\u001B[49m\u001B[43m]\u001B[49m\u001B[43m)\u001B[49m\u001B[38;5;241;43m.\u001B[39;49m\u001B[43mresolve\u001B[49m\u001B[43m(\u001B[49m\u001B[43m)\u001B[49m\u001B[38;5;241;43m.\u001B[39;49m\u001B[43mperform\u001B[49m\u001B[43m(\u001B[49m\u001B[43m)\u001B[49m\n",
      "File \u001B[0;32m~/ROS_WS/tpycram_ws/src/pycram/src/pycram/tasktree.py:259\u001B[0m, in \u001B[0;36mwith_tree.<locals>.handle_tree\u001B[0;34m(*args, **kwargs)\u001B[0m\n\u001B[1;32m    257\u001B[0m     task_tree\u001B[38;5;241m.\u001B[39mreason \u001B[38;5;241m=\u001B[39m e\n\u001B[1;32m    258\u001B[0m     task_tree\u001B[38;5;241m.\u001B[39mstatus \u001B[38;5;241m=\u001B[39m TaskStatus\u001B[38;5;241m.\u001B[39mFAILED\n\u001B[0;32m--> 259\u001B[0m     \u001B[38;5;28;01mraise\u001B[39;00m e\n\u001B[1;32m    260\u001B[0m \u001B[38;5;28;01mfinally\u001B[39;00m:\n\u001B[1;32m    261\u001B[0m     \u001B[38;5;66;03m# set and time and update current node pointer\u001B[39;00m\n\u001B[1;32m    262\u001B[0m     task_tree\u001B[38;5;241m.\u001B[39mend_time \u001B[38;5;241m=\u001B[39m datetime\u001B[38;5;241m.\u001B[39mdatetime\u001B[38;5;241m.\u001B[39mnow()\n",
      "File \u001B[0;32m~/ROS_WS/tpycram_ws/src/pycram/src/pycram/tasktree.py:247\u001B[0m, in \u001B[0;36mwith_tree.<locals>.handle_tree\u001B[0;34m(*args, **kwargs)\u001B[0m\n\u001B[1;32m    245\u001B[0m task_tree\u001B[38;5;241m.\u001B[39mstatus \u001B[38;5;241m=\u001B[39m TaskStatus\u001B[38;5;241m.\u001B[39mCREATED\n\u001B[1;32m    246\u001B[0m task_tree\u001B[38;5;241m.\u001B[39mstart_time \u001B[38;5;241m=\u001B[39m datetime\u001B[38;5;241m.\u001B[39mdatetime\u001B[38;5;241m.\u001B[39mnow()\n\u001B[0;32m--> 247\u001B[0m result \u001B[38;5;241m=\u001B[39m \u001B[43mfun\u001B[49m\u001B[43m(\u001B[49m\u001B[38;5;241;43m*\u001B[39;49m\u001B[43margs\u001B[49m\u001B[43m,\u001B[49m\u001B[43m \u001B[49m\u001B[38;5;241;43m*\u001B[39;49m\u001B[38;5;241;43m*\u001B[39;49m\u001B[43mkwargs\u001B[49m\u001B[43m)\u001B[49m\n\u001B[1;32m    249\u001B[0m \u001B[38;5;66;03m# if it succeeded set the flag\u001B[39;00m\n\u001B[1;32m    250\u001B[0m task_tree\u001B[38;5;241m.\u001B[39mstatus \u001B[38;5;241m=\u001B[39m TaskStatus\u001B[38;5;241m.\u001B[39mSUCCEEDED\n",
      "File \u001B[0;32m~/ROS_WS/tpycram_ws/src/pycram/src/pycram/designators/action_designator.py:810\u001B[0m, in \u001B[0;36mPlaceActionPerformable.perform\u001B[0;34m(self)\u001B[0m\n\u001B[1;32m    804\u001B[0m tcp_to_object \u001B[38;5;241m=\u001B[39m local_tf\u001B[38;5;241m.\u001B[39mtransform_pose(object_pose,\n\u001B[1;32m    805\u001B[0m                                         World\u001B[38;5;241m.\u001B[39mrobot\u001B[38;5;241m.\u001B[39mget_link_tf_frame(\n\u001B[1;32m    806\u001B[0m                                             robot_description\u001B[38;5;241m.\u001B[39mget_tool_frame(\u001B[38;5;28mself\u001B[39m\u001B[38;5;241m.\u001B[39marm)))\n\u001B[1;32m    807\u001B[0m target_diff \u001B[38;5;241m=\u001B[39m \u001B[38;5;28mself\u001B[39m\u001B[38;5;241m.\u001B[39mtarget_location\u001B[38;5;241m.\u001B[39mto_transform(\u001B[38;5;124m\"\u001B[39m\u001B[38;5;124mtarget\u001B[39m\u001B[38;5;124m\"\u001B[39m)\u001B[38;5;241m.\u001B[39minverse_times(\n\u001B[1;32m    808\u001B[0m     tcp_to_object\u001B[38;5;241m.\u001B[39mto_transform(\u001B[38;5;124m\"\u001B[39m\u001B[38;5;124mobject\u001B[39m\u001B[38;5;124m\"\u001B[39m))\u001B[38;5;241m.\u001B[39mto_pose()\n\u001B[0;32m--> 810\u001B[0m \u001B[43mMoveTCPMotion\u001B[49m\u001B[43m(\u001B[49m\u001B[43mtarget_diff\u001B[49m\u001B[43m,\u001B[49m\u001B[43m \u001B[49m\u001B[38;5;28;43mself\u001B[39;49m\u001B[38;5;241;43m.\u001B[39;49m\u001B[43marm\u001B[49m\u001B[43m)\u001B[49m\u001B[38;5;241;43m.\u001B[39;49m\u001B[43mperform\u001B[49m\u001B[43m(\u001B[49m\u001B[43m)\u001B[49m\n\u001B[1;32m    811\u001B[0m MoveGripperMotion(\u001B[38;5;124m\"\u001B[39m\u001B[38;5;124mopen\u001B[39m\u001B[38;5;124m\"\u001B[39m, \u001B[38;5;28mself\u001B[39m\u001B[38;5;241m.\u001B[39marm)\u001B[38;5;241m.\u001B[39mperform()\n\u001B[1;32m    812\u001B[0m World\u001B[38;5;241m.\u001B[39mrobot\u001B[38;5;241m.\u001B[39mdetach(\u001B[38;5;28mself\u001B[39m\u001B[38;5;241m.\u001B[39mobject_designator\u001B[38;5;241m.\u001B[39mworld_object)\n",
      "File \u001B[0;32m~/ROS_WS/tpycram_ws/src/pycram/src/pycram/tasktree.py:259\u001B[0m, in \u001B[0;36mwith_tree.<locals>.handle_tree\u001B[0;34m(*args, **kwargs)\u001B[0m\n\u001B[1;32m    257\u001B[0m     task_tree\u001B[38;5;241m.\u001B[39mreason \u001B[38;5;241m=\u001B[39m e\n\u001B[1;32m    258\u001B[0m     task_tree\u001B[38;5;241m.\u001B[39mstatus \u001B[38;5;241m=\u001B[39m TaskStatus\u001B[38;5;241m.\u001B[39mFAILED\n\u001B[0;32m--> 259\u001B[0m     \u001B[38;5;28;01mraise\u001B[39;00m e\n\u001B[1;32m    260\u001B[0m \u001B[38;5;28;01mfinally\u001B[39;00m:\n\u001B[1;32m    261\u001B[0m     \u001B[38;5;66;03m# set and time and update current node pointer\u001B[39;00m\n\u001B[1;32m    262\u001B[0m     task_tree\u001B[38;5;241m.\u001B[39mend_time \u001B[38;5;241m=\u001B[39m datetime\u001B[38;5;241m.\u001B[39mdatetime\u001B[38;5;241m.\u001B[39mnow()\n",
      "File \u001B[0;32m~/ROS_WS/tpycram_ws/src/pycram/src/pycram/tasktree.py:247\u001B[0m, in \u001B[0;36mwith_tree.<locals>.handle_tree\u001B[0;34m(*args, **kwargs)\u001B[0m\n\u001B[1;32m    245\u001B[0m task_tree\u001B[38;5;241m.\u001B[39mstatus \u001B[38;5;241m=\u001B[39m TaskStatus\u001B[38;5;241m.\u001B[39mCREATED\n\u001B[1;32m    246\u001B[0m task_tree\u001B[38;5;241m.\u001B[39mstart_time \u001B[38;5;241m=\u001B[39m datetime\u001B[38;5;241m.\u001B[39mdatetime\u001B[38;5;241m.\u001B[39mnow()\n\u001B[0;32m--> 247\u001B[0m result \u001B[38;5;241m=\u001B[39m \u001B[43mfun\u001B[49m\u001B[43m(\u001B[49m\u001B[38;5;241;43m*\u001B[39;49m\u001B[43margs\u001B[49m\u001B[43m,\u001B[49m\u001B[43m \u001B[49m\u001B[38;5;241;43m*\u001B[39;49m\u001B[38;5;241;43m*\u001B[39;49m\u001B[43mkwargs\u001B[49m\u001B[43m)\u001B[49m\n\u001B[1;32m    249\u001B[0m \u001B[38;5;66;03m# if it succeeded set the flag\u001B[39;00m\n\u001B[1;32m    250\u001B[0m task_tree\u001B[38;5;241m.\u001B[39mstatus \u001B[38;5;241m=\u001B[39m TaskStatus\u001B[38;5;241m.\u001B[39mSUCCEEDED\n",
      "File \u001B[0;32m~/ROS_WS/tpycram_ws/src/pycram/src/pycram/designators/motion_designator.py:138\u001B[0m, in \u001B[0;36mMoveTCPMotion.perform\u001B[0;34m(self)\u001B[0m\n\u001B[1;32m    135\u001B[0m \u001B[38;5;129m@with_tree\u001B[39m\n\u001B[1;32m    136\u001B[0m \u001B[38;5;28;01mdef\u001B[39;00m \u001B[38;5;21mperform\u001B[39m(\u001B[38;5;28mself\u001B[39m):\n\u001B[1;32m    137\u001B[0m     pm_manager \u001B[38;5;241m=\u001B[39m ProcessModuleManager\u001B[38;5;241m.\u001B[39mget_manager()\n\u001B[0;32m--> 138\u001B[0m     \u001B[38;5;28;01mreturn\u001B[39;00m \u001B[43mpm_manager\u001B[49m\u001B[38;5;241;43m.\u001B[39;49m\u001B[43mmove_tcp\u001B[49m\u001B[43m(\u001B[49m\u001B[43m)\u001B[49m\u001B[38;5;241;43m.\u001B[39;49m\u001B[43mexecute\u001B[49m\u001B[43m(\u001B[49m\u001B[38;5;28;43mself\u001B[39;49m\u001B[43m)\u001B[49m\n",
      "File \u001B[0;32m~/ROS_WS/tpycram_ws/src/pycram/src/pycram/process_module.py:62\u001B[0m, in \u001B[0;36mProcessModule.execute\u001B[0;34m(self, designator)\u001B[0m\n\u001B[1;32m     60\u001B[0m     \u001B[38;5;28;01mreturn\u001B[39;00m \u001B[38;5;28;01mNone\u001B[39;00m\n\u001B[1;32m     61\u001B[0m \u001B[38;5;28;01mwith\u001B[39;00m \u001B[38;5;28mself\u001B[39m\u001B[38;5;241m.\u001B[39m_lock:\n\u001B[0;32m---> 62\u001B[0m     ret \u001B[38;5;241m=\u001B[39m \u001B[38;5;28;43mself\u001B[39;49m\u001B[38;5;241;43m.\u001B[39;49m\u001B[43m_execute\u001B[49m\u001B[43m(\u001B[49m\u001B[43mdesignator\u001B[49m\u001B[43m)\u001B[49m\n\u001B[1;32m     63\u001B[0m     \u001B[38;5;28;01mif\u001B[39;00m ProcessModule\u001B[38;5;241m.\u001B[39mexecution_delay:\n\u001B[1;32m     64\u001B[0m         time\u001B[38;5;241m.\u001B[39msleep(\u001B[38;5;241m0.5\u001B[39m)\n",
      "File \u001B[0;32m~/ROS_WS/tpycram_ws/src/pycram/src/pycram/process_modules/pr2_process_modules.py:125\u001B[0m, in \u001B[0;36mPr2MoveTCP._execute\u001B[0;34m(self, desig)\u001B[0m\n\u001B[1;32m    122\u001B[0m target \u001B[38;5;241m=\u001B[39m desig\u001B[38;5;241m.\u001B[39mtarget\n\u001B[1;32m    123\u001B[0m robot \u001B[38;5;241m=\u001B[39m World\u001B[38;5;241m.\u001B[39mrobot\n\u001B[0;32m--> 125\u001B[0m \u001B[43m_move_arm_tcp\u001B[49m\u001B[43m(\u001B[49m\u001B[43mtarget\u001B[49m\u001B[43m,\u001B[49m\u001B[43m \u001B[49m\u001B[43mrobot\u001B[49m\u001B[43m,\u001B[49m\u001B[43m \u001B[49m\u001B[43mdesig\u001B[49m\u001B[38;5;241;43m.\u001B[39;49m\u001B[43marm\u001B[49m\u001B[43m)\u001B[49m\n",
      "File \u001B[0;32m~/ROS_WS/tpycram_ws/src/pycram/src/pycram/process_modules/pr2_process_modules.py:207\u001B[0m, in \u001B[0;36m_move_arm_tcp\u001B[0;34m(target, robot, arm)\u001B[0m\n\u001B[1;32m    203\u001B[0m gripper \u001B[38;5;241m=\u001B[39m robot_description\u001B[38;5;241m.\u001B[39mget_tool_frame(arm)\n\u001B[1;32m    205\u001B[0m joints \u001B[38;5;241m=\u001B[39m robot_description\u001B[38;5;241m.\u001B[39mchains[arm]\u001B[38;5;241m.\u001B[39mjoints\n\u001B[0;32m--> 207\u001B[0m inv \u001B[38;5;241m=\u001B[39m \u001B[43mrequest_ik\u001B[49m\u001B[43m(\u001B[49m\u001B[43mtarget\u001B[49m\u001B[43m,\u001B[49m\u001B[43m \u001B[49m\u001B[43mrobot\u001B[49m\u001B[43m,\u001B[49m\u001B[43m \u001B[49m\u001B[43mjoints\u001B[49m\u001B[43m,\u001B[49m\u001B[43m \u001B[49m\u001B[43mgripper\u001B[49m\u001B[43m)\u001B[49m\n\u001B[1;32m    208\u001B[0m _apply_ik(robot, inv)\n",
      "File \u001B[0;32m~/ROS_WS/tpycram_ws/src/pycram/src/pycram/external_interfaces/ik.py:172\u001B[0m, in \u001B[0;36mrequest_ik\u001B[0;34m(target_pose, robot, joints, gripper)\u001B[0m\n\u001B[1;32m    161\u001B[0m \u001B[38;5;250m\u001B[39m\u001B[38;5;124;03m\"\"\"\u001B[39;00m\n\u001B[1;32m    162\u001B[0m \u001B[38;5;124;03mTop-level method to request ik solution for a given pose. This method will check if the giskard node is running\u001B[39;00m\n\u001B[1;32m    163\u001B[0m \u001B[38;5;124;03mand if so will call the giskard service. If the giskard node is not running the kdl_ik_service will be called.\u001B[39;00m\n\u001B[0;32m   (...)\u001B[0m\n\u001B[1;32m    169\u001B[0m \u001B[38;5;124;03m:return: A Pose at which the robt should stand as well as a dictionary of joint values\u001B[39;00m\n\u001B[1;32m    170\u001B[0m \u001B[38;5;124;03m\"\"\"\u001B[39;00m\n\u001B[1;32m    171\u001B[0m \u001B[38;5;28;01mif\u001B[39;00m \u001B[38;5;124m\"\u001B[39m\u001B[38;5;124m/giskard\u001B[39m\u001B[38;5;124m\"\u001B[39m \u001B[38;5;129;01mnot\u001B[39;00m \u001B[38;5;129;01min\u001B[39;00m rosnode\u001B[38;5;241m.\u001B[39mget_node_names():\n\u001B[0;32m--> 172\u001B[0m     \u001B[38;5;28;01mreturn\u001B[39;00m robot\u001B[38;5;241m.\u001B[39mpose, \u001B[43mrequest_kdl_ik\u001B[49m\u001B[43m(\u001B[49m\u001B[43mtarget_pose\u001B[49m\u001B[43m,\u001B[49m\u001B[43m \u001B[49m\u001B[43mrobot\u001B[49m\u001B[43m,\u001B[49m\u001B[43m \u001B[49m\u001B[43mjoints\u001B[49m\u001B[43m,\u001B[49m\u001B[43m \u001B[49m\u001B[43mgripper\u001B[49m\u001B[43m)\u001B[49m\n\u001B[1;32m    173\u001B[0m \u001B[38;5;28;01mreturn\u001B[39;00m request_giskard_ik(target_pose, robot, gripper)\n",
      "File \u001B[0;32m~/ROS_WS/tpycram_ws/src/pycram/src/pycram/external_interfaces/ik.py:199\u001B[0m, in \u001B[0;36mrequest_kdl_ik\u001B[0;34m(target_pose, robot, joints, gripper)\u001B[0m\n\u001B[1;32m    196\u001B[0m wrist_tool_frame_offset \u001B[38;5;241m=\u001B[39m robot\u001B[38;5;241m.\u001B[39mget_transform_between_links(end_effector, gripper)\n\u001B[1;32m    197\u001B[0m target_diff \u001B[38;5;241m=\u001B[39m target_torso\u001B[38;5;241m.\u001B[39mto_transform(\u001B[38;5;124m\"\u001B[39m\u001B[38;5;124mtarget\u001B[39m\u001B[38;5;124m\"\u001B[39m)\u001B[38;5;241m.\u001B[39minverse_times(wrist_tool_frame_offset)\u001B[38;5;241m.\u001B[39mto_pose()\n\u001B[0;32m--> 199\u001B[0m inv \u001B[38;5;241m=\u001B[39m \u001B[43mcall_ik\u001B[49m\u001B[43m(\u001B[49m\u001B[43mbase_link\u001B[49m\u001B[43m,\u001B[49m\u001B[43m \u001B[49m\u001B[43mend_effector\u001B[49m\u001B[43m,\u001B[49m\u001B[43m \u001B[49m\u001B[43mtarget_diff\u001B[49m\u001B[43m,\u001B[49m\u001B[43m \u001B[49m\u001B[43mrobot\u001B[49m\u001B[43m,\u001B[49m\u001B[43m \u001B[49m\u001B[43mjoints\u001B[49m\u001B[43m)\u001B[49m\n\u001B[1;32m    201\u001B[0m \u001B[38;5;28;01mreturn\u001B[39;00m \u001B[38;5;28mdict\u001B[39m(\u001B[38;5;28mzip\u001B[39m(joints, inv))\n",
      "File \u001B[0;32m~/ROS_WS/tpycram_ws/src/pycram/src/pycram/external_interfaces/ik.py:87\u001B[0m, in \u001B[0;36mcall_ik\u001B[0;34m(root_link, tip_link, target_pose, robot_object, joints)\u001B[0m\n\u001B[1;32m     85\u001B[0m \u001B[38;5;28;01mexcept\u001B[39;00m rospy\u001B[38;5;241m.\u001B[39mServiceException \u001B[38;5;28;01mas\u001B[39;00m e:\n\u001B[1;32m     86\u001B[0m     \u001B[38;5;28;01mif\u001B[39;00m robot_description\u001B[38;5;241m.\u001B[39mname \u001B[38;5;241m==\u001B[39m \u001B[38;5;124m\"\u001B[39m\u001B[38;5;124mpr2\u001B[39m\u001B[38;5;124m\"\u001B[39m:\n\u001B[0;32m---> 87\u001B[0m         \u001B[38;5;28;01mraise\u001B[39;00m IKError(target_pose, root_link)\n\u001B[1;32m     88\u001B[0m     \u001B[38;5;28;01melse\u001B[39;00m:\n\u001B[1;32m     89\u001B[0m         \u001B[38;5;28;01mraise\u001B[39;00m e\n",
      "\u001B[0;31mIKError\u001B[0m: Position header: \n  seq: 0\n  stamp: \n    secs: 1721735206\n    nsecs: 468132972\n  frame_id: \"pr2/torso_lift_link\"\npose: \n  position: \n    x: 0.94525538531413\n    y: -0.09139406472999498\n    z: -0.12827496534148275\n  orientation: \n    x: 1.2941012490165574e-08\n    y: 7.020476696864241e-09\n    z: 0.9653939873341008\n    w: 0.2607957998495491 in frame 'torso_lift_link' is not reachable for end effector"
     ]
    }
   ],
   "source": [
    "from pycram.designators.action_designator import PickUpAction, PlaceAction, ParkArmsAction, MoveTorsoAction, NavigateAction\n",
    "from pycram.designators.object_designator import BelieveObject\n",
    "from pycram.process_module import simulated_robot\n",
    "from pycram.datastructures.enums import Arms\n",
    "from pycram.datastructures.pose import Pose\n",
    "\n",
    "milk_desig = BelieveObject(names=[\"milk\"])\n",
    "arm =\"right\"\n",
    "\n",
    "with simulated_robot:\n",
    "    ParkArmsAction([Arms.BOTH]).resolve().perform()\n",
    "    \n",
    "    MoveTorsoAction([0.3]).resolve().perform()\n",
    "    \n",
    "    NavigateAction([Pose([0.72, 0.98, 0.0], \n",
    "                     [0.0, 0.0, 0.014701099828940344, 0.9998919329926708])]).resolve().perform()\n",
    "    \n",
    "    PickUpAction(object_designator_description=milk_desig, \n",
    "                     arms=[arm], \n",
    "                     grasps=[\"right\"]).resolve().perform()\n",
    "    \n",
    "    NavigateAction([Pose([-1.90, 0.78, 0.0], \n",
    "                     [0.0, 0.0, 0.16439898301071468, 0.9863939245479175])]).resolve().perform()\n",
    "    \n",
    "    PlaceAction(object_designator_description=milk_desig, \n",
    "                target_locations=[Pose([-1.20, 1.0192, 0.9624], \n",
    "                                   [0.0, 0.0, 0.6339889056055381, 0.7733421413379024])], \n",
    "                arms=[arm]).resolve().perform()"
   ]
  },
  {
   "cell_type": "code",
   "execution_count": 17,
   "id": "5b2b2b48",
   "metadata": {
    "ExecuteTime": {
     "end_time": "2024-07-23T11:48:48.396951Z",
     "start_time": "2024-07-23T11:48:48.369728Z"
    }
   },
   "outputs": [],
   "source": [
    "world.reset_world()"
   ]
  },
  {
   "cell_type": "markdown",
   "id": "f00e144b",
   "metadata": {},
   "source": [
    "## Look At\n",
    "Look at lets the robot look at a specific point, for example if it should look at an object for detecting. "
   ]
  },
  {
   "cell_type": "code",
   "execution_count": 11,
   "id": "e75dee7b",
   "metadata": {
    "ExecuteTime": {
     "end_time": "2024-07-23T11:47:18.264780Z",
     "start_time": "2024-07-23T11:47:17.753336Z"
    }
   },
   "outputs": [],
   "source": [
    "from pycram.designators.action_designator import LookAtAction\n",
    "from pycram.process_module import simulated_robot\n",
    "from pycram.datastructures.pose import Pose\n",
    "\n",
    "target_location = Pose([1, 0, 0.5], [0, 0, 0, 1])\n",
    "with simulated_robot:\n",
    "    LookAtAction(targets=[target_location]).resolve().perform()"
   ]
  },
  {
   "cell_type": "markdown",
   "id": "25fbfcb7",
   "metadata": {},
   "source": [
    "## Detect\n",
    "Detect is used to detect objects in the field of vision (FOV) of the robot. We will use the milk used in the pick up/place example, if you didn't execute that example you can spawn the milk with the following cell. The detect designator will return a resolved instance of an ObjectDesignatorDescription. "
   ]
  },
  {
   "cell_type": "code",
   "execution_count": 12,
   "id": "82895e08",
   "metadata": {
    "ExecuteTime": {
     "end_time": "2024-07-23T11:47:25.923010Z",
     "start_time": "2024-07-23T11:47:25.920541Z"
    }
   },
   "outputs": [
    {
     "name": "stderr",
     "output_type": "stream",
     "text": [
      "[ERROR] [1721735245.921285]: An object with the name milk already exists in the world.\n"
     ]
    }
   ],
   "source": [
    "milk = Object(\"milk\", ObjectType.MILK, \"milk.stl\", pose=Pose([1.3, 1, 0.9]))"
   ]
  },
  {
   "cell_type": "code",
   "execution_count": 13,
   "id": "cf2c9b62",
   "metadata": {
    "ExecuteTime": {
     "end_time": "2024-07-23T11:47:35.686333Z",
     "start_time": "2024-07-23T11:47:33.434477Z"
    }
   },
   "outputs": [
    {
     "name": "stdout",
     "output_type": "stream",
     "text": [
      "ObjectDesignatorDescription.Object(name=milk, obj_type=ObjectType.MILK, world_object=Object(_saved_states={}, \n",
      "id=4, \n",
      "world=<pycram.worlds.bullet_world.BulletWorld object at 0x7fe14ec536d0>, \n",
      "name=milk, \n",
      "obj_type=ObjectType.MILK, \n",
      "color=Color(R=1, G=1, B=1, A=1), \n",
      "description: ..., \n",
      "cache_manager=<pycram.cache_manager.CacheManager object at 0x7fe14ec53bb0>, \n",
      "local_transformer=<pycram.local_transformer.LocalTransformer object at 0x7fe14e3ef790>, \n",
      "original_pose=header: \n",
      "  seq: 0\n",
      "  stamp: \n",
      "    secs: 1721735166\n",
      "    nsecs: 971598863\n",
      "  frame_id: \"map\"\n",
      "pose: \n",
      "  position: \n",
      "    x: 1.3\n",
      "    y: 1.0\n",
      "    z: 0.9\n",
      "  orientation: \n",
      "    x: 0.0\n",
      "    y: 0.0\n",
      "    z: 0.0\n",
      "    w: 1.0, \n",
      "_current_pose=header: \n",
      "  seq: 0\n",
      "  stamp: \n",
      "    secs: 1721735232\n",
      "    nsecs: 933853864\n",
      "  frame_id: \"map\"\n",
      "pose: \n",
      "  position: \n",
      "    x: 1.3\n",
      "    y: 1.0\n",
      "    z: 0.9\n",
      "  orientation: \n",
      "    x: 0.0\n",
      "    y: 0.0\n",
      "    z: 0.0\n",
      "    w: 1.0, \n",
      "path=/home/malineni/ROS_WS/tpycram_ws/src/pycram/src/pycram/datastructures/../../../resources/cached/milk.urdf, \n",
      "tf_frame=milk, \n",
      "joint_name_to_id={}, \n",
      "joint_id_to_name={}, \n",
      "link_name_to_id={'milk_main': -1}, \n",
      "link_id_to_name={-1: 'milk_main'}, \n",
      "links: ..., \n",
      "joints: ..., \n",
      "attachments: ...), _pose=<bound method Object.get_pose of Object(_saved_states={}, \n",
      "id=4, \n",
      "world=<pycram.worlds.bullet_world.BulletWorld object at 0x7fe14ec536d0>, \n",
      "name=milk, \n",
      "obj_type=ObjectType.MILK, \n",
      "color=Color(R=1, G=1, B=1, A=1), \n",
      "description: ..., \n",
      "cache_manager=<pycram.cache_manager.CacheManager object at 0x7fe14ec53bb0>, \n",
      "local_transformer=<pycram.local_transformer.LocalTransformer object at 0x7fe14e3ef790>, \n",
      "original_pose=header: \n",
      "  seq: 0\n",
      "  stamp: \n",
      "    secs: 1721735166\n",
      "    nsecs: 971598863\n",
      "  frame_id: \"map\"\n",
      "pose: \n",
      "  position: \n",
      "    x: 1.3\n",
      "    y: 1.0\n",
      "    z: 0.9\n",
      "  orientation: \n",
      "    x: 0.0\n",
      "    y: 0.0\n",
      "    z: 0.0\n",
      "    w: 1.0, \n",
      "_current_pose=header: \n",
      "  seq: 0\n",
      "  stamp: \n",
      "    secs: 1721735232\n",
      "    nsecs: 933853864\n",
      "  frame_id: \"map\"\n",
      "pose: \n",
      "  position: \n",
      "    x: 1.3\n",
      "    y: 1.0\n",
      "    z: 0.9\n",
      "  orientation: \n",
      "    x: 0.0\n",
      "    y: 0.0\n",
      "    z: 0.0\n",
      "    w: 1.0, \n",
      "path=/home/malineni/ROS_WS/tpycram_ws/src/pycram/src/pycram/datastructures/../../../resources/cached/milk.urdf, \n",
      "tf_frame=milk, \n",
      "joint_name_to_id={}, \n",
      "joint_id_to_name={}, \n",
      "link_name_to_id={'milk_main': -1}, \n",
      "link_id_to_name={-1: 'milk_main'}, \n",
      "links: ..., \n",
      "joints: ..., \n",
      "attachments: ...)>, pose=header: \n",
      "  seq: 0\n",
      "  stamp: \n",
      "    secs: 1721735232\n",
      "    nsecs: 933853864\n",
      "  frame_id: \"map\"\n",
      "pose: \n",
      "  position: \n",
      "    x: 1.3\n",
      "    y: 1.0\n",
      "    z: 0.9\n",
      "  orientation: \n",
      "    x: 0.0\n",
      "    y: 0.0\n",
      "    z: 0.0\n",
      "    w: 1.0)\n"
     ]
    }
   ],
   "source": [
    "from pycram.designators.action_designator import DetectAction, LookAtAction, ParkArmsAction, NavigateAction\n",
    "from pycram.designators.object_designator import BelieveObject\n",
    "from pycram.datastructures.enums import Arms\n",
    "from pycram.process_module import simulated_robot\n",
    "from pycram.datastructures.pose import Pose\n",
    "\n",
    "milk_desig = BelieveObject(names=[\"milk\"])\n",
    "\n",
    "with simulated_robot:\n",
    "    ParkArmsAction([Arms.BOTH]).resolve().perform()\n",
    "    \n",
    "    NavigateAction([Pose([0, 1, 0], [0, 0, 0, 1])]).resolve().perform()\n",
    "    \n",
    "    LookAtAction(targets=[milk_desig.resolve().pose]).resolve().perform()\n",
    "    \n",
    "    obj_desig = DetectAction(milk_desig).resolve().perform()\n",
    "    \n",
    "    print(obj_desig)"
   ]
  },
  {
   "cell_type": "markdown",
   "id": "066efebd",
   "metadata": {},
   "source": [
    "## Transporting\n",
    "Transporting can transport an object from its current position to another target position. It is similar to the Pick and Place plan used in the Pick-up and Place example. Since we need an Object which we can transport we spawn a milk, you don't need to do this if you already have spawned it in a previous example."
   ]
  },
  {
   "cell_type": "code",
   "execution_count": 14,
   "id": "c90a3f30",
   "metadata": {
    "ExecuteTime": {
     "end_time": "2024-07-03T11:54:39.272099Z",
     "start_time": "2024-07-03T11:54:39.268778Z"
    }
   },
   "outputs": [
    {
     "name": "stderr",
     "output_type": "stream",
     "text": [
      "[ERROR] [1720007679.269804]: An object with the name kitchen already exists in the world.\n",
      "[ERROR] [1720007679.270801]: An object with the name milk already exists in the world.\n"
     ]
    }
   ],
   "source": [
    "kitchen = Object(\"kitchen\", ObjectType.ENVIRONMENT, \"kitchen.urdf\")\n",
    "milk = Object(\"milk\", ObjectType.MILK, \"milk.stl\", pose=Pose([1.3, 1, 0.9]))"
   ]
  },
  {
   "cell_type": "code",
   "execution_count": 14,
   "id": "0dac6c43",
   "metadata": {
    "ExecuteTime": {
     "end_time": "2024-07-23T11:47:58.159349Z",
     "start_time": "2024-07-23T11:47:49.143106Z"
    }
   },
   "outputs": [],
   "source": [
    "from pycram.designators.action_designator import *\n",
    "from pycram.designators.object_designator import *\n",
    "from pycram.process_module import simulated_robot\n",
    "from pycram.datastructures.pose import Pose\n",
    "\n",
    "milk_desig = BelieveObject(names=[\"milk\"])\n",
    "\n",
    "with simulated_robot:\n",
    "    MoveTorsoAction([0.3]).resolve().perform()\n",
    "    TransportAction(milk_desig, [\"left\"], [Pose([-0.9, 0.9, 0.95], [0, 0, 1, 0])]).resolve().perform()"
   ]
  },
  {
   "cell_type": "markdown",
   "id": "f3c2b938",
   "metadata": {},
   "source": [
    "## Opening\n",
    "Opening allows the robot to open a drawer, the drawer is identified by an ObjectPart designator which describes the handle of the drawer that should be grasped. \n",
    "\n",
    "For the moment this designator works only in the apartment environment, therefore we remove the kitchen and spawn the apartment."
   ]
  },
  {
   "cell_type": "code",
   "execution_count": 15,
   "id": "2709a243",
   "metadata": {
    "ExecuteTime": {
     "end_time": "2024-07-23T11:48:10.024967Z",
     "start_time": "2024-07-23T11:48:09.928837Z"
    }
   },
   "outputs": [],
   "source": [
    "kitchen.remove()"
   ]
  },
  {
   "cell_type": "code",
   "execution_count": 16,
   "id": "baced162",
   "metadata": {
    "ExecuteTime": {
     "end_time": "2024-07-23T11:48:20.067305Z",
     "start_time": "2024-07-23T11:48:14.483455Z"
    }
   },
   "outputs": [
    {
     "name": "stderr",
     "output_type": "stream",
     "text": [
      "Unknown tag \"material\" in /robot[@name='apartment']/link[@name='coffe_machine']/collision[1]\n"
     ]
    }
   ],
   "source": [
    "apartment = Object(\"apartment\", ObjectType.ENVIRONMENT, \"apartment.urdf\")"
   ]
  },
  {
   "cell_type": "code",
   "execution_count": 18,
   "id": "13916c7f",
   "metadata": {
    "ExecuteTime": {
     "end_time": "2024-07-23T11:49:13.417066Z",
     "start_time": "2024-07-23T11:49:08.733516Z"
    }
   },
   "outputs": [],
   "source": [
    "from pycram.designators.action_designator import *\n",
    "from pycram.designators.object_designator import *\n",
    "from pycram.datastructures.enums import Arms\n",
    "from pycram.process_module import simulated_robot\n",
    "from pycram.datastructures.pose import Pose\n",
    "\n",
    "apartment_desig = BelieveObject(names=[\"apartment\"]).resolve()\n",
    "handle_deisg = ObjectPart(names=[\"handle_cab10_t\"], part_of=apartment_desig)\n",
    "\n",
    "with simulated_robot:\n",
    "    MoveTorsoAction([0.25]).resolve().perform()\n",
    "    ParkArmsAction([Arms.BOTH]).resolve().perform()\n",
    "    NavigateAction([Pose([1.7474915981292725, 2.6873629093170166, 0.0],\n",
    "                         [-0.0, 0.0, 0.5253598267689507, -0.850880163370435])]).resolve().perform()\n",
    "    OpenAction(handle_deisg, [\"right\"]).resolve().perform()"
   ]
  },
  {
   "cell_type": "markdown",
   "id": "86a158c4",
   "metadata": {},
   "source": [
    "## Closing\n",
    "Closing lets the robot close an open drawer, like opening the drawer is identified by an ObjectPart designator describing the handle to be grasped. \n",
    "\n",
    "This action designator only works in the apartment environment for the moment, therefore we remove the kitchen and spawn the apartment. Additionally, we open the drawer such that we can close it with the action designator."
   ]
  },
  {
   "cell_type": "code",
   "execution_count": 19,
   "id": "a89d0c7c",
   "metadata": {
    "ExecuteTime": {
     "end_time": "2024-07-23T11:49:29.572181Z",
     "start_time": "2024-07-23T11:49:29.514125Z"
    }
   },
   "outputs": [
    {
     "ename": "ValueError",
     "evalue": "list.remove(x): x not in list",
     "output_type": "error",
     "traceback": [
      "\u001B[0;31m---------------------------------------------------------------------------\u001B[0m",
      "\u001B[0;31mValueError\u001B[0m                                Traceback (most recent call last)",
      "Cell \u001B[0;32mIn[19], line 1\u001B[0m\n\u001B[0;32m----> 1\u001B[0m \u001B[43mkitchen\u001B[49m\u001B[38;5;241;43m.\u001B[39;49m\u001B[43mremove\u001B[49m\u001B[43m(\u001B[49m\u001B[43m)\u001B[49m\n",
      "File \u001B[0;32m~/ROS_WS/tpycram_ws/src/pycram/src/pycram/world_concepts/world_object.py:366\u001B[0m, in \u001B[0;36mObject.remove\u001B[0;34m(self)\u001B[0m\n\u001B[1;32m    359\u001B[0m \u001B[38;5;28;01mdef\u001B[39;00m \u001B[38;5;21mremove\u001B[39m(\u001B[38;5;28mself\u001B[39m) \u001B[38;5;241m-\u001B[39m\u001B[38;5;241m>\u001B[39m \u001B[38;5;28;01mNone\u001B[39;00m:\n\u001B[1;32m    360\u001B[0m \u001B[38;5;250m    \u001B[39m\u001B[38;5;124;03m\"\"\"\u001B[39;00m\n\u001B[1;32m    361\u001B[0m \u001B[38;5;124;03m    Removes this object from the World it currently resides in.\u001B[39;00m\n\u001B[1;32m    362\u001B[0m \u001B[38;5;124;03m    For the object to be removed it has to be detached from all objects it\u001B[39;00m\n\u001B[1;32m    363\u001B[0m \u001B[38;5;124;03m    is currently attached to. After this is done a call to world remove object is done\u001B[39;00m\n\u001B[1;32m    364\u001B[0m \u001B[38;5;124;03m    to remove this Object from the simulation/world.\u001B[39;00m\n\u001B[1;32m    365\u001B[0m \u001B[38;5;124;03m    \"\"\"\u001B[39;00m\n\u001B[0;32m--> 366\u001B[0m     \u001B[38;5;28;43mself\u001B[39;49m\u001B[38;5;241;43m.\u001B[39;49m\u001B[43mworld\u001B[49m\u001B[38;5;241;43m.\u001B[39;49m\u001B[43mremove_object\u001B[49m\u001B[43m(\u001B[49m\u001B[38;5;28;43mself\u001B[39;49m\u001B[43m)\u001B[49m\n",
      "File \u001B[0;32m~/ROS_WS/tpycram_ws/src/pycram/src/pycram/datastructures/world.py:313\u001B[0m, in \u001B[0;36mWorld.remove_object\u001B[0;34m(self, obj)\u001B[0m\n\u001B[1;32m    303\u001B[0m \u001B[38;5;250m\u001B[39m\u001B[38;5;124;03m\"\"\"\u001B[39;00m\n\u001B[1;32m    304\u001B[0m \u001B[38;5;124;03mRemoves this object from the current world.\u001B[39;00m\n\u001B[1;32m    305\u001B[0m \u001B[38;5;124;03mFor the object to be removed it has to be detached from all objects it\u001B[39;00m\n\u001B[0;32m   (...)\u001B[0m\n\u001B[1;32m    309\u001B[0m \u001B[38;5;124;03m:param obj: The object to be removed.\u001B[39;00m\n\u001B[1;32m    310\u001B[0m \u001B[38;5;124;03m\"\"\"\u001B[39;00m\n\u001B[1;32m    311\u001B[0m obj\u001B[38;5;241m.\u001B[39mdetach_all()\n\u001B[0;32m--> 313\u001B[0m \u001B[38;5;28;43mself\u001B[39;49m\u001B[38;5;241;43m.\u001B[39;49m\u001B[43mobjects\u001B[49m\u001B[38;5;241;43m.\u001B[39;49m\u001B[43mremove\u001B[49m\u001B[43m(\u001B[49m\u001B[43mobj\u001B[49m\u001B[43m)\u001B[49m\n\u001B[1;32m    315\u001B[0m \u001B[38;5;66;03m# This means the current world of the object is not the prospection world, since it\u001B[39;00m\n\u001B[1;32m    316\u001B[0m \u001B[38;5;66;03m# has a reference to the prospection world\u001B[39;00m\n\u001B[1;32m    317\u001B[0m \u001B[38;5;28;01mif\u001B[39;00m \u001B[38;5;28mself\u001B[39m\u001B[38;5;241m.\u001B[39mprospection_world \u001B[38;5;129;01mis\u001B[39;00m \u001B[38;5;129;01mnot\u001B[39;00m \u001B[38;5;28;01mNone\u001B[39;00m:\n",
      "\u001B[0;31mValueError\u001B[0m: list.remove(x): x not in list"
     ]
    }
   ],
   "source": [
    "kitchen.remove()"
   ]
  },
  {
   "cell_type": "code",
   "execution_count": 20,
   "id": "3135b5cf",
   "metadata": {
    "ExecuteTime": {
     "end_time": "2024-07-23T11:49:34.584057Z",
     "start_time": "2024-07-23T11:49:34.575625Z"
    }
   },
   "outputs": [
    {
     "name": "stderr",
     "output_type": "stream",
     "text": [
      "[ERROR] [1721735374.576318]: An object with the name apartment already exists in the world.\n"
     ]
    },
    {
     "ename": "AttributeError",
     "evalue": "'Object' object has no attribute 'set_joint_state'",
     "output_type": "error",
     "traceback": [
      "\u001B[0;31m---------------------------------------------------------------------------\u001B[0m",
      "\u001B[0;31mAttributeError\u001B[0m                            Traceback (most recent call last)",
      "Cell \u001B[0;32mIn[20], line 2\u001B[0m\n\u001B[1;32m      1\u001B[0m apartment \u001B[38;5;241m=\u001B[39m Object(\u001B[38;5;124m\"\u001B[39m\u001B[38;5;124mapartment\u001B[39m\u001B[38;5;124m\"\u001B[39m, ObjectType\u001B[38;5;241m.\u001B[39mENVIRONMENT, \u001B[38;5;124m\"\u001B[39m\u001B[38;5;124mapartment.urdf\u001B[39m\u001B[38;5;124m\"\u001B[39m)\n\u001B[0;32m----> 2\u001B[0m \u001B[43mapartment\u001B[49m\u001B[38;5;241;43m.\u001B[39;49m\u001B[43mset_joint_state\u001B[49m(\u001B[38;5;124m\"\u001B[39m\u001B[38;5;124mcabinet10_drawer_top_joint\u001B[39m\u001B[38;5;124m\"\u001B[39m, \u001B[38;5;241m0.4\u001B[39m)\n",
      "\u001B[0;31mAttributeError\u001B[0m: 'Object' object has no attribute 'set_joint_state'"
     ]
    }
   ],
   "source": [
    "apartment = Object(\"apartment\", ObjectType.ENVIRONMENT, \"apartment.urdf\")\n",
    "apartment.set_joint_state(\"cabinet10_drawer_top_joint\", 0.4)"
   ]
  },
  {
   "cell_type": "code",
   "execution_count": 21,
   "id": "21fe049f",
   "metadata": {
    "ExecuteTime": {
     "end_time": "2024-07-23T11:49:44.067977Z",
     "start_time": "2024-07-23T11:49:39.396331Z"
    }
   },
   "outputs": [],
   "source": [
    "from pycram.designators.action_designator import *\n",
    "from pycram.designators.object_designator import *\n",
    "from pycram.datastructures.enums import Arms\n",
    "from pycram.process_module import simulated_robot\n",
    "from pycram.datastructures.pose import Pose\n",
    "\n",
    "apartment_desig = BelieveObject(names=[\"apartment\"]).resolve()\n",
    "handle_deisg = ObjectPart(names=[\"handle_cab10_t\"], part_of=apartment_desig)\n",
    "\n",
    "with simulated_robot:\n",
    "    MoveTorsoAction([0.25]).resolve().perform()\n",
    "    ParkArmsAction([Arms.BOTH]).resolve().perform()\n",
    "    NavigateAction([Pose([1.7474915981292725, 2.8073629093170166, 0.0],\n",
    "                         [-0.0, 0.0, 0.5253598267689507, -0.850880163370435])]).resolve().perform()\n",
    "    CloseAction(handle_deisg, [\"right\"]).resolve().perform()"
   ]
  },
  {
   "cell_type": "code",
   "execution_count": null,
   "id": "a728ab47",
   "metadata": {},
   "outputs": [],
   "source": []
  }
 ],
 "metadata": {
  "kernelspec": {
   "display_name": "pycram",
   "language": "python",
   "name": "pycram"
  },
  "language_info": {
   "codemirror_mode": {
    "name": "ipython",
    "version": 3
   },
   "file_extension": ".py",
   "mimetype": "text/x-python",
   "name": "python",
   "nbconvert_exporter": "python",
   "pygments_lexer": "ipython3",
   "version": "3.8.10"
  }
 },
 "nbformat": 4,
 "nbformat_minor": 5
}
