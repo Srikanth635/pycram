{
 "cells": [
  {
   "cell_type": "code",
   "id": "initial_id",
   "metadata": {
    "collapsed": true,
    "ExecuteTime": {
     "end_time": "2024-07-04T12:00:39.494318Z",
     "start_time": "2024-07-04T12:00:38.968011Z"
    }
   },
   "source": [
    "from pycram.ontology.ontology import OntologyManager, SOMA_HOME_ONTOLOGY_IRI\n",
    "from pycram.ontology.ontology_common import OntologyConceptHolderStore, OntologyConceptHolder"
   ],
   "outputs": [
    {
     "name": "stderr",
     "output_type": "stream",
     "text": [
      "Unknown attribute \"type\" in /robot[@name='pr2']/link[@name='base_laser_link']\n",
      "Unknown attribute \"type\" in /robot[@name='pr2']/link[@name='wide_stereo_optical_frame']\n",
      "Unknown attribute \"type\" in /robot[@name='pr2']/link[@name='narrow_stereo_optical_frame']\n",
      "Unknown attribute \"type\" in /robot[@name='pr2']/link[@name='laser_tilt_link']\n",
      "Failed to import Giskard messages, the real robot will not be available\n",
      "Could not import RoboKudo messages, RoboKudo interface could not be initialized\n",
      "pybullet build time: Nov 28 2023 23:51:11\n"
     ]
    }
   ],
   "execution_count": 2
  },
  {
   "metadata": {
    "ExecuteTime": {
     "end_time": "2024-07-04T12:00:41.802529Z",
     "start_time": "2024-07-04T12:00:40.777240Z"
    }
   },
   "cell_type": "code",
   "source": "ontology_manager = OntologyManager(SOMA_HOME_ONTOLOGY_IRI)",
   "id": "9e899d81d96fef85",
   "outputs": [
    {
     "name": "stdout",
     "output_type": "stream",
     "text": [
      "[INFO] [1720094441.798241]: Ontology [http://www.ease-crc.org/ont/SOMA-HOME.owl#]'s name: SOMA-HOME has been loaded\n",
      "[INFO] [1720094441.799096]: - main namespace: SOMA-HOME\n",
      "[INFO] [1720094441.799632]: - loaded ontologies:\n",
      "[INFO] [1720094441.800143]: http://www.ease-crc.org/ont/SOMA-HOME.owl#\n",
      "[INFO] [1720094441.800638]: http://www.ease-crc.org/ont/DUL.owl#\n",
      "[INFO] [1720094441.801133]: http://www.ease-crc.org/ont/SOMA.owl#\n"
     ]
    }
   ],
   "execution_count": 3
  },
  {
   "metadata": {
    "ExecuteTime": {
     "end_time": "2024-07-04T12:03:34.135525Z",
     "start_time": "2024-07-04T12:03:34.127828Z"
    }
   },
   "cell_type": "code",
   "source": [
    "main_ontology = ontology_manager.main_ontology\n",
    "main_ontology"
   ],
   "id": "4c77d9b6c353bc97",
   "outputs": [
    {
     "data": {
      "text/plain": [
       "get_ontology(\"http://www.ease-crc.org/ont/SOMA-HOME.owl#\")"
      ]
     },
     "execution_count": 10,
     "metadata": {},
     "output_type": "execute_result"
    }
   ],
   "execution_count": 10
  },
  {
   "metadata": {
    "ExecuteTime": {
     "end_time": "2024-07-04T12:01:03.765411Z",
     "start_time": "2024-07-04T12:01:03.763015Z"
    }
   },
   "cell_type": "code",
   "source": "ontology_manager.soma",
   "id": "512349579bf51f11",
   "outputs": [
    {
     "data": {
      "text/plain": [
       "get_ontology(\"http://www.ease-crc.org/ont/SOMA.owl#\")"
      ]
     },
     "execution_count": 6,
     "metadata": {},
     "output_type": "execute_result"
    }
   ],
   "execution_count": 6
  },
  {
   "metadata": {
    "ExecuteTime": {
     "end_time": "2024-07-04T12:01:11.536484Z",
     "start_time": "2024-07-04T12:01:11.532192Z"
    }
   },
   "cell_type": "code",
   "source": "ontology_manager.dul",
   "id": "cf822bf82ae6d5cd",
   "outputs": [
    {
     "data": {
      "text/plain": [
       "get_ontology(\"http://www.ease-crc.org/ont/DUL.owl#\")"
      ]
     },
     "execution_count": 7,
     "metadata": {},
     "output_type": "execute_result"
    }
   ],
   "execution_count": 7
  },
  {
   "metadata": {
    "ExecuteTime": {
     "end_time": "2024-07-04T12:02:24.022558Z",
     "start_time": "2024-07-04T12:02:24.015175Z"
    }
   },
   "cell_type": "code",
   "source": [
    "import owlready2\n",
    "ontology_manager.create_ontology_concept_class('CustomContainerConcept',owlready2.Thing)"
   ],
   "id": "4dc2581f35d5ab3f",
   "outputs": [
    {
     "data": {
      "text/plain": [
       "SOMA-HOME.CustomContainerConcept"
      ]
     },
     "execution_count": 8,
     "metadata": {},
     "output_type": "execute_result"
    }
   ],
   "execution_count": 8
  },
  {
   "metadata": {
    "ExecuteTime": {
     "end_time": "2024-07-04T12:03:48.519977Z",
     "start_time": "2024-07-04T12:03:48.439685Z"
    }
   },
   "cell_type": "code",
   "source": "ontology_manager.print_ontology_class(main_ontology.CustomContainerConcept)",
   "id": "f0b0065ae615ea8",
   "outputs": [
    {
     "name": "stdout",
     "output_type": "stream",
     "text": [
      "[INFO] [1720094628.441370]: -------------------\n",
      "[INFO] [1720094628.444138]: SOMA-HOME.CustomContainerConcept <class 'owlready2.entity.ThingClass'>\n",
      "[INFO] [1720094628.446153]: Super classes: [owl.Thing, owl.Thing]\n",
      "[INFO] [1720094628.447943]: Ancestors: {owl.Thing, SOMA-HOME.CustomContainerConcept}\n",
      "[INFO] [1720094628.449301]: Subclasses: []\n",
      "[INFO] [1720094628.451274]: Properties: []\n",
      "[INFO] [1720094628.517564]: Instances: []\n",
      "[INFO] [1720094628.518286]: Direct Instances: []\n",
      "[INFO] [1720094628.518667]: Inverse Restrictions: []\n"
     ]
    }
   ],
   "execution_count": 11
  }
 ],
 "metadata": {
  "kernelspec": {
   "display_name": "Python 3",
   "language": "python",
   "name": "python3"
  },
  "language_info": {
   "codemirror_mode": {
    "name": "ipython",
    "version": 2
   },
   "file_extension": ".py",
   "mimetype": "text/x-python",
   "name": "python",
   "nbconvert_exporter": "python",
   "pygments_lexer": "ipython2",
   "version": "2.7.6"
  }
 },
 "nbformat": 4,
 "nbformat_minor": 5
}
