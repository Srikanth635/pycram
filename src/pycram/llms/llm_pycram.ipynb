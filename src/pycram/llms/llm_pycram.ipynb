{
 "cells": [
  {
   "cell_type": "code",
   "id": "initial_id",
   "metadata": {
    "collapsed": true,
    "jupyter": {
     "is_executing": true
    }
   },
   "source": [
    "import json\n",
    "\n",
    "import matplotlib.pyplot as plt\n",
    "import numpy as np\n",
    "import rospy"
   ],
   "outputs": [],
   "execution_count": null
  },
  {
   "metadata": {
    "ExecuteTime": {
     "end_time": "2024-09-05T13:50:14.414942Z",
     "start_time": "2024-09-05T13:50:13.426598Z"
    }
   },
   "cell_type": "code",
   "source": [
    "from pycram.worlds.bullet_world import BulletWorld, Object\n",
    "from pycram.datastructures.pose import Pose\n",
    "from pycram.datastructures.enums import ObjectType, WorldMode\n",
    "\n",
    "world = BulletWorld(mode = WorldMode.GUI)"
   ],
   "id": "232012dcd1fa6695",
   "outputs": [
    {
     "name": "stderr",
     "output_type": "stream",
     "text": [
      "Unknown attribute \"type\" in /robot[@name='pr2']/link[@name='base_laser_link']\n",
      "Unknown attribute \"type\" in /robot[@name='pr2']/link[@name='wide_stereo_optical_frame']\n",
      "Unknown attribute \"type\" in /robot[@name='pr2']/link[@name='narrow_stereo_optical_frame']\n",
      "Unknown attribute \"type\" in /robot[@name='pr2']/link[@name='laser_tilt_link']\n",
      "Failed to import Giskard messages, the real robot will not be available\n",
      "Could not import RoboKudo messages, RoboKudo interface could not be initialized\n",
      "pybullet build time: Nov 28 2023 23:51:11\n"
     ]
    }
   ],
   "execution_count": 1
  },
  {
   "metadata": {
    "ExecuteTime": {
     "end_time": "2024-09-05T13:50:32.335703Z",
     "start_time": "2024-09-05T13:50:29.090454Z"
    }
   },
   "cell_type": "code",
   "source": [
    "pr2 = Object(\"pr2\", ObjectType.ROBOT, \"pr2.urdf\")\n",
    "milk = Object(\"milk2\", ObjectType.MILK, \"milk.stl\", pose=Pose([1.3, 1, 3.9]))\n",
    "milk = Object(\"milk\", ObjectType.MILK, \"milk.stl\", pose=Pose([1.3, 1, 0.9]))\n"
   ],
   "id": "80df0489f9329f65",
   "outputs": [
    {
     "name": "stderr",
     "output_type": "stream",
     "text": [
      "Unknown tag \"rgba_color\" in /robot[@name='milk_object']/link[@name='milk_main']/visual[1]/material[@name='white']\n",
      "Unknown tag \"rgba_color\" in /robot[@name='milk_object']/link[@name='milk_main']/visual[1]/material[@name='white']\n",
      "Unknown tag \"rgba_color\" in /robot[@name='milk_object']/link[@name='milk_main']/visual[1]/material[@name='white']\n",
      "Unknown tag \"rgba_color\" in /robot[@name='milk_object']/link[@name='milk_main']/visual[1]/material[@name='white']\n"
     ]
    }
   ],
   "execution_count": 2
  },
  {
   "metadata": {
    "ExecuteTime": {
     "end_time": "2024-09-05T14:18:30.108804Z",
     "start_time": "2024-09-05T14:18:29.996631Z"
    }
   },
   "cell_type": "code",
   "source": [
    "cereal = Object(\"froot_loops\", ObjectType.BREAKFAST_CEREAL, \"breakfast_cereal.stl\", pose=Pose([1.3, 0.9, 0.95]))\n",
    "spoon = Object(\"spoon\", ObjectType.SPOON, \"spoon.stl\", pose=Pose([1.3, 1.1, 0.87]))"
   ],
   "id": "6d0abfa8943545da",
   "outputs": [
    {
     "name": "stderr",
     "output_type": "stream",
     "text": [
      "Unknown tag \"rgba_color\" in /robot[@name='cereal_object']/link[@name='cereal_main']/visual[1]/material[@name='white']\n",
      "Unknown tag \"rgba_color\" in /robot[@name='cereal_object']/link[@name='cereal_main']/visual[1]/material[@name='white']\n",
      "Unknown tag \"rgba_color\" in /robot[@name='spoon_object']/link[@name='spoon_main']/visual[1]/material[@name='white']\n"
     ]
    }
   ],
   "execution_count": 20
  },
  {
   "metadata": {
    "ExecuteTime": {
     "end_time": "2024-09-05T13:18:05.433004Z",
     "start_time": "2024-09-05T13:18:05.431194Z"
    }
   },
   "cell_type": "code",
   "source": [
    "import requests\n",
    "base_url = 'http://127.0.0.1:5000/'\n",
    "endpoint = 'chatGPT'\n",
    "url = base_url + endpoint"
   ],
   "id": "1e25dbfda2c0eb06",
   "outputs": [],
   "execution_count": 34
  },
  {
   "metadata": {
    "ExecuteTime": {
     "end_time": "2024-09-05T13:51:15.988949Z",
     "start_time": "2024-09-05T13:51:15.984035Z"
    }
   },
   "cell_type": "code",
   "source": "world.object_states",
   "id": "f1c70e28885aafd3",
   "outputs": [
    {
     "data": {
      "text/plain": [
       "{'floor': ObjectState(pose=header: \n",
       "   seq: 0\n",
       "   stamp: \n",
       "     secs: 1725544214\n",
       "     nsecs: 368848800\n",
       "   frame_id: \"map\"\n",
       " pose: \n",
       "   position: \n",
       "     x: 0.0\n",
       "     y: 0.0\n",
       "     z: 0.0\n",
       "   orientation: \n",
       "     x: 0.0\n",
       "     y: 0.0\n",
       "     z: 0.0\n",
       "     w: 1.0, attachments={}, link_states={-1: LinkState(constraint_ids={})}, joint_states={}),\n",
       " 'pr2': ObjectState(pose=header: \n",
       "   seq: 0\n",
       "   stamp: \n",
       "     secs: 1725544229\n",
       "     nsecs:  91965675\n",
       "   frame_id: \"map\"\n",
       " pose: \n",
       "   position: \n",
       "     x: 0.0\n",
       "     y: 0.0\n",
       "     z: 0.0\n",
       "   orientation: \n",
       "     x: 0.0\n",
       "     y: 0.0\n",
       "     z: 0.0\n",
       "     w: 1.0, attachments={}, link_states={0: LinkState(constraint_ids={}), 1: LinkState(constraint_ids={}), 2: LinkState(constraint_ids={}), 3: LinkState(constraint_ids={}), 4: LinkState(constraint_ids={}), 5: LinkState(constraint_ids={}), 6: LinkState(constraint_ids={}), 7: LinkState(constraint_ids={}), 8: LinkState(constraint_ids={}), 9: LinkState(constraint_ids={}), 10: LinkState(constraint_ids={}), 11: LinkState(constraint_ids={}), 12: LinkState(constraint_ids={}), 13: LinkState(constraint_ids={}), 14: LinkState(constraint_ids={}), 15: LinkState(constraint_ids={}), 16: LinkState(constraint_ids={}), 17: LinkState(constraint_ids={}), 18: LinkState(constraint_ids={}), 19: LinkState(constraint_ids={}), 20: LinkState(constraint_ids={}), 21: LinkState(constraint_ids={}), 22: LinkState(constraint_ids={}), 23: LinkState(constraint_ids={}), 24: LinkState(constraint_ids={}), 25: LinkState(constraint_ids={}), 26: LinkState(constraint_ids={}), 27: LinkState(constraint_ids={}), 28: LinkState(constraint_ids={}), 29: LinkState(constraint_ids={}), 30: LinkState(constraint_ids={}), 31: LinkState(constraint_ids={}), 32: LinkState(constraint_ids={}), 33: LinkState(constraint_ids={}), 34: LinkState(constraint_ids={}), 35: LinkState(constraint_ids={}), 36: LinkState(constraint_ids={}), 37: LinkState(constraint_ids={}), 38: LinkState(constraint_ids={}), 39: LinkState(constraint_ids={}), 40: LinkState(constraint_ids={}), 41: LinkState(constraint_ids={}), 42: LinkState(constraint_ids={}), 43: LinkState(constraint_ids={}), 44: LinkState(constraint_ids={}), 45: LinkState(constraint_ids={}), 46: LinkState(constraint_ids={}), 47: LinkState(constraint_ids={}), 48: LinkState(constraint_ids={}), 49: LinkState(constraint_ids={}), 50: LinkState(constraint_ids={}), 51: LinkState(constraint_ids={}), 52: LinkState(constraint_ids={}), 53: LinkState(constraint_ids={}), 54: LinkState(constraint_ids={}), 55: LinkState(constraint_ids={}), 56: LinkState(constraint_ids={}), 57: LinkState(constraint_ids={}), 58: LinkState(constraint_ids={}), 59: LinkState(constraint_ids={}), 60: LinkState(constraint_ids={}), 61: LinkState(constraint_ids={}), 62: LinkState(constraint_ids={}), 63: LinkState(constraint_ids={}), 64: LinkState(constraint_ids={}), 65: LinkState(constraint_ids={}), 66: LinkState(constraint_ids={}), 67: LinkState(constraint_ids={}), 68: LinkState(constraint_ids={}), 69: LinkState(constraint_ids={}), 70: LinkState(constraint_ids={}), 71: LinkState(constraint_ids={}), 72: LinkState(constraint_ids={}), 73: LinkState(constraint_ids={}), 74: LinkState(constraint_ids={}), 75: LinkState(constraint_ids={}), 76: LinkState(constraint_ids={}), 77: LinkState(constraint_ids={}), 78: LinkState(constraint_ids={}), 79: LinkState(constraint_ids={}), 80: LinkState(constraint_ids={}), 81: LinkState(constraint_ids={}), 82: LinkState(constraint_ids={}), 83: LinkState(constraint_ids={}), 84: LinkState(constraint_ids={}), 85: LinkState(constraint_ids={}), 86: LinkState(constraint_ids={}), -1: LinkState(constraint_ids={})}, joint_states={0: JointState(position=0.0), 1: JointState(position=0.0), 2: JointState(position=0.0), 3: JointState(position=0.0), 4: JointState(position=0.0), 5: JointState(position=0.0), 6: JointState(position=0.0), 7: JointState(position=0.0), 8: JointState(position=0.0), 9: JointState(position=0.0), 10: JointState(position=0.0), 11: JointState(position=0.0), 12: JointState(position=0.0), 13: JointState(position=0.0), 14: JointState(position=0.0), 15: JointState(position=0.0), 16: JointState(position=0.0), 17: JointState(position=0.0), 18: JointState(position=0.0), 19: JointState(position=0.0), 20: JointState(position=0.0), 21: JointState(position=0.0), 22: JointState(position=0.0), 23: JointState(position=0.0), 24: JointState(position=0.0), 25: JointState(position=0.0), 26: JointState(position=0.0), 27: JointState(position=0.0), 28: JointState(position=0.0), 29: JointState(position=0.0), 30: JointState(position=0.0), 31: JointState(position=0.0), 32: JointState(position=0.0), 33: JointState(position=0.0), 34: JointState(position=0.0), 35: JointState(position=0.0), 36: JointState(position=0.0), 37: JointState(position=0.0), 38: JointState(position=0.0), 39: JointState(position=0.0), 40: JointState(position=0.0), 41: JointState(position=0.0), 42: JointState(position=0.0), 43: JointState(position=0.0), 44: JointState(position=0.0), 45: JointState(position=0.0), 46: JointState(position=0.0), 47: JointState(position=0.0), 48: JointState(position=0.0), 49: JointState(position=0.0), 50: JointState(position=0.0), 51: JointState(position=0.0), 52: JointState(position=0.0), 53: JointState(position=0.0), 54: JointState(position=0.0), 55: JointState(position=0.0), 56: JointState(position=0.0), 57: JointState(position=0.0), 58: JointState(position=0.0), 59: JointState(position=0.0), 60: JointState(position=0.0), 61: JointState(position=0.0), 62: JointState(position=0.0), 63: JointState(position=0.0), 64: JointState(position=0.0), 65: JointState(position=0.0), 66: JointState(position=0.0), 67: JointState(position=0.0), 68: JointState(position=0.0), 69: JointState(position=0.0), 70: JointState(position=0.0), 71: JointState(position=0.0), 72: JointState(position=0.0), 73: JointState(position=0.0), 74: JointState(position=0.0), 75: JointState(position=0.0), 76: JointState(position=0.0), 77: JointState(position=0.0), 78: JointState(position=0.0), 79: JointState(position=0.0), 80: JointState(position=0.0), 81: JointState(position=0.0), 82: JointState(position=0.0), 83: JointState(position=0.0), 84: JointState(position=0.0), 85: JointState(position=0.0), 86: JointState(position=0.0)}),\n",
       " 'milk2': ObjectState(pose=header: \n",
       "   seq: 0\n",
       "   stamp: \n",
       "     secs: 1725544232\n",
       "     nsecs: 137754440\n",
       "   frame_id: \"map\"\n",
       " pose: \n",
       "   position: \n",
       "     x: 1.3\n",
       "     y: 1.0\n",
       "     z: 3.9\n",
       "   orientation: \n",
       "     x: 0.0\n",
       "     y: 0.0\n",
       "     z: 0.0\n",
       "     w: 1.0, attachments={}, link_states={-1: LinkState(constraint_ids={})}, joint_states={}),\n",
       " 'milk': ObjectState(pose=header: \n",
       "   seq: 0\n",
       "   stamp: \n",
       "     secs: 1725544232\n",
       "     nsecs: 252665996\n",
       "   frame_id: \"map\"\n",
       " pose: \n",
       "   position: \n",
       "     x: 1.3\n",
       "     y: 1.0\n",
       "     z: 0.9\n",
       "   orientation: \n",
       "     x: 0.0\n",
       "     y: 0.0\n",
       "     z: 0.0\n",
       "     w: 1.0, attachments={}, link_states={-1: LinkState(constraint_ids={})}, joint_states={})}"
      ]
     },
     "execution_count": 3,
     "metadata": {},
     "output_type": "execute_result"
    }
   ],
   "execution_count": 3
  },
  {
   "metadata": {
    "ExecuteTime": {
     "end_time": "2024-09-05T13:18:07.241931Z",
     "start_time": "2024-09-05T13:18:06.620476Z"
    }
   },
   "cell_type": "code",
   "source": [
    "input = \"given world, find the positions of all the objects\"\n",
    "response = requests.post(url, json={'prompt': input})"
   ],
   "id": "57c0116ac0a6647d",
   "outputs": [],
   "execution_count": 35
  },
  {
   "metadata": {
    "ExecuteTime": {
     "end_time": "2024-09-05T13:18:08.130805Z",
     "start_time": "2024-09-05T13:18:08.128669Z"
    }
   },
   "cell_type": "code",
   "source": "print(response.text)",
   "id": "ba2c708fbdd89ead",
   "outputs": [
    {
     "name": "stdout",
     "output_type": "stream",
     "text": [
      "```python\n",
      "positions = [obj.get_position() for obj in world.objects]\n",
      "```\n"
     ]
    }
   ],
   "execution_count": 36
  },
  {
   "metadata": {
    "ExecuteTime": {
     "end_time": "2024-09-05T12:43:39.553949Z",
     "start_time": "2024-09-05T12:43:39.551852Z"
    }
   },
   "cell_type": "code",
   "source": [
    "print(response.status_code)\n",
    "s = response.text\n",
    "print(s)\n",
    "ans = eval(f\"world.{s}\")"
   ],
   "id": "64c7dfd9f249ab97",
   "outputs": [
    {
     "name": "stdout",
     "output_type": "stream",
     "text": [
      "200\n",
      "get_object_by_name(**{'name': 'milk'})\n"
     ]
    }
   ],
   "execution_count": 33
  },
  {
   "metadata": {
    "ExecuteTime": {
     "end_time": "2024-09-05T13:18:33.812026Z",
     "start_time": "2024-09-05T13:18:33.810248Z"
    }
   },
   "cell_type": "code",
   "source": "positions = [obj.get_position() for obj in world.objects]",
   "id": "b4d453d7dd115f85",
   "outputs": [],
   "execution_count": 37
  },
  {
   "metadata": {
    "ExecuteTime": {
     "end_time": "2024-09-05T13:18:38.138088Z",
     "start_time": "2024-09-05T13:18:38.135314Z"
    }
   },
   "cell_type": "code",
   "source": "positions",
   "id": "edc52d97b026e31",
   "outputs": [
    {
     "data": {
      "text/plain": [
       "[x: 0.0\n",
       " y: 0.0\n",
       " z: 0.0,\n",
       " x: 1.3\n",
       " y: 1.0\n",
       " z: 0.9,\n",
       " x: 1.3\n",
       " y: 1.0\n",
       " z: 3.9]"
      ]
     },
     "execution_count": 38,
     "metadata": {},
     "output_type": "execute_result"
    }
   ],
   "execution_count": 38
  },
  {
   "metadata": {
    "ExecuteTime": {
     "end_time": "2024-09-05T12:46:04.775708Z",
     "start_time": "2024-09-05T12:46:04.120878Z"
    }
   },
   "cell_type": "code",
   "source": [
    "input2 = \"where is milk \"\n",
    "response2 = requests.post(url, json={'prompt': input2})"
   ],
   "id": "10985cae10b6cc89",
   "outputs": [],
   "execution_count": 39
  },
  {
   "metadata": {
    "ExecuteTime": {
     "end_time": "2024-09-05T12:46:05.286652Z",
     "start_time": "2024-09-05T12:46:05.282935Z"
    }
   },
   "cell_type": "code",
   "source": [
    "print(response2.status_code)\n",
    "s2 = response2.text\n",
    "print(s2)\n",
    "ans2 = eval(f\"{ans}.{s2}\")"
   ],
   "id": "3e8032dcb450a82e",
   "outputs": [
    {
     "name": "stdout",
     "output_type": "stream",
     "text": [
      "200\n",
      "get_object_by_name(**{'name': 'milk'})\n"
     ]
    },
    {
     "ename": "SyntaxError",
     "evalue": "invalid syntax (<string>, line 3)",
     "output_type": "error",
     "traceback": [
      "Traceback \u001B[0;36m(most recent call last)\u001B[0m:\n",
      "\u001B[0m  File \u001B[1;32m~/.local/lib/python3.8/site-packages/IPython/core/interactiveshell.py:3505\u001B[0m in \u001B[1;35mrun_code\u001B[0m\n    exec(code_obj, self.user_global_ns, self.user_ns)\u001B[0m\n",
      "\u001B[0;36m  Cell \u001B[0;32mIn[40], line 4\u001B[0;36m\n\u001B[0;31m    ans2 = eval(f\"{ans}.{s2}\")\u001B[0;36m\n",
      "\u001B[0;36m  File \u001B[0;32m<string>:3\u001B[0;36m\u001B[0m\n\u001B[0;31m    world=<pycram.worlds.bullet_world.BulletWorld object at 0x7fbd873fd7f0>,\u001B[0m\n\u001B[0m          ^\u001B[0m\n\u001B[0;31mSyntaxError\u001B[0m\u001B[0;31m:\u001B[0m invalid syntax\n"
     ]
    }
   ],
   "execution_count": 40
  },
  {
   "metadata": {
    "ExecuteTime": {
     "end_time": "2024-09-05T14:18:41.044895Z",
     "start_time": "2024-09-05T14:18:41.042168Z"
    }
   },
   "cell_type": "code",
   "source": [
    "import requests\n",
    "base_url = 'http://127.0.0.1:5000/'\n",
    "endpoint = 'analyze_environment'\n",
    "url = base_url + endpoint"
   ],
   "id": "2a0a63dc2e161b95",
   "outputs": [],
   "execution_count": 21
  },
  {
   "metadata": {
    "ExecuteTime": {
     "end_time": "2024-09-05T14:18:55.849364Z",
     "start_time": "2024-09-05T14:18:54.684751Z"
    }
   },
   "cell_type": "code",
   "source": [
    "input = \"name the objects in the world\"\n",
    "response = requests.post(url, json={'prompt': input,\n",
    "                                    'context': str(world.objects)})"
   ],
   "id": "7c45b2602d192796",
   "outputs": [],
   "execution_count": 22
  },
  {
   "metadata": {
    "ExecuteTime": {
     "end_time": "2024-09-05T14:18:56.735987Z",
     "start_time": "2024-09-05T14:18:56.733084Z"
    }
   },
   "cell_type": "code",
   "source": "print(response.text)",
   "id": "83c258d681bbd1b2",
   "outputs": [
    {
     "name": "stdout",
     "output_type": "stream",
     "text": [
      "The objects in the world are:\n",
      "\n",
      "1. Floor\n",
      "2. PR2 (robot)\n",
      "3. Milk (two instances: milk and milk2)\n",
      "4. Froot Loops (breakfast cereal)\n",
      "5. Spoon\n"
     ]
    }
   ],
   "execution_count": 23
  },
  {
   "metadata": {},
   "cell_type": "code",
   "outputs": [],
   "execution_count": null,
   "source": "",
   "id": "29e591605b44690b"
  }
 ],
 "metadata": {
  "kernelspec": {
   "display_name": "Python 3",
   "language": "python",
   "name": "python3"
  },
  "language_info": {
   "codemirror_mode": {
    "name": "ipython",
    "version": 2
   },
   "file_extension": ".py",
   "mimetype": "text/x-python",
   "name": "python",
   "nbconvert_exporter": "python",
   "pygments_lexer": "ipython2",
   "version": "2.7.6"
  }
 },
 "nbformat": 4,
 "nbformat_minor": 5
}
