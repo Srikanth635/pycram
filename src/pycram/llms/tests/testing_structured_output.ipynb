{
 "cells": [
  {
   "cell_type": "code",
   "id": "initial_id",
   "metadata": {
    "collapsed": true,
    "ExecuteTime": {
     "end_time": "2024-09-10T10:50:36.964286Z",
     "start_time": "2024-09-10T10:50:36.962424Z"
    }
   },
   "source": [
    "import csv\n",
    "from typing import List, Optional\n",
    "\n",
    "from rich.console import Console\n",
    "c= Console()"
   ],
   "outputs": [],
   "execution_count": 6
  },
  {
   "metadata": {
    "ExecuteTime": {
     "end_time": "2024-09-10T10:50:38.320064Z",
     "start_time": "2024-09-10T10:50:38.316069Z"
    }
   },
   "cell_type": "code",
   "source": "c.pager()",
   "id": "2d03758a971a249f",
   "outputs": [
    {
     "data": {
      "text/plain": [
       "<rich.console.PagerContext at 0x7f2c6dfd8940>"
      ]
     },
     "execution_count": 7,
     "metadata": {},
     "output_type": "execute_result"
    }
   ],
   "execution_count": 7
  },
  {
   "metadata": {
    "ExecuteTime": {
     "end_time": "2024-09-10T10:50:40.871733Z",
     "start_time": "2024-09-10T10:50:40.868710Z"
    }
   },
   "cell_type": "code",
   "source": [
    "import os\n",
    "dir = os.getcwd()\n",
    "with open(dir+\"/tests/videos.csv\") as videos_file:\n",
    "    reader = csv.DictReader(videos_file)\n",
    "    rows = [row for row in reader]"
   ],
   "id": "ece4eb8a232987e5",
   "outputs": [],
   "execution_count": 8
  },
  {
   "metadata": {
    "ExecuteTime": {
     "end_time": "2024-09-10T10:50:41.632350Z",
     "start_time": "2024-09-10T10:50:41.624029Z"
    }
   },
   "cell_type": "code",
   "source": [
    "with c.pager(styles=True):\n",
    "    c.print(rows[:5])"
   ],
   "id": "801aa64150207eaa",
   "outputs": [
    {
     "name": "stdout",
     "output_type": "stream",
     "text": [
      "\u001B[1m[\u001B[0m\n",
      "    \u001B[1m{\u001B[0m\u001B[32m'Content'\u001B[0m: \u001B[32m'Ay5K4tog5NQ'\u001B[0m, \u001B[32m'Video title'\u001B[0m: \u001B[32m'Running a Hugging Face LLM on your laptop'\u001B[0m\u001B[1m}\u001B[0m,\n",
      "    \u001B[1m{\u001B[0m\u001B[32m'Content'\u001B[0m: \u001B[32m'7BH4C6-HP14'\u001B[0m, \u001B[32m'Video title'\u001B[0m: \u001B[32m'Hugging Face GGUF Models locally with Ollama'\u001B[0m\u001B[1m}\u001B[0m,\n",
      "    \u001B[1m{\u001B[0m\u001B[32m'Content'\u001B[0m: \u001B[32m'KLFadWdomyI'\u001B[0m, \u001B[32m'Video title'\u001B[0m: \u001B[32m'An introduction to Apache Parquet'\u001B[0m\u001B[1m}\u001B[0m,\n",
      "    \u001B[1m{\u001B[0m\u001B[32m'Content'\u001B[0m: \u001B[32m'JwYwPiOh72w'\u001B[0m, \u001B[32m'Video title'\u001B[0m: \u001B[32m'Ollama has a Python library!'\u001B[0m\u001B[1m}\u001B[0m,\n",
      "    \u001B[1m{\u001B[0m\u001B[32m'Content'\u001B[0m: \u001B[32m'jXUv8mlQHq0'\u001B[0m, \u001B[32m'Video title'\u001B[0m: \u001B[32m'LLaVA 1.6 is here...but is it any good? \u001B[0m\u001B[32m(\u001B[0m\u001B[32mvia Ollama\u001B[0m\u001B[32m)\u001B[0m\u001B[32m'\u001B[0m\u001B[1m}\u001B[0m\n",
      "\u001B[1m]\u001B[0m\n"
     ]
    },
    {
     "data": {
      "text/plain": [],
      "text/html": [
       "<pre style=\"white-space:pre;overflow-x:auto;line-height:normal;font-family:Menlo,'DejaVu Sans Mono',consolas,'Courier New',monospace\"></pre>\n"
      ]
     },
     "metadata": {},
     "output_type": "display_data"
    }
   ],
   "execution_count": 9
  },
  {
   "metadata": {
    "ExecuteTime": {
     "end_time": "2024-09-10T10:50:43.591991Z",
     "start_time": "2024-09-10T10:50:43.590015Z"
    }
   },
   "cell_type": "code",
   "source": "from pydantic import BaseModel",
   "id": "a4738982597d24bc",
   "outputs": [],
   "execution_count": 10
  },
  {
   "metadata": {
    "ExecuteTime": {
     "end_time": "2024-09-10T11:00:35.100422Z",
     "start_time": "2024-09-10T11:00:35.097218Z"
    }
   },
   "cell_type": "code",
   "source": [
    "class TaggedVideo(BaseModel):\n",
    "    title: str\n",
    "    tags: List[str]\n",
    "    \n",
    "class Videos(BaseModel):\n",
    "    videos: List[TaggedVideo]\n",
    "    \n",
    "from typing import Optional, List"
   ],
   "id": "9db104298348a6c5",
   "outputs": [],
   "execution_count": 18
  },
  {
   "metadata": {
    "ExecuteTime": {
     "end_time": "2024-09-10T11:00:36.061542Z",
     "start_time": "2024-09-10T11:00:36.056730Z"
    }
   },
   "cell_type": "code",
   "source": [
    "from openai import OpenAI\n",
    "openai_api_key = \"\"\n",
    "# OPENAI_API_KEY = os.getenv('OPENAI_API_KEY')\n",
    "OPENAI_API_KEY = openai_api_key\n",
    "client = OpenAI(api_key=OPENAI_API_KEY)"
   ],
   "id": "47638c90d435c482",
   "outputs": [],
   "execution_count": 19
  },
  {
   "metadata": {
    "ExecuteTime": {
     "end_time": "2024-09-10T11:00:37.305102Z",
     "start_time": "2024-09-10T11:00:37.303570Z"
    }
   },
   "cell_type": "code",
   "source": "",
   "id": "e0278f006b9a6e3c",
   "outputs": [],
   "execution_count": null
  },
  {
   "metadata": {
    "ExecuteTime": {
     "end_time": "2024-09-10T11:00:42.151718Z",
     "start_time": "2024-09-10T11:00:40.143759Z"
    }
   },
   "cell_type": "code",
   "source": [
    "%%time\n",
    "system = \"You are a YouTuber content strategy expert\"\n",
    "user = f\"\"\"Help me to create tags for the provided videos:\n",
    "  {[row[\"Video title\"] for row in rows][:5]}\n",
    "\"\"\"\n",
    "\n",
    "completion = client.beta.chat.completions.parse(    \n",
    "  model=\"gpt-4o-mini\",\n",
    "  messages=[\n",
    "    {\"role\": \"system\", \"content\": system},\n",
    "    {\"role\": \"user\", \"content\": user},\n",
    "  ],\n",
    "  response_format=Videos,\n",
    ")"
   ],
   "id": "1e3baf10712a9001",
   "outputs": [
    {
     "name": "stdout",
     "output_type": "stream",
     "text": [
      "CPU times: user 8.15 ms, sys: 0 ns, total: 8.15 ms\n",
      "Wall time: 2.01 s\n"
     ]
    }
   ],
   "execution_count": 20
  },
  {
   "metadata": {
    "ExecuteTime": {
     "end_time": "2024-09-10T11:06:14.767798Z",
     "start_time": "2024-09-10T11:06:14.765244Z"
    }
   },
   "cell_type": "code",
   "source": "completion.choices[0].message.__dict__",
   "id": "b98af3406696d5a8",
   "outputs": [
    {
     "data": {
      "text/plain": [
       "{'content': '{\"videos\":[{\"title\":\"Running a Hugging Face LLM on your laptop\",\"tags\":[\"Hugging Face\",\"LLM\",\"Local Deployment\",\"Machine Learning\",\"AI on Laptop\",\"Natural Language Processing\"]},{\"title\":\"Hugging Face GGUF Models locally with Ollama\",\"tags\":[\"Hugging Face\",\"GGUF\",\"Ollama\",\"Machine Learning\",\"Local Models\",\"AI Development\"]},{\"title\":\"An introduction to Apache Parquet\",\"tags\":[\"Apache Parquet\",\"Data Storage\",\"Data Formats\",\"Big Data\",\"Data Processing\",\"ETL\"]},{\"title\":\"Ollama has a Python library!\",\"tags\":[\"Ollama\",\"Python\",\"Programming\",\"Machine Learning Tools\",\"Data Science\",\"AI Development\"]},{\"title\":\"LLaVA 1.6 is here...but is it any good? (via Ollama)\",\"tags\":[\"LLaVA\",\"Ollama\",\"Model Review\",\"AI Performance\",\"Machine Learning\",\"Tech Review\"]}]}',\n",
       " 'refusal': None,\n",
       " 'role': 'assistant',\n",
       " 'function_call': None,\n",
       " 'tool_calls': [],\n",
       " 'parsed': Videos(videos=[TaggedVideo(title='Running a Hugging Face LLM on your laptop', tags=['Hugging Face', 'LLM', 'Local Deployment', 'Machine Learning', 'AI on Laptop', 'Natural Language Processing']), TaggedVideo(title='Hugging Face GGUF Models locally with Ollama', tags=['Hugging Face', 'GGUF', 'Ollama', 'Machine Learning', 'Local Models', 'AI Development']), TaggedVideo(title='An introduction to Apache Parquet', tags=['Apache Parquet', 'Data Storage', 'Data Formats', 'Big Data', 'Data Processing', 'ETL']), TaggedVideo(title='Ollama has a Python library!', tags=['Ollama', 'Python', 'Programming', 'Machine Learning Tools', 'Data Science', 'AI Development']), TaggedVideo(title='LLaVA 1.6 is here...but is it any good? (via Ollama)', tags=['LLaVA', 'Ollama', 'Model Review', 'AI Performance', 'Machine Learning', 'Tech Review'])])}"
      ]
     },
     "execution_count": 23,
     "metadata": {},
     "output_type": "execute_result"
    }
   ],
   "execution_count": 23
  },
  {
   "metadata": {
    "ExecuteTime": {
     "end_time": "2024-09-10T11:25:14.973868Z",
     "start_time": "2024-09-10T11:25:14.968896Z"
    }
   },
   "cell_type": "code",
   "source": [
    "with c.pager(styles=True):\n",
    "  c.print(completion.choices[0].message)"
   ],
   "id": "3e714cd66fba7814",
   "outputs": [
    {
     "name": "stdout",
     "output_type": "stream",
     "text": [
      "ParsedChatCompletionMessage\u001B[1m[\u001B[0mVideos\u001B[1m]\u001B[0m\u001B[1m(\u001B[0m\n",
      "    \u001B[33mcontent\u001B[0m=\u001B[32m'\u001B[0m\u001B[32m{\u001B[0m\u001B[32m\"videos\":\u001B[0m\u001B[32m[\u001B[0m\u001B[32m{\u001B[0m\u001B[32m\"title\":\"Running a Hugging Face LLM on your laptop\",\"tags\":\u001B[0m\u001B[32m[\u001B[0m\u001B[32m\"Hugging Face\",\"LLM\",\"Local \u001B[0m\n",
      "\u001B[32mDeployment\",\"Machine Learning\",\"AI on Laptop\",\"Natural Language Processing\"\u001B[0m\u001B[32m]\u001B[0m\u001B[32m}\u001B[0m\u001B[32m,\u001B[0m\u001B[32m{\u001B[0m\u001B[32m\"title\":\"Hugging Face GGUF Models \u001B[0m\n",
      "\u001B[32mlocally with Ollama\",\"tags\":\u001B[0m\u001B[32m[\u001B[0m\u001B[32m\"Hugging Face\",\"GGUF\",\"Ollama\",\"Machine Learning\",\"Local Models\",\"AI \u001B[0m\n",
      "\u001B[32mDevelopment\"\u001B[0m\u001B[32m]\u001B[0m\u001B[32m}\u001B[0m\u001B[32m,\u001B[0m\u001B[32m{\u001B[0m\u001B[32m\"title\":\"An introduction to Apache Parquet\",\"tags\":\u001B[0m\u001B[32m[\u001B[0m\u001B[32m\"Apache Parquet\",\"Data Storage\",\"Data \u001B[0m\n",
      "\u001B[32mFormats\",\"Big Data\",\"Data Processing\",\"ETL\"\u001B[0m\u001B[32m]\u001B[0m\u001B[32m}\u001B[0m\u001B[32m,\u001B[0m\u001B[32m{\u001B[0m\u001B[32m\"title\":\"Ollama has a Python \u001B[0m\n",
      "\u001B[32mlibrary!\",\"tags\":\u001B[0m\u001B[32m[\u001B[0m\u001B[32m\"Ollama\",\"Python\",\"Programming\",\"Machine Learning Tools\",\"Data Science\",\"AI \u001B[0m\n",
      "\u001B[32mDevelopment\"\u001B[0m\u001B[32m]\u001B[0m\u001B[32m}\u001B[0m\u001B[32m,\u001B[0m\u001B[32m{\u001B[0m\u001B[32m\"title\":\"LLaVA 1.6 is here...but is it any good? \u001B[0m\u001B[32m(\u001B[0m\u001B[32mvia Ollama\u001B[0m\u001B[32m)\u001B[0m\u001B[32m\",\"tags\":\u001B[0m\u001B[32m[\u001B[0m\u001B[32m\"LLaVA\",\"Ollama\",\"Model \u001B[0m\n",
      "\u001B[32mReview\",\"AI Performance\",\"Machine Learning\",\"Tech Review\"\u001B[0m\u001B[32m]\u001B[0m\u001B[32m}\u001B[0m\u001B[32m]\u001B[0m\u001B[32m}\u001B[0m\u001B[32m'\u001B[0m,\n",
      "    \u001B[33mrefusal\u001B[0m=\u001B[3;35mNone\u001B[0m,\n",
      "    \u001B[33mrole\u001B[0m=\u001B[32m'assistant'\u001B[0m,\n",
      "    \u001B[33mfunction_call\u001B[0m=\u001B[3;35mNone\u001B[0m,\n",
      "    \u001B[33mtool_calls\u001B[0m=\u001B[1m[\u001B[0m\u001B[1m]\u001B[0m,\n",
      "    \u001B[33mparsed\u001B[0m=\u001B[1;35mVideos\u001B[0m\u001B[1m(\u001B[0m\n",
      "        \u001B[33mvideos\u001B[0m=\u001B[1m[\u001B[0m\n",
      "            \u001B[1;35mTaggedVideo\u001B[0m\u001B[1m(\u001B[0m\n",
      "                \u001B[33mtitle\u001B[0m=\u001B[32m'Running a Hugging Face LLM on your laptop'\u001B[0m,\n",
      "                \u001B[33mtags\u001B[0m=\u001B[1m[\u001B[0m\n",
      "                    \u001B[32m'Hugging Face'\u001B[0m,\n",
      "                    \u001B[32m'LLM'\u001B[0m,\n",
      "                    \u001B[32m'Local Deployment'\u001B[0m,\n",
      "                    \u001B[32m'Machine Learning'\u001B[0m,\n",
      "                    \u001B[32m'AI on Laptop'\u001B[0m,\n",
      "                    \u001B[32m'Natural Language Processing'\u001B[0m\n",
      "                \u001B[1m]\u001B[0m\n",
      "            \u001B[1m)\u001B[0m,\n",
      "            \u001B[1;35mTaggedVideo\u001B[0m\u001B[1m(\u001B[0m\n",
      "                \u001B[33mtitle\u001B[0m=\u001B[32m'Hugging Face GGUF Models locally with Ollama'\u001B[0m,\n",
      "                \u001B[33mtags\u001B[0m=\u001B[1m[\u001B[0m\u001B[32m'Hugging Face'\u001B[0m, \u001B[32m'GGUF'\u001B[0m, \u001B[32m'Ollama'\u001B[0m, \u001B[32m'Machine Learning'\u001B[0m, \u001B[32m'Local Models'\u001B[0m, \u001B[32m'AI Development'\u001B[0m\u001B[1m]\u001B[0m\n",
      "            \u001B[1m)\u001B[0m,\n",
      "            \u001B[1;35mTaggedVideo\u001B[0m\u001B[1m(\u001B[0m\n",
      "                \u001B[33mtitle\u001B[0m=\u001B[32m'An introduction to Apache Parquet'\u001B[0m,\n",
      "                \u001B[33mtags\u001B[0m=\u001B[1m[\u001B[0m\u001B[32m'Apache Parquet'\u001B[0m, \u001B[32m'Data Storage'\u001B[0m, \u001B[32m'Data Formats'\u001B[0m, \u001B[32m'Big Data'\u001B[0m, \u001B[32m'Data Processing'\u001B[0m, \u001B[32m'ETL'\u001B[0m\u001B[1m]\u001B[0m\n",
      "            \u001B[1m)\u001B[0m,\n",
      "            \u001B[1;35mTaggedVideo\u001B[0m\u001B[1m(\u001B[0m\n",
      "                \u001B[33mtitle\u001B[0m=\u001B[32m'Ollama has a Python library!'\u001B[0m,\n",
      "                \u001B[33mtags\u001B[0m=\u001B[1m[\u001B[0m\n",
      "                    \u001B[32m'Ollama'\u001B[0m,\n",
      "                    \u001B[32m'Python'\u001B[0m,\n",
      "                    \u001B[32m'Programming'\u001B[0m,\n",
      "                    \u001B[32m'Machine Learning Tools'\u001B[0m,\n",
      "                    \u001B[32m'Data Science'\u001B[0m,\n",
      "                    \u001B[32m'AI Development'\u001B[0m\n",
      "                \u001B[1m]\u001B[0m\n",
      "            \u001B[1m)\u001B[0m,\n",
      "            \u001B[1;35mTaggedVideo\u001B[0m\u001B[1m(\u001B[0m\n",
      "                \u001B[33mtitle\u001B[0m=\u001B[32m'LLaVA 1.6 is here...but is it any good? \u001B[0m\u001B[32m(\u001B[0m\u001B[32mvia Ollama\u001B[0m\u001B[32m)\u001B[0m\u001B[32m'\u001B[0m,\n",
      "                \u001B[33mtags\u001B[0m=\u001B[1m[\u001B[0m\u001B[32m'LLaVA'\u001B[0m, \u001B[32m'Ollama'\u001B[0m, \u001B[32m'Model Review'\u001B[0m, \u001B[32m'AI Performance'\u001B[0m, \u001B[32m'Machine Learning'\u001B[0m, \u001B[32m'Tech Review'\u001B[0m\u001B[1m]\u001B[0m\n",
      "            \u001B[1m)\u001B[0m\n",
      "        \u001B[1m]\u001B[0m\n",
      "    \u001B[1m)\u001B[0m\n",
      "\u001B[1m)\u001B[0m\n"
     ]
    },
    {
     "data": {
      "text/plain": [],
      "text/html": [
       "<pre style=\"white-space:pre;overflow-x:auto;line-height:normal;font-family:Menlo,'DejaVu Sans Mono',consolas,'Courier New',monospace\"></pre>\n"
      ]
     },
     "metadata": {},
     "output_type": "display_data"
    }
   ],
   "execution_count": 24
  },
  {
   "metadata": {
    "ExecuteTime": {
     "end_time": "2024-09-10T11:25:17.374460Z",
     "start_time": "2024-09-10T11:25:17.370939Z"
    }
   },
   "cell_type": "code",
   "source": [
    "class ObjectType(BaseModel):\n",
    "    MILK :str\n",
    "    SPOON :str\n",
    "    BOWL :str\n",
    "    ROBOT :str\n",
    "    ENVIRONMENT :str\n",
    "\n",
    "class ObjectDesignatorDescription(BaseModel):\n",
    "    name: str\n",
    "    obj_type: Optional[List[ObjectType]]"
   ],
   "id": "b91b62160f7e7155",
   "outputs": [],
   "execution_count": 25
  },
  {
   "metadata": {},
   "cell_type": "code",
   "outputs": [],
   "execution_count": null,
   "source": "",
   "id": "d356009b211e3d3d"
  }
 ],
 "metadata": {
  "kernelspec": {
   "display_name": "Python 3",
   "language": "python",
   "name": "python3"
  },
  "language_info": {
   "codemirror_mode": {
    "name": "ipython",
    "version": 2
   },
   "file_extension": ".py",
   "mimetype": "text/x-python",
   "name": "python",
   "nbconvert_exporter": "python",
   "pygments_lexer": "ipython2",
   "version": "2.7.6"
  }
 },
 "nbformat": 4,
 "nbformat_minor": 5
}
