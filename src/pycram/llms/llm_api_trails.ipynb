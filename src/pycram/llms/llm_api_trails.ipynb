{
 "cells": [
  {
   "cell_type": "code",
   "id": "initial_id",
   "metadata": {
    "collapsed": true,
    "ExecuteTime": {
     "end_time": "2024-09-10T08:13:07.221226Z",
     "start_time": "2024-09-10T08:13:06.141103Z"
    }
   },
   "source": [
    "import matplotlib.pyplot as plt\n",
    "import numpy as np\n",
    "import rospy\n",
    "from pycram.datastructures.world import World\n",
    "from pycram.llms.llm_api import (explore_simulation_environment, task_strategy_planner, explore_designators, \n",
    "                                 act_context, obj_context, loc_context)\n",
    "from pycram.worlds.bullet_world import BulletWorld, Object\n",
    "from pycram.datastructures.pose import Pose\n",
    "from pycram.datastructures.enums import ObjectType, WorldMode\n",
    "from rospy import sleep\n",
    "from openai import OpenAI\n",
    "import json\n",
    "\n",
    "openai_api_key = \"\"\n",
    "# OPENAI_API_KEY = os.getenv('OPENAI_API_KEY')\n",
    "OPENAI_API_KEY = openai_api_key\n",
    "client = OpenAI(api_key=OPENAI_API_KEY)"
   ],
   "outputs": [
    {
     "name": "stderr",
     "output_type": "stream",
     "text": [
      "Unknown attribute \"type\" in /robot[@name='pr2']/link[@name='base_laser_link']\n",
      "Unknown attribute \"type\" in /robot[@name='pr2']/link[@name='wide_stereo_optical_frame']\n",
      "Unknown attribute \"type\" in /robot[@name='pr2']/link[@name='narrow_stereo_optical_frame']\n",
      "Unknown attribute \"type\" in /robot[@name='pr2']/link[@name='laser_tilt_link']\n",
      "Failed to import Giskard messages, the real robot will not be available\n",
      "Could not import RoboKudo messages, RoboKudo interface could not be initialized\n",
      "pybullet build time: Nov 28 2023 23:51:11\n"
     ]
    }
   ],
   "execution_count": 1
  },
  {
   "metadata": {
    "ExecuteTime": {
     "end_time": "2024-09-10T08:13:10.859846Z",
     "start_time": "2024-09-10T08:13:07.230676Z"
    }
   },
   "cell_type": "code",
   "source": [
    "world = BulletWorld(mode=WorldMode.GUI)\n",
    "pr2 = Object(\"pr2\", ObjectType.ROBOT, \"pr2.urdf\")\n",
    "# kitchen = Object(\"kitchen\", ObjectType.ENVIRONMENT, \"kitchen.urdf\")\n",
    "milk = Object(\"milk\", ObjectType.MILK, \"milk.stl\", pose=Pose([1.3, 1, 0.9]))\n",
    "cereal = Object(\"froot_loops\", ObjectType.BREAKFAST_CEREAL, \"breakfast_cereal.stl\", pose=Pose([1.3, 0.9, 0.95]))\n",
    "spoon = Object(\"spoon\", ObjectType.SPOON, \"spoon.stl\", pose=Pose([1.3, 1.1, 0.87]))"
   ],
   "id": "8a4a8ed6f35308ca",
   "outputs": [
    {
     "name": "stderr",
     "output_type": "stream",
     "text": [
      "Unknown tag \"rgba_color\" in /robot[@name='milk_object']/link[@name='milk_main']/visual[1]/material[@name='white']\n",
      "Unknown tag \"rgba_color\" in /robot[@name='cereal_object']/link[@name='cereal_main']/visual[1]/material[@name='white']\n",
      "Unknown tag \"rgba_color\" in /robot[@name='spoon_object']/link[@name='spoon_main']/visual[1]/material[@name='white']\n",
      "Unknown tag \"rgba_color\" in /robot[@name='milk_object']/link[@name='milk_main']/visual[1]/material[@name='white']\n",
      "Unknown tag \"rgba_color\" in /robot[@name='cereal_object']/link[@name='cereal_main']/visual[1]/material[@name='white']\n"
     ]
    },
    {
     "name": "stdout",
     "output_type": "stream",
     "text": [
      "spoon problem\n"
     ]
    },
    {
     "name": "stderr",
     "output_type": "stream",
     "text": [
      "Unknown tag \"rgba_color\" in /robot[@name='spoon_object']/link[@name='spoon_main']/visual[1]/material[@name='white']\n"
     ]
    }
   ],
   "execution_count": 2
  },
  {
   "metadata": {
    "ExecuteTime": {
     "end_time": "2024-09-10T10:55:41.156724Z",
     "start_time": "2024-09-10T10:55:39.357050Z"
    }
   },
   "cell_type": "code",
   "source": [
    "env = explore_simulation_environment(world=world, prompt = \"name all objects which are holdable in the world\")\n",
    "print(env)"
   ],
   "id": "db270cf7bc56454a",
   "outputs": [
    {
     "name": "stdout",
     "output_type": "stream",
     "text": [
      "```json\n",
      "{\n",
      "  \"holdable_objects\": [\n",
      "    {\n",
      "      \"id\": 5,\n",
      "      \"name\": \"spoon\",\n",
      "      \"type\": \"SPOON\"\n",
      "    },\n",
      "    {\n",
      "      \"id\": 3,\n",
      "      \"name\": \"milk\",\n",
      "      \"type\": \"MILK\"\n",
      "    },\n",
      "    {\n",
      "      \"id\": 4,\n",
      "      \"name\": \"froot_loops\",\n",
      "      \"type\": \"BREAKFAST_CEREAL\"\n",
      "    }\n",
      "  ]\n",
      "}\n",
      "```\n"
     ]
    }
   ],
   "execution_count": 59
  },
  {
   "metadata": {
    "ExecuteTime": {
     "end_time": "2024-09-10T08:15:17.865420Z",
     "start_time": "2024-09-10T08:15:17.110784Z"
    }
   },
   "cell_type": "code",
   "source": [
    "task_res = task_strategy_planner(world=world, prompt=\"move robot\")\n",
    "print(task_res)"
   ],
   "id": "3c878ceff4992dfa",
   "outputs": [
    {
     "name": "stdout",
     "output_type": "stream",
     "text": [
      "\n",
      "None\n"
     ]
    }
   ],
   "execution_count": 8
  },
  {
   "metadata": {
    "ExecuteTime": {
     "end_time": "2024-09-10T10:57:29.744089Z",
     "start_time": "2024-09-10T10:57:26.606954Z"
    }
   },
   "cell_type": "code",
   "source": [
    "desig_res = explore_designators(world=world, prompt=\"place the milk on the table\")\n",
    "print(desig_res)"
   ],
   "id": "30edcc97282f9ed3",
   "outputs": [
    {
     "name": "stdout",
     "output_type": "stream",
     "text": [
      "\n",
      "```python\n",
      "# Assuming the necessary classes and methods are already defined and imported\n",
      "\n",
      "# Define the object designator for the milk\n",
      "milk_designator = ObjectDesignatorDescription(names=[\"milk\"], types=[ObjectType.MILK])\n",
      "\n",
      "# Define the target location for the table (assuming we have a way to get the table's pose)\n",
      "table_pose = Pose(position=Position(x=1.5, y=1.0, z=0.95), orientation=Orientation(x=0.0, y=0.0, z=0.0, w=1.0))\n",
      "\n",
      "# Define the action designator to place the milk on the table\n",
      "place_action = PlaceAction(\n",
      "    object_designator_description=milk_designator,\n",
      "    target_locations=[table_pose],\n",
      "    arms=[\"right_arm\"]  # Assuming the robot has a right arm\n",
      ")\n",
      "\n",
      "# Ground the action to create a performable action\n",
      "performable_action = place_action.ground()\n",
      "\n",
      "# Perform the action\n",
      "performable_action.perform()\n",
      "```\n"
     ]
    }
   ],
   "execution_count": 63
  },
  {
   "metadata": {
    "ExecuteTime": {
     "end_time": "2024-09-10T13:16:32.492867Z",
     "start_time": "2024-09-10T13:16:32.487825Z"
    }
   },
   "cell_type": "code",
   "source": [
    "from pydantic import BaseModel\n",
    "from typing import List, Optional\n",
    "from enum import Enum, auto\n",
    "class ObjectType(Enum):\n",
    "    MILK = auto()\n",
    "    SPOON = auto()\n",
    "    BOWL = auto()\n",
    "    ROBOT = auto()\n",
    "    ENVIRONMENT = auto()\n",
    "\n",
    "class odd(BaseModel):\n",
    "    name: str  # Name of the Object\n",
    "    obj_type: str # Type of the Object\n",
    "    \n",
    "class ObjectDesignatorDescription(BaseModel):\n",
    "    ObjectDesignatorDescription : List[odd]\n",
    "    \n",
    "class Environment(BaseModel):\n",
    "    objects: List[str]  # Objects in the environment\n",
    "    containers: List[str] # Objects Suitable for Holding Something in it\n",
    "    holdables: List[str] # Objects that can be held\n",
    "    placeables: List[str] # Places where objects can be placed"
   ],
   "id": "ccd1121411f4a265",
   "outputs": [],
   "execution_count": 65
  },
  {
   "metadata": {
    "ExecuteTime": {
     "end_time": "2024-09-10T08:17:20.844262Z",
     "start_time": "2024-09-10T08:17:18.164252Z"
    }
   },
   "cell_type": "code",
   "source": [
    "%%time\n",
    "system = \"You are an bullet world simulation environment analyst\"\n",
    "user = f\"\"\"Help me to identify the object designators with their names and types of all the objects\n",
    "\"\"\"\n",
    "assistant = f\"Information of all objects in the world {str(world.objects)}\"\n",
    "\n",
    "completion = client.beta.chat.completions.parse(    \n",
    "  model=\"gpt-4o-mini\",\n",
    "  messages=[\n",
    "    {\"role\": \"system\", \"content\": system},\n",
    "    {\"role\": \"assistant\", \"content\": assistant},\n",
    "    {\"role\": \"user\", \"content\": user},\n",
    "  ],\n",
    "  response_format=ObjectDesignatorDescription,\n",
    ")"
   ],
   "id": "75a9bd76c46e03b",
   "outputs": [
    {
     "name": "stdout",
     "output_type": "stream",
     "text": [
      "CPU times: user 2.9 s, sys: 11.9 ms, total: 2.91 s\n",
      "Wall time: 2.68 s\n"
     ]
    }
   ],
   "execution_count": 11
  },
  {
   "metadata": {
    "ExecuteTime": {
     "end_time": "2024-09-10T08:17:54.183730Z",
     "start_time": "2024-09-10T08:17:54.181288Z"
    }
   },
   "cell_type": "code",
   "source": "print(completion.choices[0].message.content)",
   "id": "683a025df6b05ce1",
   "outputs": [
    {
     "name": "stdout",
     "output_type": "stream",
     "text": [
      "{\n",
      "  \"ObjectDesignatorDescription\": [\n",
      "    {\n",
      "      \"name\": \"floor\",\n",
      "      \"obj_type\": \"ENVIRONMENT\"\n",
      "    },\n",
      "    {\n",
      "      \"name\": \"pr2\",\n",
      "      \"obj_type\": \"ROBOT\"\n",
      "    },\n",
      "    {\n",
      "      \"name\": \"milk\",\n",
      "      \"obj_type\": \"MILK\"\n",
      "    },\n",
      "    {\n",
      "      \"name\": \"froot_loops\",\n",
      "      \"obj_type\": \"BREAKFAST_CEREAL\"\n",
      "    },\n",
      "    {\n",
      "      \"name\": \"spoon\",\n",
      "      \"obj_type\": \"SPOON\"\n",
      "    }\n",
      "  ]\n",
      "}\n"
     ]
    }
   ],
   "execution_count": 13
  },
  {
   "metadata": {
    "ExecuteTime": {
     "end_time": "2024-09-10T10:53:56.578133Z",
     "start_time": "2024-09-10T10:53:54.964909Z"
    }
   },
   "cell_type": "code",
   "source": [
    "from pycram.llms.llm_api import explore_simulation_environment, task_strategy_planner, explore_designators, act_context\n",
    "context = str(world.objects)\n",
    "context = context + f\"\\n\\n Available Action Designators are: \\n\\n {act_context}\"\n",
    "promptin = \"pick up the milk from the table and place it on the shelf\"\n",
    "response = client.chat.completions.create(\n",
    "        model=\"gpt-4o-mini\",\n",
    "        messages=[\n",
    "            {\"role\": \"system\",\n",
    "             \"content\": \"resolve the task prompted by the user into a set of action designators and parameters needed to execute it, no additional text\"},\n",
    "            {\"role\": \"assistant\", \"content\": str(context)},\n",
    "            {\"role\": \"user\", \"content\": promptin},\n",
    "        ],\n",
    "        max_tokens=1000,\n",
    "        temperature=0,\n",
    "    )"
   ],
   "id": "31756048f660c94",
   "outputs": [],
   "execution_count": 53
  },
  {
   "metadata": {
    "ExecuteTime": {
     "end_time": "2024-09-10T10:53:57.879071Z",
     "start_time": "2024-09-10T10:53:57.877162Z"
    }
   },
   "cell_type": "code",
   "source": "print(response.choices[0].message.content)",
   "id": "be56b859f0f0de6e",
   "outputs": [
    {
     "name": "stdout",
     "output_type": "stream",
     "text": [
      "1. **PickUpAction**\n",
      "   - object_designator_description: milk\n",
      "   - arms: [left, right]\n",
      "   - grasps: [left, right]\n",
      "\n",
      "2. **PlaceAction**\n",
      "   - object_designator_description: milk\n",
      "   - target_locations: [shelf_pose]  # Define the pose of the shelf\n",
      "   - arms: [left, right]\n"
     ]
    }
   ],
   "execution_count": 54
  },
  {
   "metadata": {
    "ExecuteTime": {
     "end_time": "2024-09-10T10:54:00.347093Z",
     "start_time": "2024-09-10T10:54:00.344552Z"
    }
   },
   "cell_type": "code",
   "source": "kitchen = Object(\"kitchen\", ObjectType.ENVIRONMENT, \"kitchen.urdf\")",
   "id": "77ed6ec7bb5d1f29",
   "outputs": [
    {
     "name": "stderr",
     "output_type": "stream",
     "text": [
      "[ERROR] [1725965640.345255]: An object with the name kitchen already exists in the world.\n"
     ]
    }
   ],
   "execution_count": 55
  },
  {
   "metadata": {
    "ExecuteTime": {
     "end_time": "2024-09-10T10:52:34.263081Z",
     "start_time": "2024-09-10T10:52:34.259925Z"
    }
   },
   "cell_type": "code",
   "source": "kitchen.get_base_origin()",
   "id": "f206c6bed9a51876",
   "outputs": [
    {
     "data": {
      "text/plain": [
       "header: \n",
       "  seq: 0\n",
       "  stamp: \n",
       "    secs: 1725965554\n",
       "    nsecs: 260509014\n",
       "  frame_id: \"map\"\n",
       "pose: \n",
       "  position: \n",
       "    x: 0.0\n",
       "    y: 0.0\n",
       "    z: -0.001\n",
       "  orientation: \n",
       "    x: 0.0\n",
       "    y: 0.0\n",
       "    z: 0.0\n",
       "    w: 1.0"
      ]
     },
     "execution_count": 51,
     "metadata": {},
     "output_type": "execute_result"
    }
   ],
   "execution_count": 51
  }
 ],
 "metadata": {
  "kernelspec": {
   "display_name": "Python 3",
   "language": "python",
   "name": "python3"
  },
  "language_info": {
   "codemirror_mode": {
    "name": "ipython",
    "version": 2
   },
   "file_extension": ".py",
   "mimetype": "text/x-python",
   "name": "python",
   "nbconvert_exporter": "python",
   "pygments_lexer": "ipython2",
   "version": "2.7.6"
  }
 },
 "nbformat": 4,
 "nbformat_minor": 5
}
